{
  "cells": [
    {
      "cell_type": "markdown",
      "metadata": {
        "id": "StXZSUnaEGtg"
      },
      "source": [
        "# Installations"
      ]
    },
    {
      "cell_type": "markdown",
      "metadata": {
        "id": "pvLdgP4-ELUY"
      },
      "source": [
        "Install and unzip TIMIT dataset from google drive"
      ]
    },
    {
      "cell_type": "code",
      "execution_count": 1,
      "metadata": {
        "colab": {
          "base_uri": "https://localhost:8080/"
        },
        "id": "vkoS_i1b_SOm",
        "outputId": "3e4efdf4-cf36-40b8-ba67-5529db41cd0f"
      },
      "outputs": [],
      "source": [
        "# ! gdown 15Nq4PdOY7h8AP54ge3EurUPKa91jvezc"
      ]
    },
    {
      "cell_type": "code",
      "execution_count": 2,
      "metadata": {
        "colab": {
          "base_uri": "https://localhost:8080/"
        },
        "collapsed": true,
        "id": "QW6jqeKxEQJC",
        "outputId": "dc4b47a6-1341-4fd2-b9ab-9cbfbbfccfc3"
      },
      "outputs": [],
      "source": [
        "# ! unzip timit.zip -d ./timit/"
      ]
    },
    {
      "cell_type": "code",
      "execution_count": 3,
      "metadata": {
        "id": "SJZEUhnrExIA"
      },
      "outputs": [
        {
          "name": "stderr",
          "output_type": "stream",
          "text": [
            "/home/artur/files/Audio Processing/phoneme_recognition/venv/lib/python3.10/site-packages/tqdm/auto.py:21: TqdmWarning: IProgress not found. Please update jupyter and ipywidgets. See https://ipywidgets.readthedocs.io/en/stable/user_install.html\n",
            "  from .autonotebook import tqdm as notebook_tqdm\n"
          ]
        }
      ],
      "source": [
        "import os\n",
        "import random\n",
        "import json\n",
        "from tqdm import tqdm\n",
        "\n",
        "import numpy as np\n",
        "import pandas as pd\n",
        "import matplotlib.pyplot as plt\n",
        "\n",
        "import IPython.display as ipd\n",
        "import librosa\n",
        "import soundfile as sf\n",
        "from datasets import Audio, Dataset\n",
        "\n",
        "import torch\n",
        "from transformers import Wav2Vec2CTCTokenizer, Wav2Vec2FeatureExtractor, Wav2Vec2Processor, Wav2Vec2ForCTC, TrainingArguments, Trainer\n",
        "from transformers.trainer_utils import EvalPrediction\n",
        "from dataclasses import dataclass\n",
        "from jiwer import wer\n",
        "\n",
        "\n",
        "from typing import List, Union, Set, Dict\n",
        "%matplotlib inline"
      ]
    },
    {
      "cell_type": "markdown",
      "metadata": {
        "id": "6bPvl5CjIgvr"
      },
      "source": [
        "# Dataset"
      ]
    },
    {
      "cell_type": "markdown",
      "metadata": {},
      "source": [
        "This section contains a modified version of the original function, adapted from [here](https://www.kaggle.com/code/vitouphy/phoneme-recognition-with-wav2vec2/notebook) and [here](https://huggingface.co/blog/fine-tune-wav2vec2-english) to fit our specific task requirements."
      ]
    },
    {
      "cell_type": "code",
      "execution_count": 4,
      "metadata": {
        "id": "rNaubFxdGci4"
      },
      "outputs": [],
      "source": [
        "timit_path = \"./timit/\"\n",
        "timit_data_path = \"./timit/data/\""
      ]
    },
    {
      "cell_type": "code",
      "execution_count": 5,
      "metadata": {
        "id": "CTpTI0ePGn7n"
      },
      "outputs": [],
      "source": [
        "df_train = pd.read_csv(os.path.join(timit_path, 'train_data.csv'))\n",
        "df_test = pd.read_csv(os.path.join(timit_path, 'test_data.csv'))\n",
        "df = pd.concat([df_train, df_test])\n",
        "df = df[df['is_converted_audio'] == False]"
      ]
    },
    {
      "cell_type": "code",
      "execution_count": 6,
      "metadata": {
        "id": "d61_zQrgGy5t"
      },
      "outputs": [],
      "source": [
        "df_train = df[df['test_or_train'] == \"TRAIN\"]\n",
        "df_test  = df[df['test_or_train'] == \"TEST\"]"
      ]
    },
    {
      "cell_type": "code",
      "execution_count": 7,
      "metadata": {
        "colab": {
          "base_uri": "https://localhost:8080/",
          "height": 443
        },
        "id": "DIpz5ekAOkZy",
        "outputId": "bbdb3ae1-44e7-47cc-d424-ce9af80116e2"
      },
      "outputs": [
        {
          "data": {
            "text/html": [
              "<div>\n",
              "<style scoped>\n",
              "    .dataframe tbody tr th:only-of-type {\n",
              "        vertical-align: middle;\n",
              "    }\n",
              "\n",
              "    .dataframe tbody tr th {\n",
              "        vertical-align: top;\n",
              "    }\n",
              "\n",
              "    .dataframe thead th {\n",
              "        text-align: right;\n",
              "    }\n",
              "</style>\n",
              "<table border=\"1\" class=\"dataframe\">\n",
              "  <thead>\n",
              "    <tr style=\"text-align: right;\">\n",
              "      <th></th>\n",
              "      <th>index</th>\n",
              "      <th>test_or_train</th>\n",
              "      <th>dialect_region</th>\n",
              "      <th>speaker_id</th>\n",
              "      <th>filename</th>\n",
              "      <th>path_from_data_dir</th>\n",
              "      <th>path_from_data_dir_windows</th>\n",
              "      <th>is_converted_audio</th>\n",
              "      <th>is_audio</th>\n",
              "      <th>is_word_file</th>\n",
              "      <th>is_phonetic_file</th>\n",
              "      <th>is_sentence_file</th>\n",
              "    </tr>\n",
              "  </thead>\n",
              "  <tbody>\n",
              "    <tr>\n",
              "      <th>1</th>\n",
              "      <td>2.0</td>\n",
              "      <td>TRAIN</td>\n",
              "      <td>DR4</td>\n",
              "      <td>MMDM0</td>\n",
              "      <td>SI1311.PHN</td>\n",
              "      <td>TRAIN/DR4/MMDM0/SI1311.PHN</td>\n",
              "      <td>TRAIN\\\\DR4\\\\MMDM0\\\\SI1311.PHN</td>\n",
              "      <td>False</td>\n",
              "      <td>False</td>\n",
              "      <td>False</td>\n",
              "      <td>True</td>\n",
              "      <td>False</td>\n",
              "    </tr>\n",
              "    <tr>\n",
              "      <th>2</th>\n",
              "      <td>3.0</td>\n",
              "      <td>TRAIN</td>\n",
              "      <td>DR4</td>\n",
              "      <td>MMDM0</td>\n",
              "      <td>SI1311.WRD</td>\n",
              "      <td>TRAIN/DR4/MMDM0/SI1311.WRD</td>\n",
              "      <td>TRAIN\\\\DR4\\\\MMDM0\\\\SI1311.WRD</td>\n",
              "      <td>False</td>\n",
              "      <td>False</td>\n",
              "      <td>True</td>\n",
              "      <td>False</td>\n",
              "      <td>False</td>\n",
              "    </tr>\n",
              "    <tr>\n",
              "      <th>3</th>\n",
              "      <td>4.0</td>\n",
              "      <td>TRAIN</td>\n",
              "      <td>DR4</td>\n",
              "      <td>MMDM0</td>\n",
              "      <td>SX321.PHN</td>\n",
              "      <td>TRAIN/DR4/MMDM0/SX321.PHN</td>\n",
              "      <td>TRAIN\\\\DR4\\\\MMDM0\\\\SX321.PHN</td>\n",
              "      <td>False</td>\n",
              "      <td>False</td>\n",
              "      <td>False</td>\n",
              "      <td>True</td>\n",
              "      <td>False</td>\n",
              "    </tr>\n",
              "    <tr>\n",
              "      <th>4</th>\n",
              "      <td>5.0</td>\n",
              "      <td>TRAIN</td>\n",
              "      <td>DR4</td>\n",
              "      <td>MMDM0</td>\n",
              "      <td>SX321.WRD</td>\n",
              "      <td>TRAIN/DR4/MMDM0/SX321.WRD</td>\n",
              "      <td>TRAIN\\\\DR4\\\\MMDM0\\\\SX321.WRD</td>\n",
              "      <td>False</td>\n",
              "      <td>False</td>\n",
              "      <td>True</td>\n",
              "      <td>False</td>\n",
              "      <td>False</td>\n",
              "    </tr>\n",
              "    <tr>\n",
              "      <th>5</th>\n",
              "      <td>6.0</td>\n",
              "      <td>TRAIN</td>\n",
              "      <td>DR4</td>\n",
              "      <td>MMDM0</td>\n",
              "      <td>SI681.TXT</td>\n",
              "      <td>TRAIN/DR4/MMDM0/SI681.TXT</td>\n",
              "      <td>TRAIN\\\\DR4\\\\MMDM0\\\\SI681.TXT</td>\n",
              "      <td>False</td>\n",
              "      <td>False</td>\n",
              "      <td>False</td>\n",
              "      <td>False</td>\n",
              "      <td>True</td>\n",
              "    </tr>\n",
              "    <tr>\n",
              "      <th>...</th>\n",
              "      <td>...</td>\n",
              "      <td>...</td>\n",
              "      <td>...</td>\n",
              "      <td>...</td>\n",
              "      <td>...</td>\n",
              "      <td>...</td>\n",
              "      <td>...</td>\n",
              "      <td>...</td>\n",
              "      <td>...</td>\n",
              "      <td>...</td>\n",
              "      <td>...</td>\n",
              "      <td>...</td>\n",
              "    </tr>\n",
              "    <tr>\n",
              "      <th>23093</th>\n",
              "      <td>23094.0</td>\n",
              "      <td>TRAIN</td>\n",
              "      <td>DR8</td>\n",
              "      <td>MRDM0</td>\n",
              "      <td>SX245.TXT</td>\n",
              "      <td>TRAIN/DR8/MRDM0/SX245.TXT</td>\n",
              "      <td>TRAIN\\\\DR8\\\\MRDM0\\\\SX245.TXT</td>\n",
              "      <td>False</td>\n",
              "      <td>False</td>\n",
              "      <td>False</td>\n",
              "      <td>NaN</td>\n",
              "      <td>True</td>\n",
              "    </tr>\n",
              "    <tr>\n",
              "      <th>23094</th>\n",
              "      <td>23095.0</td>\n",
              "      <td>TRAIN</td>\n",
              "      <td>DR8</td>\n",
              "      <td>MRDM0</td>\n",
              "      <td>SI1044.PHN</td>\n",
              "      <td>TRAIN/DR8/MRDM0/SI1044.PHN</td>\n",
              "      <td>TRAIN\\\\DR8\\\\MRDM0\\\\SI1044.PHN</td>\n",
              "      <td>False</td>\n",
              "      <td>False</td>\n",
              "      <td>False</td>\n",
              "      <td>NaN</td>\n",
              "      <td>False</td>\n",
              "    </tr>\n",
              "    <tr>\n",
              "      <th>23096</th>\n",
              "      <td>23097.0</td>\n",
              "      <td>TRAIN</td>\n",
              "      <td>DR8</td>\n",
              "      <td>MRDM0</td>\n",
              "      <td>SX245.WAV</td>\n",
              "      <td>TRAIN/DR8/MRDM0/SX245.WAV</td>\n",
              "      <td>TRAIN\\\\DR8\\\\MRDM0\\\\SX245.WAV</td>\n",
              "      <td>False</td>\n",
              "      <td>True</td>\n",
              "      <td>False</td>\n",
              "      <td>NaN</td>\n",
              "      <td>False</td>\n",
              "    </tr>\n",
              "    <tr>\n",
              "      <th>23098</th>\n",
              "      <td>23099.0</td>\n",
              "      <td>TRAIN</td>\n",
              "      <td>DR8</td>\n",
              "      <td>MRDM0</td>\n",
              "      <td>SX335.WAV</td>\n",
              "      <td>TRAIN/DR8/MRDM0/SX335.WAV</td>\n",
              "      <td>TRAIN\\\\DR8\\\\MRDM0\\\\SX335.WAV</td>\n",
              "      <td>False</td>\n",
              "      <td>True</td>\n",
              "      <td>False</td>\n",
              "      <td>NaN</td>\n",
              "      <td>False</td>\n",
              "    </tr>\n",
              "    <tr>\n",
              "      <th>23099</th>\n",
              "      <td>23100.0</td>\n",
              "      <td>TRAIN</td>\n",
              "      <td>DR8</td>\n",
              "      <td>MRDM0</td>\n",
              "      <td>SX335.TXT</td>\n",
              "      <td>TRAIN/DR8/MRDM0/SX335.TXT</td>\n",
              "      <td>TRAIN\\\\DR8\\\\MRDM0\\\\SX335.TXT</td>\n",
              "      <td>False</td>\n",
              "      <td>False</td>\n",
              "      <td>False</td>\n",
              "      <td>NaN</td>\n",
              "      <td>True</td>\n",
              "    </tr>\n",
              "  </tbody>\n",
              "</table>\n",
              "<p>18480 rows × 12 columns</p>\n",
              "</div>"
            ],
            "text/plain": [
              "         index test_or_train dialect_region speaker_id    filename  \\\n",
              "1          2.0         TRAIN            DR4      MMDM0  SI1311.PHN   \n",
              "2          3.0         TRAIN            DR4      MMDM0  SI1311.WRD   \n",
              "3          4.0         TRAIN            DR4      MMDM0   SX321.PHN   \n",
              "4          5.0         TRAIN            DR4      MMDM0   SX321.WRD   \n",
              "5          6.0         TRAIN            DR4      MMDM0   SI681.TXT   \n",
              "...        ...           ...            ...        ...         ...   \n",
              "23093  23094.0         TRAIN            DR8      MRDM0   SX245.TXT   \n",
              "23094  23095.0         TRAIN            DR8      MRDM0  SI1044.PHN   \n",
              "23096  23097.0         TRAIN            DR8      MRDM0   SX245.WAV   \n",
              "23098  23099.0         TRAIN            DR8      MRDM0   SX335.WAV   \n",
              "23099  23100.0         TRAIN            DR8      MRDM0   SX335.TXT   \n",
              "\n",
              "               path_from_data_dir     path_from_data_dir_windows  \\\n",
              "1      TRAIN/DR4/MMDM0/SI1311.PHN  TRAIN\\\\DR4\\\\MMDM0\\\\SI1311.PHN   \n",
              "2      TRAIN/DR4/MMDM0/SI1311.WRD  TRAIN\\\\DR4\\\\MMDM0\\\\SI1311.WRD   \n",
              "3       TRAIN/DR4/MMDM0/SX321.PHN   TRAIN\\\\DR4\\\\MMDM0\\\\SX321.PHN   \n",
              "4       TRAIN/DR4/MMDM0/SX321.WRD   TRAIN\\\\DR4\\\\MMDM0\\\\SX321.WRD   \n",
              "5       TRAIN/DR4/MMDM0/SI681.TXT   TRAIN\\\\DR4\\\\MMDM0\\\\SI681.TXT   \n",
              "...                           ...                            ...   \n",
              "23093   TRAIN/DR8/MRDM0/SX245.TXT   TRAIN\\\\DR8\\\\MRDM0\\\\SX245.TXT   \n",
              "23094  TRAIN/DR8/MRDM0/SI1044.PHN  TRAIN\\\\DR8\\\\MRDM0\\\\SI1044.PHN   \n",
              "23096   TRAIN/DR8/MRDM0/SX245.WAV   TRAIN\\\\DR8\\\\MRDM0\\\\SX245.WAV   \n",
              "23098   TRAIN/DR8/MRDM0/SX335.WAV   TRAIN\\\\DR8\\\\MRDM0\\\\SX335.WAV   \n",
              "23099   TRAIN/DR8/MRDM0/SX335.TXT   TRAIN\\\\DR8\\\\MRDM0\\\\SX335.TXT   \n",
              "\n",
              "      is_converted_audio is_audio is_word_file is_phonetic_file  \\\n",
              "1                  False    False        False             True   \n",
              "2                  False    False         True            False   \n",
              "3                  False    False        False             True   \n",
              "4                  False    False         True            False   \n",
              "5                  False    False        False            False   \n",
              "...                  ...      ...          ...              ...   \n",
              "23093              False    False        False              NaN   \n",
              "23094              False    False        False              NaN   \n",
              "23096              False     True        False              NaN   \n",
              "23098              False     True        False              NaN   \n",
              "23099              False    False        False              NaN   \n",
              "\n",
              "      is_sentence_file  \n",
              "1                False  \n",
              "2                False  \n",
              "3                False  \n",
              "4                False  \n",
              "5                 True  \n",
              "...                ...  \n",
              "23093             True  \n",
              "23094            False  \n",
              "23096            False  \n",
              "23098            False  \n",
              "23099             True  \n",
              "\n",
              "[18480 rows x 12 columns]"
            ]
          },
          "execution_count": 7,
          "metadata": {},
          "output_type": "execute_result"
        }
      ],
      "source": [
        "df_train"
      ]
    },
    {
      "cell_type": "code",
      "execution_count": 8,
      "metadata": {
        "colab": {
          "base_uri": "https://localhost:8080/",
          "height": 443
        },
        "id": "9GGFPMorOl5C",
        "outputId": "12b68a6d-3ebe-4270-9155-32593c707b1c"
      },
      "outputs": [
        {
          "data": {
            "text/html": [
              "<div>\n",
              "<style scoped>\n",
              "    .dataframe tbody tr th:only-of-type {\n",
              "        vertical-align: middle;\n",
              "    }\n",
              "\n",
              "    .dataframe tbody tr th {\n",
              "        vertical-align: top;\n",
              "    }\n",
              "\n",
              "    .dataframe thead th {\n",
              "        text-align: right;\n",
              "    }\n",
              "</style>\n",
              "<table border=\"1\" class=\"dataframe\">\n",
              "  <thead>\n",
              "    <tr style=\"text-align: right;\">\n",
              "      <th></th>\n",
              "      <th>index</th>\n",
              "      <th>test_or_train</th>\n",
              "      <th>dialect_region</th>\n",
              "      <th>speaker_id</th>\n",
              "      <th>filename</th>\n",
              "      <th>path_from_data_dir</th>\n",
              "      <th>path_from_data_dir_windows</th>\n",
              "      <th>is_converted_audio</th>\n",
              "      <th>is_audio</th>\n",
              "      <th>is_word_file</th>\n",
              "      <th>is_phonetic_file</th>\n",
              "      <th>is_sentence_file</th>\n",
              "    </tr>\n",
              "  </thead>\n",
              "  <tbody>\n",
              "    <tr>\n",
              "      <th>0</th>\n",
              "      <td>1.0</td>\n",
              "      <td>TEST</td>\n",
              "      <td>DR4</td>\n",
              "      <td>MGMM0</td>\n",
              "      <td>SX139.WAV</td>\n",
              "      <td>TEST/DR4/MGMM0/SX139.WAV</td>\n",
              "      <td>TEST\\\\DR4\\\\MGMM0\\\\SX139.WAV</td>\n",
              "      <td>False</td>\n",
              "      <td>True</td>\n",
              "      <td>False</td>\n",
              "      <td>False</td>\n",
              "      <td>False</td>\n",
              "    </tr>\n",
              "    <tr>\n",
              "      <th>2</th>\n",
              "      <td>3.0</td>\n",
              "      <td>TEST</td>\n",
              "      <td>DR4</td>\n",
              "      <td>MGMM0</td>\n",
              "      <td>SX139.TXT</td>\n",
              "      <td>TEST/DR4/MGMM0/SX139.TXT</td>\n",
              "      <td>TEST\\\\DR4\\\\MGMM0\\\\SX139.TXT</td>\n",
              "      <td>False</td>\n",
              "      <td>False</td>\n",
              "      <td>False</td>\n",
              "      <td>False</td>\n",
              "      <td>True</td>\n",
              "    </tr>\n",
              "    <tr>\n",
              "      <th>3</th>\n",
              "      <td>4.0</td>\n",
              "      <td>TEST</td>\n",
              "      <td>DR4</td>\n",
              "      <td>MGMM0</td>\n",
              "      <td>SI499.WRD</td>\n",
              "      <td>TEST/DR4/MGMM0/SI499.WRD</td>\n",
              "      <td>TEST\\\\DR4\\\\MGMM0\\\\SI499.WRD</td>\n",
              "      <td>False</td>\n",
              "      <td>False</td>\n",
              "      <td>True</td>\n",
              "      <td>False</td>\n",
              "      <td>False</td>\n",
              "    </tr>\n",
              "    <tr>\n",
              "      <th>4</th>\n",
              "      <td>5.0</td>\n",
              "      <td>TEST</td>\n",
              "      <td>DR4</td>\n",
              "      <td>MGMM0</td>\n",
              "      <td>SX319.WRD</td>\n",
              "      <td>TEST/DR4/MGMM0/SX319.WRD</td>\n",
              "      <td>TEST\\\\DR4\\\\MGMM0\\\\SX319.WRD</td>\n",
              "      <td>False</td>\n",
              "      <td>False</td>\n",
              "      <td>True</td>\n",
              "      <td>False</td>\n",
              "      <td>False</td>\n",
              "    </tr>\n",
              "    <tr>\n",
              "      <th>5</th>\n",
              "      <td>6.0</td>\n",
              "      <td>TEST</td>\n",
              "      <td>DR4</td>\n",
              "      <td>MGMM0</td>\n",
              "      <td>SX319.PHN</td>\n",
              "      <td>TEST/DR4/MGMM0/SX319.PHN</td>\n",
              "      <td>TEST\\\\DR4\\\\MGMM0\\\\SX319.PHN</td>\n",
              "      <td>False</td>\n",
              "      <td>False</td>\n",
              "      <td>False</td>\n",
              "      <td>True</td>\n",
              "      <td>False</td>\n",
              "    </tr>\n",
              "    <tr>\n",
              "      <th>...</th>\n",
              "      <td>...</td>\n",
              "      <td>...</td>\n",
              "      <td>...</td>\n",
              "      <td>...</td>\n",
              "      <td>...</td>\n",
              "      <td>...</td>\n",
              "      <td>...</td>\n",
              "      <td>...</td>\n",
              "      <td>...</td>\n",
              "      <td>...</td>\n",
              "      <td>...</td>\n",
              "      <td>...</td>\n",
              "    </tr>\n",
              "    <tr>\n",
              "      <th>8394</th>\n",
              "      <td>8395.0</td>\n",
              "      <td>TEST</td>\n",
              "      <td>DR8</td>\n",
              "      <td>MPAM0</td>\n",
              "      <td>SX19.WAV</td>\n",
              "      <td>TEST/DR8/MPAM0/SX19.WAV</td>\n",
              "      <td>TEST\\\\DR8\\\\MPAM0\\\\SX19.WAV</td>\n",
              "      <td>False</td>\n",
              "      <td>True</td>\n",
              "      <td>False</td>\n",
              "      <td>False</td>\n",
              "      <td>False</td>\n",
              "    </tr>\n",
              "    <tr>\n",
              "      <th>8395</th>\n",
              "      <td>8396.0</td>\n",
              "      <td>TEST</td>\n",
              "      <td>DR8</td>\n",
              "      <td>MPAM0</td>\n",
              "      <td>SX109.TXT</td>\n",
              "      <td>TEST/DR8/MPAM0/SX109.TXT</td>\n",
              "      <td>TEST\\\\DR8\\\\MPAM0\\\\SX109.TXT</td>\n",
              "      <td>False</td>\n",
              "      <td>False</td>\n",
              "      <td>False</td>\n",
              "      <td>False</td>\n",
              "      <td>True</td>\n",
              "    </tr>\n",
              "    <tr>\n",
              "      <th>8397</th>\n",
              "      <td>8398.0</td>\n",
              "      <td>TEST</td>\n",
              "      <td>DR8</td>\n",
              "      <td>MPAM0</td>\n",
              "      <td>SX289.WRD</td>\n",
              "      <td>TEST/DR8/MPAM0/SX289.WRD</td>\n",
              "      <td>TEST\\\\DR8\\\\MPAM0\\\\SX289.WRD</td>\n",
              "      <td>False</td>\n",
              "      <td>False</td>\n",
              "      <td>True</td>\n",
              "      <td>False</td>\n",
              "      <td>False</td>\n",
              "    </tr>\n",
              "    <tr>\n",
              "      <th>8398</th>\n",
              "      <td>8399.0</td>\n",
              "      <td>TEST</td>\n",
              "      <td>DR8</td>\n",
              "      <td>MPAM0</td>\n",
              "      <td>SX109.WAV</td>\n",
              "      <td>TEST/DR8/MPAM0/SX109.WAV</td>\n",
              "      <td>TEST\\\\DR8\\\\MPAM0\\\\SX109.WAV</td>\n",
              "      <td>False</td>\n",
              "      <td>True</td>\n",
              "      <td>False</td>\n",
              "      <td>False</td>\n",
              "      <td>False</td>\n",
              "    </tr>\n",
              "    <tr>\n",
              "      <th>8399</th>\n",
              "      <td>8400.0</td>\n",
              "      <td>TEST</td>\n",
              "      <td>DR8</td>\n",
              "      <td>MPAM0</td>\n",
              "      <td>SX289.PHN</td>\n",
              "      <td>TEST/DR8/MPAM0/SX289.PHN</td>\n",
              "      <td>TEST\\\\DR8\\\\MPAM0\\\\SX289.PHN</td>\n",
              "      <td>False</td>\n",
              "      <td>False</td>\n",
              "      <td>False</td>\n",
              "      <td>True</td>\n",
              "      <td>False</td>\n",
              "    </tr>\n",
              "  </tbody>\n",
              "</table>\n",
              "<p>6720 rows × 12 columns</p>\n",
              "</div>"
            ],
            "text/plain": [
              "       index test_or_train dialect_region speaker_id   filename  \\\n",
              "0        1.0          TEST            DR4      MGMM0  SX139.WAV   \n",
              "2        3.0          TEST            DR4      MGMM0  SX139.TXT   \n",
              "3        4.0          TEST            DR4      MGMM0  SI499.WRD   \n",
              "4        5.0          TEST            DR4      MGMM0  SX319.WRD   \n",
              "5        6.0          TEST            DR4      MGMM0  SX319.PHN   \n",
              "...      ...           ...            ...        ...        ...   \n",
              "8394  8395.0          TEST            DR8      MPAM0   SX19.WAV   \n",
              "8395  8396.0          TEST            DR8      MPAM0  SX109.TXT   \n",
              "8397  8398.0          TEST            DR8      MPAM0  SX289.WRD   \n",
              "8398  8399.0          TEST            DR8      MPAM0  SX109.WAV   \n",
              "8399  8400.0          TEST            DR8      MPAM0  SX289.PHN   \n",
              "\n",
              "            path_from_data_dir   path_from_data_dir_windows  \\\n",
              "0     TEST/DR4/MGMM0/SX139.WAV  TEST\\\\DR4\\\\MGMM0\\\\SX139.WAV   \n",
              "2     TEST/DR4/MGMM0/SX139.TXT  TEST\\\\DR4\\\\MGMM0\\\\SX139.TXT   \n",
              "3     TEST/DR4/MGMM0/SI499.WRD  TEST\\\\DR4\\\\MGMM0\\\\SI499.WRD   \n",
              "4     TEST/DR4/MGMM0/SX319.WRD  TEST\\\\DR4\\\\MGMM0\\\\SX319.WRD   \n",
              "5     TEST/DR4/MGMM0/SX319.PHN  TEST\\\\DR4\\\\MGMM0\\\\SX319.PHN   \n",
              "...                        ...                          ...   \n",
              "8394   TEST/DR8/MPAM0/SX19.WAV   TEST\\\\DR8\\\\MPAM0\\\\SX19.WAV   \n",
              "8395  TEST/DR8/MPAM0/SX109.TXT  TEST\\\\DR8\\\\MPAM0\\\\SX109.TXT   \n",
              "8397  TEST/DR8/MPAM0/SX289.WRD  TEST\\\\DR8\\\\MPAM0\\\\SX289.WRD   \n",
              "8398  TEST/DR8/MPAM0/SX109.WAV  TEST\\\\DR8\\\\MPAM0\\\\SX109.WAV   \n",
              "8399  TEST/DR8/MPAM0/SX289.PHN  TEST\\\\DR8\\\\MPAM0\\\\SX289.PHN   \n",
              "\n",
              "     is_converted_audio is_audio is_word_file is_phonetic_file  \\\n",
              "0                 False     True        False            False   \n",
              "2                 False    False        False            False   \n",
              "3                 False    False         True            False   \n",
              "4                 False    False         True            False   \n",
              "5                 False    False        False             True   \n",
              "...                 ...      ...          ...              ...   \n",
              "8394              False     True        False            False   \n",
              "8395              False    False        False            False   \n",
              "8397              False    False         True            False   \n",
              "8398              False     True        False            False   \n",
              "8399              False    False        False             True   \n",
              "\n",
              "     is_sentence_file  \n",
              "0               False  \n",
              "2                True  \n",
              "3               False  \n",
              "4               False  \n",
              "5               False  \n",
              "...               ...  \n",
              "8394            False  \n",
              "8395             True  \n",
              "8397            False  \n",
              "8398            False  \n",
              "8399            False  \n",
              "\n",
              "[6720 rows x 12 columns]"
            ]
          },
          "execution_count": 8,
          "metadata": {},
          "output_type": "execute_result"
        }
      ],
      "source": [
        "df_test"
      ]
    },
    {
      "cell_type": "markdown",
      "metadata": {},
      "source": [
        "In this part, we will process the raw data to structure the dataset into three columns:\n",
        "\n",
        "1. Path to the audio file\n",
        "2. Text from the audio\n",
        "3. Corresponding phonemes\n",
        "\n",
        "Additionally, we will filter out any samples lacking phoneme data, as they cannot be used for training or testing without labels."
      ]
    },
    {
      "cell_type": "code",
      "execution_count": 9,
      "metadata": {
        "id": "rgwizHk-JjzO"
      },
      "outputs": [],
      "source": [
        "PHONETIC_KEY: str = \"phonetic\"\n",
        "AUDIO_KEY:    str = \"audio\"\n",
        "WORD_KEY:     str = \"word\"\n",
        "\n",
        "\n",
        "def convert_phon61_to_phon39(sentence: str) -> str:\n",
        "    phon61_map39 = {\n",
        "        'iy':'iy',  'ih':'ih',  'eh':'eh',  'ae':'ae',   'ix':'ih',  'ax':'ah',  'ah':'ah',   'uw':'uw',\n",
        "        'ux':'uw',  'uh':'uh',  'ao':'aa',  'aa':'aa',   'ey':'ey',  'ay':'ay',  'oy':'oy',   'aw':'aw',\n",
        "        'ow':'ow',  'l':'l',    'el':'l',   'r':'r',     'y':'y',    'w':'w',    'er':'er',   'axr':'er',\n",
        "        'm':'m',    'em':'m',   'n':'n',    'nx':'n',    'en':'n',   'ng':'ng',  'eng':'ng',  'ch':'ch',\n",
        "        'jh':'jh',  'dh':'dh',  'b':'b',    'd':'d',     'dx':'dx',  'g':'g',    'p':'p',     't':'t',\n",
        "        'k':'k',    'z':'z',    'zh':'sh',  'v':'v',     'f':'f',    'th':'th',  's':'s',     'sh':'sh',\n",
        "        'hh':'hh',  'hv':'hh',  'pcl':'h#', 'tcl':'h#',  'kcl':'h#', 'qcl':'h#', 'bcl':'h#',  'dcl':'h#',\n",
        "        'gcl':'h#', 'h#':'h#',  '#h':'h#',  'pau':'h#',  'epi':'h#', 'nx':'n',   'ax-h':'ah', 'q':'h#'\n",
        "    }\n",
        "    tokens = [phon61_map39[x] for x in sentence.split()]\n",
        "    return \" \".join(tokens)\n",
        "\n",
        "\n",
        "def read_text_file(filepath: str) -> str:\n",
        "    with open(filepath) as f:\n",
        "        tokens = [line.split()[-1] for line in f]\n",
        "        return \" \".join(tokens)\n",
        "\n",
        "\n",
        "def merge_item_data(df: pd.DataFrame) -> Dict[str, Dict[str, str]]:\n",
        "    data = {}\n",
        "\n",
        "    for _, row in tqdm(df.iterrows()):\n",
        "        path = row['path_from_data_dir']\n",
        "        entry_id = path.split('.')[0]\n",
        "        entry_id = \"-\".join(entry_id.split('/')[-2:])\n",
        "\n",
        "        if entry_id not in data:\n",
        "            data[entry_id] = {}\n",
        "\n",
        "        if row['is_audio'] is True:\n",
        "            data[entry_id][AUDIO_KEY] = os.path.join(timit_data_path, path)\n",
        "        elif row['is_word_file'] is True:\n",
        "            data[entry_id][WORD_KEY] = read_text_file(os.path.join(timit_data_path, path))\n",
        "        elif row['is_phonetic_file'] is True:\n",
        "            phoneme_sentence = read_text_file(os.path.join(timit_data_path, path))\n",
        "            data[entry_id][PHONETIC_KEY] = convert_phon61_to_phon39(phoneme_sentence)\n",
        "    return data\n",
        "\n",
        "\n",
        "def transform_dataset(df: pd.DataFrame) -> Dict[str, List[str]]:\n",
        "    merged_data = merge_item_data(df)\n",
        "\n",
        "    phonetic_files: List[str] = []\n",
        "    audio_files:    List[str] = []\n",
        "    word_files:     List[str] = []\n",
        "    keys_set:       Set[str]  = set([PHONETIC_KEY, AUDIO_KEY, WORD_KEY])\n",
        "\n",
        "    for _, value in merged_data.items():\n",
        "        if set(value) == keys_set:\n",
        "            phonetic_files.append(value[PHONETIC_KEY])\n",
        "            audio_files.append(value[AUDIO_KEY])\n",
        "            word_files.append(value[WORD_KEY])\n",
        "\n",
        "    return {\n",
        "        AUDIO_KEY: audio_files,\n",
        "        WORD_KEY: word_files,\n",
        "        PHONETIC_KEY: phonetic_files\n",
        "    }"
      ]
    },
    {
      "cell_type": "code",
      "execution_count": 10,
      "metadata": {
        "colab": {
          "base_uri": "https://localhost:8080/"
        },
        "id": "fmG03Y3iJy8G",
        "outputId": "512659f6-7fb0-4aca-d048-762d04319a65"
      },
      "outputs": [
        {
          "name": "stderr",
          "output_type": "stream",
          "text": [
            "18480it [00:02, 7625.03it/s]\n",
            "6720it [00:00, 7093.21it/s]\n"
          ]
        }
      ],
      "source": [
        "train_val = transform_dataset(df_train)\n",
        "test = transform_dataset(df_test)"
      ]
    },
    {
      "cell_type": "code",
      "execution_count": 11,
      "metadata": {},
      "outputs": [],
      "source": [
        "random.seed(42)\n",
        "n = len(train_val[AUDIO_KEY])\n",
        "train_n = int(n * 0.9)\n",
        "val_n = n - train_n\n",
        "\n",
        "val_ind = np.array(sorted(random.sample(range(0, n), val_n)))\n",
        "train_ind = np.array(sorted(list(set(range(0, n)) - set(val_ind))))"
      ]
    },
    {
      "cell_type": "code",
      "execution_count": 12,
      "metadata": {},
      "outputs": [],
      "source": [
        "train = dict()\n",
        "val = dict()\n",
        "\n",
        "for key in [AUDIO_KEY, WORD_KEY, PHONETIC_KEY]:\n",
        "    train[key] = np.array(train_val[key])[train_ind].tolist()\n",
        "    val[key]   = np.array(train_val[key])[val_ind].tolist()"
      ]
    },
    {
      "cell_type": "code",
      "execution_count": 13,
      "metadata": {},
      "outputs": [
        {
          "name": "stdout",
          "output_type": "stream",
          "text": [
            "Train set length: 1512\n",
            "Validation set length: 168\n",
            "Test set length: 1680\n"
          ]
        }
      ],
      "source": [
        "print(f\"Train set length: {len(train[AUDIO_KEY])}\")\n",
        "print(f\"Validation set length: {len(val[AUDIO_KEY])}\")\n",
        "print(f\"Test set length: {len(test[AUDIO_KEY])}\")"
      ]
    },
    {
      "cell_type": "markdown",
      "metadata": {},
      "source": [
        "Now let's convert the data to a data type that the model will work with."
      ]
    },
    {
      "cell_type": "code",
      "execution_count": 14,
      "metadata": {},
      "outputs": [],
      "source": [
        "train_dataset = Dataset.from_dict(train)\n",
        "val_dataset   = Dataset.from_dict(val)\n",
        "test_dataset  = Dataset.from_dict(test)"
      ]
    },
    {
      "cell_type": "code",
      "execution_count": 15,
      "metadata": {},
      "outputs": [],
      "source": [
        "train_dataset = train_dataset.cast_column(AUDIO_KEY, Audio(sampling_rate=16_000))\n",
        "val_dataset   = val_dataset.cast_column(AUDIO_KEY, Audio(sampling_rate=16_000))\n",
        "test_dataset  = test_dataset.cast_column(AUDIO_KEY, Audio(sampling_rate=16_000))"
      ]
    },
    {
      "cell_type": "code",
      "execution_count": 16,
      "metadata": {},
      "outputs": [
        {
          "name": "stdout",
          "output_type": "stream",
          "text": [
            "Text: get a calico cat to keep\n",
            "Phonetics: h# g ih dx ih h# k ae l ih h# k ow h# k ae h# t ah h# k iy h# p h#\n",
            "Input array shape: (32359,)\n",
            "Sampling rate: 16000\n"
          ]
        },
        {
          "data": {
            "text/html": [
              "\n",
              "                <audio  controls=\"controls\" >\n",
              "                    <source src=\"data:audio/wav;base64,UklGRvL8AABXQVZFZm10IBAAAAABAAEAgD4AAAB9AAACABAAZGF0Yc78AAAAANH/5P/p/wkAHAAvABIAEgAEAPz/BAAJAAkAEgASABIA/P/y/9H/uv/R/+T/9/8SADMAMwAlAAkA7v/p//L/CQA4ADMAOAAEAO7/6f/g/+n/AAAlADgAMwA4ACUAEgAXADMAMwAzACAADgDy/+7/4P/b/9v/5P/u/+n/7v/p/+T/6f8OABwALwAlADgAIAAzAC8ACQASAAQADgAEAAAA7v/p//L/7v/u//z/CQASAA4AFwAvADMAFwAEAPz/AAAAAPz/CQAEAPf//P8AAPL/7v/u/wAA8v8EAAQAHAAgAO7/AADu/+7/6f/u/+n//P8JAAkAEgAEAPf/AAAOACoAMwAOABIAFwASAA4ADgAOABIAEgAgABIA8v/p/+n/7v/8/xIA/P/8//f/AAAJAPz/DgASAA4AEgAEAPz/7v/y//z//P/p/+n/7v/p/+n/6f/u/+7/BAASAAAA/P/8/+7//P8AAPz/CQD8/+7/AADp//L/DgAlACoAJQAqACAACQASAA4ABAAOAAAA/P/b/+D/1v/p/+n/BAAcABcADgAEABIADgASAAAABAASABIABADu/+n/6f/k/+7/EgAOAC8AMwAzADMAOAAvADgAIAAqABwA/P/y/+D/4P/R/9b/1v/g//L//P8AAA4AEgAOABwAHAAqAA4AEgAcABIA9//p/+n/7v/3/w4AFwAgADgAIAAAAPf/AAAOABcAOAAgAA4ACQAAAPf/6f/3/wAAEgASABIA/P/u/+n/6f/y//f//P8JAA4ACQAEAPz/AAAOAA4ABAASAAkACQAEAO7/9//8//f//P8JAA4AEgASAAkAAAAOAAAAJQASABwADgAJAAkACQAOAAQA8v/3//L//P/3//L/6f/y//f/FwAqAA4AEgAJABIACQAXAA4A8v/p/+7/9//y//L/6f/y/w4ALwAcABwAOAAzAEYAOAAzADMAMwAzAC8AEgAAAOn/7v/k/+7/2//g/+n/7v8JACAAKgAqACUAFwASABIACQD3/+7/7v/p/+7/6f/u/+7/7v8EAA4ADgAJAA4ADgAgAA4ACQAEAAAA7v/p/+D/2//k/+n/9/8XAA4AFwAXABcAIAAqACoAOAAvADgALwA4AAQAJQAcAAQADgAOAAQAAAAOABIACQAOABcADgAcABcACQAEAPz/7v/p//L/CQAEAAAABAD8//z/9//3/w4ADgAOACUAIAAOAAAA5P/u/+n/8v/8//f//P8AAPz/7v/y/+7/AAAXADMAMwAzADMAIAAEAAkABAAAABIAHAAcACAACQD8//f//P/8/wkAAAAEAAAA9//8//f/7v/y/wkAEgD8/wAA9//u//z/CQAOABIAEgAOAAQA/P/3//z/7v/8/xIAEgAJAPz/6f/y/wQAEgAOABIADgAzABcADgAJAPf/8v/8/w4AAAAAAA4A/P/p/+n/6f/u/wAAEgAXABIAEgASABcADgAJAAQACQD8//f/8v/y//L//P/y/wkADgAzAC8AJQA4ACUAOAAgAAkAAAD3/wAA7v/u//L/6f/u//f/7v/g/+T/7v8EABcAKgAvACUACQAAAAAACQAXACAAHAASAAQA9//p/+7/7v/u/wAAEgAJAPz/9//8//f/9/8AABIAEgAvABwACQD8//z/8v/8//L/AAD3/wQAEgAOAAkADgASACoAIAAqAA4AFwASAA4AEgAAAO7/7v8EAAQA/P8AAO7/8v8JABcADgAEAPf//P8AAA4ACQAOAPf/6f/3/w4AFwASAA4ADgAXABcAEgAOAAQACQAEABcA9//p/9v/2//k/wkAJQAvABIADgASABcACQAEABcAIAA9ABcAAADk/8j/v//k/+7//P8EACUAJQAlABIABAAEAAQALwAzAC8AFwAJAPL/2//W/+T/6f/u//L/AAD8//z/9//8//f/DgA9AC8AOAAqABwACQAJAAAAAAAEAA4ACQD3/+7/6f/p//f/AAAEAA4AAAAAAPz/BAASABIAIAAvAA4AFwAAAPz/7v/y/w4AHAAJAA4AAADu/+n/5P/u/+7//P8AAAAACQAJAAAACQAEAA4A/P8JAPz/CQAJAA4AFwASAAQACQAJAAkA9/8EAAkABAAOABIABADy/+7/6f/p/+7//P8AAAAADgAJAPf/AAAJABIAEgA4ACoAFwAOAPf//P/8//L/7v/3/wQACQAXAAAA9/8JAAkAHAAJADMAHAAJAAkAAADy/+7/7v8AAO7/9//3//z/7v8EAAQAKgAqADMAJQAqAA4AEgAOABIAEgAJAAkABAAAAAAADgAOABcADgAqABIAEgAEAPz/BAAOAA4AAAAOAAAAAAD3//z/9/8JAAQACQAOABIADgAAAPz/BAASAA4AEgAEAAAAAADy//z/9/8JAPz/AAD3//f/9/8EAAkA/P8EAAQACQAEAAkA/P8AAAQAEgAOABIALwAXABIADgAAAPz/BAASAAkADgD8/wkABAAAAAQABAAAAAQACQAEAAkA9/8JAA4ADgAJAPz/AAAOAA4ABAAEAAQA9/8AAAAABAAJAAQADgAJAA4ACQAOAAkADgAOAAQACQAAAPz/DgD8//L//P/u//z//P8OABIADgASAA4AEgASABIADgAOAAAAAAAAAPf//P/y//L/BADy//L/AAD8/wAAFwAOACoAFwAXAA4ACQASAA4AEgAOAAQADgAAAPf/AAAEAPL/AAD3/wkABAD8/w4AAAAOAAQACQASAA4AEgAOAAQA/P8JAAAA/P8AAPz//P8AAPz//P/8/w4ABAAJABIACQAAAAAA/P/8//z//P/y/+n/9//3/+7/7v/3//z/AAASABIABAD8/wQABAAOAA4ACQAAAAkABAAEAAQAEgAAAAkAAAAEAAAABAAJAAAABAAAAPz/BAAOAAQACQASABIADgASAA4ADgAOABIAAAAJAA4ABAAEAPz/BAAJAPL/AAD3/wkAAAAEAAkACQAEAAQABAAOABIAEgAOAAQADgAOAAQACQAEAAkACQD8//z/AAAAAAkA/P8OAPz/CQASAAQABAAJAAAADgAEAAkAAAAEAAkADgAJAAkACQAJAAQADgASAA4AEgAOAPz/CQAEAAAABAAEAPz/AAD8/wQABAAAAAAAAAD8/wkACQAEAAkACQAEAAkA/P8JABIACQD3/wAAAAAEAAAAAAAAABIABAAJAAQACQD8/wkADgAEAPf/AAD8/wQAAAAAAPf/DgAJAAAAAAAJAAQADgAOAAAABAAJAAkA/P8AAAAABAAAAAQACQD8//z/BAAJAAkADgAEAAQADgDy/wkADgAJAAQAAAD3/wkADgAAAAkACQAJAAQAEgAJAAkAAAAJAA4AAAASAPz/BAD8//z/BAAAAAAAAAAJAAQACQAAAA4AAAAJAA4AEgAJABcADgASAA4ADgAJAA4ACQAOABIAEgAJAPz/CQAEAA4A/P8EAAkADgAJAAAACQAAAAAA/P8EAAkABAASAAQADgAJAA4AEgAAAAQADgAAAA4AAAD8/w4A/P/3/wkAEgAJAAQADgAAAA4AAAAJABIADgAEABIADgASAAQAAAAOABIADgAOAAAABAAJAAAADgAEAAkACQAEAAkADgAAAA4ACQAEAAkACQASAAQADgASAAQA/P8AAAkACQAOAAkADgAOAA4ABAD8/w4AEgAJAAkADgAJAAQAEgAOAA4ABAAJAA4ACQAOAAAA/P8SAAAADgD8/wkABAAAAAQACQDy/wQACQAJAAQACQASAA4AEgAOAAkADgASAA4ABAAAAAkABAAJAAQADgAOAA4ACQAOAA4ADgAJAAkAAAAAAA4ADgAAAAQABAAEAAkADgAEAAkAAAAEABIACQAEAPz/CQAEAAQADgAAAAQABAAEAAkAEgAAAPz//P8EAAAABAAEAA4ACQAEAPz/AAAAAAkACQAOAAAABAAJAAkAEgAAAA4ACQAOAPz/CQAEAAkA/P/8/wQAAAAJAAkAAAAAAAAADgASAAAACQD3//z/BAAJAAAAAAAJAAAADgAJAAQADgAEAPf/BAD8//z/CQD8/wQABAD8//f/BAD8//z/AAD3//z/CQAAAPf/AAD3/wAAAAAEAAAA/P8OAAAACQAOAAAAEgAJAAQA/P8EAPz/DgD8/wkAAAD3//z/BAAEAPf//P8AAPf/BAAEAAQABADy/wQAAAD8/wQACQAEAAkADgD8/wAAAAAAAPz//P/y/wAA9//3/+n/BAAAAAAADgAAAPz/BAD8/wQABAD8/wQABAAEAAkAAAAAAAAACQAOAAQADgASAAQACQAAABIABAAXABcAAAAXAAkADgD8/w4ACQAEAAkA/P/8//z/AAAAAAAAAAAJAAQADgAXAAkAEgAJAA4ADgAEAAkAAAAEABcACQAOAA4ADgAEAA4ACQAOAAkAEgAJAAkABAD8/wQAAAAAAAAADgAJAAAADgASAAAADgAOAAkAEgAOABIACQAJAA4ACQASAA4AEgAOAAAABAAAABIACQAJAAkABAAJAAkAEgAJAA4ADgAXAAkAAAAJABIADgAAAAQAAAASAAAACQAEAA4AEgAXAA4AAAAAAAkACQAJAAAAAAAOAAkABAAEAAAAEgAJAAAAAAAAAAAAAAAJAAQACQD8/w4ACQAOAAQACQAAAAAA/P8OAAkABAAJAAAAFwAXAA4AEgASAA4AEgAOAPz/CQAAAPf//P8JAAQAAAAOAAQADgAEABIADgAOAAkAAAAEAAQA/P8JAAkAAAAEAAQAAAAEAAQACQAAAAAACQD8/wAABAD3//z/9//8//z/BAAOAA4AEgASAA4ADgAJAA4AEgAEAAkAAAAEAAAAAAD8/wAAAAAJAAQAEgASAAQADgAJAAAAAAAOAAQACQASAAAACQAEAPz//P8AAAkABAAJAPz//P/3//z/8v/y//z/7v8JAAQA/P8AAAkAEgAOAA4ABAAAAAAA7v/u//f/AAD3//f/9//3//z/CQAEAAAADgAJAAkACQAOAA4ACQAAAA4AAAAEAAQACQAEAAkABAAOAA4ADgAJABcAAAAJAPz/CQD8//z/BAAOAAQACQAJAA4ACQAOAAQA7v8EAPz//P/3//z/AAAJAAQAEgAJABIADgASAA4AEgAJAAQADgAAAAQAAAD3//z/AAD3//z/CQD8/wkACQAOAAkAAAAEAA4ADgASAAQAEgAAAAQADgAOAAQAEgASAAQACQAAAAQABAASAAkAAAAJAA4ACQAEAAQADgAEAA4A/P/8/wAA9//8//z/9//y/wQACQAEAPz/9/8AAPf/AAAEAA4ACQAOAAAAEgAEAAAACQAEAAkABAAAAAAACQAEAAkACQD8/w4ACQAEABIADgAOABIACQAOAAAA/P8AAAkAAAAOAAAACQAJAAkABAAOAAQACQD3//f/9/8AAAkACQAAAPf//P8AAA4ACQD8/wkAEgAAAPf//P/p//f//P8JAAAAAAAAAPz/BAAAABIAAAAOAAQAAAAAAAAADgAAAAAAAAAAAAkABAAOABwACQASAA4ABAAOAA4ABAAOABIAAAAOAPz/AAD8/xIABAAJAAAAAAAAAO7//P/8//z/CQAEAPL/8v8AAPz/BAASAA4ABAAJAAAAAAAJAAQAAAAAAPz/9//p//L/AAAAABIABAAXAPz/DgAOABIADgAXAAkAAAD3//L/9//3/wAA9//y/+7/7v/u/wQAEgAOAA4AEgAJAA4AEgASAA4AAAAOAAQACQAEAAkA/P8EABIABAAJAAQACQAAAAQAFwAOAA4ABAAEAPz/CQAOAA4ADgASAAkA/P8OABIAEgAOABIAAAD3//z/BAD3/wkAAAD3//z//P8JAAAAAAASAPz//P8EAO7/CQAEAAkA9//3//z/BAD8/wkAEgASAAkABAAAAAkACQAOAAkACQAEABIABAAEAAAACQAJAAAABAAAAAQACQASABIADgAAAAAA/P8OAAQAAAAOAA4ADgAJAAAA9//8/wkACQD3/wkABAAAAAAADgASAA4AEgAJAPz/CQAXAA4ACQASAAAAAAAAABIACQAEABcADgAEABIADgAJABIADgASAAAADgAJAAAAAAAEAAQAAAD8/+7//P/8/wkABAAJAAAA/P/8/wAAAAAAAPz/9//u/+n/6f/y/yUAIAAOABcADgDk//z/IAAXAA4ADgDy//L/7v8JAPf/HADD/yAAJQCn/zMAJQDR/xcAKgD3/wkAKgASABIAPQASABIAHAAOAAAALwD8/wAADgAJAPz/AAD8/wAADgAOAA4ABAD8/wkACQAJAAQAEgAJAA4ACQAOAA4AEgASAA4ADgAAAPz/BAAJAPz/DgAJAPz/7v/8/w4AEgAJAA4ACQAOAAAA9/8AAAAA/P/8//z//P/u//z/BAAJAPL/AAD3//z/AAAAAPL/8v/8//L//P/3/wAA/P/y/+7/9//8/wQABAAEAAQABAAAAAQAEgAOAPL/9/8AAPz/AAD3/wQACQAJAAkAAAAOABIAFwAOABcAHAAOABcAHAAXABcABAAAAAQAEgAOABcADgAXAAQAEgAEAA4AIAAzABwALwAXAA4AFwAcAC8AEgAOAPz//P/3//z//P/3/+7//P/u/+7/AAAJAA4ACQAOAAQABAAOAAQABAAEAAkA/P/y/+7/6f/u/+n/7v/u//L/6f/p/+n/7v/u/wAA7v/p/+n/6f/u/+n/8v/y//f//P/u/+7/7v/y//z//P/3//z/9/8AAPf/AAAAAAkABAAAAAAACQAJABIAKgA4AC8AHAA4ACUAMwAzADMAMwAzADMAMwAzADMAMwAzADMAMwAzADMAMwAzADMAMwAzADMAOAAlACoAIAAJAA4AAAAAAPz/8v/p/+n/7v/p/+D/5P/b/9b/0f/N/9H/zf/W/9b/yP/I/+T/1v/W/+7/6f/p/+T/2//p/+T/6f/g/9v/4P/b/+D/5P/u/+T/7v/u/+n/6f/3//f/AAAJAPz/AAD3/wAAAAAAAAkAAAD8/+7/8v/u/wQAEgAcACAAFwAcADMAMwAzAD0AOAA4AEsASwBGAE8AZwBsAGwAZwBwAGcAbABnAGIAWQBnAFkASwBBAEEAMwA9ADMAOAAqABIACQD3/+n/7v/g/+D/4P/W/8P/tf+x/7H/ov+n/57/ov+e/5n/nv+e/6L/nv+e/6L/ov+x/7H/sf+6/7X/v/+6/7X/uv+6/7//uv/I/7r/sf+1/7r/tf+6/7H/tf+x/7H/tf+s/7//yP+//8P/zf/b/83/5P/p/+7/CQASADgAMwBUAH8ArgDAAO8AFQE2AVcBYAFgAWABYAFlAWABYAFOASgBEAHrANgArgCWAHUATwA4ADMAEgAAAPL/5P/N/8j/rP+n/6L/kP9v/1z/QP8t/y3/I/8a/wz/DP8C//7+H/82/1L/Yf9z/5T/nv+1/9H/6f/8/wkAEgAEAA4ADgAOABIAAADy/+n/4P/k/+D/2//k/9b/v//D/7//nv+Z/5D/kP9z/1z/Tv8y/zL/O/8y/0T/Uv9z/5n/yP/y/z0AdQDFABUBRAFXAW4BnQGsAawBsAGiAW4BTgEeAQIB3QC8AI0AcABPACUALwAzAEsAYgBGAD0AKgAlADgALwA4ACUA8v+s/4H/Zf9h/1f/Sf8j/wz/8P7d/t3+B/8a/y3/Mv8t/0D/Uv94/6z/4P/p/+n/9/8JADMARgBsAH8AegBwAGwAcACIAJsAqQCfAI0AfwB6AIMAegB1AHoAcAA4ADMAJQAcAAkAJQAlABcA5P/p/+T/5P/3/wQA5P/g/+D/0f/R/+n/8v/8/+T/7v/b//L/BAAXACUAIAAlABcAKgAzADMAMwA4ADgAMwAzADMAMwAzACAADgAAAPz/7v/p/+n/6f/b/9b/zf/D/83/v//D/7//v/+6/8j/sf+//7X/rP+x/6z/yP+6/7//w/+x/7//zf/b/9v/5P/p/+n/6f/y/wkADgAOAA4AJQAvADMAMwA4ADgAOAAzADgAMwA4AEEASwBBAEEAOAA4ADgAOAA4ADgAOAA9ADMAOAA4ADgAPQAzAD0AMwAzADMAMwAzADMALwA4ACoAIAAgABcAHAAqACAACQAXABIADgAAAAAA9//y/+n/7v/u//f/7v/u/+n/4P/b/9v/0f/W/9b/0f/W/8j/v//D/7//w/+6/7r/tf+n/6z/sf+s/7//sf+s/6f/ov+n/6z/p/+s/6f/tf+n/6f/p/+s/6z/rP+x/7H/tf+1/8j/w//W/9v/4P/p/xwAOABUAF4AOABLAH8ArgDFANMA6wDYAMAAwADhABABGgHrANMAtwCpAKkAtwDOAMUAkQBZAEEASwBsAHUAZwA9ABwA7v/p//L/CQAOAPz/zf+s/57/mf+n/7//yP+1/5D/ff+G/57/rP/I/9b/w/+s/6L/tf/R//f//P/u/9v/1v/k/+n/AAAqACoABADu/+n/9/8OACoAKgASAAQA/P/u//z/DgAcAAQA7v/W/7r/tf/D/9b/0f+x/5T/ff9l/3j/eP9v/2H/QP8f/xr/I/8f/y3/Mv8t/x//KP9E/5D/1v/I/6z/p/8OAE8AfwCuAN0AzgC8ALwA7wBJAWABRAEoAQIBDAECASgBOwExAQcBygCkAK4A0wDhAMUAsgB/AFQAPQBBAF4AdQBGAAQA1v/I/7r/tf/N/8P/ov9v/zv/Sf9S/2H/av9l/1L/Mv8t/zv/V/99/4v/ff9v/3P/ff+Q/7r/zf/g/+T/2//R/+D/AAAcADMAMwAzADMAMwA4AE8AYgB6AHUAfwB/AH8AgwCfAKQArgCyALcArgCRAJEAgwB/AH8AegBsAE8AMwAzADMAMwAzAAQA7v/R/8P/zf/N/+n/1v+x/5n/ff+B/57/sf+x/57/ff9c/1f/c/+Z/5n/lP94/1f/V/9v/5D/nv+i/4v/av9q/3j/mf+i/7X/p/+i/5n/ov+//+T/9//u/+T/5P/y/w4AOABBAE8AVABPAEsAZwCIAI0AnwCbAJsApACfALIAvADKAMAAtwCuALcAqQCpAK4AqQCpAJEAnwCWAH8AfwB/AHoAcABUAEYATwA4ADMAHAASAAkA5P/g/+D/yP/D/7H/ov+e/5n/kP+B/4b/i/+L/33/eP99/2//eP99/5D/i/+G/4v/ff+Q/5D/lP+e/57/lP+Z/5D/ov+x/7X/tf+s/6f/ov+x/6f/ov+e/57/kP+L/4H/av94/1z/Uv9O/1f/Zf94/4b/sf/p/+7/4P/k/y8AgwCpAMAA2ADvAOEA4QAQAU4BYAFXASgBFQEaAR4BIwE2ASMB/gDOALIAvADKAN0AxQCkAHoAWQBGAFQAWQBnAEYADgDW/7//yP+//7X/p/+U/2H/O/8y/07/Uv9S/0D/Lf8f/xX/H/82/2H/Yf9c/1f/Uv9q/4b/p/+1/7//yP+//9H/1v8AAA4AIAAgACoAOAAlAD0ATwBnAHAAcABeAF4AWQBsAH8AkQCIAH8AdQB6AIgAmwCkAKQAqQCIAHUAZwBwAIMAdQBnAEsAMwAAAAkAEgA4ACUA9//W/83/v//N/9b/1v/N/7H/i/+L/6f/v/+1/7H/ov+L/33/i/+Z/7H/ov+Z/5D/lP+Z/57/rP+6/7X/rP+e/6L/sf+6/8P/v/+6/6z/rP+s/7r/v//I/7r/v/+//7X/yP/W/9v/4P/u/+n/8v/8/xcALwA4ADMATwBeAHUAcABPANMA0wDOAM4AygCWALwA2ADrAOYA4QC3AKQArgDOAMoAzgDAAJsAiAB/AIMAgwCIAHoAWQA9ADMAMwA4ACAAEgDy/+T/5P/R/83/tf+n/57/ov+G/4b/gf94/3j/b/9v/33/ff9l/3j/eP99/5D/mf+e/5n/nv+e/6L/p/+6/8P/zf/I/8j/4P/N/+n/6f/p/+T/4P/g/9v/6f/p/+T/1v/N/7//uv/D/7X/rP+e/57/mf+U/57/nv+i/6z/tf/b/+7/BAAEAAkALwBZAIMAfwCpALwAvACpAMAA6wAHAQIB7wDhANgAygDOANgA4QDOALwAlgB/AIgApACRAH8AcABGADgAMwAzADMALwAAANv/zf+x/7H/v/+1/6L/hv9q/1z/Yf9q/4H/eP9l/1f/V/9O/2H/gf+U/57/kP+Z/57/ov+s/83/5P/p/+n/6f/p//z/EgAqADMAMwAzADMAMwA4AD0AVABPAEYARgBBAEYATwBUAEsASwA9AC8AOAAzADMALwA4ABwAIAAOABIAEgA9AOD/BAA4APz/9/8JAAkA4P8EAAQA9//k//L/6f/3/+n/IAAqAPf/zf/D/9H/BAAzACUA9//k/7r/0f/8/y8AJQAEAPL/2//W//f/JQAlAAQA6f/W/+T/7v8OABwADgDy/+n/6f/y/xIA9//y/wkA8v/p/yAAPQAEAOT/7v/3/yoAWQBeAAkAw//k//L/VABwAKQAPQBoAk0G+gLd/o/93Pz4/AQAmQGGAZAIwQceATX9Uv1B/En/rgJBANP8XPqA+6v9vgG4Ah4B3f4//fv9RgCgArgC7wCN/j/9/v6RAJ0BeAFiAPn+Qv4R/wkAIwH5AAAAH//T/mX/0f+IAIMALwC6/yP/b//I/58AZwDg/5T/Zf99/7r/WQAlABcAnv9E/5n/7v8qAOT//P+Z/57/yP8XABIAHACU/4v/mf/u/w4AAAA4AOn/i/+n/+7/KgBZAEEA/P/k/+n/IAB1AJsAPQAAAAQABABPAMAAqQBUABIA/P/u/2IAvADFAJEAXgAOADgAdQBPALcAjQAXABcARgAvAE8AiACDACAA8v8JAPL/CQBGAPz/CQDW/8P/6f9eAM0BtwDD/84AKAE/AaAC8gF9/7n9DfzZ+4z8lP1L/mz+If5U/t3+ZwBOAWABtwAzADgArgBEAVwBFQHD/33/Zf/g/2IAPQCn/8H+H/9l/4b/sf9q/3j/V/8t/6z/VADp/33/tf+n/+n/OAA4ABIA1v/b/xcAKgA4ABcAHADI/w4A7v/y/xIAnwA4ADgAMwAgAPL/0wAeARABPQA9AGwAnwAQARABWQAgABwAgwA7AVIBXAHFAJ8A+QAxARUBSQHTAJ8AvAD0AAcBpACbABcA6f9PAFQAuv8XAJT/Uv/p/7X/V/+Z/8j/B/9A//n+sv6y/p7/CQCe/93+rP+Z/9b/BwG8AIv//v7P/ob/4P8XALH/0f9v/w4A5P/D/1z/hv87/2X/V/8zAO7/4v6G/y3/0/7D/5n/6/7P/vT+i/99/6wBBABG/gf/O//Y/nAAXAG1/0D/q/3D/dj+hv/I/zb/z/6y/k7/BACyAKkABABUAD8BewKjA8QDLQO+AaACggMUBKoEmAQ3A1UCAAImApICzwITAk4BEgDb/33/gf+1/4H/vP4A/lv9P/1z/cz99v0l/tr9lP2+/SX+f/6b/i3/8v8vAD0ADAH8AX8CrgJVAiECOQJ/AqACewKuAgUCRAHAAOEAnwB6ACoArP8R/+b+OP7y/cH+xf6i/Xz9Jf6d/aL9rv6y/iX+HP4l/pL+4v6e//n+wf7dANsBLf8AAOL+hf2p/qkAyP8R/7n9Fvxk/Wn9cPyc+4f6DPqg+Yn5wfny+Ov5Cvtr/J39M/5N/dP+RQP9BWMHZQbmBW4GegdRCWQL3QxRCw8JFQh9CBgJZQgHCDgHnwV0A4sBqQAXAOT/Lf9g/aH7FvrW+HP4PfmS+Z34iPdP94P3LPj3+Lj5ffo5++f7zvzV/an+lP+3APIBUwPqAwYEMATVBHkF9wbzCGkL5A0JDNEGGQT7BsgIJAg7CIEGEAG7/Nz8If4a/0T/fvwF+Y/4w/ga+Pn50/z6+1n50fhQ+ef5r/uP/Sr+M/6w/SD8YvzP/gAAc/8a/xr/HP6m/VD+f/6B/Z/8xfwZ/Rb8CPoa+JH3BPer9iz28/UY9NL1Wvtl/2f+7wDdB/MIRgVIBgUO2hByEKEQlBJUES0PAA7wDl8QARBGDOkIHAeIBaACGgGNAIH/0Ptl+JP2Nfb19LXzi/O/8y3zBPKB8XryGPRT9WT2avhc+j77qvv7/V4AQgK7A/0FIQelB90HxAjjCT8LpgvvCg0Kqgn8CLgJSQ0KDpkIiwMBBO8FNQTkATMA1f3u+l75+fme+nb5vfbz9fn32Pl/+Uf5h/qh+9D7a/wv/m//V/8M/+T/DAFJAbwAqQCBAYYBVAAa/8/+VP6P/Xf9/fyZ+ub3dfei+Kn5p/j49UnzYvIX8mzy6/JC8qjwhfG8+VUCywTfBoQJkQpCByMNyxWSGhUZLxjxFbwThhLUEwMUZxM1EHwL6AZDBI8BH//q/KH7OvjP9BDxtO/87tbu6e7N7jnvGO8m7xLwEvLG9A33xvlw/ED/LwCUAbsD2gaOCQ4Mog1zDVINXA2wDVgPIRNqFN4QaQtiChYKEQg6Br4GjgR6/jf6KvnO97n2D/aa9Sn1PPXD8yjzRfXv97X4tvoG/Z390/zo/cj/ogE7A/MDuwPNA28DkgIFAqoCWgIMAXP/Pf7j+7r4afZP9+L5Y/nN9ePxYvDE7lHv2e8g8ILuTu4i74r2/v7BAtUEMQsID/kMQg6VFggb+BtDHIMdaBpIF78UXBSNE1cS2w3uCLkE3QAb/J34evdr9cfxse7p7Gfr4OkU6gnrvuwa7jDvBPCi8UL0YvcY+8r+cQK9BFsGJAi7ChANCA+cEKQR2BExEpIT2BPJEZQNbAyeDW0OLgoZBDv/wPy/+t35JPpz+IvzWu+q76bxUvNa9E71J/ZP96v4b/pg/cj/SQFoAoUEPAW0BFYEMwUoBk0GgwX8A38CxQD5/m793PwY+/n3LvVK9f31/vSB8+Pxr+/37KzuN/DV7/DtJu2K7PjwmvwxBpoK/g4XEcEODA29FQAfhSO7InYhoRxuF5sThhQyFJgSbw3PBxMCEP2R96Lz9vFz8eDuc+yx6RPoDuap5inpueyT753xg/L881v2/vkz/n0DxgeaCscL9Az3DbYPlhGpE6MUKBTrE2EU6BJeDj4JFAmqCQUJOAXKAIv6mPZV9Mv0PPVv9ePxdu8E8NrxB/Nv9af4Zvqc+6L9i/9uAQwD/wSiBlwIVwgvB/gF5gVPBQ0FOgTZAhwAd/1D+1X5jvZf9KDyZ/KI8oHzc/Fv7oHsm+0k7qPuOe8R7orsGO3C9kYFVAXUCdAQGRdVFaoV7htDIZUi2SFbI8shFBw4E8IQsQ/+DCsJHQTY/iP4zPGS7XPsyuvN6afn/uZq53XmwOZO6RPt3PAP9OH3zfos/XP/+gJ2B7cMng9rEbASqRMOE/sSehO3EyMS0RKIE4MRtgptBIQCLwLb/0T/qf6k9wjwK++F8cnwpPKZ88HyUPIf9aH20fgg/Ij+BADqA9EGYAYHBg4Hswc7CIAJaAnyBssEywIVAVL/M/6J+xX4DfW38krwxu/z8IXx+u/57ensyOzf7GPteu237bHuSvD+9Jv+ogYuCg0PKhj1GpQZERttIcMjMyQhJLkj6h1kF6kR3Q7lCiEH0QEL/bv3GvOz7c3pFecv5jXlAOZc52PoE+jn6NjrEvB79AD5C/11AEADWwb8COEMOhDIEjIUIBbGFacUHBPcESsQnA4QDUYMcAzZCREDrfyL+tL6R/nm97T25PMz8A/vh/Ck8j70RfX29rj5fvy0/XP/cwG2A3AFMggWCmsKuggvB3wGUgbOBb0ETgO6AWH/a/wo+sr3PPXr8tfwJu+Z7vXvYvAU8Urw1e8G79DvuO8s8V7ysvI98s3z2/pSBo8NyBK8GAYcfRmuGHAdBCIeI3Qi4CD9HZMXTBBbC38HRQNU/t77ifn19HTujOn05k3l6uRO5zXqZ+t+65Tsi+7T8KX0iflZ/l4CyQVvCEUK4wvuDRkQihKxFHYVtRRbEh0QEA1bC44JmgrlCrgJ5QMH/4n7l/ln90H3nPbz9X/0ePNA84bztfPy8+P22/q5/Zn/VwHNAdYB+gKIBcEHHQk+CU4I8gY8BVgD/AE2AXoADP+r/Tn7P/il9CzxA+7B7YPw5PM59LfyYvDE7kLtB+508OvyoPL78QfzbPkmAuQIDA2PEpsY5xpMGh0cFiCHIIwdRh1LH3IcsRQND50LxQUR/+H8dfza+CPzuO8J7UXpS+bd5q7oNeq76xHu3u8n8ZbyLvWU+JX8sgCqBAcIZgrCC8oMGA5vD8IQlhFzEiMSvRAKDrALRwnwB2EIgAmuB5IC0f2m+1P6HPmw+D/4jvbi9Cn1OvZI9p71nvV690D61f3+ACECmQH+AIYBggOyBSEHOAc/BtUETgMhAgIB2/9s/lL9cPwd+774XfUS8mLwQ/Fv85z0VfRS88Hy8vEx8cTwNfFW8V7yVfT1+VIBOAdHCSUMFxHpFAoVEhZOGXsaSxjoF1UaVxnmEykPBw1tCewEqgIhAnP/4PrT99f1EfMN8JnuU+4t7qfuM/Dj8XXyrvJc8/D0CffG+fT86f8KAskDwAVLB54IVQk8CgYLAAx1DKAMAAzSChQJjQdnB90HrgdlBvgDZQG1/8X+tP3A/Df8k/v5+Vn5S/kh+dP3jPdu+P75aPs6/RH/tf9l/4b/mwB4AfcBhAIMA88C7QFzAeEAc//f/U396vwb/DD7v/qX+eb3Qfce+NH4JvmN+TL6U/rw+VP6N/qN+TT5vPlA+kf7RP1wANkCggNvAyUFsAZsB/kHaAlPCiQKUQl+CjULfgqQCBEIcQdgBpYF4QWMBc0DtQHFAPz/yv6U/Sf9WPxt+6f6D/sU+4L63fnd+fD5Sfor+5H8ZP3j/Xr+av84ALcAGgF4AdsBAAKXAmED5QOoA1gDJAMMA7MCFgOsAw8EZgPBAqACuAIAAqcBpwGdAYgAtf+Z/7X/H//K/rz+bP6m/b79UP7F/qT+lv6u/q7+pP6g/rf+jf7M/Zj94/3a/d/9sP3j/W79rfwU/dH9Gf1+/H78fvzn+5/8/fwe/er8xfxw/KT8mvzh/Lb8Qfy0+/r7Fvxr/F385fwA/lf/KgAjAcgB1AKoA9kETQaWB8YH8AdcCJAIowjICNsIFQhVBw4HBQdXBmIFVgQkA74B0wBLANv/m/5S/Wb80Psd+9f6zfrN+mr6i/ow+yD8rfxE/cP9Xv7i/vL/EAG+AfwBOQKEAuICGwNTA2EDXAMpA7YD9gT4BXAFTARcAxEDRwImAssCwQKRAHX+OP5//or9Tf0v/sP9G/wl/N/9Qv5N/W799v3a/fv9Uv8EAHP/Xv49/kb+8v0J/vD+iP5b/er8SP1z/Sn8FvwW/Ef7Sfqe+m37jvuZ+s365fot+nH5CfnM+Nb47/f/9gv47voz/m4B5wK/A7UGEgqKCzMMQg6MD+IObQ5bEJ8RARCbDBkLFgr5B9gFMwXXA64Aj/1i/Jz7kvlU9z72h/Wq9LP0Hfbs9q/2d/af9xj5o/qR/MH+egCLAQwD7ARNBgkHfwcDCJUI1gg5CT4JYQjHBnAFoQTXA6MDxAOaA3ECfQGRAKL/z/7K/vL9Lvx9+rb6UftK/ET9vv1F/GT7T/xG/nP/pACGAZQBFQGLASsC5AF1AGX/8P7r/vn+0/4q/pH8o/p2+X/5f/nM+Pn3JfeV9S/0Y/R59dD2a/cC+Hz4KPjM9m/1bfRz8/Ty8PRi/KQFSAv2C78PQxXTFnYTNRWsGRgaaxbTGCIcgxiNDoAJVQd/Aur8zvzH/fn5HfQh8izxPe1K6ZDpwOsq7TXvzfPe9v/2ivaP+Fb7HP6+AYEG7AnoC5QN8A7nDvcNiw2UDacNsA1XDdUL/AioBVUCV/8n/a/7uPt5/Fb9LP1R+7f3SvVO9Rz3q/j3+t/9GgFmAxYD3QAV/+v+CQDsAtQHEAvLCZgGHQQmAun/5v5v/3j/9P7T/s/+Bv1V+XT1FfPw8iH0tvWF9rv14fIp8A/vefA282n2Gvhb+ET43PeV9cHyafHa8d70bP4/C3oTTReaHdkh4xy9FUAZIR/mHbgacR8yIJMVYQjSA67+v/Xs78jzxPU48rft8uw36VHjyOBS5Y7qhe/+9G37tP2K/bD9JQAYAu8FQwtrEWoUIBaXFYgTkA8aDZ0LUQsCCx4LAQlPBUYAtPsg91/0FfNq88jzN/VZ9+34nfiU+HP4yPhY+tj+uAILBkwJPwuACQ4H6AYFCRYKtgoSCtsIigZRBCsCgwDD/Wr6Ovi6+Hr5Cfmf97b1gfOy8jn0ivbK9yz46/dG99D2Kvf29jX2J/Y6+FH7lP3X/E76pvYo86Twa/Ck8k71K/tWBCUMtBCbGLYgUh7WFNAVfB5FIBsbVB1VH/wUAgbZAokCdPrA8G7x/PPc8GXsmeyc6ozkE+HV5Xjs3/Ed9h37SP0T/p7/DAPqBQoJFQ1wES0UvRWJFb4SnA72CycLYgp2CUAIfgXYAF38q/i/9SPzdfLF8lfzgfMv9I70AfZE+Pf6mP23AEMEWQeTCaEJrAhFCB0JiQlnDE8RaxGfCjEGxQWNAmn9ev49AHn87/dj+Rj57vMk8FLxXvKe88D3N/x+/KP6m/ko+if79PwV/y8A5v74/EP7DPo2+FT34ffD+FT3KfVL8lzu8+l76OrrN/WwATcKQRGYHJkleCAUFRsWGh5xH+0e0SVDKMMZzQiNAm//hfa973zxH/MN8KvsKuup5rffCtzY30foBPJe+T/9M/7o/bz+NgE/BnoMzhGqFakYPhpiGEITXg58C3QKKQqjCvoJfgWD/ij4nvOV8Pfu+u/o8R/zMfMC8z3yfPFG8gT3iP74BV0KQwsuCocK0wy4Dl4OVQ4YDloO3Q4fD7QL2QRU/g/7uPsv/iH+dPpr9SXywPA48t70TfZ09c31Tfj6+wD+Xv60/Xz9Nv+lAiMGQgcSBUkBzP0r+0f5cPcs9oz1IvZI9j70ve+F6trlteI54+LoHfTpAf8JwQ4rGiEmwCJIFzkaniWaJwwlVSt7LdIbcQc5AsMBY/mK8YjyXvKy63fl+uPt4EnbItl73r/n8/Ac9/75rPpk+yH+bwNkCy8T8Re1GaAa4hqWGKwU0xFRENQOHw2+C1MIagGl+Z7z9e8o7ovu0O//7wbvXO757Rruwu9l8/33J/1sAhwHvgtFDxsRSg+iDYcPahTlFhgVshFQDCAFXAFvAzMFBABV+eD1vfSG80f0U/V48//vlfAW9ef53vuT+2b6dPpp/WwCwwZqCN8GywTqA8sEjAU8BeICmf9r/Ov5Kvfu80HwXu2G7F7t6ewL6qnmX+MX4bXiOup4+NgFfw4WGyErQy06HhUZxyNJKqsoJS7hNRkojQ7iAj0CGPvA8BLwivGt6/XjUOG03tnXjNPj1xHice1r9SH5+fnr+eP7hgExC+4U9RqIHUkefh1oGhkX5RQOE9gRuRCuDokJ6QHK+c/yQO7W7K7tnu6Q7mPtG+st6UrpYOyr8Rr4rv5KAxsFrQWnBtsIrgxLE88aVB3aF+oRaxEqEY8LiAf5B6QFAAB1/sr+gfjg7uzqBe2D8Pr0sPjv98jzbvFE81f4kv6JArYDDwQlBRAGLAYCBpEF2QRiBWcHEQhUBe7/Sfrq9eTz9/MT9PvxGO8F7ZHrKekz5i7k8+JT4uPlIu9E/e0GaRL4IiQsvyBcFEgcIigtLPQuITcvMJMX5gXoBAQFhf0J+fT3zPHb58/hROBe3D7X7Ncg397ooe/M8cLxZPEC81n5qgQ6EIMW6BcnFzwWPhX/FaAYABpvGfgWExOZDTQHXAFm/N/4Dffl9W306PFX7kzqp+cm6EvrgO/R80b3c/gJ+fP6oP6qArMHPQwRD3IQwxI3Fh4XDhOqDkUPVhD8DbIK8wj4A7b8L/me+vv4oPQc8pHytPHf8Tn0bfaQ9Qj1Z/eA+1n+qQAvAvUC1ALbA+YFYwdCB2kGsgX2BPMD4gKLAcP/LP0o+kH3PPVE8/3wnO9o70nuAuzX6aroGOhH6B/p2Otx8k39BQckFoMkoCTPExEPlBl3IzAoMjHQNGYiLAvQBPoJiwh1BTMFgf+k8kXpoufm5j7ji+J05L/nhep47D/s0+un7KjwNvjkAZkI3ArjCQoJHQntCzYSJRhCGiUY+RPsDgsLDQqoCk8K4gfNAzv/2/qW92H1/PMf83/yPfJZ8nXyCfIA8lLzyfVL+Vv9ygCSAqoEjwb+B+AIIgtzDbYPyQ8vDjUL4AiGBuQGxgkPCSQD0f3e+3/5L/kN/Kv91Pmt9a/0kPUd9lv4yPpy+836hfvO/EL+/v5GAFwBhAJFA8QDfQMWAyECRAGDAOT/jf6k/NL6l/n99+X1cfQr9NHzKvLV70Xul+3n7SDwD/YW/PL96wCNDJkUexChC34RFBWZFI8ZLCNeHwcSOgtBDK0KswnFDNELiQIW+tX2sfVx9M31HfaU85XwTO+Q7kzvnfG68wP1gPYs+Ev5nvqy/JL+TwDUAqQFpQf8CAUJXAjmB+kIUwqTC9oLkQr+B3UFFAS/A+4DWAOwAbX/j/2A+2H6wvum/RP+Vv0z/Fj6Xvnu+jX9Sf9BAIv/If5e/rX/HQIwBFYEaAKsAbUBWgKjAxIF1wOGAS8A0f+G/yAAgwC//9/91/xd/Lb8Bv1p/R79efzC++P7lfyK/QD+7f0j/bL86vyr/d/9w/1E/ZH8Qfy2/GT9af1E/c78JfwG+4v6kPqH+pX6aPtm/I3+bACkAGr/yP99AZMEFQhBCpwJcQfFBegGjAr0DOgLJgkjBlwDHwPqBTYITQa4Aun/3/3q/LL+mwC6/0T9bfs7+pL5v/pm/HX8aPuQ+mH6ePoN/G79OP7f/fb9Jf4f/1kAZQF4AU4BUgHDAZcCKQM3A6ACyAEeAdYB3QK4AukBFQEvAKL/PQAHAe8ACQAj/xP+vv1n/p7/tf8y/3/+OP7f/Vn+eP8cAKL/DP/0/gz/H//N/3oAPQB4/y3/V/+L/7//KgA4ALr/ff+B/6z/BAAXAPz/7v+6/7X/4P8vADgAIADg/+7/AAA4AEYAYgBGAC8AJQBGAEYAWQBPAGcAQQBBAFkAiACDAGwAQQBiAEYAWQBPAF4AOAAzACoAOABGAFQALwA9AC8AOAAvAEEAOAA4ADMAMwAzADMAPQA9ADMAMwAzADMAMwA9AEsAQQBPAEEAOAA4AEsAVABBAEsAPQA4ADMAMwAzADgAKgAXAA4AAAD8//z/8v/p/+n/2//g/9b/5P/k/+T/2//b/+T/6f/p/+7/6f/p/+n/6f/8/wAAEgAEAPz/9//8/wQAKgAXAAAAEgAJAA4ACQAcAAQA9//p//z//P/u/xIADgDy/+n/9//3//f/8v8AAPz/7v/y/wAA6f/3//L/7v/u/+7/7v/u//L/7v/8/+7/9//8//f/7v/3//L/7v/p//L/8v/8//L/8v8AAPf/EgAOAA4ABAAEABIABAAJAA4ACQAEAAkABAAJAAAAAAAOAPf//P/y/+n/9//y//f/9//3//L/9//p/+n/8v/u//z//P/3//z/7v/8//z//P8AAAAAAAAJAAAAAAAOAAAAAAAEAPz/AAAAAPz/AAD8/wkA/P8EAPf/AAAEAPz/9//8//z//P/8/wAA8v/y/wQAAAAEAAQA/P8AAPf/CQAAAPf/AAD3/w4ACQAJAAAA9/8EAPf/AAASAAAAAAAAAAAA/P8JAAQACQAAAAkABAAJAA4ABAAEAAAA/P8EAAQAAAAAAPz/AAAAAPz/CQAEAAQAAAD8/wAA9/8AAPf/CQD3//f//P/3//z/AAD8//z/AAAAAAAAAAD8/wAACQAEAPz/BAD8/w4AAAAAAAkA/P/8//f/BAD3/wAA/P/3//z/9//8//L/7v/u//f/AAD8/wAA/P/3/wAA9/8AAPf//P/y//z//P8AAAAACQD8/w4ABAAEAPf/8v/8/wAA/P8AAAAABAD8/wAABAD8//f/BAD3//z//P/8//f//P/8//z//P/3//z//P/3/wAA/P/8/wQAAAAEAPf/CQD8/wkACQAAAPL/AAAAAA4A/P8EAAQAAAAEAAAA9/8AAA4A/P8AAAAADgD8/wAA/P8AAO7//P8AAAAAAAAOAAQA/P8JAA4ACQAAAPz/CQAEAAAA9/8EAAQAAAD8/wAA/P/8//z//P8JAPz/BAAAAAAA/P8AAPf//P/8//z/AADy//f/BAAAAPz/BAD8//z/BAAAAPL/9//8//z/8v8JAAAA/P8AAPz/AAD8/wAA/P8OAPz/9/8AAAAA/P/8/wQA/P8EAAkA/P8JAAAAAAD8/wAA9//8/wQABAAJAAAABAD8/w4ABAD8//f/AAD8/wQA/P8AAPz//P8EAPf/CQAAAPz/AAD8/wQA9//8//f//P8AAAQAAAAAAAAADgAEAPz//P8AAA4ABAAAAAkABAAJAAAACQAEAAQABAD8/wQAAAAEAAAACQAOABIADgAAAAkABAAEAAkACQAAAAkABAAJAPf/DgD8/wQACQAAAAQAFwD8/w4AAAAAAPz/CQAEAAkABAAOAAQAAAAJAAQACQAAAAQA/P/3/wQA8v8AAPz//P/u//L//P8JAAAA/P/8/w4ABAD8/w4AAAAEAAkABAAJAAQACQAEAA4A/P8AABIA9/8AAAkA/P8AAPz/CQAJABIAAAAAAAQA9/8SACoA7v8EABcAAAD8/xcAAAAAAPz/AAAOAAkAAAAEAAAADgAEABIACQAEABIABAAJAA4ACQAEABIABAAAAAkACQAJAAkABAAOAAAABAAAAA4ABAASAAkADgAEAAkAAAAJAA4ADgAOAAQAEgAJABIADgAOAAQACQASAAkACQAJAA4ACQAOAA4ABAAOABIAAAASAAkABAAEAAkACQAOAAkACQASABIADgAOAAkADgAEABIADgAJAAkADgASAAkADgAEAPz/AAAOAAAACQAEAA4ADgAEABIACQAOAAQAEgAAAA4ACQAEABIACQASAAQACQAJABIACQAEAA4ADgAEAAkAAAAJABIACQAEAAkAAAAAAAAACQAAAA4ADgAEAAQABAAOAAAACQAAAAAABAAJAAQACQAJABIADgAAAAQACQAJABIACQAOAPz/DgAJABIAAAAOAPz/CQAEAAkAAAAEAAAADgAAAAkABAAJAAkADgAJABcADgASAA4AEgAEAAkADgAOAA4AEgAOAAkADgASAAQAAAAJAAQAEgAEABIABAAJAAkADgAOAAAABAAOAAkACQAEAAQACQAEAAkADgAOABIABAAAAAQA/P8EAAkA/P/3/wkACQD8/wkADgASAA4AAAAOAAkABAAJAAkADgAEAAAADgASAAQACQAOAAkADgAAAAkADgAJAA4ABAAJAAAACQAJAA4AEgAAAAkADgAAAAAAAAAJAAQAEgAJAAkABAAOAAkACQD8/wQABAAEAAAABAAAAA4ACQASAAkACQAEAAkADgAXAAkADgAOAAQADgAJAA4ADgAAAAkABAAOAAAAEgAJAAAACQAOAAQACQAOABIAEgAJAAQADgASAA4AEgAEAAkADgD8/wAACQASAAQAEgAJAAkABAAJAAkADgAEAAkAAAAJAAAAFwAEABcA9/8XAHj/2/+IAJEAMwAJAKz/7v8XAF4AOAAEANv/0f/y/zgAKgAgAPL/AAD3/wQACQAXABwA9/8AAPz/EgAOAC8ADgASAAAAAAAJABwADgASAPL/AAAEABIAAAAJAAQADgAAAAkACQAOAA4ABAASAAAABAAJAA4A/P8JAAQAEgAJAPz/9/8EABIADgAOAAQABAAOABIADgASAAQACQAEABIADgAJAAAAAAAAAPz/BAASAAQADgD8/wkADgAEAAQACQAOABIADgAXAAkADgAJAA4ABAASABwACQAEAAkACQAJAA4ADgAOAAAADgAAAAQACQAOAAkACQD8/wkAAAAOABIABAAEAPz/AAAJABIADgAgAO7/8v8cACoABAAXAOn/7v/u/xwAEgAqAPf/EgAOAEEABAAvACoA7v97AtIKBwik/BT2pvZH+3kDnQbsArT76/kL/fwBowNFA1L/x/3d/pIH1AnsAon7m/lQ+Wf+BQLBAsH+1/zT/Kf/7wB7AtMA2//K/tv/GgFpBAwDmf88/NsBNwNA/43+dANO//L90/7R/4f8ev5l/3UAwf7YAHAA9ABv/9b/Av/AAHAAEAG//yAAi//OAFQABwHy/+8A5wLGAqf/hv+6//L//P+s/2z+4/1U/iP/v//k/5n/+f5v/2IA9AC3AFkA2//k/0YA/gD+AIgAgf8y/+T/0wCBAWUBygBUAEYAZwAjAVcBSQEXAPD+S/6y/v7+lP9q/6n+q/3V/f7+cAD0ALcAw/94/6L/bAD+ABABdQBGANb/FwAXAHUALwCpAPz/TwBwAK4AlgDhAFQAIABh/+7/MwDg/zL/OP4A/i3/FwCDAPf/Tv94/xIARgAoARABzf9A/3AAJQDiAvoCnv9n/mIAZQEPBB8Dp/9R+/z6kv5JARMC6wB8/Sf9Zf9XASECogHw/n/+5P/AAB4BjQAlABIAZwDAAC0BQP9LAD8BagFGAPL/wf6U/4MAbABh/2H/0f8AAPT+0f/3/7r/v/+U/+L+qQBsAO8AUgEoAeD/0wD0AGUBVwEVAb//Nv+m/Sj/uv+RALwAEgCB/14Ap/9iAJ8AmwAj/4H/zf+RAJT/b/8j/wcBpAB6AFf/lv59/xgCOQJJ/6v9YP35/tcD0ghiBZn/lP0H/+UDlAYLBn8AU/oY+378Wvs3/EwCnQHM/Zr8L/6y/u0G5gXTAFH77/yOBOEKFwWB///7+/3EA3UFUAJI/U76xf7bAc3/Tf1U/Fb7Tv89ABH/SP2S/gQADANHAlAChv+r/cP/5wJQAp0BxQD4/NH9VwEhAmwAc/+K/Qz/RP+Q/7X/w//H/d/9AP6W/rD9+/0E/gz/eP/+/pv+Z/74/NH9mf96ALH/Tf0T/tv/+QA7/0D/w/8JAGH/pwGbAA4Asf9JAYgAxQAy/+v+xf6B/67+v/8j/+7/oP7d/hH/av9s/mH/KP96/kb++/1E/xIAqQBUACX+qf5/AJYAav+s/4P+i/+3ACMBmf8A/gL/Ff82//7+m/7F/u8AagEMAcP/TwCNAFkAZQE0An0BKAEoAfUCUgFz/1n+mwBSAboBjQCyAAf/0f/u//4A7wAYAgcBWQCUAS0Bff/b/3MBVADp/2X/V//0AIMAUP75/rABUgHd/kj9iADk/+n/sgC+AVQAOQIQAZYASf+IAO0BogE9AMoAfwBiAKkAYAFOAY0AIABnALL+yv6//84Awf5eAFQADgC6/1wBegAgAFQAuv8OALwA+QDRAVQArv5n/pb+bP5wANP+3/3q/F7+nv8zAKf/9P6B/7z+yP8JACoA9P7N/z3+BP4q/vf/YgBgAQf/9v2p/lQA7v+DAAkAYf8y/0n/lP+Z/+T/QQDhAAQAI/+W/kD/cABEAfz/i/8OAEkBZwCNAO7/nv8gAKwBXgCs/5YAegCDAL4BtQHRAZYAHgFqAYEBHgF2AiMBb//a/Tb/O/+3/pD/VwEM//b9M/44/kv+7wAaAYv/vP4EABcAzgCs/14AlgCi/1T8svwG/Xj/dQAOAGP+Nv+3AI0CnAJ2AssCBgQWA64CfQHhAJsAVwFXASMB6wCUAVcBzf+B/wkA/gAoAQ4AJ/3V/Wf+iACPAQIBrv4R/24BkgL+APL/i/8A/mP+VwHDAdb//P+U/6L/OADhAK4AZwAq/oX94/3N//4AI/+R/Nr9yP87AcAA9/99/57/w/+BAb4BYAE/AXgBZwCkAP4AwABsAJ8Ahv+//7wACQCN/qL/RAFuAWr/Mv9LAGH/Yf+e/4v/Z/5A/3P/egCb/i3/5gArAp8AFQG1AXsCxQDg/0T/LwCk/jv/OP4C/1z/HgFcAUsAZ/4q/nH+ZwDdArwCVABJ/7T94/0E/tv/egAy/yf93PwN/Iz8QQCSAuwCogE7Aen/rgBQAm8DpwE9AEv+kv7+/hH/EP2Y/YX9I/+kACoA2P5PAFwB3QCGAR4BZwAHAf4Ag/6U/Rf+HADbAe8Adf5r/Kb7Wf55A/gD4P91/B79SwBOA1UCGgGx/8/+xf7DAcMBjf5d/Fb9oP7i/vf/6wBzAUkBzf+b/vf/rAHwAv4CyAEV/+39mf9EAXj/f/7kAS0DBABx/hcAZQE7AeYAHQIAArUBOQJVAlL/lfyf/KD+9AAOAN/96P3y/7//Nv/hAJYAFf/d/hUBQQAh/sH+iQIlBRYDH/+7/GP+gQGUAT0Alv7H/br/+gIIAyX+TPvl/Nb/1gFsAg4CQQBh/64AlgAzAAAADAGDAEsArgAzAK7+9P44/mn98P7tAaoClAEvAB//iP6e/wUCwgTdAm//Jfxy+779VACNAKT+CPw8/MH+eAFeAJT9zvwHAY4E2QSLAfb79/gl/qoEWQXqA4MAE/6M/Gv83/2n/z0AwAARA8kDvADo/Uj9VACLAc4ArwQFB/UCbv0I/G37p/rj/QAC/gAP+wP6//ud/S8A7gOYBp0GmgNLAH0BdwS1BhcH2wOD/qf6rPry/TMATv+d/fj8DfyF/aQAWgJ2Ao0CrAEjAQACqgI4APD+kP89AhEDzQHd/mj7mfra/XYCOgTkAQ7+YvxG/vIBbwPZAtYB9AAoAeQBVwHk/2//tf9PAFIBiADI/+D/Vv1M+138CQCNAtkCYgDO/Hj6K/sz/psAIwHy/+j9R/tF/Jr8uf2W/i3/oP75/gAAgwAVAbr/Z/73ASIE0QEEAFIBjQBk/cn8gf2g/iP95fyf/CX82fv7/TIDHAf9BaACsAHsBOYHxAgLBuwEpgR/AgUCpQL+AKz/DAHNAxEDBADY/hoBNAJ/AGr/DgAQAdEBzQNTA8oAXgC8AncEkwRpBAgDDgIEAC3/Mv/F/oH/+f6H/Mj6J/uR/GP+RP+S/tP8vv0gANsBogFUAMH+6P20/QL9g/xi/If8g/zg+sz4IfnV+9gAbQTgA90AAP6v+zv6evlD+8n8Dv7k/wT+Kvlm9ar0RfU0+Sz93/32/UX8n/fB9Nj5yQO8B5IH4QXZApkBFQYxDYUQTRLOEbsReQ8qDAUJMwX+ANb/hv8//Vz68vg9+e/33Pe/+r79bADgAwkHWwbsBC4FawVnBeEFbAerBvACS/7n+477Uv3bAasG3gRz/zz8qvvq/DgAlQMwBGgC8v+y/uP9Nf1N/aD+wACnATsBwABZANH/v/+L/6kAZQEjAUkBfwD7/ZX6CflA+sb7Nf2b/gb9cflk9sT1n/dA+uf7Nf0o/5n/oP74/JD6kvka+of63vsN/DP3bvH+7Rjtsuso7NPwv/olBYgMGxGnEpsTVRU0Gl4fTiA2Hh8bvBPuCC8AVPeR8IDv9vGK8UrwtPHY8nv0yvkcAFwDmwd4DVYQsw7rDIoLAAc3AxgCZwDR/X78Lfq794f1E/SJ9OH3mP24Ar8D/gJeAoYBWAPUB9IInQYgBYgFwQeWBy0Dc/37+JT4rfx7AuEFyQNZ/vf61/ol/Gz+5AHeBD4E0QFc/8v7Cfnw+YP8t/6NAAIBYgBeAPL/Nv+B/zMAZQEYAsgBsf+J+8T1pPDd7WPtDvIV+JP7cvti98/yRvIi9ln5tfiA9kDztu4Y7XvvDPpOCJsTKCAEMMg46DQmK68hVBikDKEE0wD5+SLvCeYb38zZ9df+2tzkPfK//9cKhhIrFaMUqRNcFGYUyBJPEaAOgAnLAm37O/PR7MTpW+rW7Erwf/Tv93j6W/0tAaEEFQj7CzIP4A9jDnUMfgqSBwYEEAG5/Tz88/qu+e76cf5//vf6avrX/M3/6QGaA1wDXAG//1QAsAEFAlMDyQPEA6ACmwB6/mP+lP8MAUICWAOqAuT/+/2t/DL6E/kG++X8S/4R/zP+1/x7+wH7cvut/Bf+Ff8q/tf6SvV270LtPPAD9W32WvTy8dDvKu3Y69rq7ump7QT+pRVmJxU2DUa7Sz9ArS4JHVkMsv5p9sXywe0+42jXLdHDz57RZNc85NL16AY1FfkffyRrIs4dExrCF5AU0BAMDdQHXP9o9NLpz+Er3jjffuSt68Hydvnb/6gF7Am3DDIPKBI2FGgVFBXvEVAM5gXr/nH5nvX58nryO/PG9K/2ePh0+kX8HgG5BokJ8QvNDXcL+Qe5BMMBH/8Z/f38QP+1/y3/Yf+I/nX8G/yi/e7/nQGVA/YEwgSEAqT+l/tA+iH56/li/Hz9Ov3H/dr99v0J/nX+Sf+kAC0BLwCa/D724O4b6Sjngunf7IXvufGV8HrriObe48fl1/CPCzooAEP1YjBuIFkEOkIfGQaY8bzmreTr4YrZx9JlzwXLDMVix4nXpPBVCZ4glTOdOzs4Iy9SJVUadA/1B5oFewKZ+mLwwOQv2iLSy9C11vnh7u5z/UgLVRUdGq0bRRtcGVIXoRX5E34RLww6BF/7wfKv6sflcuVM6EnsQvJs+Qf/RQNTCNsNXhNwFvUVlxO/D/EJGwNY/H731vNq84z13/gY+9X7IPxC/ogA1AIVBtYIJgntBicEGgGo/On4zvdU9y73S/kN/Bz+nv/hAE4BogFHAt0CqgKBAWP+6fjh8knsLed05P3k8ufA64LuwPCl76Lszuvu7r30xQVmIolKonKTejRg/jxKGyT6+d8H1v3Tws2axw3McdXF2tDXe9c24JXwfwfgJZ1AfkuFRfU3aynYGNEG9PcD7h/n/OKG4ivj8uDp23XaUd7F5qDy1AJAFFgiGirGK6gnEx+/FOoK4gKq+6P1VPLh8Gjvvux36rHp9Ot38XH5/gCzBxoNGxGIE68VLBczFiARDwlHAgv9lvdO8wvxHvEv8hP0dPp1AMkDQQUeBsMGpQdOCLcHNgaXAg7+NfvI+E32KfVR9lf47vpe/qwB/ANdBa0FBAW7A8gBLf+a/Hr5yfW+8bftSOp26O7nX+ow75vyoPKM8LPt9uom7d3yWPrCEMUwolqadjhxVlE6L9sNgew21LXKZ8KgvXTF2dcJ5kPqsuRU5m/z+gIbFjcsYjo0PgQ6czE4JM0P2vhq57bdwtln2hngf+Yw6qvs9+4f8774XP80CQUVmh3EIrwkYiJ7GmUN8v9F9UXuLusH7LbuAvFC9Kf4LvyF/dH9t/6sAaIGWQxwESoTuRLCEJUKdAM4/ob4pvZR9njzOPJC+Z7/mQHFBeADSgO3BZsHrwTbAzcDKAFc/8D8hPmN+af4iPcA+Sv7tP1cAagD/AP4A+oDkANaAsUAbP4w+yz4AfZV9G/zEvJM70LtBe3G7dvuEvCO7zHsQ+oJ63jsTu7K98gNDy3QVuJztHDaWIM8Wx7H/ZfcU8V+tu6t67ZdzEfhEOz87n/0W/1OCIMWDyaqMiM23DOZMW0tOh6KBGTqP9nn0EvO4NGD2jfkteyC9Yb/1ggFDr8PdRHCFckb+R+bH1cZNw+hBLH6VvGQ6U3lVuVj6GHuVPcgAOEFAwgiCZUKVgvhCs4KtwwMDfgKqgmPBrr/0/ei8Yvudu8+9J76RgDHBNIIHgvRCw0K+AVEAQn+g/ze+5f7bftA+pT4Bfnl+gv9rv4EAKIBngP/BDMFPgRQAlf/fvzl+tT5EPgB9hP0jfI/8X7wEvCJ74DvSvA38GjvY+2D60zqnOpF7kX8gRKEMvZYV23gaDlWUT6kInj/ytrSvvGuragtsrDIeuGo8G74EAHxCxgV/hq8H5MjYCUIJ8UpjiikHWYK0vVW5VvZd9K40MnT+dpQ5kD1ZARADwwUQxWJFcIVaBWQFFcSWg5HCfoETgFr/L/1Ue+y62fr2O168lL4BP7LAmcHfAvyDYsNgQtRC9MMZwyeCFoEO/+K+JDz3/Fs8nv0Uvgx/XQDewkODNULKQr7Bn8CQP9W/SL7tfif97v30fgy+on7C/3m/vQADAPZBFkFaQS4AigBsf98/R37uviO9hv1IfRA8y/yI/Fr8JXwEPE68eXwju+17IXqherp7B/zjQAUFSM2hlUKYtVdWFAkPwclpQKY4DvFwbHcqFmx28Xb29zrevn5B/cUdxwTHx4e9RrtF0sYeRvHHLwYNw+xA4H4Ye6B5fDc/NYR1grci+ck9WgCKA1XFFQYfxr6GvsXFxFMCZ4DvADT/jH9FvxJ+tP3Q/bM9tz33PeD9xP5fvyIAKEEpQkYDp4PMg87DTwKMwX2/a33NPTy8/70kfcE/K4ADwSPBpkIzQgABzUEOwHP/sX8/Pqb+Tn5Xvni+R37+Pyu/vL/zgCLAYQC5wKJAroB5gBv/779JfyQ+tH4wvbi9ETz6PHz8IfwT/BP8DfwtO8Y70Xu7eyw7Onu2Pe0BJ0XuTSFTFNX4lRkTNc/YikQC1HqDs45uE6tnbDDvvXQ5eJQ9HcG4RaqIbwk8yCEGtIUDRFcD30PSg9ZDH8HNwMlAE76N/Df5VnfN92Y3qjkFO+V+lYELQ3EFtgd6R4rGjgTMwzxBJb+dPrW+IP3x/Zb+NX7lv5E/+v+m/7R/dz8BP4tAW0E3AWiBuIHHwjkBhkEkQAx/b/6dvmJ+cT6Nf3p/+0BrwS+BrwH7wX6AiAAj/2x+mD4lvfh97D4p/pN/X8AKwKSAqAClwK+AZEAI/8J/sX8gPuj+ij6l/kQ+Pj1D/Su8rTxAvFF8FHvV+6u7S/tOO0k7nryTPtKBTYUcyr1PkVLhUzoR1M/rS4ZF8b7dOLvzLe9E7g/vNPHgtbC5ZP2BwjXFhwfVyBEHnEaxBTwDvsLYAuACSMGigRBBR0E2P5699zwDeui5TXjneUl603xovh2AjENiRWeGfIZ2hdCE9MMPwZBAHL7WfcD9VP1NvjC+3P/KP+L/4YBWgKzAkoDEQPIAYsBjQDKAJ0BwwGLAWUBEAGuAJT/I/87/6n+Rv4f/wIBugEdAukBUgFUAOb+Tf03/M363fnP+en6g/wq/nP/lgBEAYsBiwEjATgA3f4G/RT7DvlU90X1UvMc8rDxk/Fu8WnxBvFK8ArvhO3W7MbvRve6/0YMkh/QMmxBlEdQSAFFrzlmJwMP4PXs3m3Lhr7NueK9ZchG1VblZfjqClQYyB7pIP4f9RqlE3gNoQlbBsYC0QFMBLAGqwbzAy8AQ/s59HHtnOhs5mfmaOjn7SD32wF8C7AStBelGuQZ3hXNDx0JCgLE+mb1V/Pb88T1Tfik/K4AngODBQsGfgWjA7IApv0S/KL9Sf+L/x4BXANKBRkG0wWcBOQB+f5P/Mj6D/uq++f7u/yp/lwB/gKjA1gD/AHI/2n9wvvz+tT5sPjf+Iv6P/2//3gB1AIIAxMCTwDa/cT68fYH81Tw/O7b7iLvoe9d8LbwEvCG7sbt9e+e9cb7kwSeFGsn1DfrQZpG7UePQso19SFrCknzdtzkyOq7QrjVvCnFh9HG47D4QwteGOkgniViJFIeIhdbEOMJEQOI/hf+EgCEAlEE9gRRBDYBIPww9rvwFez859/lCug77nL25v7dB8sQVhdxGr0axRjwE0EMeQNU/Bf3gfOd8bTxTPTk+KD+GQRhCEML0QszCnoH1wO//zn7wPe59lT3w/iT+2//WgKKBDoGOAcTB7IF5QOGATL/Tf3j+9f6h/q/+lr72fvc/OP9g/6k/pv+vP6y/oj+m/7F/s/+g/7M/eX8Ofu6+Cf2nvOP8QTwp+637Sbt1uyG7BXsW+ww75r1yfzKB6QYqSkkODhBn0bBSJJDCDhSJewOKPiN4VTOEcDSuXe6X7/Uya7a7u7bAToQfRtII30l7yL5HbQXQxDwB7oBav+L/90AJgIpA80D4gJnABv86PaP8djrQOcS5sHo3e0K9Pr7WQVVDisVpxngG+IaNxZFD+YHEAHE+lP1ufFN8Rj0/fdB/CMB7ARCB+sHGghGB3IEOwEQ/eL5Pfnw+Vr75fzp/2wCxAOoBfIG9wbsBEcC2//D/Sn8K/uH+nj69/oN/D/9qf6Z/+n/QP9s/uj9nf1I/Qv9FP0x/dP8LvwY+3H5Yvcp9QfzZPHG7zfuP+ym6q3p3ujw6FvsV/Oc+7MHSRk0K5o6rET6SuNM1Uc9PFkpYBJh+uniqc6nvu+2g7b2utnE99SC6SP9Ygz0GA0i1iV1JBogUBpHEywL3gS6AVcBxgJMBGIF+AVrBf4CUP5u+ELyt+uw5aziquPf543tXfVS/4QJaRItGZEdtR7uGw0W1A4JB8P/vvgt8+zvqu9U8kv3ZvyEAjIIzgo1CwYLIgkpBdH/2ftS+Nr2x/YQ+G/6uf3YABQE+AXrBy0IDgfeBDkCIACi/T77uPk5+aD5YfqA+/j8L/7K/s/+wf6g/jP+Uv2M/A38hfv3+n/5n/ex9fLzL/Ky8KXvdO4H7IzpQOcl5lzn0eyg9Nb/wBHNJUc3zUQ/TgVUhVFbR581uR5UBcfqstN+wJ+0j7BhsgS7Tsqv3hP0YgXYEy8fgSUvJq0imh0UF/UODAjQBPYELAapBxQJPAq9CegGpwGH+nHy7uk74m/d9dxz4C/mEe4F+U8FihA7GUcfMyLbIK0bghSyDIAEcPya9WnxWPC58XH0Avi7/G4BewRuBuQGEAYlBZcCff8n/VT8T/yy/Jv+OwGVA+MEqAV8Bv0F+AM0Aqz/nf2q+xT78/q/+qr75fyY/Vn+Mv/u/1f/Rv60/UT9yfxm/If84fwj/U39Mf2a/M36RPh+9aTyEvAD7mDs0OoW6Y/nQeYl5k7pJ/H++bsFfxjbLK48j0ewTnVS600uQQEtkRZz/ZXkj8+6vo2217RLuE/CedGw5cj4tQYCEsYa+R8cH9kaQxdxE0wO3gnQCR8NkA8BELYPEQ8ADF0FcPwC8+rpbOGy2mvYP9v+4Szq8vMJAIMMkRZ8HCofYx/lGysVZQ1zBrIAPvsS97v1OPfU+RL8sP3g/+0BGAKuAJn/VP7T/Hz9Qv4a/0kBbwNDBB4GmwdJCAsG9QJ1ABX/3vvp+lP6yPpo+yP9Zf/tAdQCFgMAApEA8P5I/UP7jfmr+O344vmO+4X9Yf9UAE8AYf/R/en6+/bh8lrvhuyc6gHq5emo6Q3phOjB6Hrr0/II/OIHHxvtL/o+O0kpUAtTwE31PugojBGy95zeR8v7vB63m7b0uzHIcNjh67v8OwhWEK8V3RhuF90TJRHlD/AOxg5SEg4YaxtVGkUWtxFTCnP/IfL25b3cGtY40yTWad5h6VX0w/9pC44V1BrEGwoahBX8Dy4K2QSwAQQAgf9GANYB7gMXBYsD7v/e+1L4TvXw8rnxi/Pc9yL7qQADCvYQBxJdEdwPWQx/B80B5/vE9cHypPIk9W74If6LAR0EpAVLB2cH2QQAAML7w/ip9yr3n/dC+ez78v0gAF4CFAQkA38A1f0l/P75F/e684rxT/CO7yLvoe+M8EXw8O046+zoauel6L3v6/lzBrYb2jSmRWVOTVO5U2ZLfzepHckF8uz71KzF4L7BvyPDY8uy2NHnEfUj/xcFtQbTBRkGdgf3CLIKzQ86F9wdwCJ2Jq0nLiLjFUAIRfwk8LXiWNhV1dTX1Nxm5OPvxvuQA8oHcgsYDhANNAn9BRcFlgUTBzcKEw7sELcRoRC+DaMIVwFe+bnxtezK69jta/CV9e39DgdZDH8OtQ1/DIQJUQSy/q/7HPnM+C363PyWAAoEjAXJBSkF5QPyAcH+9/qr+I/4bPmQ+t77Rv6kAHMBLQFBAED/bv26+mz5Fvp7+7b8gf1j/pb+qPyl+f31IfKX7drqVupi61Xt7u6G7ojt8uyr8Wv8IwaeDbUeuTQ2Qs1E/ESNQ8w7FieHD/v95e693ITQOM600hPVkdj34JHrTfFc89r2Wvua/Jj90gPIDb8U0xiPHr8l5SeyIvoa4hNdCiz9wvHv62/pt+ZS5Xvo4O7g8yf23PcM+o77wvs8/PD+GwM0B/gKng82FMAWpRUQEngNDAi6Afb76/fM9v/2fvff+Oj9fQGIAJ8AMAQtA3P9aPss/Vb9c/0M/7oBxAM8BX4FZwXHBBEDgf8n/VL97f1S/TH9Wf6e/4b/yv6N/tX9M/zb+m/6CvtK/B79x/0H/2wAwADp/67+I/0k+mT2gfNn8rnxlfAu8JHybfb7+PT3s/S28O3sKemr6mj0XgAwCRwYUDBcRLlHDkHHOb8x2yC4CRj5LPHs6Mnfqt6N5jbsa+l55OrkBejN53HmrekS8nL7UQQWD4QawiEbIlsebRqjFsIQ2whMAvn+8v1N/VT8WvuE+bH1xPBs7ensR+2p7aXvMvX4/AEE1gggDAoOww3jC94JUwjkBkYFVgRpBuMJAwqBBtAEbQThAM36mfhn9x32APmN/iUADP8zAPkAO/+b/mP+wPwS/Fn+ZQHbA8kFuwWsA2wC9wHFAGf+tvzL+737Av3F/qL/Ef+5/Xn8+vve+2j74PoG+4z89v16/u39CPyP+C715POi89PyCfJE80b3pvt+/Df6+/bY8vPuiO0W8JL5qgRyC/UToiO7M804EzBEJToeFBdUDAgDbP5B/Nz3SfPr8rDzxO4c5gfgDuEV5yrtdfKU+OT/lAaCCjMM3QzjC8gIzAYRCMAMYQ8rDoELlwnkBlgDS/5Q+er1GPQT9Jz2H/pr/EX8Afvb+sv7h/zJ/IX9CQCmBOQIQQpKCksMJxCeD9YIbwO+AT0AbP7f/Vb9/fxm/K/7nPu7/Lb84vnc9836mf/pAcsCAwOgAosBDgCI/tX9lP1p/fv9FwCqAskDpQLKANb/Av/t/W793/1C/pb+H/94/0D/AP4n+5T4/ffv99r2Ivay90X6TPs1+zf8qPym+//7zP3f/ZX8D/t6+aT3C/YR9Q/2PPyCA2kG1AdWC5AP9RPGFcQU0RJKEQgPPw16DGALVQeWADf8dPqz+XP4IPe29V/2avgy+nv7KfyH/Mv7Jfx6/jYBNAL3AawBYwJOA5oDQAN/Ao8BXAEFAuwCNwNxAusApADvAEkBmwDY/pT9Ff8hAjUEjQKNANYBsQMYApD/pP6g/i/+kv5PAC8CjQLvAPn+b//+AKQADP8R/4MAZQEaAbcALwDT/qj8ofuH/HH+I/+3/hH/w/+6/9j+F/6+/Sr+Ff8JABABhgEHAS8AO/91/qn+oP7y/Q7+oP5Q/or9xfz2+2j7Ufu4+wT8fvxI/WT9qPxB/ND7hfto+8v71/xE/a38efy2/Fv9Jf42/6cBGQS9BDoEKwTHBMcEywSyBUgG7wVGBTwFnwWaBV8EoAIFAh0CDgLIAawBzQEeAWH/Cf4z/nH+Xv5G/hH/rP9z/8j/WQAXALH/9/8OAGcAnQFoAgUCfQE7AaQAiABXAe0BKAGkAE4B+QBsAJEAdQCB/8H+I//D/xcAIAB4/6D+Pf5Z/mf+3f6e/0T/ev7B/i3/I/8H/zb/Lf9E/5T/0f84ABwAV/+S/oP+5v4H/zv/ov9E/y3/B/9j/l7+z/4C/8r+8P5z/5b+Wf7M/Wz+3/0E/uP9xf7Y/mH/ff+6/6L/rv5E/x//2ABZAKQAff8o/xH/f/5O/8j/iABBAN0A9ACuAJYAwAAcAOD/KgCIANgAKAFXAbwAFQH8/+8ADAF4ARABbgEtAZYAFwCfADEB0wAtAakAagHYABABtwBqAcAAmwAMAcUAKAHOAKQAAADI/9v/BAC3AEsAIAAcAKL/DgDp/0sA7v/8/z0Av//u/yAAKgAo/8P/Mv8vAEYAgwBwAD0A2/+6/z0ARgCRAI0AWQAzABwAXgAcAFkA6f9iALH/YgDu/2IA4P8JABwAEgA4AD0AbAAqADgAHABBAD0ARgBUADgAQQAgADMA/P8EAAkAJQAgACUAPQA4ADgAMwA4AC8AOAA4ADgALwAgAA4A9/8AAC8AKgA4ABcADgD8//z/CQASAA4AEgAXABcADgASABIAEgAOAA4AAAAOAAAADgASABcAHAAlADgABAAqABIACQAJAA4A9/8OAAQACQAJACAA5P8cAAkAAAAAAA4A7v8EAA4A/P8JABIA/P/8/w4ADgAEAAkABAD3//z/AAAJAAQACQAAAPz/CQD3/+7//P/8//z//P/u//z/AADu//f/BAAJAPz/9//p/+7//P/8/wAA/P/8//z/AADy/wAA7v/8//z//P/8/wAACQAJAAQA9//8/wAAAAD3//L/AADy//z/BAAEAPz//P/u/wQA9//8/wkACQAAAPf//P/8//f/9//8//z//P/y/+7/9//8/wQA/P/3/wAACQAEAAkA9//y//L/9//3/wAA9/8JAAAAAAD8/wAACQD8/wQA9//8//z//P8AAPz//P8EAAkA/P8JAAkAAAAAAAQACQAAAPL/9/8AAPf/AAAEAAAA9/8AAPz/AAAJAPz/BAAEAAkA9/8EAPf/BAAJAPf/AAD8/wAAAAAEAAkADgD3//L//P/8//z/7v8AAPz/9//8//z/8v/8/wkAAAAEAO7/AAD8//f//P/8//f//P/8//z/9//y//f/BAD8//z/9//u//L/AAD8//f//P/u/+7/BAAAAPz/9//8/+7/9//y//z//P8AAPz/8v/u/wAA9//8//z/9//8//f/8v/8/+7//P/u//L/8v/3/+7//P/u//z/8v/3//L/9//3/+7/8v/y//z/7v/u//z/9//p/+7/9/8AAPz/AAD8//z/9/8JAPf/AAD8//f//P/3//L/9//8//f//P/3//L/8v/u/+n/7v/p//f/9//p/+n/7v/3/+7/7v/y//z//P/3/wAA8v/y//L/7v/u/+n/7v/u/+n/7v/u//f//P/p//f/8v/y//f/6f/u/+7/6f/3//z/6f/y/wAA9//8/+7/8v/8//z/9//3//L/7v/y//L//P/u/+7/7v/3//z/9//8//L/9//y/wAA9//8/+7/8v/y/+n/9//8/+7/8v/y//z/9//u//z/8v/3//z/7v8EAPz/AAD3//f/9/8AAPf/BAD3//f//P/8//f/CQD8//f/7v/u//L//P/3/wkAAAD8//z//P/3/wkADgAAAO7/AAD8//z/BAAEAPf//P/8//z//P8JAAkA/P/u/+n/AADu/wkA/P8AAPz/9/8AAO7/9//3/wAAAAAAAPf/8v/3/wAAEgAJAAAA8v/u//z/8v/y/wAABAD8//f//P/3/xIADgAEAPL/9/8EAPf/CQAEAAQA/P8AAPz/8v8AAAQA9/8JAPf//P/3/wQA9/8AAPz//P8JAAAA9/8AAAAA9/8AAAAA9//8/wAA/P/8//L/AAD8/wAA/P/8//f/9/8AAPf/AAD8//z//P/8/+n//P/8/wkABAAAAAAA9/8EAAAA9//8/wAA9/8EAPz/9/8AAPz/AAAAAAkAAAASAAAADgAOAPz/DgAEAAQABAASAAAADgAJAAAA/P/3/wkAAAAAAAAA8v/8//f//P/8//z//P/3/wAAAAD8/wAA/P8AAAkAAAAAAPz/CQD8/wAA/P/8/wAA7v/3//f/6f/3/wAAAAD8/wAACQASAPz/CQAAAA4AAAAEAPf/DgAJAAAABAAJAAQAEgAJAAQABAAJAAQACQAAAAAA/P8OAAkABAAOAA4ACQD8/wkADgAJAAkADgAJAAkA/P8AAA4ADgAJAAQAEgAOAAQAAAAEAAkAAAAJAAQACQAAAA4ABAAOABIADgAOAAkACQAEAA4ADgD3/wQA/P8EAAkADgASAAkACQD8/wAAAAD8/wkALwAzADMAMwASAPz/6f/p/+7/BAASABcADgD3//L/AAAJABIAEgAOAA4AHAA9AHUATwDW/5n/uv+//xwAOAAcAAkA/P/b/+n/9/8XAA4ADgASABwABAAEAAkACQD3/xIADgAgACUADgAAAAAACQAJABIA/P/3/w4AAAD8/xIADgAAAAAA9/8AAAkADgASAAkA/P/8/wAACQAOADMACQD8//z/9/8EAA4ADgAOAPz/BAAAAAkADgAJABIABAAEAA4ADgAAAAkAEgAJAAAABAAEAAkABAASAAQACQAOAAQACQAAAAkAAAAOAA4ACQAEAA4ACQAOABIACQAEAAkA/P8OAA4ADgASAA4ADgASAA4AEgAJAA4ACQAEAAkAHAAlAA4ADgAEAAkACQAJAAQADgAcAAQA/P8AAAAADgAOAAkACQAEAAQACQAEAAkADgAOAAQABAAEAAkAAAAEAAAABAAAAAQACQD3//z/AAAAAPz/CQASAA4ADgASABIABAAJAPz/BAAOABIACQASAA4ABAAEAAkAEgAOABIADgAOAAQAEgAAABIABAAOAAAAAAD8/wQAAAAJAA4ADgAEAA4AEgAOAA4AIAAEAA4ACQAOABIADgAAABIADgASAAQA9/8AAPz/EgAOABIADgAEAAkADgASABIAEgASABIACQASAAQACQAEAAAA/P8OABwALwAOABcA/P8lACAACQAzAC8A9//g//L/CQAcAE8AOAAlAPL/JQAcAFQAEgBBABIAxQCRAB4BNAInC1gKdgIv+dD2APTT98oAQgfCBOEAOP6/+v75gf3WAaoCHgHhAOv+q/3X/E4DywkHBjMA1f3H/VH7mf9ZB7EIAQmeCNsD8fZo9OD1bfs//dwFHQm8Arr6uvjZ+8b7sgDSA5oD0f39/Ij+QP9zAWED9gTdAOn/eP+NAOD/PQDrAIH/B/8C//4ASwDR/7L+/v6k/qT+Uv/u//z/tf8lAK4AmwDOAKz/CQA2/yUADgCQCGQJEgWs/1f/1/zL+3j/nwCw/c/5pv2B/bf+PQC4AvkA3f7g/z8BkgLIAWYD/gLNARUB3wHyAS8A3f6g/jb/Nv8f/6f/kv7a/dP8L/6U/wAAov+Z/wAAhv+Z/8oA1AKXAtgAKgBiAPD+pP6BAeEFRwKIADv/IwGp/qkAsgBcAcj/7wAHAS3/sgCsAbwCLwDm/jH9af1m/G79Mv9L/s/+1f2U/8P/+gL5AO7/rv4T/qL9ev6LAaACDAPqA5YAYfqt96b7d/0hAmQEWgT3/z0AiwFEATEBOQKBAZj9wPwv/sf97/wn/X/+n/yu/kIC3QD5/hr/IwGU/40A9AA7ASr+bAKsA57/q/1zAcAATv82AewC0wCpAA4CXgAq/pEAKgAXAOj9z/4OABIAsvxO/wACHwNzAYEBFwDy/83/OgQUBEkBKv4lAOEAvAAa/5YAAAAa/9P80f/T/gT+tP3YAJ7/cABh/14AHACRAAL/ev7d/pYAOwEOAGABtQH8/+n/zwKnAYMA0f8EAPv9z/49/gL//fy+/Un/ov84ALwA4P+N/lz/LQEtAWUBsAGUARoBAABiAEYAbABnAPL/XP/t/Q7+tvym/WT9dQAt/0EA/P/0/nX8fP0XAC8Av/8xAVwBYgAf/08ABABHAmABiABS/6L/Xv4y/y8AZwAqAIgAFwBzAfIBnwBuAdQCaALWAcECQANQAq4Atf/YAJ7/ZP23/rr/tP0C/+YAnQFgAbr/Jf7O/LD9rP/F/qn+Sf9z//v9/v6g/iP/vP7R/y0BWQAXAM3/xQBv/xIA0f+pAOD/B/8OAP7+FwCe/04BYAFCAigB7wBc/wz/w/30/mX/iACb/vT+B/+s/8r+IABPAJ0BKwKZAdb/2/+i/7UB2wHiAsgBsAHfAf4CDAEtAe0BTgFv/57/Yf8M/0n/fwAzANH/8v8j/8X+Tv9O/w4AHAD0ABoB1v/r/mcAlgAvAMP/TwDp/+T/7v+s/xIAi//0/qT+pADmAHoAMwD0/sX+ZP3H/an+/P/D/1z/XP8f/3r+3/0M/5D/xQC3AGX/mf9q/+v+WQDmAMUAmwDhAMP/sf/8/wcB3QCyAOsAlgDu/xcA6f/I/wQAp/8o/yj/eP+1/9j+Z/5G/l7+Cf56/rX/8v9GAO8ASwC8APkAOwE7AcoASwBzAaIBYAGBARUBIACyAJYA7wCnAUICHQKZAcoATwAt/9H9Rv54/5n/7wAVAUEAxf4O/o3+6f9UALIAxQBSAc0BagEJABH/L/4h/uT/dQD0ANgAv/+G/5D/QP/K/sf9qf4MAb4BXAG3ACoAF/7D/SP/zgAQAZ8AjQDdAJsAMQHIAdYB9ADmAMoAqQDYAE4B7wCyAPf/iP4E/tP+b/9v//n+1v/p/43+Qv4a/+L+c/3a/SH+BP7y/VT+iP5s/nX+Y/7t/bf+LwCx/9P+V/9nAKf/z/4a/0T/Y/6+/an+8P7T/hr/V/+x/z0ALQFlAU4BSQEAAp0BDAF9AesAc/9//rX/sgBX/3X+z/6p/or9UP7KAJQBYgDN/7IAagHTAGcAAgF9AcoADgBLAIMAMwCG/6L/2/8OANv/6f+NAIEB+QDR/2//b/99/4P+cf4t/07/BP5g/ej9cf7Y/s3/gwAoAfQAkQBPABIAQQCWAAcB/gAjAeYApADAAIgAfwAtAaIB0QG+AXgBIwGRAED/Xv7B/jL//P8xAVwBegAo/w7+Wf4C/4v/egAHARoBSQHYAGr/jf6b/tj+Nv9UAGUBtQHrADMA/P96/mL8Bvu4+4r9ff9LAMUA+QD3/5v+If4f/1L/f/6b/hwA3QAEAP7+f/6P/cn8yfxI/ZT9cf5A/2r/8v82AVcBav/R/bT9P/1i/G79tf9/AGwAGgHfAdEBQQD0/lL/rgAdApUDwgToBMQDYwIrAgUCbgGPAbwCrgLsAmkEOAWOBAwDcQLNAUQBagHUAhkE6gO0BJgEGwOUAVcBmQGZAekBKwI5As0BnQG6Ac4A0f8R/67+F/7T/sP/VAA4AM3/yP99/0D/yv7T/tP+O/+G/9b/4QCUAdsBogHFAHj/Qv6m/YH9tP2w/ZH8Pvvr+Vn5jfkr+9P8SP0s/Sz9pPwb/Hn87/yR/JP7aPvQ+5f7ZPsB+9T5Gvjo9sn1MPZg+DL67voI+tf6Av1xAmoIlgzfDZ4P6BKhFVAYuhlBGHQUBhDjC+0GhQRHAnUA5/uz+RX4oPT58jT0xfdJ+Hb55fq7/Gz+YgAtAxYDwQJaAvAC5wJMBKsG+AXbA74B6QFCAlQFdAj1B94EeQM+BGMCgQF9AV4AjPxm+mv83PyV/ML7RfzZ+4D7lP1l/74BbAK/A4ID/gLpAUkBZQGGAc0BAgEj/9X92v32/Xn8bfux+jf6uPlq+mj7lfpB9/7yEvJt9JT4N/oG+xL8PPzr+a33xfd4+Mr3Qffh94n5rPof+sz4Jfco+Mf9BQcNDyQUkRiHIG0mliThHbcYRRSWDH4FzQPZBMsCtvzt+D72L/J47ProAeoA7SfxTPR8+Kj8Gv8H/6D+7v87AfcB8wM2CKQMHw+jD80NxAriB3UFwQKuALIAwABq/2z+V/87/378w/gL9r/1Avio/NkCxwapBygGqgQ7AzQCcQIrAhMCvAKYBJQGNgY8BXsCKP/G+9L6nPuV/Hr+c/+//6n+Ov2m+0X6+fkf+uX6CPwX/qz/VACIAFQAXP9k/b377vp9+hj5FPYh8gjwcfKc9qD5FPs++9H48PRA8x30/PPm8oHzqPWk94D7kQVuEsAdOClzMbUxGyfOHfAaCRiDEYAJOAfjBG//KvkM8wHv5uZM3hDZrNv54W/ns+218435jvsZ/TgAFASNB8QKxA9vFCoYbRp9GxMaNRWcDhoI4gIo/9z8jvtA+tj3NPTq8L/udu2P7MPsN+7z8N705/ms/w8EWwY4BxEIXwnSCogMhA56Ef4TgBW9FWoUaxGyCq4CYvwA+TD2yvKg8ib0A/XI80nzY/Qm9BP0u/Xw+Q7+NAIQBuQIUwqXCcoHJQUMA5kBRAE/AU4BUgFsABr/zvz++f/2uvPe703sPOk257johu4I9UH3cvZy9nz2f/Tj8YjyK/Rh9ZL5sAZpHMA1WEaeROM0pyXPH54Zsw5NBpoF3QdJAdj5s/TV8Ufol9feyzjJ98+l11ziju+X+0wCQgL+Ag0F4AjFDMARPxdWHPUhMif0KeklzRtYD2sDGvpC9DbzL/SQ8/HvFexk6prpZecp5Nbi1+Tl6avx5/tNBsMNxxD6EMcQ0BAzEckR5BIkFL8UfRQhEw8QsgqeA+f71PRf79Hsse4y9aj8XgA9ACX+aPvt+FX57voo+pf5C/10A5IH1AkiCyIJ1wOB/zv/sgDDAa4CrAMwBFMDrAEC/6b7P/gR9evyjfJt9DP3l/k7+hP5VvZi8mbuq+y/7lfzdfel+cj6qvv3+ij4L/So8Jnuu/Cy/DkVoTRbR8ZDazM+KC8k6Rn/CXAAHQI1BMH+AfuD/DX9BvH63N3OhsppzUzS/tzm6wj6uAJwBWMHdAggCk0L+QwyD3oT4BuwJYkrJSnSIKUV7gia/B301fHV8RvwVe1x7f/vjPDW7E7nnOOj4v3kZ+vX9SMBxglYDz8SyhP+E+gSFxGeD04PaRB4EtQTABN5D+MJoAIM+hzyce147BjtFu4k8JP2xgKYC3IJlgAg/Kj8JPq798L7MAR9CMoHVQlpCwYLQQXF/nb7Zvq9+8f96QGaBdEGHQRj/ln5mvUY9Mry6/Ik9db4Xfx6/un//v45+0D1G/B07ljwAPS39yf7tP1Q/vb7T/fM8R7s6ecV51PulAHpIPw9/0XCOakrhyczImUSyQOJAvwIXgc7AcMBmAZqAVDtmtjjzfHLk80z0xXgUe8w+5sAoAIBBA0F+AULBr4GpQmfEQIe/yijLMwoHSHlFhYKJf6p90j23vTt8eHw0fND9p7z2uxe5jvifOAk4oTof/Ll/AkF/QokD08RPBG/DwAO4Qw7DZUPLxPxFUUW2BMID88HV/+I90vyve+67vPurfCU8/319vZq+I3+LQMEAPD5+PxnBxwMuQtQDrASjA/aBikDlQMhAlj8VfmT+4P+1v9O/yj/nf3X+l33f/Q59DX2cfms+qb7/fyg/jP+T/wG+9359PdK9Zz0PPci+z/9zvzV+8T6W/ho9OXwfe6k6yHoWeZU6w7+sB7kO25ACTAOJOcm9yXGFS8HNwpJEt0MBQJAA9oLHAd88ZzcxdPg0c/QqNNb3urrXfXR+Az68fsR/xgCKQOlAhkEFwyBGUAlHCkfJxkjSBz6EJoFvABUAKL93PdT9WX4xPoE92jvH+kZ5djhj+De44PrNPRt+0kBPwYDCj8LjAp7CZwJhQugDjYSchWwFxIYlxUUEOAIEwKa/Af4s/RS8+f0sPg1/aD+G/zc9yn1X/TP8obzAvgo//wD/QX3CBQL1wqdBucCiwEjAXgBkgLABd0HMghSBsYCnv/L+xj5W/ZF9bv1iPeE+Qb7Qfxi/Fb7Ofm792L3B/jD+BP5+flD+4z8n/wW/Ef78PkC+Hn1uvOw8XbvKu2f6y/t5vflD1Ur2zbjLckihSO/Ja4aHAxTCiARGw93BEcCPArVC1b9Geog38/al9dc1kfcsuY+74vzYfUQ+F/72P5eAJn/8P4DA4sNAhm4H44hoSFoHyUYew5cCC8H9gRq/wH75/tx/v38t/eD8lPumun95HbjbOZE7Evy3Pd5/Pf/kgKFBDMFGwXhBZUI+wuXDkoRzRRbFw0WQRH7C6AHkANE/+P7v/qs+jL65PjT9xf3zPhe/gwBefz69LH1g/xQ/nf9/P/FBfYEygBuAYgFfAZMAn8AVwEWA0MEPAUsBg0FNwP3/yX8uPn1+cj6S/nT9wL4/vnN+tv6xPpJ+t/4fPZ09a/2Pfme+nT65fou/MD8dvvP+cX33vQU8YLuce0F7Yvu6PbvChwkPjJMLRsifSBuI9wbsA3QCbQQ4RHSCAQFDgzEDwEEx/EJ5qLgE9w62fDcbuX37AbxrvKv9Bf35/k5+1P63/ic+5gEDxBsGGQcjx7MHl4aihL5DPsLzgosBtEB2wGTBG0EYgBy++P2NfGO6jPmXub46QzuhfHP9Fv4WvsQ/bn9L/5O//4AAwPqBWIKuw8RFIkVJBRiEUwOHgvYB8wGlwlgC7oIawO+AT0CUP7999HzMfM18a/vf/Ic9+L5UPnB+Yv6AfvC+039Yf91AJICMwUvB4IIoQn/CeYH8QSlAs0B/gDy/zv/vP4c/pr8e/vI+uL57/c89VzzbPIc8j3yDPMT9Jf0G/Xu9cf2jvaC9VD0t/JK8GHuPPAD+j0MJSJWL68tuiUQI28lLx8qE2ANYhEsEt4JsAbdDJERVQci9orqN+TH3u3ZIdys4pzoxet67cTw9/Mz95b35fU09Ln2t/7ICIwRYBfEG8UdWBspFk0SyREBEJgLUAd6B/UJAwoFB0UDUv/y+AvxCes36TDq4evY7QTwevLZ9NX2EPg6+E34L/kY+5j9nQGuB+4NuxG5EugShBMaFIESCA/CC8QKeQqGCG4G/QXvBbwCj/2J+V33EfUS8v3wzPE28x30fvWk93H5dPrX+lH7VPxC/qQAywLjBMcGMgiGCBoIdgdpBpMEXgL+AJsAegDD/9j+Dv7X/Kz6/fe29ZTzufFY8BbwsvDM8X3zMvXN9Tz1JvSu8k/wMu4o7pnzuv9wEUUiGShOJbYgeSJfIZYYtBBbENIUihDtC2gOiRV2E7IFm/md8aTrveOK4A3kXujV6iXr1O1F8GLyXvKH8PntKu138dr4UgEtCJwOjRO6FBwTCRFnETgRzw7RC7kLrg6mEHcQHw9EDbUIjwGV+if2Y/Qf83XybPIf8wX0vfQf9WP0SfNC8trxJfIv9Nb4cf6EAvoECQciCSAKrwlfCagKdA9KFusYahTGDl8QPxLaC4kCbABzAWr6TvOe9bT70fi08czxSvXL9D3yX/Sy9+H3lvez+dz8B/9SAZcC9wHrAL4BJAPsAuwCBgTjBGYD0QFjAmsDCgLV/VP6Bfnr9wH2WPXM9v/2uPSu8gLzt/J77xDsa+v+7YbzW/2KCxQXxhoJGPUVYhgUF2ASUA4XESgUlhE6EP4TQBnNFM4KrgJp/Wv3xPD17wnyNvP28d/xI/Mj84PyyfB97vHqIupV7aDy4fea/N8BIAXFBTMFHgbKB6UH2gZCB/EJ3QwtD+gQ/REqEcgNbQmaBRsDXAFZAJD/B/+y/hP+bv0g/DL6yvcy9f7yIfI282b1qfeg+Xv7/fy5/fb9sv5sACYCBAX4Ct0OAA50CuEMRhFJDTEGqAOGBrgCW/1S/woEWgKm+6H7Pf7X/E34yveb+WD4vfZ+92b6X/u9++z7tPto+1r7g/y2/IX9bP6B/+T/EgBzAVUCnQHY/ur8lfxr/Nn7wvvX/K388/ov+cj4m/d29GDxh/Ax88r3zP1gBjcP8BPLEJYMHQ5rD14M+waTCZcOLw7HC1AOYRQCEiAKBgTDAcf9bvgL+IL6e/vn+UD6Bvvi+fn3tPb69P3wBu8Q8ef0JfeS+Z391v82/7n9t/4JAJD/6/4OAJICtATaBlUJSAsnC20JcQekBYUE2wMdBF8EdwSTBKYEdwRKA+kBLwD7/ab7Rfqx+iX84/38/1IBGgEAAG//i/96/gn+x/2W/qn+nv+BAcsC3QKiATYBMwAy/6D+KP+x/5n/1v9ZABUB9ACbAMj/vP53/Yf8n/wQ/dX9Cf5j/nX+cf5L/gn+x/0Q/Wv82fuh+5z7r/vj+//7dfyo/OX83Py7/GL8dvt9+q75Wfm++ET4E/kg/KL/aAL9BWsKjQzLCXEH6QiCCoYIOgYmCSUMWws5CeUKBw3eCRcF7AJsAtH/q/2S/uD/Mv8E/l7+uf29+1P6MvrI+Hf2mPai+N354vlt+1b9FP2O+4n71/zO/F38LP3r/vz/jQAKAn0DsQMRA9QCkgIOAgAC3QKoA+ADIgShBLkEJwSsA6wDZgO8AkICVQJVAi8CewKqAlUCUgHKAEsA1v9A/8r+g/72/dX96P0q/ir+F/7V/Tr99Pz4/DH9RP1b/ab91f0A/kL+pP7i/s/+jf6D/qD+8P47/7r/FwAzADMAMwA4ACUAw/94//n+g/4v/kL+jf70/ij/Nv9S/zb/9P6I/jP+1f1k/Qv96vz0/K38+PwO/lf/6f/b/wwBnAJmA88C1AI6BMIEWgQKBF0FMQaoBQkFGwVBBToEWAPsAn8CzQFSAVIBzgBwAFQATwCi/+L+6/7d/lT+3/0l/mz+3/2K/dX9AP6i/Vv9ov3V/ab9x/0q/n/+kv63/vT+DP8C/zv/kP+Z/7r/IABeAGwAgwD0AH0BsAGwAW4BagGiAaIBgQGGAfwB0QGsAcgB8gFzAakAegA9AKz/QP+U/6z/Uv8j/0n/O//K/rL+xf63/pL+sv4a/zb/av+i/6f/gf9h/2X/V/9S/2//hv+e/5D/0f/p/+T/w/+1/7//mf+Z/7r/1v/R/8j/0f/g/9b/yP/b/9b/w/+1/9H/2/+1/6L/ov+Q/3P/Uv9X/0D/H/8V/zv/Yf+Z/7r/0f/k//z/IABUAJsA4QAVASgBXAFlAWoBgQGPAZkBZQFOATsBPwEeAQwBGgEeAf4A7wD+AOEAvACbAIgAVAAzACUAAADb/83/yP+6/7H/sf+1/6f/mf+U/5D/ff9z/2r/c/9l/3j/ff+Q/4b/nv+e/57/mf+s/7//yP/b/wAAEgAOAA4ADgAqACUAKgA4ADMAOAAzAD0ARgA9ADgAOAAzADMAMwAzADMAMwAzABcAAADy/+7/6f/p/9H/zf/b/+D/yP+//7H/v/+n/57/nv+i/7X/p/+s/7X/ov+n/6L/nv+e/6L/sf+1/7//yP/N/9v/1v/W/9H/5P/g/+T//P8EAAkABAAOAAQA8v/u//f/9/8AAPf/AAAEAPf/8v8OAAAAEgAJABIAJQAlACUAKgA4AC8AMwA4ADgAOABZAFkAWQBiAHAAegBwAHAAfwB/AHAAegBnAHAAbABsAGcAWQBPAEsATwBLADgAMwA4ADMALwAcABIAAADu//L//P/p/9H/1v/R/8P/rP+s/7r/ov+e/57/sf+i/6f/rP+n/7r/rP+//7//zf/W/9v/5P/p/+n/6f/p//z/BAASAAkADgAXAA4AFwAlACoAIAAqADgAMwAzADgAKgAqABwABAAEAPz/8v/y//L/8v/p//L/2//p/+D/0f/k/9v/7v/R/9v/yP/k/9H/1v/k/9v/8v/k//L/6f8AAO7/9//8/wkAAAASAAQACQASABcADgAvACAAKgAqACoAJQAzACUACQAcABIAEgASABcACQAOAAQACQAOAAkACQAEAAAA/P8JAPz/BAAJAPz/AAD8//z/AAD3//f/9//8//z/9/8AAPf/8v/y/wQA/P/3/wAAEgD8/w4A/P8EAAkADgAJAAkABAAJAAQAAAAAAAAACQAEAAQACQAAAAAA9/8AAPz/9/8EAAAAAAAAAAQA/P/8/wQAAAAJAAkA/P8JABIA9/8JAAQADgD8/wkABAAJAAkABAAEAAkAAAAEAA4A/P8EAAkAAAAEAAkA/P8JAAQA9//8//z//P/8//z/AAD8//f/6f/8/wAA/P/8//z//P/u//L/6f/p//z/AAD8//z//P8AAAAAAAD8//z//P/3/+7/CQAEAPz/AAAEAPz//P8JAAAAAAAJAAAADgAJAAAACQAJAPz//P/8//z/AAAOAAkAAAD8//f//P/y/wAA9/8SAAQAAAD3//z//P8JAPz/AAAAAPz/9//8/wkABAD3//z/AAAAAA4ADgD8/wkABAAJAAkABAAEAAAACQAJAAAABAAJAAQACQAOAPz/DgAJAA4ADgAJAAkADgAEAA4ABAAOABIACQAJAAAADgAJAAQACQASAA4ABAAOAA4AAAAAAA4A9/8JAA4ABAD8/wQAAAAEAAkABAAEAAkABAAOAPz/AAD3/w4ACQAJAPf/CQAAAAAAAAAJAAAABAAJAAAA9//8/wAAAAAAAPz/AAD8//z/AAAEAPz/BAAAAPz/AAD3/wAADgAOAAQABAAJAAAAAAAAAAQABAD8/wQADgASAAkAEgAEAPz//P/3/wQAAAAEAPz/BAD8/wAAAAAJAAQAAAD8//z//P8AAA4A/P8EAAkAAADy/wkACQAEAA4A9/8AAPz/8v/3/w4ABAD8/wAA/P8AAA4AAAAEABIABAAJAA4ACQAOAAQADgAOAAQACQAOAAkADgASAAAADgAJAAQACQAAAAQABAAOAA4ABAASAAQACQAJABIACQAJAPz/DgAAAA4A9/8AAAAABAAOAAAA9//8/wAAAAAAAPf/AAAOAAkABAAAAAQADgAJAA4AEgAJAAkACQAOAA4ACQAAAAQAEgD8/wkAAAAAAA4ACQAOAAQADgD8//z/AAD3/wkACQAJAA4ACQAJAAkABAAJAAQADgAJAAQADgAAABIADgAOAAQABAAOAAkADgAEAAkAAAD8/w4ACQAOAAkADgAJABIABAAOAA4ABAAJABIACQAOAA4ADgAJAA4ACQAOABIADgAEAAkAEgAOABIAEgASAA4ADgAOABIABAAOABIACQAOAAkADgAEABIACQASAA4AIAAJAAQAEgAOAA4ACQAEAA4ACQAJAAQA/P8EABIABAAOAAQAEgAJAAQACQAJAAQAEgAAAAkAFwAEAAAABAAOAAkAAAAEAAAACQAEAAAADgAEAAkACQD8/wkADgAOAAQACQAEAAAAAAAJAA4AEgAJAAQADgAEAAkA/P8JAAkADgAEAA4ACQAEAAQAAAAOAAQADgAJAAkABAAAAA4ADgAEAAkABAAJAAAABAAJAAkACQAAAA4ABAAOAAAADgD8/wQAAAAEAAAAAADu/w4ACQAEAAkAAAAEAA4ACQAEAA4AEgAJAA4AEgAEAA4AEgASABIABAAOAAkADgASAA4ACQAAAA4AAAAOAAkACQAOAA4ACQAAAAQABAAEAA4AAAAEAA4A/P8OAAQABAAOAAAABAD8/wAAAAD3/wkABAAEAAAA9/8AAAkADgAEAAAADgD8/wAAAAAAAAkAAAAEAPz/CQAAAAAABAAJAPz/CQAEAAQAAAAAAAQABAAEAA4AAAAEAAAAAAD8//z/9//3/wAADgAJAAAABAD3/wQA/P8OAAAACQAEAAkAAAAJAAQACQAEAAAAAAD8/w4ACQAJAAQABAAEAAAAAAAOAAQACQAEAAAAAAD8//z/AAD8/w4AAAAEAAkA/P8EABIABAAEAAQACQASAAQAAAAAAAAABAAEAA4AEgAOAAkAAAAXAAAACQAJAAQADgAAAAAA/P8OAAkA/P8JADMAEgD8/9b/9//b/yoAIABPAA4AJQDD/1QA2/8PBIQJxwRe+Q31z/l1/hsDZQYpBeP98PnX+kT/agErBM0DGgHv/Lb89v1ZAA4CEQOZAUn/pv3o/U7/7wAFAp0BDgCW/nH+I/9sAD8BTgFnAED/3f4t/+D/kQD0AKkA1v9E/1L/w/8zAIgAWQAJAM3/sf+6/yUAQQA4APf/XgAgAGcAQQD3/wz/i/+e//z/pP56/i/+TgGlAtMMeBS0C0L5C/El8vj12P7yBoEGI/06+Bz5z/7WAVIGMwU/Af/7dfwE/jEBRQOaA4MAM/6Y/Zv+MwATAqoCEAHY/hz+t/7W/wcBmQHKAHP/Rv7d/gkAygDYAKkAFwBA/8/+rP+uAK4AjQAgAKz/QP+e/+D/fwC8AIMAUv8C/zv/PQCuAPkAfwDp/wL/I/8vAMAAfwBeAC8Aav87//f/wABnAA4Ap/9v/33/JQDu/yAAIAAEAM3/7v/8/yUALwASAB0CIgllBjb/CPr9/E/89P5PAHsCvv0e/WT95gDN/wwBPQCbAED/xQBnAJkBlgA6BrwHPAUj/7D9X/u5/WcAwwEE/vH7LvxZ/pT//gD8AS0BeP/r/vL/zf8gAJ8A5gCn/7L+rv7R/7wAVwEoAe7/z/6u/ob/kQBJAfQAsf8H/8P/SwB1AHAA+QB6AMj/Gv+L/5n/BAB/AD0Amf9l/5D/p/9iAHoAv/9//q7+4P/KAM4AygBsAGH/Lf8OABoBWQBPAC8ArP/w/mIARAGIAG//4P+8APkA4QDN/zL/jf5J/wAAvACkAD8B5P8y/xr/IAAcAB4BNgFBAM3/dQX2BF4AGPsZ/Vv9NgHiAgoC8fuL+oD7QQBjAnsCnv9u/eX89wHQBHECb/8C/woCqAoJDMEH0f9v/9X9nwAEAB0Cfvw9+cf2kPoP+xD9wPx8/WT7zvx4/4EBegBeAE7/nv9EAe4D/gKwAQoCTALdAN0AOwH0AFL/oP4M/9H/yv4a/33/m/4x/QD+Ef9l//7+f/4z/nP/V/9A/5b+Av9j/qkAGgF9AaQA9/8h/sH+DgC8AngB2ACdAV8ETgHp/93+Xv7J/GP+OAC1AVkA5v72/fv9j/0y/xIALf8zAL4BcwHAAKkA4v43/IH/zwItA6IBcwECAVf/2P7AANMAkQCpAL//6f/rAAIBcwGs/xH/QP+u/jP+6wBJAdj+If4M/2T9BP5n/hf+lP1z/8P9P/0X/oj+Sf+s/3gBKAE4ADMAuAKUAZwCLwLyAd0Azf/T/tYB/wSXAtYBywJGAIH9S/5jAtcDjf61/5ADQQCt/EYF5AZ//kD6Zvyp+a75Hv06/Qr7Lf9nANv/hgHHBBgCQAOwAfACvAJ7BEIC7AJaAl4CVAA9AHAAogHr/iH+DP+B/xz+I/8XAKD+mvwL/Vz/IwFlAZD/8v/p/xX/8P6fANsBpQLrAB//Uv/FADkCvQRlAaD+XP8tAbwADwT6AvT+AADPAhcAdf6B/1D+pv1U/Ev+i/9zAf4A1v+B/6f/Uv8jAbEDI/3x++EA0wC+/RABz/7D/br/tQGZ/8AA2/+fABIAUv+UAfoCtf9eAJkB2/9GANMArv7x++EAvwOcAs3/Av/w/vf/WgKuAoEBGgFDBKcBhf0L/csC/gJPAAv9df49AJkBegAR/0v+Ef8BBKoCHv0++zMA9wGTBHAFggOR/KT+8v8lAFwBvAKU/Rb8RgDRAXoAO/8q/pj9hgHJBRIFEgDQ+wL/1AIFAmIA2P71+ST68fui/e/8BP4L/S/56fqB/+0B/P9C/vb7VP4H/yX+3/3D/67+S/4X/sP/JQCg/sP9jf42ASMBbgGU/93+7f3B/qb9tP0S/Jz7Xfwp/Cz9iP68/i3/fQEEAAf/2AAtA1UC1gGSAsMB+gIwBM0DLwBUAPcBswKn/+v+kv4y/x//iP5W/SP93f66//L9jPwj/U39aPsx/cP/LQGPAY8BBACg/mr/NgEtAcAAXgBGAEsA/gC4AiECDAHOAHgBVwFcAYYBzQFnACoA7wC//8H+OP7r/hP+mf+D/mD9Cf7P/rf+zf+ZAZsA0wCPAa4CowO2A+YAxQA0Al4CnQFgAX8AmwAgAO8AkQCIAKL/av+k/hX/0f2w/WP+eP/P/tj+UP7D/an+DAHfAdMAb/9UAAcBXAGLAVUCYAEXAAAASwBv//7+PQBv/x//VACIAIb/1v9A/279E/4H/8j/QQBXASj/Dv5C/hwAdQAxAfz/Zf+fAGwCmQGfAHoAxQDAAHUA2AAvAIj+M/78/zEBegAgALL+Dv5C/i8AygA4AAAA1v8V/7f+3QCXArgCbgHI/1T+xf4xAZwCjwEHASoA5v6p/lL/lgAOAl4CvAC3AOQBoAIVAff/6f9eALwAagHKAGH/OP56/uL+E/5//q4A6f+H/Ab9CQBgAYYBPQLTALf+Kv70/ioAyAG+AeD/6P2m/Rz+9/9UANH/w//D/9b/iAAtAUkB0wBPAGX/f/60/dP+9/9E/0L+vv1z/cf9/v61//QAJgLIAXUAzgCEAtQCEwJxAvIB9ADrAG4B2AAC/5/85/uU/esADAER/2v8pPz7/cAALQFlAU4BugGZAUoDIgTtAbr/4P94ASECnQGdAY8Bz/72+9H9KAFCAvQAKv5u/TMAsgDT/uL+6f9iABoBZwCW/lL9jPzT/Jn/rgIvAuT/HP56/gIBhwMdBBYD7wBc/6L/WgJWBLsDVQLDAQQApPwI/Nb/dgJqAcj/i//D/6z/6/5e/gL/LQFTA9sD8gGyAM3/Tv9GAJUDjgTdAj0AHP4//bD9UP7OAGgCEAEt/07/ev6P/X3/vgFuAQIBpAD+/kL+1v8tAacB9wFXAWwA2ADIAVIBQQAJAEkBDAFiABcAH/84/vT+VADfARgCegAT/uj9b//dADgASf+e/3j/sv4o/5T/6/5n/n/++f5X/+L+7f3o/Xj/zgBsALX/Mv/B/sH+av9LALIA6wAzANX9/fxX/40AAAA9AM4AnwAJADb/j/11/k4BzwI9AtgAvP6K/XX+V/9J//4A5QMKBN0A6f9sAFQAXgBaAuoDMATLAnAA3f59/3gBNwMDA6wBZQFgAcoASQFKA4AEqAOgAt8BQgJmAwMDzgA4AN8BPQJLAED/TwAxAcoAMwAH/w7+Sf+dAd8B0wDm/qv99v0EAPwBgQEC/yH+oP7o/Tb//AHkAU7/fP1N/Vv9mvwb/Jz72/pc+h/6gfi59q/2Ofk8/AT+d/2x+q33mPaZ+ED6A/qB+FL4c/hX+KP10fFz8V33ZvxG/h//VAXrDHMNMggLC1gW6x9yIb4eNRzMF9wP9gvHCzoLpwab/tz1nfG08W/zrvLz8HPx4PNR9hr6m/7N/3P/1gGtBb4Gqwb5B/AH+AVXBpkIfwfsBKkHuAm7A3H+EgCZ/5X87f23AEgEuwVA/3D3T/cI+un6f/52AosBOv19+qr7M/4FApcCNAJAAwEEswJQAg4CYgD5/pb+qf6i/ef7f/nA91b2+vT58oXxcfJy9l/76vx4+KDyFPF/9Ev5Q/tN+PDyNO3L6G/paO0a8zT5TAImDtwW6hb0GAwlTjEPMjEqSySzH3IXCxALC/oEhPla79nob+cc5pHkQ+M15UPqKfCj9Zn6sv7mAFgDxwZpCzIPihAtD+sMLAsgCmgJUwjMBicEPwFj/mv85fqS+d/4tfjI+An5vPkU+7f+aQQSBR//Svw2AWcHEA3uDTQHAgFWBIIIeAh/BywGGgH4/HD8Hv15/G37EPhD9mv3DPrG+fX5XPrC+8z9cACUAaIBeAHYACUAEgBGANP+N/w0+Rv1l+9166zut/eX+4z1Q+8M7n3uiO0Q7MDrwOu56lbq7/CqAn4WGCGuKwQ8wkAlMPAfoSFXKgso9hwYFb4NDfzO5KHXwtdW2XLXJdr34kLoq+Uk5EXpm/Ln+yYHXhNhG+EdgBwhGvQYVBiRGP4YhRfVEEYFv/pr9XPxeOxR6p3soO3o6nvoAeoH7jPyCfde/uQGAg3ZDsEOkA+5EEYRHhKNExYWZxiGEugEpvss/an+kvmg9F/09PJF7gntEPHX9dH4o/oq/vAC2AWtBeYFrgenCDYIAwj+B/QF8gE4/vb7Cvuj+i36yvkh+Wv3EfUM82bwYOwC51Pkd+pm9QX59fQQ8TvuF+sS66TwafbW+I/9xg6+I+812UX5SFE0exqlFdUjESyoIp8R7gO88tLdRM+Zz+3Ug9N70u/aEOeA6onoOOux9dYBaA5yHM0n+yovJpcfARxYGz4asBfDEhkLiAAW9SXrWORL4evhdOSR5nPnz+g67MnwlfWD/JoF9w3PE2AXbxmZGWQXQxVJFPcS4g7xCTMFJgJSAf7+5vcw75zqr+r37CDwnvW9+yL7mPb7+IsB7QY5CbUNdxBQDq0KDwnwB/QFvwMxAaL/x/2L+tX2uPQA9PLz+vRw90f5Cfk6+Iz3r/Y+9uD1M/L06wvsZvVM++H3xfJH7/jpROct6YvutPazByAdZjN4SY1PcTdmFvgP7CFSL5woHRqiDX365d3KyTLKedPV0tnQS9oW6VTrFOXf5VDyKAGJDjoezSzwMLIp3R/+Gisaahn2F/wUog2iAXjzMecg3z3ch91e4bTlYel+62nsRe5483X8cQcxEkUb9yCHIDIbZBWuE2MTMRJ0D3wLdwQG+/bxaez26v7t9PKh9mL3YfVu8TzwYfVG/tMFmgo2DZcO/xABEBALGgiLCNoGlgX7BsAF4v5w96Dy6vCm8Qj1lvdS+Mr36PZP9zL6uf0cAL4BRwK1ATb/1/qg9A/vce038K7ykPOF8SzsreSR3+zcUuA8694E6iIhPiBS6FHjNIQVUxTAKQU3Jy+JIQMU6/ld2ADE28UlztnLnc0C2xHpkeb63pvh7O8zAJgQcSSANPc24Cy4IdUcrxzcG5wachdmDygB3u+l4fPYatao2JPeGeUN6erpOuoY7cPzsv6mCzoXcR/4IvUhBx6nGa0WZhQVEnsO0gg7AWX4gO8W6V7mjeYh6Lnqhu6M9Yr9wwHnAqoE6gUkCCYONRWLGckWpAziAnUAgQGuAggDwAB0+iv0f/IT9L/1Yvce+Hj4uPnZ+2T9L/5Z/oP+EgCSAq8EvQTwAqz/Pvu39xb1oPIz8I7vEe4X623oM+bI4OHag9oD4izstP2nGb5AH2HsWyc0zhaIH08z/TUyLPclshhy9o3QdcLmxwXJFsADxZjZJugF4zfdEuQv8n3/iBGZKho9ST0jMY4mMyIhH30bohnTFlINBv0866zdSNRC0A/SSNmI4W/nD+rh64XvvfaiAewO7hsfJYoo3iZFInIcWxfGEwkRDA1bBpj91vNp6vziwN8O4UjlIurN7hLycfQu96D+NQseFwEcIx42Hu0XFxGMD2MOpwgyA+b+YfqH9Trxouyc6j/sYvCO9Bb6J/3D/eP9IADZAjEGvwhRCQwINgZMBFIBz/41/YP8wvuZ+kn4XfVg8dbsFumO6Ezq6Opt6MLlPOSe4t3hy+Ox6Uz7QibLYhB8GFZlHnUR7iWYL4UoXSljKxsPutu1viHE+8ieuWa0YM2M6afsZOOY5XbvD/aLAcAd2z1tSmlACTBSJRAeMRfmEx8UrxBMBPbx9+BX1APMesn0zu/aTufz7r7xgfM49zj+HQlDF/4kUS0NLscoiyDRF4AQUQvwB0gEyv6v9irtn+Sc3jfdB+Ac5mjtPvQ0+a38BAA6BksTgyQBKDAcSxPfEiQPdglOCBcHvP5C9ArvOe9k76ntRuuE7TT0EfoE/sgBawPNAX0B3gQmCWQLoQvECA8ECQAl/qT8Xfxd/IX7xvk/+Mz2TvWi89/xTO+i7MLqcuqH6YjmBOTO5DHn6eeU57bu6xOJVv9/gGLgJfgP1SEqKywj0SWHLlYXReINwO7Fhc0LvNevd8br5vfu8uc86+f0T/et/MYVozjBSutD/TPNJ2UezRRYD2sPSQ1oAhfyIuOz12LOXsmCzMLXaeXs78n1KvlY/BUBPgm9FW4jyCyfLgIqvSGgGKMPGgjZAjb/yPpQ9KfsouUL4OzcVt7z5H/thPR4+mIAEgXrBx4LhRALFwseRCXiJiIhoBPdAqv4Zvo1/bH6d/bf8VPpv+Jd5BLrJ/Fr9xn9fQHhBRQJ6QiCCNQJggonC64MYgzPB1cBaPvA9yX3V/jW+En4jPc+9uf0vfQs9qT3ePiw+GL3rPMP79Prx+oH7Onuwu9g7EDneeQ37mIdeWMGfOdKlhEODIsghSEmGhEltSp4CJvVO8Xh0+XR3bimtRfVafGn89zwn/f3+gb2Av3LGm47/0VlO7osKyEbFqsLXAgdCX4F9/p97gTk69pt0jPOadI63urr6Paw/UQB+gKRBbALIBaFIdAoSykXJNIbKBIiCS8Cq/0a+mn2IfIm7VLnQOKr4LjjFOrR8eL54QDABW8IwArsDiYaQCekJNwWRQ9SDUYFNv8qAE4BHvig7Qbqbuzp7IjtNe/B9ED6ev5lAfoEVwZGBUEFiwgODDMMMwplBu0BZ/7T/Gj7uvrb+jv6nfi39z/4SfjY90n4A/oK+/P6bPlb9qbxje3069PrZexb7I7qBObl4vPk5fo1NHtuSW3TNc8OlxWwI2UeEh2tKQ4km/nIz0nK6NTayOKzIb3e3rLyafE48sH5xvlI9u4DdSQZQHRERTjfKucf2BPZCQUH+wa+AeP2T+v+4fjYpdB8zZrTueDl7q75YgAKBK0FLQilDi0ZhSMgKcIodyOEGtwPHgbF/s/5OvZJ8//vyutU5qDhneA85FTrPvRI/XsE2wg1C/4MUw94ErgVhhljH6MgqxeUDWUGcvt/8jHzdPVz8UXuhO1G60jqtu4o8xX4KP9ZBeIHZAuPDXwLAQmOCQEJegf3BnIERP8d++T4tPbJ9dr2HPem9oj3LPjv90T4Ifn7+AL49vYb9aTyYvDd7Xfq5Oeu5pHmLect6Sv7wTIgb7huJzTjC0cVliSKHKIZgymcJv75QczJxwzW0spCs/S7cN809PLxAvNY/Nz8x/bRAQYjx0DCRfM4uCu2ICYTdgeOBHkFiACV9cLqi+Lt2S3RJ82A0ozfKO5F+okCFwdJCDQJUA4EGF0iqyj7KPsjAxs6EK0FYP2t9xP0gfEw78DrKOfp4q7hZuSY6mrzJ/15BRkLtQ0pD7QQBRMBFdAVtBU2FLEU0xi+Etb/AvFm7lDtTu5+9UL5dfI8697qze7l9bD9IQKIBVEL3w3TDIoLJArFBagDcAUmB5YF/AE3/A/2XPNx9EP2fPix+tf6aPkc+cr51/pK/HH+IAA7ARUBY/7r+Rv1gfE577ru6e6G7r3qqeb84mbic+zdGNBWUGw0QzMW7BBEHiQbcBbxIc0nLAtj4fbSP9tg1Au82biP1Nvu4vQL9jf8rfwb9UT4TxHjL309OzjGLWwk5hglDDgFyQMCAfX5JfIL7OHkAtuY0rHRKtq/5y71Tv9wBZIHrgfQCXsQixkGISEk1yL5HVgW7wwRA0n6WvTo8f3wk+8Y7dfpm+bz5Cjnyu0E90YAhAcgDC8OTg9bEMkRYxOjFCYVdhXhEewJIgRYA7v8ZfP/72nxtO8U8cH0ZvVb8Rzya/Wx+oEBHwiqCSQKcgtiClwI9QdGByIEuAKNAvkA1f0Y+2v3aPTG9BL3hvjB+af6YfoW+vf6cPz2/Q4AVwFJAZ8A8P6J+3r3R/TC8f/vnu6G7ProLuSU4OTgLfOVJ3leV18lMIcP5RTOHasXshhOJ6sjwACR33HcUOHfz3+4Ub/13O/w3vSr+Cf94ff170v5jhVZMNs4bzPdK7Qj9hdBDBAGNwM2/3r5nPT/717oKd1i08TREtqn5wj1Mv8NBbkGogbNCDcPuRcsHiYhciEOH90YuA6eA/P6XfU48hDxBvHs7yzsXOfA5Bfmn+vy8wb9qgRKCtYNtg9yENUQlhFbEqIS6hGaD9IKFATO/Mf2NvPf8Sry0/Io8xHzLvcV/48B0gObB60Fav9VAkAItwxoDp4NUQTJ/G37Yvym+9r9iP73+vD5//sI/H36kPql+d35nf0hAhYDDgIlAGT9Jfz2/RIA+QBuAZ8Aev6Y/av9bv2P/T3+Xv70/lz/qf7v/Mv78Pk2+AH28vPV8UPx/fAW8CrtCes97c/5ihJuNvBIFDmqGr0QQBQdFbsRxBa7FkYHC/H05oPkXtypzvXLFNmx6R/1LvxE/8L7g/dy+8IJYxoFJpYpiSbKH/YX1w9hCKcBtvwD+m74Gfa08cLqFONp3rLft+Z08B/6LQHjBL4GlQhkC+cOhhJfFT8Xqxe9FdoQhAm+AQr7W/ZQ9Bj0HfQC863wfe7Y7SbvrvKp91b9oAIvB3kKXgzYDO8Mqg4EEfcS0xZBGMkP5QPD/QP6BvZ/9Lv1N/Xy8b/uRe7e79PyTfZv+pT/rwS/CBALHgsrCTgH9AUVBm4GOgYPBD0AwvtX+I72BvZt9sz2YvdN+Cb5jflF+sT6k/t+/Pv95v4E/nj6RfWy8M3u2O3R7F/qmum1+GghU0TyPaMghxYbG0UW+g4AGN4hrBQG/VfzGPQR6U3UYcow0vXcvOa18zj+K/sJ8ujxq/2hC8wXNyIPKL0maCEPHOMVoAwIA9X96vyf/Fj6H/Vp7Eniutuu3InjTexx9EP7RgCQA1sGkwn+DMkP7RLqFmgaKRu0F8cQFQj8/+f5pvaV9QP1V/OM8P7tbuzq6+nsLvBh9Yn75AGgB5MLGg1qDWANlA0vDjIPaw/bDV0KxQWyAOz7yvfn9FLz9PIo8/Lzz/R+9R32dffG+U39YAF1BeAIBgurC5gLBgskCqwIbAdIBrQEcQIvAJT9nvoL+Hr5twDfAQ/75PgG/Xb7TPs9AGsDmf9v/x8DxwRaAiYC/gCs/xwAAALiAlMDeAHt/f/7EP3t/Zj99v2N/nP9yfwA/s/+VP4c/kD/qQB9Ab4B6QFqAZ8AWQCyAPkApACs/+v+8P4V/8/+Xv4J/rD9gf3j/Sr+0f3v/C78Ufs7+nz4HPeM9e7zWfKY8TfwJu9F7gzzJ/1bBnsJMg8XHcgqfCqRImgfxxyZFCYOrA8ODnYCFvUg8BrsnOMO3Mbc+d/14fHlxu/99336vfs/AUkIYw50FFgb7R70HUobtxh9FNEN0QaGAYH9Y/nS9TPy9e036RLm3+VV6Cjs3PAi9j77EgA+BDYIbgvyDSIQgRJ9FEMVDBTsEFQMLwdoAl7+4Pr090r1+fI68Rbwbe+A71jwg/Lu9UD6yv7UAvQFUwgNCoULygyiDekNbw1ZDGIKvAeKBOEAaf1A+vT3cvaH9eL0qvSz9Aj1/fW79xr6tvys/2wCEgUhB5kIWgmlCYkJUQm/CPAHpwbLBJcCSwDf/cL72Pmn+Af4zvfA9x745PjG+bb6IPwO/uD/jwFvAzgFIwZ3BswG0QZXBsUFKQU1BAMDrAFiANP+P/32++X6XPo3+lP6kPo1++f7qPyB/bz+9/8VAS8CdANRBK8E9gQEBaoEAQSLAwgDGAJEAbwA9//+/tX9RP2H/F38N/y8/vQFUw8KDpgEDgD8/0H8Nv9IBrYD6fqe+rD93Pxf+2b6gPae9ZP7jwFaBPYE9AC4+8n8jQBEAfQABwEy/+P9Gv+i/yD8Avjs9ODzJvSX9GDxKu2Y6vjpj+fv5Arjhe+xFNs4PzaiIywjBCRnE+MQQCV3KHYOdQXzFiIXR/kY4wHeitTNylna9/O29avltONH7YDvFu7i+S4Krg72EPcg4y0mJiwXKhF2Dr8IxAg3D7sPdQVo+w/2j/Ga6XvjrOLH5QPp9+6K9pD64fe99ID2M/z8AacIrA9OFGgVpRW0FY0TBQ4PCSEHcQd6BwUHuQR4/wv4dfLs7xTv0u6v7xLyz/RL9175tvq/+pX6SvyWAMkFJAoCDVAOmQ37C3QKDwlZB3kFewQKBGYD3wFJ/6b7+fdO9XH0+vQ+9n73j/iN+YL6aPs3/CP9Z/5iAOwCwAUHCCsJBQk7CDgHWwayBUYFuQQGBBYD5AF6AGz+Qfxq+kL5Cflj+Qj6nvod+3L7nPv2++H88v0y/6QAOQK7A68EDQX/BLkESATNA80DAQSHA7MCCgJqAff/g/6r/e/8Evz6+4z8tvx1/IP8tvyt/Pj82v2u/lf/ZwB4Ad8BWgLGAssCkgKzAuwC9QLZAsYCcQLIARoBlgDu/zb/xf56/ir+L/51/iH+P/3v/IX9tP2P/Ub+gf/k/57/PQBJARoBfwDdAKIBhgFgARMCrgLkAQcBOwFEAXAA2/8lADMAi/8t/3j/av+b/hz+f/7F/nX+qf54/4b/Ef9X/xwACQCs/y8AtwDAAK4AHgFJAesAtwDYANgAxQDAALwAjQBwAEYAFwD3/7//b/9S/2r/eP9S/0n/QP8t/wz/Uv9l/2r/ff+i/+7/AAAvADgAOABGAGIAfwCyAMAAsgCWAJEAgwBUAFkARgA9AAkA7v8SAOn/v/+i/7H/kP+Q/6L/ov+G/5n/v/+6/7X/w//b/+7/6f/8/w4ACQAJAA4AMwAvABcAJQAlACoACQAEABwABADu//L/6f/k/9b/5P/W/9b/6f/u/+7/7v/3//z/EgAvABIAMwAzADgAMwA4ADgAPQAzADMAMwAqABwAEgDu/+n/5P/p/+T/6f/p/+n/5P/u/+n/7v/u/wAAFwASAC8AKgAzADMAOAAzADMAMwAzAC8AOAAcABcAEgAXAAQACQAOABcAFwASADMAMwAzADMAMwAzADMAMwA9AD0AMwAzADMAMwAzADMAOAAgAA4AEgAXAAQAAAAEABIAEgAJAAkAHAASAA4AAAAAAA4A8v8gACoADgAEAAkAFwAEAAkAEgAJAO7/5P/8//L/8v/u/+7/6f/k/+n//P/3/+T/6f/p/+n/6f/y/+7/8v/k/9b/7v/8/+n//P/y//L/7v/3/wkAEgAOAAAA/P8AABIACQAOABIAHAAJAAAACQAOAAAACQAEAAkACQAJAAAAEgAOAA4A/P8AAPz/DgAEAAkA8v8AAA4ADgAAAA4ADgD3//z/9//3/+7//P8EAPz/7v/y//z//P/8//f/BAD3/+7//P8JAPz//P8EAPz/BAASAPf/BAAOAA4AEgAJABIAFwAOAAQADgASAAkACQASAAQABAAJAAQABAAOAPz/AAAAAAQADgAJAAQAEgAEAAkA/P8JAA4AAAAJAAQAAAAAAPz/9/8AAAkABAASAAkACQAEAAkABAAJAA4ACQD8/yAA7v8lAAQAHADy/xwAHAD8/wQACQAEABIADgAOAA4ADgAOAA4AAAASAA4ADgAOAAQABAD8/wQABAAJAA4ADgAEAAkABAAOAAQADgAEAAAACQAJAA4ADgAOAPL/DgD8/w4A/P8AAAkADgAOABIABAAXAAkA/P8AAPz/EgAAAA4A/P8EAPL/9/8JAPz/DgD8/wAA9/8AAPf/AAD3/wQA9/8EAPf/CQAJAAAACQAAAAkAAAAAAPf/BAAJAAAA/P/8/wAAAAAJAAQADgAJAA4ADgASABIACQAEAA4ACQAJABIA/P8OAAQADgAOAA4ABAD8/wQACQD8/wQA/P/8/wAA8v/y/wAACQAJAO7/LwAJAO7/PQAXAOn/DgAJAOn/BAAOAPf/BAAJAPz/CQASAAAADgAOAPz/BAAEAAQADgAOAAkADgAOAAkADgAOAA4ABAAAAAQADgASAA4AAAAJAAQA/P8EAPz/CQD8//L/BAAOABIACQD3/wAAMwDg/yoA9/8lABcA0f8vAO7/JQDk/yoA2/8lAPL/KgD8/yUA5P8XAOT/LwDu/38AH//5ALX/CQDD/14A0f/W/2wAov9iAL//SwC//0sAyP8lAO7/FwD3/wkABAD8/wkA8v8SAPf/AAAJAOn/BAAAAAkA/P8EAAQA9/8JAAQACQAAAA4A/P8OAAAABAAOAPL/CQD3/wQACQAJAAQABAASAAQABAAOAAkABAAOAAQAFwD8/wQABAAEAAkABAD8//f/AAAJAAAABAAEAAAA9//8//f/AAAAAAAACQD8/wkABAD8/wAADgAEAA4ABAD8/xIAEgAJAAAA9//8/wAA9//p/xIAJQDb/yUABADp/w4ACQDy/w4ADgAAAAAACQAAABIADgAEABIA/P8EAAQAEgDu/xcAFwC1/08A1v/8/yAA9//y/0EAOABc/7IAtf+i/7IAc//g/0YAKgCU/2wA6f/W/0YA5P8XABcAHADk/08A7v8JAAkABADy/wkAAAAAAA4AAAD3/xcA/P8EAAkABAD3/wQABAD8/wkA/P8OAPf/AAD3/wQAEgAOAA4ACQAJAAkA/P8JAA4ACQD8/xIABAD8/wAAIADy/wQADgASAO7/CQAAAAAA8v8lAAkA8v/8//z//P/u/w4ABAAAAAQA9/8AAAQABAAJAPz/AAD3//z/AAD8//L/7v/3/wQAAAAJAA4AAAAJAPf/DgAAAPz//P/8/wAA/P8JAAQABAAOAAkAAAAAAAAABAD8/wQA/P8AAAAABAAJAPz/AAAEAAAAAAAAAPf//P/8/wAA/P8EAA4AAAAOAAQABAASAAAABAAOAAkABAD8/wkABAAgAO7/HAAEAAQADgAEAAAA9/8JAAQADgAEAAkABAAEAAkAHAAAAAkABAAOAPz/BAAAAAQADgAEAAkADgAOAA4ACQAEAAkAAAAEAPz/BAAAAAQACQAJAAQACQASAAAABAAJAA4ACQAAAAAADgAEAAAAAAAJAAkABAAOAA4AAAAJAAQADgAJAPz/EgAOABcACQAXAOD/FwAJAPf//P8lAA4ACQASAA4ACQAJAAkABAASAAkAEgAOAAkABAAJAAAA/P8EAAQADgAJAA4ACQAOABIADgASAAkADgAEAAkAAAAOAA4ACQAEAA4ADgAOAPz/DgAAAAQAEgD8/w4ABAAcAOn/BAAqANb/KgDg/zgAyP89AOT/JQDp/xcA8v8XAAkA/P8SAAkA/P8JAA4ADgASAAkACQAEAAkA/P8OABIADgAOABIAEgAJABwAEgASABIACQAOABIADgAOAAQADgAEAAkABAAJAAQADgAJAAkACQAAAAQACQAEABIABAASAA4ADgAEAA4ABAD3/wAACQAJAAQABAAAAAkA/P8AAAQAAAD3//z/CQAEABIAAAAEAA4ACQAOAAkABAAOAAAAAAAJAAQAAAAOAPz/AAAJAAQACQD8/wQACQAAAAQABAAEAA4ACQAJAAQAAAAAAAAABAAEAAkABAAJAAkA/P8EAA4ABAAEABcACQAXAAkADgAEAAkABAAJAAkACQAAAAAAAAAOAAkABAAJAAkAEgAOAA4ABAAAABIADgAEABIAAAASAAAACQAEAA4ACQAJAAQADgD8/w4ADgAEABIADgAOAA4AEgAJAAAAAAAJAAQAFwD8/wkABAAOAA4ABAAOAA4ACQAEAA4ADgAEAAQADgAJAAkABAAJAAQAAAAEAAQAFwAEAA4AEgAOAAAABAAOAPf/CQAAAA4ACQAOAAkA/P8OAAkACQAEAAkACQASAAQACQAOAA4ADgD8/wkACQAAAAkABAAJAAkABAAOAA4ACQAOAAQADgAOAAkAEgAOAA4ACQASABwAKgAgAEEAJQBUAIgAEAEGBJMJSf8T+Yb/0f97+8X+EAHt/bH/qQBv/2r/QQAXAD0AiAAtAaEE3QwBBHX8vAJk/fv4V/9l/+z7LwBnALb84/23/n/+LwCNAn0D3QKABH0DFf/3/33/m/4C/3j/tP0l/qD+g/ze+1b7BAC8/iUAlQO6/1IBiAD9/Mf96gNn/gL/VgSs/7L+0wAKAhb8TwBL/ogALQNJAa7+YwJ7Aqb7SvxwBSX+7vqbB0EAUPnqBbsDyPja/SUFyPiEAlcG6foxAZUDoP5+/PIBOv19AdYBF/7+AIP8uwUf/yX84v51Bcr+FP31AlL/AgGw/SUAnwC+/ZD/sv4HAT4EWgIq94cD0wXC9mH/BwYa/6b74AhF/Dr4jwFSAfP6MQFnBQIBJgL3Bsz95fryBn8ANPk9/hABH//kAUz7Lvy7Ba4AA/pnB1UHsfp7At8LRfwh/uQI4gLT/lUC3gTu+iD8kP+H+tP8yfzp+tn7JwS5/aT+5AFUALX/NAIgANsBKAEQ/aQA5gWA+9EB9QIc/sAA0gNm/B8DYQPw/kb+zwIC/5YAzgD5/nYCzf/J/J0BPQJw/O8Auf1zAXn8+QDfAVf/N/x8BjP+8/qcBBIA0/wJAJwCb//v/IgA6f9v/0EAVABBAPL/zP1/AAACrfwo/7QEN/y4+9kCNv9Y/LD99QL5AA7+vACLAbb8wf6sA67+df5KA2//LQFBAB4BIf78/yX+Uv9MBOL+3/3iAoEBX/vdALIAvv2p/gAAQgKwAUb+nwDp/4QCSf8X/mwAeQWR/PT+kAOM/H8AjwFq/wf/4gLW/wL9b//OABcABABc/9MAzf/T/B4BAAJy+5QBhgjd+TD75gfvAKX5KwJmA9X9Zf/mAEwEJQAz/HMB3QLS+tYB4wS4+x//mAZX/x37cAA7Acr+zgDa/XEC1AJgAbcAZvzo/fIBbP7F/MQD5gCP/e7/rgB5A+f7pvvHBkADVvbhAKgFlP+c+x//XgBTA+P76f+cAjEB+f4OAjj+UP5sAtEBCQD7/SgBhf0h/nsCKAEQ/X0BsAG3ABn9w/1lBpj9ZPvCBGX/+Pw6BH8AePgbBaQAb/obAyAF+fm6/3MBq/2UAT0Ahv/pAdv/nwCxA3f96/5wAEP76f/3Bln+xfziB1wBS/lgAWYDBv0q/jMF+f56+XkDNgbR+AkAuQaF+2P+6AaU/TH47wVQ/jv6SAS5Bvn5T/zQBCH+rPpXAd0C4v6U/esAxf5J/3UARP/V+9QCfQEE/C0BYAbI+mP5ywLYACL7dgLLBFn+j/3hAAcBKP8aAX0BEf8//X8AAgHP/mH/E/5E/Rf+uAJq/8H+pP5A/xL8ff+RANb/sP3P/hIFM/y/+nYHDAMR+h0ChQSP/bT7gwC8AgkAF/55A28Dh/qG/6EEov1s+ccEjQJ2+Wn9IAVL/lj6bgG1Ad/9tPvfAZkBrv56/uICev70/mABDgICAQkAzQFeAiP/2/8PBEoDygACAZkBBAAj/zsBSQEaAUEAVQJHAhT9Jf4mAhz+E/4nBOADI/+ZAXgBu/xU/hsDEAHd/sECFgOS/n/+MQFX/5L+Sf87/38Amf8c/mH/ZwAVATb/RAGsA8r+MwAlAM3/8v2Q/7oB2ACB/0QBOwHy/bv8AP6DAFD+ff/EA/L9sv7W/5T9L/mk/NkCbgFR+0UDfwK394v6LQON/rT7BgQJBZP74PrR/WP+Fvqi/e8Ab/97+z776vy2+pf7ZQH6Asf9i//3/0j9w/0VAcECAQT4BUwEOgSOBOkBcQLcBacGnwUxBvEEGAIzANYBNQQKAj0CdwSIAB790f/0AEb+I/9ZAPL9ZvzT/Nr9rfyk/Bz+9v3V/Q7+bP7h/Gn9p//8AdsBdAOxA0wCgQHIAQMDpAULBpgE/AN7ApYAAgFaArwCGwOiAc3/t/7V/TH9ZP3M/R79rfxE/bT9DfxK/JT9+/0z/sr+Yf+b/tP+vP70/sX+wf5q/wIBLwDg/xABbACDAMUARgBO/9P+Nf3X/A7+Sf8vADL/4fw//SP9lP0vAAkAw/3q/Fb95fxB/PL9fwAa/2D9Nv+RAHr+t/70AAcBNv+8ADcDwQLRAW8DuwN7ArwCAQRRBHsE8QQgBeADZgOsAx8DwQKqAtsB6wBiAEsA9//N/83/yv7a/ej9d/13/e39tP1u/U39Bv0e/fL9Z/6p/jb/Tv9E/8j/v/+3AO0BMQE2AeQB+QAgAP4AnQFJAdMADAHdAMP/6f8oAQIBgwAjATYB8v/I/3UAkQBUAIMAkQAcAE7/Yf8qAGcAcACWAEEAov9O/0n/JQCWABIA9/8cAFf/Zf/R/yAAiAA9AGr/Lf9S/4H/4P8XAEsA5P+L/3P/QP+i/40AYgDp//z/AACe/7H/XgCuADMAEgA9ABwA6f8OAJYApAC8AHoAv/9v/9v/IAAcAE8AtwC8AEsATwBGALr/gf8JACAAXgDrAJEAzf+Z/7X/v/8SAJEAqQBUAAQA2//I/yAAjQCbAGIARgAJANH/9/9nAJ8AfwBUAFkAMwASAC8AiACNAGwAXgBBAAQAFwBGAGwAXgBLACAA9//8/xcATwAzADgADgDp/+T/HAA9ADMALwD8/9v/1v/y/yAAOAAvAAkA1v/I/+n/IAA4ADgAHADy/+T/5P8JAC8AOAAXAAkA9//u/xIAMwA4ADMAHAD8/w4A/P8OAC8AOAAlAPz/9//8/wQAKgA4ACoABAAOAA4ADgAcACUALwAcAAAA5P/u/+T/8v8AAA4ADgDy/+T/8v/y/wkADgAcAA4AAAD8/wAAEgAXACUAIAAOAAAAFwAOABwAOAAgAA4ADgAJAA4AEgASABcAFwAAAAQAEgAOABwAKgAOAAkACQD8//z/CQASAAkAAAAEAAQAAAAEABIADgAJAAkACQD8/w4AEgAEAAAA/P8JAA4ADgAOAAkACQAJABIACQASAA4AEgAOAA4ADgAJABIAEgAJAPz/AAAJAAQABAAOAAkABAD3/wkABAAAAAkAAAAAAAAAEgAOAPz/DgAJAAkABAAEAA4ABAAOAAAADgD8/w4AAAAAAAQAAAAAAA4ACQAOAA4ADgD8/wkABAASAAkADgAAAPz/CQAEAAkACQD8/w4AAAAEAA4ABAAJAA4ABAAEAAAACQAOAAkAAAAOAAQABAAJAAQAAAAOAA4ADgAOAAQABAAAAAQAAAAOAAAABAAAAA4ABAD3/w4ACQAAAPz/BAD8/wkACQAJAAQAAAAJAAkAEgAJAPf/CQAOAAQACQD8/w4ADgAEAAkABAD8/wkADgAEAA4ABAAJAAQAEgAOAA4AAAAEAAkA/P8AAA4ACQD3/wAABAASAA4A/P8EAAkA9/8SAAkAEgAJABIADgAJABIADgD8/wkABAAEAAkAAAAAAAQADgAOAA4ACQD8/w4ABAD8/w4ACQAXABIABAD8/wQA9/8JAAQACQAAAAAA/P/8/wQAAAD3/w4AAAAEABIABAD8//z/CQAOAPz/AAAAAAAA/P8AAAAA/P8AAPz/CQAJAAAA9/8EAAQACQAAAAQADgAAAAAAAAAEAPz//P/8//z/BAAAAPf//P/3/wQA9/8JAAAAAAAAAPz/AAD8/wQACQD3//z/7v/8//f/CQD8/wQAAAAEAAkAAAAEAAQACQAEAAkADgD8/wQACQAOAPz/AAAAAAAA/P8JAAAAAAAAAAQAAAAEAPL/9//3//z//P8JAPz/9/8AAAAAAAAJAPz/AAD3/wQA/P8JAPz/9//8/+7/8v/3//z/7v/p/wAA9/8AAPz/9//8//z//P/3//z//P8AAAQAAAAEAA4ACQD8/w4ACQD8/wAA/P8AAAAAAAAAAPz/8v/8/wAADgAEAAkABAD8//f/AAAAAA4AAAAJAAQACQAAAAQAAAAAAPz//P8JAAAA/P8OAAAAAAAEAPf/9/8AAAkAAAD8/wAACQD8/wQACQAEAPf/BAAAAPz//P/8/w4A/P8AAPf//P/8//z/AAAAAAAABAAAAAAA/P/8/wAABAAAAAAAAAAJAAQA9/8EAPz/AAD8/wQACQAJAAQA/P/8/wAABAAAAAAAAAAOAAQADgAOAA4ACQAAAA4A/P8AAAAAAAAJAAQADgAJAAAAAAAAAAkA9/8OAA4AAAAEAA4ADgAJAAAADgAAAAAABAAOAA4ACQAOABIACQAOAAQAAAAJAAkACQAEAAkA9/8EAAQABAAAAPf/DgAEAAQAAAAJAA4ACQAOAA4ADgD3//z/9/8AAAkABAAJAAAABAAAAAAAAAD8//z/CQAOAAAA/P8AAAAAAADy/wAAAAAAAPf//P/y/wAABAD8//z/6f/p//f/AAASAAQADgAOAA4AFwAzABIAPQAAAJ7/0f8OADgAQQAJAMj/2//3/y8APQASANb/1v/u/yUAOAASAPf/4P/k/wkAIAAlAAAA7v/k//z/DgASAAkA8v/p//f/CQAXABIAAADp/+7//P8EAPf/BAAAAPz/9/8JAA4ACQAEAPz/CQAAAA4ABAAJABIA/P/8//f/AAAAAAkA/P8EAPf/DgAAAAQAAAAEAAAA/P8AAAQAAAAAAAAABAD8/wkAAAAAAAAACQAAAPz//P8AAAkA9//8/wkAAAAAAPz/BAAOAAQAAAAAAPf/CQAEAAQA9/8AAPz/DgAEAAkABAD8/wAA/P/u//z/DgD8//z/AAAEAAkA/P8OAAQAAAAEAAAA/P8JAAkADgAEAAAACQAOAAkAAAAAAAAACQAAAAAA9/8EAAkA/P8AAAQAAAAAAPz//P8AAAAABAAJAAQABAAAAA4AAAASAA4A/P8JAAAACQAXAAAA7v/8/wAAAAD3//z/EgAJAA4ABAAXAO7/9/8OAA4A9/8OAPz/9/8AAA4ACQAJAAAABAAJABIABAD8/wAA9/8OAAkABAAJAAAA/P/3/w4A9/8JAPz/BAAJAAkADgAEAAkADgAJAA4ABAAEAAAA/P8JAAQA9/8EAAAACQAEAAAACQAAAAQABAD8/wQACQAJAAQAAAAJAAQABAD3/wAADgAOAAkABAAAAAAAAAAEAAkABAAOAA4ADgASAA4ADgASAA4ACQAOAPz/AAD8/w4A/P8JAAQA/P/3/wkABAAAAPz/BAAEAPz/AAD8/wAAAAAAAPz/CQAJAA4ACQAOAAAA/P/8/wAACQD8//f//P8AAPL/8v8JAAQACQAAAA4ADgD8/wQABAAOAAQA8v8JAAAAAAAAAA4ADgASAAQAAAAEAAAAFwAEAAAA/P8EAAkADgAJAAAA/P8AAAAADgASAAkACQAOAAAADgAOAAAA/P8JAAAADgAJAAkACQAOAAkADgAOAAAA/P8AABIACQASAA4ADgASAAkADgAXADgAFwAcANv/CQAcAEsALwA4AL//7v/D/7cA2wF3C8sJ0PZn8qT8wQK7AzcDN/za+F38JAPsBIEBgf01/bf+tQHLAj8B4v7K/sP/wAAMAY0Asf+1/08AXgDW/83/EgB6AI0A7v9E/57/XgCRADMA0f9c/6z/SwCkAD0Ac/9S/xwAgwA4APz/zf+i/+T/TwBGAM3/rP+L//L/XgBZAOD/yP8cAC8AOAAvABcAlP/g/yUAfwBPAD0A2wHUB3gB5fqD/oEBMv9ZAGr/xfz2/U8AeAFPAFD+9P5BALYDvAeu/n36i//IAZL+KP9C/or9jf7hAFcBIAAM/zgAtwA9ABcAEgDp/5sAEAHu/y3/uv91AGwAEgCe/+7/w/9iAAcBTwDm/lf/zf9PAIgACQDI/9H/2/8OAHoAuv+e/3j/PQDu/57/mwBiAIH/9/9BAEn/ff8gAFQA1v9q/8P/DAG8AOD/sf8XACoA9//W/8j/iACfACP/2//hAC8A/v5BACAAOAAcABwA6/6x/2wAEAFLAK7+DP8VAWABgwDu/7L+F/7m/tMADgASAAAAHAAJAFwB5gC//2X/7v99/zv/2/8jAUsAff9PAGX/6f84ALcAfwBnAAAAp/8AALIAcAAXAKL/ov/rAPoCXv6g/l4AjwEhAjYB+Pwz/ioAyP+n/+n/1v+B/6kAIwEt/8/+/gAMAXP/EgAVAacBOACb/kn/v//g/5kBfQF//u39RAGZAesAz/4t/58AJQAQAUQBkv5g/f4AAgG///kALwCn//n+AAIQAY3+cf7YAA4A4P9q/y3/kP9gAVQAYP2Z/64A4QAHAcj/Zf/R/xr/ff8AArcAI/+x/9H/xf7hAIMAOADu/yP/2P5zAY0AKP+n//n+nv97An3/nf2GAe8AAv99/y0Bkv7i/hIAYAGs/0n/jQBgAWz+Av+4AlIBq/21/2cA5P/k/4YBCQBN/aQAHgEj/7z+gQGWAET/z/5qAY0Asf8JACP/Nv9jAnoARv7RAd0AXfzI/wUCCQBv/2wA4/2RAKkAxf5/ACgB9/+x/1f/wf6XAogASf9u/eD/6wB9A/L/vP4z/pkBogGSAhD9f/5j/tYBcwFX/yP9twDu/+YAzgDt/c3/CgKN/k8AjQKuAOX8iQJ4Abn9Ef9/Au7/wf4zAFcBE/7b/9sD1v9y+zMAjwGDANj+SP0gAP4CXv7v/GcALwJsAJX86P0xAVQAvv0jAVQASP17AigBuv9sAp4D6P1iAKEEhAJY/DL/rgIH/3X8M/4s/TP+Av/vANMA8v8C/T8B+gR1AML7RP8DA3/+nv9KA3H+e/tsAJcC8v/o/TsB/v4J/sP/JwSpAHn8egBVAov/bv1wAJsA7v8V/xwAc/8HAVIB7QGQ/9X9nv/xBHECwPzp+ukBkwSF/aT8IwFc/5D/uwMC/+76RAGsA33/kfwt/28DPAXI/4f8PQBOA+kBB/8u/FH7Rv5fBH0DI/3a+On/RAY2ARD9RP0cAIsDbgav+1z6YwIDCK4A5/lo+xgCbwPtASH+xPoL/eMEnASA+7T7hwOHA6v93f7K/nECdgJI/YD7DAGdAfb9hAJlAQH7ff8/BpsAu/yU/wcBBAXpATv6Ff+lAlYEBwGi+Jf7BAVVAgb9b/r7/foEBgT1+df85QMyA1cB/P/yAUoDAwMt/0wEQwQL/bz+Pwaf/AH70ATdAJf5sv6lApkBAv1q+iECPgQo/w75rfz8A54DLvyg+c0DtgOWAAn+Ef97AmwCUgFl/0ICTAL5/igBJQBn/pQBHgH9/OL+4gJCApYAov3d/tEB+/0O/qoCrP/J/C0BtwCs/wcB5P+yAO394P/R/wQAvP6BAQz/Y/4OAnoA4/1XAXECXAEiBBf+Kv46BOv+8v0yA8X8MPvAAEQBmwC1/yr+RQN/Apb+LQH8/7D9EwL5/sb7b/9AA+UDXgKh+5/8HQJ0A14C9vsj+BMCKAY9/pT9t/4HAc0BrgAAAD0Alv6UASkDsv5o+8gBggNw/E/8qf5yBLoBmvxN/RT97f2IADH9+/1oAov/8gHdAk/8dvuGAQoCkAOGAY35lgBnB9X9CvuZAT8BEf86/WoBlAHI/7wA7AIs/Z/8rAPiAo0ATf1G/rcAEQOU/yX84fzB/rUBdQAFAvL/IvvR/yIJWgTz+s784ANjBygBv/rT/hIF1v9n/jMAXPq2/JcJFwcO+bj5/gIwBD8Bx/09/vb9zP31Aqn+6PZv/8oHp/92+/v9xf5VArYDgwA6/Qj8bAAfAwL/5/to+QL9uwX8AZ34FwBxAvL/rgJaArT7pwafBWb6I/0GBCsC7QFAA8n8af1C/p4D1v/+/j0AcgRL/rX/lwJPADgARwKnAVv9mwBOA7n9xPo0AmsD7QHdAMX+xQDAAG8DhAIH/8X8BQKcAiAA2/8tAXP/nQF2AkH8g/weAacBIQKW/tL69wElBd/9bv2iAT0CI/+H/OP9iADL+0kBowNe+Zb+Uwj+AFn+nv/O/NH/HQLy/9YBmwAq/ob/8AKuAPT85foHAf8EKgAa+gz/dQAAAPoCkv4a+Kn+6gW6/yz9w/2Q/wQFlgAL/V4CRgDq/JwCIwGC+qoCpQfF/in8YgAWAyP9y/sd+57/sgDY/mf+nf21/1gDt/4n/bUBwwGs/z0ArgDI/yAADgLNAQz/qQBwBbIAsf/PAiP/gf2lAi0BZPukADsDc//l/JEAqQA/AT3+bAAdAk8AOwEkAzL/RfztAWUBa/xUAJ0BRP07/4gAcf4j/40A4v7W/14AcAAQAeEAQP+B/38AKgBgASUAd/2i//4A2/+u/vL/dfzo/fQAcAAX/v4AS/5X/+0BFf/j/TYBTgE7AZYARP/PAu0B/P91AEQBrAGyADH9yfy4AqwD7v9n/hcADgAQAX0B2//a/cAAWAP8AfL9Ff99AbwCAgFg/Rn9uv+GAQ4AS/72/QD+uv+6AZL+7/zOAOQBFQEJAFb9BP7RAdsBTgE/Ae/8x/25BGcF4P8y/y0BoAJvA30Byv5s/tv/oALy/8L7Rv66AQL/Zf9JAcr+Z/5eAEb+t/61Aaf/L/6G/zL/OABOAd0A5P/y/9v/jQDR/9b/OwFuAUT/Cf6i/6kAV/+//7wApP6p/lQAYgBzAaf/hf0JAHgBb/+p/nj/jQDy/1QAxQBO/5b+mQH1Avf/c/0R/xoBkQBJ//n+B/+n/1UCmwAs/Vn+VwHhAHMBhv9//mwArAFZAEYArP+IAHMBQP/W//IBdQDm/q4AzgAy/wQATwDT/o3+yP/b/wz/uv8gAPf/Wf4y/04BYgDb/0YAnv+Q/9b/UgH5AKf/Uv/5AEEAmf+yAMoA5P9nAEYAff/8//QA/P+I/gz/+f70/tH/lgDk/4b/b//R/5n/i//mANMA3QCNAOn/twCWALH/AACx/wf/eP+yAD0ApAB1APz/6f/I/4H/ov+s/5n/AACs/5v+QP+U/9b/4QA4ALH/MwC8AMUAVADp/0YASwCx/+D/FwDR/8UARAHu/6f/GgFSAbcA5gBlAa4AkQBOAbwAmwCyALcAsgAVAdMArgBOAc0BnQFJAd0ABwGnAeQBIwGyAO8AbAA9AAIBrgCQ/7r/6f99/93+6/7K/gz/Nv91/gT+Av8f/9P+iP6I/iX+L/7+/mH/jf6p/rL+Cf4c/u39zP2F/dP88fu4+y78a/zT/Pb7lfq2+rT7WvuH+l75P/iW9yP4evdF9Z71HPeO+67+VwYSCssC4vnc/BcRPRisD+oFuwo6EEAPkQxMDtES6BJLDEkI2wgzCkkIswkzCp8Fsv5k+0L+1gG6//z65PjD+Oj2lfWH9VH2M/d89g31i/NV9Av2w/ho+/j8M/yj+lH76QEAB68ESQFpBKoJAQlLB2QJeQo5CdsIXwlJCM8HIQeyBYwFmgWXAsP/9ADIAQL///u4+yD8Vvsa+mP5yPjY90b3kfeR9//21/WJ9H/0SPZE+Pn34/bz9Z71k/Yx+En4Tfaz9EL0yPMH81zzFvVM++7/fwcLEHQIfPgu9dQTQyg+HEoF5AY3Fo8ZPBFgDckWwB28ExAGfgV1DEYMswkiC6cIMv/L9Bf3SwD3ARr6TPQV80LyNfEn8VbxyPPw9Dvz2+4k7h7xRfVb+Aj66/nF98f2DPpc/6ACdAOoA+oDSAQ8BdEGOQmBC+YMSwx6DDENAQkWCkwVPxcuCk4B5gyoD14HCQXXCjoEj/2y/r//RP1j/tX7IPca+Fj6jvQA9Gb6ifvs9PnyW/a6+Av4p/iX+RP57/ca+PL4uPnn+Zv5Afu0+yv7q/iZ+Mr5Bvts+Rn29PI2857z+fK58Y/42wNcFPEQD/YC5bb8wClVK1AMxvmwC/wZGhRMCVkRyh+fHYAJ6f++BvAOAg1ODc8OSwd199nvWvsfCCAF+/hs8tXxwvGd8ZHyf/T79sT1I/Hq6/vsHPJl+B37D/vK90L0VfSZ+lcBrwTqAxgCSQFaApgEEwcgCs8Mpw1TCu0G2gb6Ce8MRw6sDZMLjgnJBaUCqglrD7YKYgAdAnMGLwD/+24BnAR1/i36+/hi93H5IPz8+vX5kPpp9vDyBfls/mv8iviJ+fP6KPri+Wv8yv4c/h37Kvnk+JP7ev44/qf6pPdi92D4Ofn3+JX1tvAr7/3w0/AO8lj8uQvgFK7+YOfe6o4Vxi1KG2P+Ef8XE1sX/A0XDNQaciFuEv4AkAN7DsIQzwzND28N/gCg8mb1TAQLCz0CIvaa8Drxc/Oc9Mb09vZB99jyj+ya65rw/fWu+YL6gfg59Bfyu/WY/awDmAQjAc/+c/+zAn4F1giwC7wM0AmGBhkG6QgEDB0OJg5bCwkHVgSYBk0LKgycCfcGzQNUALX/uwNiBbwCMQFn/lv4CfcS/Kf/x/3e+yP4X/S/9ab7hf32+9L6BflP9xz5Mf2y/iH+Jf7X/JX6GPvD/aD+YP15/Jr8+vs9+TH4Xvlk+175LPaR8prwN/Br8CDw1fHl/EYM0RKQ+o7jLOzDGR4v2hc5+Vb96xPCF9MMMwzjHGQhRQ8O/ooEDRFXEtsNtBAHDdj+TfFG92UIQg6uAkz0Cu9b8WH1HPdL9wv4mPYe8Z/rMexL8iz42/ql+UP2f/K58V/2g/57BEMEDP/L+7D9oAJ3BkMJuwrOCvkH+gRKBRQJEA29DoENywm3BfMDqAUWCpIOdwsFAvr79gTfC0YF6f+GARkEnPuc+2X/ov/Q+2L85frm9/n5QPrT91b7xf5o+Xv0WPp6/pr8RfzJ/Er83vs6/an+c/+W/p/8r/tt+5H87f2F/e767fj99zr4c/jW+Gb1HvHL77bw2e8S8t/9hwq7D5X6Keni7ZsTuShGGJ39mP1bECIV8g2bDAUaaR41EAAASASCD50SrA0kDzMMVwHG9HX3sAbkDWkE3PWD8GzyX/b997D4tfir9nPxL+3U7W/zGvgI+t/4MPYt80vyZPaw/ewCoAIz/nL7Nf2GAUEFFQiACSYJmAYUBPoE2whZDFcNLwwrCc4FoQTKBw4M7QsFCc4FnATzA5wCowNaBMIErAHd/ur8Rfy4+8D8p/9e/mz5vfb094L6LvzT/KP6GPm8+bP5uvpb/c/+YP2V/P38YP0h/i3/IADk/5v+qPww+0H89P7R//r73Pdr98/5z/kq90r1rPOF8frvyfBv9Vv9SgNVCWH/SfO077MH9R9tGqwDr/vECmwTRhFQDGcTXBmiEgoEmgNvDW4Scw2IDD8LQwQo+hz5PgSTCxUGKvmB8+7za/eb+VP6IfnC9v7yBPC47xj0RPip+Sj44PU+9LXzofbn+5sAIwHj/c365/tPAIAEhgYAB1IGZwX4A6oE3QceC7QLQQpOCD8GrQVJCBALFAt0CMAFKwT8A/4HRQqhBNj+2/+OBDEBsP3M/Tb/dfyJ+3v7gvo3+u76A/ql+fP6h/oe+Bb6fP1w/ED6xPr9/J39BP72/Rz+OP5n/sr+3f5L/hD9Rfx8/bz+Uv3d+Zn4X/u4+3P4ZvVO9QP1RPO88hj0kvkc/kICyQX5/ub3OvaMCoQaxBRaAmX/2gsHEvgPoAx+EaMU4g7jBHUFZQ1MEE0LXQoRCBED//uo/IAE0ggbA1D5U/WQ9dr4Hfty+9/4+PUt8/LxoPKm9l75aPku97/1QPXc9bX43Pye/yP/tvwY+/j8DAEiBHAFPAVaBKwDggMlBR8I8QlVCesH2gYCBlUHIAogDIYIoQSTBAcItgqeCOICPQDBAsAFJAPd/rz+5v6M/E/8kv6o/KX5vPkn+7/6dPq8+e34/Pox/bb6ovh9+tz8d/2m/Y/93PzT/Mf9eP9PAM3/8v22/Cf9If5Z/i/+ZP3x+6P6QPqH+tT5Tfjo9oz12fQY9Gj0Y/m5/QL/NwPzA4H9h/Wb/ngUeBmJCf/7vQTQEGUSdwu5C+YRGRKQCAwDIgmMD1AMVwiQCIoGQQBM+xIALwcABwn+rfcd9mX4OfuD/NL64feQ9Sv0mfOC9dH4Sfrk+Jj2FPY69uH3p/oX/i3/7f2F+zX7M/40AncEnAQ7A40CxgLgA8kF+Qe1CNgHuQa3BYYGMgjnCTELIgmBBncE0wWgB7MHLAa7A6wBtwA/AZsA7v+n/3r+VPxt+9D7jvtk+0X8hfub+e34wfng+tD75/sB+5n69/r/+x79Dv5Q/u39d/0J/hX/ov9h/+L+Jf5k/RT9d/0E/r79FP1o+0X6rvko+jn5cPe09vj1ZvWv9uP7zP1S/bMCJQWx///2Uv8HEi4W0giY/QkFQA/2ECAKTwodEEwQbAdFAysJRw5+CtEGcQd8BvkAYvyIAOoFtwWN/pv5fvc9+eP7C/1a+8j46PaM9fX0wvbB+ZD6Dvkq9yD3S/er+L/6fP2N/sz9oftD++P9fQFFAx8DYwL3AekBrgIJBSYHdgcVBnkFMwXYBTgH8AfmB3IJ7gj9BaEEtAToBkgGdwZ7BKcBff91ADYBvACbAI3+ifsi+9f8yfz6+zz8pvv1+Tf6U/qe+mj7XfzZ+z77Ofu4+8D8mP2W/nr+sP2B/Vn+XP/I/zL/cf7H/cz94/3y/bD9RP0U/V384PoW+iT6GPl4+Cz4u/fV9o/4IPw1/Wz+HQTFBS/+QfcaARUSHBOyBT3+cwaJDvwNHwjeCQ0P2w3vBckDKwn7Cy0I3AV2ByMGjQDh/M4AXQW5BNP+2/oY+U76VPxb/ez7z/k6+A33hfbT92r67vqS+Tr4UvhS+CH5yPpI/Xr+w/3Z+2T7sP3AADQCTALWAWUBVwHDAfMDyQUZBkEFuQRDBFEEJQVSBuQGkgeCCPcG4gIkA+gGQAgpBagDGQS+AbH/GgFTA24BQP/2/df8pPz7/cz9ZvzO/NP8XPql+SD8FP3s+6r7VPyq+0f78ftu/Sr+Qv6B/eX8nf3w/n3/b/9v/wL/Rv6+/VD+Mv8o/2D99vtd/L79af2X+8b5OfmS+Rz5Nvhn9wf46fpp/RP+MQEBBHAA+flY/CILcxJPCqD+HgFrCr0OdApxB5UK9Az8CBQEWwbSCssJlgXJBYEGCgQa/07/UwOtBRgCHv1q+p766vxL/oH9IvuN+ZT4C/g/+Fz6ifuL+qL4lPg5+cH5Sfqm+0j9w/22/Fb7Jfy3/gIBZQFEAd0AygDdABMCMAQuBXsEiwOoA/gDOgTCBJYF0wUuBTUEawOeA2sFxgfMBsEC+QB0A2IFNwPWAWMC1gEH/8r+egBiAGP+d/0s/Rn9bv0Z/eP7fvzy/dP8v/q0+7T9W/2V/CP9ZP3A/OH8Dv7T/tP+L/6w/e39Lf/p/3P/t/56/i/+7f1Q/i3/0/6t/Cf7ofsZ/QL9cvtZ+Tb49PfY97v3Vfkl/nAA8gGwAab9VfkS/EEKAhIiCyX+jf5LB6kMfgrSCPMKCwsxBqACMQYiC10KyQWWBfQF0gNO/83/1wOiBm8DAP7z+sT6FP1J/8P/J/0y+h74Mfg0+ab70/yv++34FfgF+U76AfvV+xn9W/11/BT7xvsv/ogAEAHdADgA2//W//4AKQPZBIAE5wIOAnYC0gPZBGsF8QQnBFMD8AL1AsQDigRMBMsCjwFXAZQBugEDAz4ERwK3/pT94QDuA4QCz/53/Y3+Nv8f/3P/tf9L/kH8kfyb/mX/Z/5E/W79L/56/sz9mP3r/rX/rv7H/V7+0/7Y/i3/tf+i/6n+2v1Z/pD/VABl/+j9Uv2+/Qn+OP6u/u39Fvzg+oD7YvwE/Iv6evmw+J/37PY6+Av9ggOpB6cBh/X+8jYBGRIEEVgDiftuAdQHiwhhCPYLAg0AB7cA2QISCsIL2gYnBNoGwwbkAeP9qQCoBb4GkgKd/eD6Nfvy/U8AYgDt/az6m/dZ90n6ev63/gb7iPf59wj6gPsE/NP8mP3J/EP76frq/En/dQBwAIgAEgAf/wL/MQEUBA0FowPyAWABvgFrAzgF7wW5BBYD8gH3AfUCPgTCBMkD9wHYAKkAHgGPAe0BjwGNAC3/L/5x/p7/CgJ7AuL+Hfsl/JsAqgI/Adj+zP0j/d/9HADRAR4Bz/7A/I/9VABlASoAFf9h/4H/Mv99/2IAtwAXAC3/Sf/p/7//KP9l/y8AFwD0/hP+f/5X/83/XP+y/iH+2v3R/T3+4v6b/iP99vtF/Fb9j/2o/Pb7cvsB+1j6sfor+076hvgh+RIAvwjdB5n6mPFy+1wNehFuBo3+AgGcBEwEbgbTDKoOaQbf/eT/BQl6DEsHiQJmA/8EoAISAOsAfQOaA1wB9P5p/aT87/zo/cr+H//o/ZX6PPc6+DX9egA9/gP6Sfh/+R37u/x//lz/+/1a+5769PxBAHMBqQDR/+T//P8OAMoAbALNA6wDlwKwAW4B/AFcA20EnATXA4kCSQEQAT0CDwRDBJcCxQDk//z/nwBlAbABAgFh/9/9sP3B/rH/v//r/iH+ZP0e/W79ov+ZAT0A/fzL+1n+egDYAE8AIAD0/uP98P4QATkClAEvADb/1v87Ac0BmQFSARoBqQBnAOYA0QHRAbcAAAB/ANgAlgA4AEsATwDk/1L/H/94/6z/Zf8M/xH/Ff+u/kv+qf4o/wf/g/5Q/ln+cf6S/rz+3f7m/pL+M/5n/gz/ff87/8/+0/4M/wL/KP94/5n/DP+g/rL+Gv8y/+b+Z/4X/vL9vv25/T3+rv5//sz90f0XAIQCEQNlARcAgwAAAskDZwWtBSsEOQLDAUADMwUVBjMFbwP3AY8BLwJKA+UDFgNSAeD/ff8XANMAzgAJAM/+7f2Y/aL97f04/hf+fP3O/If8wPwQ/WD9ov2d/YX9Uv1b/b79M/7T/kD/Yf9A/zv/c//k/4MAIwFgAUkBEAH5ADYBpwErAmwCLwLDAe0BkgK4AkwC9wF7ArMCKwKsAQACTAIAAvIBCgKsAesApAC8AMUAsgCpAC8AUv/F/vD+DP8M//D+lv7y/Xz9pv3y/S/+L/7M/VL9Mf1b/bD98v37/aL9RP0n/U39fP2i/bT9mP0//Qv9Ov13/Vb97/yH/Bv8tPtt+138QP+4AocDFQEy/yAABQKzAlYEygfzCCkF3QCZAa0FBwg4B4oGYAYwBOsAzgArBLAGPAU0AmcAb//K/m//OwH8AXAAq/08/BL8h/yi/Qf/3f7X/Pf69/ob/MD8Tf0X/mP+Gf3Z+0X83/3+/hH/H/99/2//8P4a/zMAKAFlAUQBPwFgAWABXAGnAQ4CNAImAvwB3wGwAboB3wHyAcgBeAFgAVwBKAHrAM4AygCfAEYA9//p/9b/ov9S/zv/RP8y/+v+2P7F/rz+qf6W/rL+2P7d/rz+xf7i/gf/Gv9E/2X/ff+e/5n/v//p/yAAMwBPAGIAegCNAKQAtwDFANgA4QDvAN0A0wDdANMA3QDKAMAAvACpAI0AegBwAGIAQQAzABIA9//y/+T/zf+1/7X/p/+Z/4H/ff99/2X/b/9v/3P/gf94/33/ff+L/57/nv+s/7H/w//N/+T/8v8SAA4AFwAzADMAQQBBAFkATwBPAFkAWQBnAE8AVABPAEsARgA4ADMAMwAzADMALwAOAAkA/P/8/+n//P/3/9v/0f/b/9v/2//R/+T/6f/k/7//zf/8/wAA9//3/wkACQD3/wkAKgA4ACoAJQA4ADgAMwAzADgAOAAzADMAMwAzADMAMwAzADMAKgAAABIAFwAJAAQACQAJAPf/7v8AAPf/7v/u/+n/7v/u/+n/6f/u/+n/7v/p/+7//P/8//f/CQAAAA4ADgAEAAkABAASABIAFwASABwAFwAJACoAHAAOADMAEgA4AA4AIAAlABcAMwAXABIAIAAcABIAFwASABIADgAEAAkADgAOABIACQAOAAQABAAOAAAAAAAAAAQACQD8/wAA/P/8//z/9/8JAAAABAAJAPf/AAAEAAQAAAAAAPz/CQAEAAAABAAOAPz/DgAEAAAACQASAPf/CQAEAAAA/P/8//z/AAAAAO7/AAAOAAQAAAAOABIAEgAOABIABAAEAA4ADgAAAAQADgAJAA4ACQASAA4ACQAOAAkADgASAA4ABAAJAA4ACQD8/wAACQAEAA4AAAAJAAAADgD8/wQAAAAEAPf/DgD8/wQACQD3/xIABAD3/wAA/P8AAAAABAAJAAQABAD8/wkAAAAJAAkACQAEABIAAAAEAAAADgAAAAQAAAAJAAQACQAAAAAADgAAAA4ABAAOAAkABAAOAAQABAAJAAQADgAAAAQAAAAJAAkADgD8/wAADgD8/w4AAAAJAAQACQD3/wkA/P8JAAQABAAJAAAAEgAAAAkAAAAJABIABAAAAAQACQAOAAQAAAAEAPf/DgD8/w4A9//3//z/DgD3/wkAAAAAAAAA/P8AAA4A/P8AAAkAAAD8/wAA8v/8/wkABAD8/wQADgAEAPf/CQAEAAQABAAJAAAA/P8AAAkACQAAAA4ABAAAAPz/AAAAAAQAAAD3/wAABAAOAAAAAAAAAPz/BAAJAAkABAAEAAkABAAEAAAABAD8/wkAAAD8/wAA/P8AAAQA/P8AAAAA9//8//z/BAAJAAQABAAOAAQADgAOAA4AAAAXAAkADgAEAPz/AAAOAAAAEgAAAAAAAAD8/wkABAAEAAkA/P8EAPz//P/3//z//P/8/wAAAAD8//z/AAAJAAQAAAAAAAkA7v/3/wQA9//3/wAA7v/y/wAAAAAOAAAABAAAAAAAAAD3/wAA9/8AAAAA9//8/wAA/P8EAAQA/P8AAAQA9//8/wkA/P8EAAAABAAJAPz/CQAAAAQAAAAOAPz/AAD8//z//P8AAPz/AAAJAPz/AAD8/wAABAD8//f//P/8/wQABAAJAAAAAAAAAAAACQAEAPz/BAAAAA4AAAAEAPf//P8JAAkACQAJAAQAAAAAAAkABAD3//z/AAAAAA4ABAAAAA4AAAAOAAkACQAJAAQACQAEAAAAEgAAAAAACQD8/wAA/P8EAPz//P8JAAQACQD8/wQA/P8AAAAABAD8/wQAAAAOAAQABAAEAPf/BAAOAAkAFwAAAPf/BAAJAAkABAAEAPz/EgAEAAAABAAJAAAABAAOAAkAAAAAAAQACQD8/wAABAAAAPz/BAAEAAkACQAJAAAA9/8JAAQABAAOAPf/AAAJAAAA/P8JAA4AAAAAAAQADgD8/wkABAAAAAQACQAJAA4A/P8EAPz/DgAAAAQAAAAEAAQA9//8//f/AAD8/wkABAAOAAQA/P8AAPf/AAAAAAAACQAEAAQAAAASAAAABAD3/wQAAAAJABIACQAOAA4ACQAOAAkADgAAAAAACQAEAAkABAAJAAAABAAAAAQA/P8AAAAACQAEAPf/AAD8/wkABAD3/wkABAAAAPz/BAAEAPz/BAD8/wAA7v/y/wAAAAD3//z/BAAXAAAABAAEAAkABAAAAA4ABAAAAAQAEgAJAAAADgAEAAAA/P8AAAkABAAJAAQAAAAEAAAA/P/8/wAAAAASAAAAAAD3//L/BAD8/wQA/P8AAPf/CQAAAAAA/P8EAAkA/P8AAPz/AAAAAAAABAAAAAAAAAAJAAkAAAAEAAAAAAD3/wkAAAAEAAkAAAAEAAkAAAAJAAQACQAAAAAADgAEAAAAAAAEAAkABAAOAAkABAAJAAAAAAAOAAQAAAAJAPz/BAD8//f/CQAAAPz/9//8/wkAAAD8/wAAAAD8/w4A/P8JAAQA9/8AAAQA9//8//z/AAAAAAQADgASAA4AEgAJAAQADgAEAAkA/P8JAA4ADgASAAkADgAAAAkACQAAAAAABAAJAAAAAAAAAAAA/P/8/wAAAAAJAAAABAAAAPz/CQD8/w4ACQD8//z/BAAJAAAABAAAAA4ACQAOAAQA/P8JAAQACQAAAAAA/P8EAAAABAAJAAkAAAAEAPf//P8EAAkAAAD8/wQACQAOAAQACQD8/wkABAAAAAkAAAAEAPf/AAAEAAkA9/8AAAAABAD8/wAAAAAOAAkAAAAOAAAADgAEAAQAEgASAAkACQAEAAAADgAJAAkABAAJAAQABAAAAAAABAAEAAAABAAJAPz/EgD3/wAA/P8OAPz/BAAEAAQABAAAAAAA9//3/wAA9//8//f/7v8AAAkABAAJAAAAAAAJAAAABAAJAAQACQD8/wQABAAJAAQAAAAAAAAA9/8AAPz/AAASAAAABAAAAAkABAAJAAQABAAAAA4A/P8JAAAAAAD3//z/8v8AAA4ACQAAAPz/9/8EAAkABAAAAAkAAAAAABcAAAAEAPf/BAAAAAkAAAAJAAkACQAEAA4ABAAAAA4AEgAEAAAACQASAAAAAAAEAAQABAD8/wQA/P8JAAQACQAEAAkA/P8OAAkAAAAOAAkADgAEAAAABAAJAAAAAADy/wQA/P/8//f/AAAAAAAAEgAOAAAACQAEABIAAAAOAAAACQAJAAAA9/8EAAAA/P8JABIABAD8//z/9//8/wQAAAAOAAkACQAAAAAABAD3/wAACQAOAA4AAAD8/wkA/P8EAAkA/P8EAPz/AAD3/w4ACQAAAPz/DgAEAA4AAAAEAAkACQAJAAkAAAAJAAQACQAOAAAABAD8/xIAAAAOAAAABAAOAAkAAAAOAAQACQAOAAkACQD8/wQA/P8AAPz/6f/3//f//P8vADgAIAAOAAQA5P/u/+n/6f/u/wQAAAAOAAkAEgAOABIADgAXABcAEgASABIAAADy//z//P8JAAQAHAA4ACAALwAXABIABAAOAAQABAD8/+7/AAD3//z/9/8EAA4ADgAEAA4AEgAEAPz//P/u//L/6f/8//f/AAD3//z/9/8AAPz/BAAEAA4AAAAEAPf/6f/8//L/9/8AAAQADgAEAAkA/P8EAAkA/P8EAPz/AAAEAPf//P8AAPz/BAAJABIAEgAEAAAAEgAAAAAAAAD3//z//P/8/wkABAAJAA4ACQAAAA4ADgAJAAkA9/8AAAAAAAD3//z//P8OAAAABAAOABIAEgASAAkA/P8OAAQAAAD8/wAADgAEABIACQASAAQACQAOAAQADgD8/wkABAAEAAQADgAJAAkACQAOAA4ACQAOAA4ACQAJABIAAAD8/wkABAAAAAQACQAAAA4ACQASAA4ACQASAAAACQAAAPz/BAAJAAQAEgASAAkADgAJABwAFwAXAAQACQAEAPz/AAD8/xcAAAASAAQADgAEAAkAAAAJAAQADgAJAA4ACQAJAAAAAAAOAA4ABAASAAkABAAOAAQACQAEAA4ADgAEABIABAAOAA4AAAAOAAkADgAEAA4AEgAOAAQADgAEAAkACQD3/wAACQAOAAkABAASAAQACQAOAD0ACQAGBJMLeQW6AbX/g/4Q/bL8ZvzT/D/9Rv7r/mH/ff8C/8r+4v75/nP/Uv+i/1QAwAAeAVwBfQFzAZQB9ABBABIAkP+Z/4H/RP+L/xcAKgBnANMA2ACpAHoA0f+x/1L/O/8R/3r+0/75/jb/AADD/14A2AC8AFkAQQDy/wQAff9h/x//p/+6/zUEOgbDAXMBxQAvAPD+cf7f/Y/9Nf0c/tj+Yf8V/2P+HP5x/mz+cf6N/lf/OADmAEkBjwHWARMCzQHmAMoAIwEeAWcANv87/7r/kP9X/4v/2//k/wf/4v63/gn+1f3H/dX9w/0q/s/+Uv+x/yUArgBwABcAKgBwAOn/ov+Q/9b/KgBPAHoAAgF9AW4BygAEAMj/8v8o/zb/tf+n/+T/9/8XAFQAMQEQAUYA1v+B/6n+lv4H/4H/AACNAOsAUgH0AHAADgB4//n+O/9c/33/YgDmAAcBAgE7Af4AxQA4ACoA/P/u/3P/Uv9J/xIA5gDKABoBYAH0AC8Aw/+Q/0T/KP/N/yoAEgCuANgANgH5AGABwADN/7z+Ff9z/2cApADAAO8AeAEoAQwBygCuABwADgCG/y3/i/9wAEEA7v+3AMAAfwC3AMUAsgAAAJ7/V/8cAJsAqQAlAGwAxQDTAIMA0f82/xH/xf4R/0D/p/8OAO7/8v9LABABMQGyAOn/6f+e/5T/Ff9J/1QALwCIALcAPwH0AGwA0/4l/rT9Kv7d/n3/WQDkAS8CHQJOAUkBLwD5/jj+HP6y/mX/EgDrAI8BXAHDAVwBYgDR/x//lv6u/k7/RgDrAE4BXAFgARoBcAAt/17+Kv7M/SX+5v6s/2IAFQFcASMBEAF/ALX/Nv8M/wf/Uv+//2IA5gD+AB4B+QCuAE8A0f9E/+v+6/7Y/lz/zf8lAFQApACNAC8Av/9z/zv/QP9E/4b/HADTADsBYAFcAS0B5gCRADMADgAOABIAFwCIAOsAFQH5ALcAfwAqAMj/ff9J/3j/ov/b/yUAPQA9AC8A8v+n/4H/c/9v/3j/mf/R/xwARgBsAH8AegBLAA4A7v/k/83/zf/u/wkACQAgADgAJQDy/8P/kP99/3P/lP/I//L/CQAvADgAHADp/9v/tf+s/7r/6f8XAEsAdQCDAH8AdQBPADMACQD3/+T/EgAzAD0APQA4AC8A/P/W/8P/w//I/+T/7v8gADMAOAAzABwA/P/g/83/1v/R/9v/6f8cADMAQQBLAEYAMwA4ABcAEgAAAAAACQAcACoAKgA4ADMAJQDy/+7/2//W/9H/5P/3/xcALwAzADgAJQAOAAAA6f/R/83/1v/p/+T/DgA4ADgAOAAzADMACQD8/+7/5P/u/wkALwAzADMAMwA4AAAA8v/3/+n/8v8EACoAOAAzADgAJQAOABIA9/8EAA4ALwAzADMAMwAzAC8ABAAOAAAA7v/8/w4ADgAgADMAOAA4ADMALwAJAO7/6f/p/+n/6f/p/+7/6f/p/+n/5P/N/9v/6f/u//z/AAAAAAAAAAD3/+7/6f/u/+7/7v/p//z//P/u/+7/6f/y/+n/9//3/xIAMwA4ADMAQQBBADgALwA4ACUAJQAcAA4ACQAJABcAAAAJAOn/4P/b/9v/2//y/+n/7v/k/+T/5P/3//f/CQAvAEEAZwBiAEYAMwAXAPz/1v/g/+D/5P/W/+n/8v/u/+n/7v/k/+n/7v8qACoAEgAqACoAIAAEAPz/6f/u/+7/8v8cADgALwA4ACoACQD3//L/HAA4ADMAQQBGADgAMwAzABIA7v/b/+D/4P/g/9b/6f/p/+n/7v/p/+7/7v/p//L/7v8AAPL/5P/u/+7/4P/k//L/9//p/+7/6f/u/+n/2//I/83/5P/y/wQADgAvAC8AHAA4ADgAPQAzADgAQQA9ADgARgAvAC8AJQAqACoALwA4ACoAFwAAAAAA9//p/+n/4P/g/+7/7v/u/+n/6f/3/+7/6f/3//z/DgAcAAQADgAOAPz/4P/b/+n/6f/p/+n/6f/y/wAAAADy/9b/4P/k/+7/AAAvABcAHAA4ADMAMwAzADgAKgASAAQABAD3/+7/6f/y//z/9//u/+n/6f/W/9v/6f8EADMAPQBLAEEAMwAEANv/uv+x/6f/0f/y/xwAMwA4ADMALwASAAkAAAAAAPz/AAAAAPL/1v/D/7//tf+n/7//0f/p//L/JQAzADMAMwA4ABwALwAzADMAMwAzADMAOAAOAOT/4P/R/8j/yP/N/+T/7v/b/9b/2//b/+7/7v/p//z/DgAcACUAIAA9AC8APQAOAPL/7v/g/83/tf+1/+D/7v/u//L/8v/u/+n/6f/p//f/DgAOACoAOAAzADMALwASAO7/6f/p/+T/6f/p/+7/7v8AABIADgDu/9b/v/+//9H/6f/3//L//P/3//z/9//k/+n/4P/3/w4ALwAXABIACQD3/+D/8v/p/+7/7v8cADgALwA4ACUAAAD3/+n//P/y//L/BAAlADgALwA4ACoAEgAAAOD/5P/g/83/4P/p/+n/6f/8//L/7v/8/xIADgASAA4ADgAJAPz/EgAOAPz/EgAcACoABAD3/+7/4P/g/+7/7v8AACUAJQAqAAAA7v/u/9v/4P/k/+D/9/8OABIAFwAcACoALwAgAA4AEgAOAPL/6f/y//z/9/8OAAQABAAgAC8ABADu/+n/1v/D/7H/v//W/+n/7v8EAA4ACQAJAPL/7v/k/+7/7v/y/wAAJQAqACoAEgAEAPf/7v/8/wAA9//8/yAAKgD8//L/5P/N/8P/w//p/+7/DgAcAC8A9/+//wkAVAAJAOn/1v+x/8j/HABLAC8AOAAzADMA/P/u//f/6f/I/+7/7v/u/xcAOAAvAF4AcABGABwA9//W/+T/AAD8/+7/6f/p/9v/2//R/9b/4P/p/+n/4P/N/8P/v//R/+7/KgAzADMAQQBLAFkAOAAXAPz/7v/3//f/BAAJAPz/AAASABcAHAAzADMAMwAzADMABADp/+D/4P/p/+T/9/8XADMAMwAzABwACQDu/+T/6f/y/wQACQD8/yAAMwAzABcABADg/+T/6f/8/+7/9/8JABcAHAAqADMACQAEAC8AMwAzADMAMwAzADgAMwAzAA4A6f/p/+n/6f/k/+7/DgAOABwAJQAAAO7/5P/u/+n/6f/y/yoAMwA4AC8APQAJAOn/5P/k/9b/1v/u/+T/BAAEAAkA9//3//L/CQAEABIALwAzADMAMwAzAAQA6f/g/9v/6f/y/w4ACQASACoAMwAzAAQABAAJAAkAFwAOABIAEgAOAA4A9//p/+7/6f/y/xcAMwA4ABwADgAOAAkA6f/p/+n//P8SABwACQAOAAQACQDu//f/CQAEAAQAKgAgAAkAAAD3/+7/5P/g/+n/6f/8/xwAHAAvAA4ACQAOABIAHAAOACoAMwAgACoABADy/+n/6f/u/+n/8v/3//f//P8JAAAA7v/u/wAADgAOABIACQD8//f/7v/p/+T/6f/p//z//P8EAAQAEgASAAkAFwAlAA4ABAASAAkA/P/3//z/6f/y/wAA9//8/wAAEgAEAAkABAAOAAAADgAAAA4AAADu/+n//P/y//f/EgAOACoAOAASAA4AAAD8/+7/6f/3/w4A/P8AAO7/6f/k/9v/1v/k/wAAHAAgACAAOAAgAA4A7v/b/+D/zf/I/9v/AAAJAPf/CQAAAOT/4P/p//f/AAAOACAAOAAcAAQA9//p/+D/2//p/+n/9/8XAC8AJQA4AC8ADgD8//L/7v/u/+7/AAAJAAQADgDu/+D/1v/I/8P/0f/y//z/CQAXADgAKgAvABIADgAEAA4ADgASABIABAAqAA4A6f/g/+7/0f/R/+7/9//y/wAAKgAlAPz//P8JAPz/7v/8/wAAAAAEAA4ABAD8/+7/6f/p/+T/8v8AAAAA/P8JAPz/9//8//z/AAAJABcALwAEAAAA9//u/+n/7v/p//L/CQASABIAKgAvABIADgASABcAAAD3/w4ADgAAAAkACQDy/+n/9/8EAPf/CQAzADMAMwAzACAABAAAAPz/7v/p/+n/5P/u/+n/6f/p/+n/6f/u//f/CQAzADMALwA4ACoAKgAlAAAA9/8JAAQA/P/8//z/AADy/+n/7v/y/wkAAAD8/xIALwAcACUAIAAXABcADgAEAAkABADy//f/AAAAAAQADgAgACoAJQAXADgAKgASAC8AEgAJAPf/7v/g/+n/1v/g/9v/8v/8/wkAEgAlAC8AHAAvABIABAAJAAQA7v/3/wAACQD3/wkADgAOAA4AFwAqACoAJQAgACoAEgAXABIACQDy//z/9//3/wkADgASAA4AEgASAAkADgAOABIA/P8JABIA/P8EAAkABAD3//z//P/8/wAAAAAEAAQA/P8JAAkA/P/y//f/6f/p/9v/7v/p/+7//P8AAPf/8v/8/wkAAAASABwAOAAzADMAMwAlAAkAEgAOABIACQAcAC8AAAASAAQA/P/y//f//P/8//L/9//8//f/AAD3//z/9//8/wQACQAJAA4ACQD8//L/AAD8/wkAEgAXADMALwAlAC8ADgAAAPz/AADu/+7//P8AAPf/AAAAAAQAAAAOABIAEgAvADMAEgASAA4ACQDy//z/9//3//z/EgAOAA4ADgAOABIACQAJAAQABAAAAA4ABAAJAAQA/P/u/+7/6f/y//z/8v8OAA4ADgAOABIADgASAAQAAAAAAAAABAD8/wAA/P8EAPz/8v/3/wQACQASAAkACQAEAAkABAD8/wQAAAAAAAkACQD3/wAAAAAEAAQADgAJABwAKgAqACAAKgA9ACAAEgAJAPz/9//y/+7//P/3/wQAAAAXABIAKgAcABwAEgAOAA4AEgAEAAAA/P8AAPf/CQAEAA4AEgASABIAJQA4ACUAMwAcABIAAAD3//z/9//y//L/AAD8//f//P/3/wQAEgAqADgAJQAvADMAIAAJAAkADgAAAAAA/P8OAPf/6f/3/wAACQAOABIAEgAXABIADgASAAkADgAEAAkACQD8/wAAEgAJAPz/AAD3//L//P/3/w4AEgAcABwAHAAOAAkACQAJAAAA/P/8//f//P/u/+n/6f/p/+7/7v/3/wAAAAAOABIADgAXABIADgAOABcACQAAAAkA/P/8/+7/9//3//f/AAAJAAQAEgAXABwAEgAOABIAAAAAAAQA9//8//z/CQAAAAQADgAEABIADgAzABcAIAAqABcAIAAOABcAEgASAA4ABAASAAQAEgD8/wkAAAAAAAAADgAXAC8AHAAqACoAFwAlABIACQAAAPz/8v/p//z//P8AAPz/AAAAAAkAFwAOABcADgAXABIAEgAOAA4AAAD3//L/9/8EAPz/CQAEAAkADgAEAA4AEgAOABIAEgASAAkACQASAAQA9//u//z//P8EAAQACQAOABIAEgASAAAAEgAJABIADgAgACUADgAOAAkA9/8AAPz/BAAEAA4ACQAJAA4AAAASAAQACQAcAA4AIAAqABIADgASAAkAEgAEAAQAEgAEAA4ABAAEAAkADgAJAPz/CQAEAAAACQASAAkAAAAJAPf//P/3//z//P8JAAAABAAAAAAADgAAAAAACQAOAAkADgAXAAkAAAAEAA4ABAAJAPz//P8JAAQAEgAEAPf/BAAAAPf/AAAAAAAACQAJABIADgAOABIAHAAgACoAHAAcAA4ABAAOAAAADgAAAAAAAAAAAAQABAAOAAQACQAEAAkABAAEAAkACQAAAAAACQASAAAAAAAAAA4ACQAAAAQA/P8OAPz/AAD8/wAACQAAAPf//P8EAAAA/P/y//f/DgAJAAkADgASAAkA/P8AAAAA/P/8/wAAAAAJAA4ADgASAA4ADgASAA4AEgAOAA4A/P/8/wAAEgAJAPz/DgAAAPz/CQDu//L/8v/y/wAA/P8AABIAAAAJAA4ADgASAA4ADgAOAAkABAD8/+7/9/8AAAAADgAOABwAEgASABIABAAJAAQADgAXABcADgAOAAkABAAJAAQAFwAOABIADgAOAA4AFwAAABIAIAASAA4ALwAEACUAHAAJABcABAAJAPz/AAD3/wkAAAAAAAkA9/8AAPf//P/8/wAA/P8SAAQABAD3/wQAAAAEAAkABAD8/wAA9/8EAAQABAAOAPz/CQASAAAABAAEAAAACQAEAAkADgAOAAkACQAEAAAA/P8AAAkABAAOABIADgAEAPz/AAAAAPz//P8AAAAA/P8EAPz//P8SAAQACQAJAAQACQD8/wAABAD8/wAAAAD3/wAAAAASAAkAEgAEAA4AEgAOAAkAAAAEABIADgAEAPf/BAAJAAkACQAEAAQA9/8AAAAADgAAAAAAFwAEABcACQAJAAQACQASABIABAASABIACQAXAA4AEgAJAPz//P8JAAQADgAOAAkACQD8/wAAAAD8/wAA/P/8//z//P/8//z/9//3//z//P/3/wQAAAAOAPf/CQAEAAkA/P8EAA4ACQAJAA==\" type=\"audio/wav\" />\n",
              "                    Your browser does not support the audio element.\n",
              "                </audio>\n",
              "              "
            ],
            "text/plain": [
              "<IPython.lib.display.Audio object>"
            ]
          },
          "execution_count": 16,
          "metadata": {},
          "output_type": "execute_result"
        }
      ],
      "source": [
        "ind = 10\n",
        "\n",
        "print(\"Text:\", train_dataset[ind][WORD_KEY])\n",
        "print(\"Phonetics:\", train_dataset[ind][PHONETIC_KEY])\n",
        "print(\"Input array shape:\", train_dataset[ind][AUDIO_KEY][\"array\"].shape)\n",
        "print(\"Sampling rate:\", train_dataset[ind][AUDIO_KEY][\"sampling_rate\"])\n",
        "ipd.Audio(data=train_dataset[ind][AUDIO_KEY][\"array\"], autoplay=False, rate=16000)"
      ]
    },
    {
      "cell_type": "markdown",
      "metadata": {},
      "source": [
        "#### Phonemes vocabulary"
      ]
    },
    {
      "cell_type": "code",
      "execution_count": 17,
      "metadata": {},
      "outputs": [],
      "source": [
        "train_phonetics = [phone for x in train_dataset for phone in x[PHONETIC_KEY].split()]\n",
        "val_phonetics   = [phone for x in val_dataset for phone in x[PHONETIC_KEY].split()]\n",
        "test_phonetics  = [phone for x in test_dataset for phone in x[PHONETIC_KEY].split()]"
      ]
    },
    {
      "cell_type": "code",
      "execution_count": 18,
      "metadata": {},
      "outputs": [
        {
          "name": "stdout",
          "output_type": "stream",
          "text": [
            "{' ': 0, 'aa': 1, 'ae': 2, 'ah': 3, 'aw': 4, 'ay': 5, 'b': 6, 'ch': 7, 'd': 8, 'dh': 9, 'dx': 10, 'eh': 11, 'er': 12, 'ey': 13, 'f': 14, 'g': 15, 'h#': 16, 'hh': 17, 'ih': 18, 'iy': 19, 'jh': 20, 'k': 21, 'l': 22, 'm': 23, 'n': 24, 'ng': 25, 'ow': 26, 'oy': 27, 'p': 28, 'r': 29, 's': 30, 'sh': 31, 't': 32, 'th': 33, 'uh': 34, 'uw': 35, 'v': 36, 'w': 37, 'y': 38, 'z': 39}\n"
          ]
        }
      ],
      "source": [
        "vocab_list = list(set(train_phonetics) | set(val_phonetics) | set(test_phonetics) | set([' ']))\n",
        "\n",
        "vocab_dict = {v: k for k, v in enumerate(sorted(vocab_list))}\n",
        "print(vocab_dict)"
      ]
    },
    {
      "cell_type": "code",
      "execution_count": 19,
      "metadata": {},
      "outputs": [
        {
          "name": "stdout",
          "output_type": "stream",
          "text": [
            "42\n"
          ]
        }
      ],
      "source": [
        "vocab_dict[\"|\"] = vocab_dict[\" \"]\n",
        "del vocab_dict[\" \"]\n",
        "\n",
        "vocab_dict[\"[UNK]\"] = len(vocab_dict)\n",
        "vocab_dict[\"[PAD]\"] = len(vocab_dict)\n",
        "print(len(vocab_dict))"
      ]
    },
    {
      "cell_type": "code",
      "execution_count": 20,
      "metadata": {},
      "outputs": [],
      "source": [
        "with open('./vocab.json', 'w') as vocab_file:\n",
        "    json.dump(vocab_dict, vocab_file)"
      ]
    },
    {
      "cell_type": "code",
      "execution_count": 21,
      "metadata": {},
      "outputs": [],
      "source": [
        "del df\n",
        "del df_test\n",
        "del df_train"
      ]
    },
    {
      "cell_type": "markdown",
      "metadata": {},
      "source": [
        "# Modeling"
      ]
    },
    {
      "cell_type": "code",
      "execution_count": 22,
      "metadata": {},
      "outputs": [],
      "source": [
        "tokenizer = Wav2Vec2CTCTokenizer(\"./vocab.json\", unk_token=\"[UNK]\", pad_token=\"[PAD]\", word_delimiter_token=\"|\")\n",
        "feature_extractor = Wav2Vec2FeatureExtractor(feature_size=1, \n",
        "                                             sampling_rate=16000, \n",
        "                                             padding_value=0.0, \n",
        "                                             do_normalize=True, \n",
        "                                             return_attention_mask=True)\n",
        "processor = Wav2Vec2Processor(feature_extractor=feature_extractor, tokenizer=tokenizer)"
      ]
    },
    {
      "cell_type": "code",
      "execution_count": 23,
      "metadata": {},
      "outputs": [],
      "source": [
        "def prepare_dataset(batch):\n",
        "    audio = batch[AUDIO_KEY]\n",
        "    \n",
        "    batch[\"input_values\"] = processor(audio[\"array\"], sampling_rate=audio[\"sampling_rate\"]).input_values[0]\n",
        "    batch[\"input_length\"] = len(batch[\"input_values\"])\n",
        "    \n",
        "    with processor.as_target_processor():\n",
        "        batch[\"labels\"] = processor(batch[\"phonetic\"]).input_ids\n",
        "    return batch"
      ]
    },
    {
      "cell_type": "code",
      "execution_count": 24,
      "metadata": {},
      "outputs": [
        {
          "name": "stderr",
          "output_type": "stream",
          "text": [
            "Map:   0%|          | 0/1512 [00:00<?, ? examples/s]/home/artur/files/Audio Processing/phoneme_recognition/venv/lib/python3.10/site-packages/transformers/models/wav2vec2/processing_wav2vec2.py:174: UserWarning: `as_target_processor` is deprecated and will be removed in v5 of Transformers. You can process your labels by using the argument `text` of the regular `__call__` method (either in the same call as your audio inputs, or in a separate call.\n",
            "  warnings.warn(\n",
            "Map: 100%|██████████| 1512/1512 [01:08<00:00, 21.98 examples/s]\n",
            "Map: 100%|██████████| 168/168 [00:07<00:00, 23.37 examples/s]\n",
            "Map: 100%|██████████| 1680/1680 [01:11<00:00, 23.57 examples/s]\n"
          ]
        }
      ],
      "source": [
        "train_dataset = train_dataset.map(prepare_dataset)\n",
        "val_dataset   = val_dataset.map(prepare_dataset)\n",
        "test_dataset  = test_dataset.map(prepare_dataset)"
      ]
    },
    {
      "cell_type": "code",
      "execution_count": 25,
      "metadata": {},
      "outputs": [],
      "source": [
        "@dataclass\n",
        "class DataCollatorCTCWithPadding:\n",
        "    \"\"\"\n",
        "    Data collator that will dynamically pad the inputs received.\n",
        "    Args:\n",
        "        processor (:class:`~transformers.Wav2Vec2Processor`)\n",
        "            The processor used for proccessing the data.\n",
        "        padding (:obj:`bool`, :obj:`str` or :class:`~transformers.tokenization_utils_base.PaddingStrategy`, `optional`, defaults to :obj:`True`):\n",
        "            Select a strategy to pad the returned sequences (according to the model's padding side and padding index)\n",
        "            among:\n",
        "            * :obj:`True` or :obj:`'longest'`: Pad to the longest sequence in the batch (or no padding if only a single\n",
        "              sequence if provided).\n",
        "            * :obj:`'max_length'`: Pad to a maximum length specified with the argument :obj:`max_length` or to the\n",
        "              maximum acceptable input length for the model if that argument is not provided.\n",
        "            * :obj:`False` or :obj:`'do_not_pad'` (default): No padding (i.e., can output a batch with sequences of\n",
        "              different lengths).\n",
        "    \"\"\"\n",
        "\n",
        "    processor: Wav2Vec2Processor\n",
        "    padding: Union[bool, str] = True\n",
        "\n",
        "    def __call__(self, features: List[Dict[str, Union[List[int], torch.Tensor]]]) -> Dict[str, torch.Tensor]:\n",
        "        input_features = [{\"input_values\": feature[\"input_values\"]} for feature in features]\n",
        "        label_features = [{\"input_ids\": feature[\"labels\"]} for feature in features]\n",
        "\n",
        "        batch = self.processor.pad(\n",
        "            input_features,\n",
        "            padding=self.padding,\n",
        "            return_tensors=\"pt\",\n",
        "        )\n",
        "\n",
        "        with self.processor.as_target_processor():\n",
        "            labels_batch = self.processor.pad(\n",
        "                label_features,\n",
        "                padding=self.padding,\n",
        "                return_tensors=\"pt\",\n",
        "            )\n",
        "\n",
        "        labels = labels_batch[\"input_ids\"].masked_fill(labels_batch.attention_mask.ne(1), -100)\n",
        "        batch[\"labels\"] = labels\n",
        "\n",
        "        return batch"
      ]
    },
    {
      "cell_type": "code",
      "execution_count": 26,
      "metadata": {},
      "outputs": [],
      "source": [
        "def calculate_metric(eval_pred: EvalPrediction) -> Dict[str, float]:\n",
        "    pred_logits = eval_pred.predictions\n",
        "    pred_ids = np.argmax(pred_logits, axis=-1)\n",
        "    \n",
        "    eval_pred.label_ids[eval_pred.label_ids == -100] = tokenizer.pad_token_id\n",
        "    \n",
        "    pred_str = tokenizer.batch_decode(pred_ids)\n",
        "    label_str = tokenizer.batch_decode(eval_pred.label_ids, group_tokens=False)\n",
        "    \n",
        "    per = wer(hypothesis=pred_str, reference=label_str)\n",
        "    return {\n",
        "        \"per\": per\n",
        "    }"
      ]
    },
    {
      "cell_type": "code",
      "execution_count": 28,
      "metadata": {},
      "outputs": [
        {
          "name": "stderr",
          "output_type": "stream",
          "text": [
            "Some weights of Wav2Vec2ForCTC were not initialized from the model checkpoint at facebook/wav2vec2-base and are newly initialized: ['lm_head.bias', 'lm_head.weight']\n",
            "You should probably TRAIN this model on a down-stream task to be able to use it for predictions and inference.\n"
          ]
        }
      ],
      "source": [
        "data_collator = DataCollatorCTCWithPadding(processor=processor, padding=True)\n",
        "model = Wav2Vec2ForCTC.from_pretrained(\n",
        "    \"facebook/wav2vec2-base\", \n",
        "    ctc_loss_reduction=\"mean\", \n",
        "    pad_token_id=processor.tokenizer.pad_token_id,\n",
        "    vocab_size = len(vocab_dict)\n",
        ")"
      ]
    },
    {
      "cell_type": "code",
      "execution_count": 29,
      "metadata": {},
      "outputs": [],
      "source": [
        "model.freeze_feature_encoder()"
      ]
    },
    {
      "cell_type": "code",
      "execution_count": 30,
      "metadata": {},
      "outputs": [],
      "source": [
        "LEARNING_RATE = 1e-4\n",
        "BATCH_SIZE    = 8\n",
        "EPOCHS        = 20\n",
        "\n",
        "training_args = TrainingArguments(\n",
        "    output_dir=\"./results\",\n",
        "    push_to_hub=False,\n",
        "    group_by_length=True,\n",
        "    per_device_train_batch_size=BATCH_SIZE,\n",
        "    num_train_epochs=EPOCHS,\n",
        "    eval_strategy=\"steps\",\n",
        "    fp16=True,\n",
        "    gradient_checkpointing=True,\n",
        "    save_steps=500,\n",
        "    eval_steps=500,\n",
        "    logging_steps=500,\n",
        "    learning_rate=LEARNING_RATE,\n",
        "    warmup_steps=1000,\n",
        "    load_best_model_at_end=True,\n",
        "    no_cuda=False\n",
        "    )"
      ]
    },
    {
      "cell_type": "code",
      "execution_count": 31,
      "metadata": {},
      "outputs": [
        {
          "name": "stderr",
          "output_type": "stream",
          "text": [
            "/tmp/ipykernel_14079/3079829449.py:1: FutureWarning: `tokenizer` is deprecated and will be removed in version 5.0.0 for `Trainer.__init__`. Use `processing_class` instead.\n",
            "  trainer = Trainer(\n"
          ]
        }
      ],
      "source": [
        "trainer = Trainer(\n",
        "    model=model,\n",
        "    data_collator=data_collator,\n",
        "    args=training_args,\n",
        "    compute_metrics=calculate_metric,\n",
        "    train_dataset=train_dataset,\n",
        "    eval_dataset=val_dataset,\n",
        "    tokenizer=processor.feature_extractor\n",
        ")"
      ]
    },
    {
      "cell_type": "code",
      "execution_count": 34,
      "metadata": {},
      "outputs": [
        {
          "name": "stderr",
          "output_type": "stream",
          "text": [
            "/home/artur/files/Audio Processing/phoneme_recognition/venv/lib/python3.10/site-packages/transformers/models/wav2vec2/processing_wav2vec2.py:174: UserWarning: `as_target_processor` is deprecated and will be removed in v5 of Transformers. You can process your labels by using the argument `text` of the regular `__call__` method (either in the same call as your audio inputs, or in a separate call.\n",
            "  warnings.warn(\n"
          ]
        },
        {
          "data": {
            "text/html": [
              "\n",
              "    <div>\n",
              "      \n",
              "      <progress value='3780' max='3780' style='width:300px; height:20px; vertical-align: middle;'></progress>\n",
              "      [3780/3780 23:50, Epoch 20/20]\n",
              "    </div>\n",
              "    <table border=\"1\" class=\"dataframe\">\n",
              "  <thead>\n",
              " <tr style=\"text-align: left;\">\n",
              "      <th>Step</th>\n",
              "      <th>Training Loss</th>\n",
              "      <th>Validation Loss</th>\n",
              "      <th>Per</th>\n",
              "    </tr>\n",
              "  </thead>\n",
              "  <tbody>\n",
              "    <tr>\n",
              "      <td>500</td>\n",
              "      <td>3.983500</td>\n",
              "      <td>1.474570</td>\n",
              "      <td>1.005034</td>\n",
              "    </tr>\n",
              "    <tr>\n",
              "      <td>1000</td>\n",
              "      <td>0.768700</td>\n",
              "      <td>0.432232</td>\n",
              "      <td>0.750000</td>\n",
              "    </tr>\n",
              "    <tr>\n",
              "      <td>1500</td>\n",
              "      <td>0.393100</td>\n",
              "      <td>0.407089</td>\n",
              "      <td>0.696309</td>\n",
              "    </tr>\n",
              "    <tr>\n",
              "      <td>2000</td>\n",
              "      <td>0.273700</td>\n",
              "      <td>0.437620</td>\n",
              "      <td>0.677852</td>\n",
              "    </tr>\n",
              "    <tr>\n",
              "      <td>2500</td>\n",
              "      <td>0.208100</td>\n",
              "      <td>0.458755</td>\n",
              "      <td>0.652685</td>\n",
              "    </tr>\n",
              "    <tr>\n",
              "      <td>3000</td>\n",
              "      <td>0.157400</td>\n",
              "      <td>0.476359</td>\n",
              "      <td>0.674497</td>\n",
              "    </tr>\n",
              "    <tr>\n",
              "      <td>3500</td>\n",
              "      <td>0.123600</td>\n",
              "      <td>0.501159</td>\n",
              "      <td>0.666107</td>\n",
              "    </tr>\n",
              "  </tbody>\n",
              "</table><p>"
            ],
            "text/plain": [
              "<IPython.core.display.HTML object>"
            ]
          },
          "metadata": {},
          "output_type": "display_data"
        },
        {
          "name": "stderr",
          "output_type": "stream",
          "text": [
            "/home/artur/files/Audio Processing/phoneme_recognition/venv/lib/python3.10/site-packages/transformers/models/wav2vec2/processing_wav2vec2.py:174: UserWarning: `as_target_processor` is deprecated and will be removed in v5 of Transformers. You can process your labels by using the argument `text` of the regular `__call__` method (either in the same call as your audio inputs, or in a separate call.\n",
            "  warnings.warn(\n",
            "/home/artur/files/Audio Processing/phoneme_recognition/venv/lib/python3.10/site-packages/transformers/models/wav2vec2/processing_wav2vec2.py:174: UserWarning: `as_target_processor` is deprecated and will be removed in v5 of Transformers. You can process your labels by using the argument `text` of the regular `__call__` method (either in the same call as your audio inputs, or in a separate call.\n",
            "  warnings.warn(\n",
            "/home/artur/files/Audio Processing/phoneme_recognition/venv/lib/python3.10/site-packages/transformers/models/wav2vec2/processing_wav2vec2.py:174: UserWarning: `as_target_processor` is deprecated and will be removed in v5 of Transformers. You can process your labels by using the argument `text` of the regular `__call__` method (either in the same call as your audio inputs, or in a separate call.\n",
            "  warnings.warn(\n",
            "/home/artur/files/Audio Processing/phoneme_recognition/venv/lib/python3.10/site-packages/transformers/models/wav2vec2/processing_wav2vec2.py:174: UserWarning: `as_target_processor` is deprecated and will be removed in v5 of Transformers. You can process your labels by using the argument `text` of the regular `__call__` method (either in the same call as your audio inputs, or in a separate call.\n",
            "  warnings.warn(\n",
            "/home/artur/files/Audio Processing/phoneme_recognition/venv/lib/python3.10/site-packages/transformers/models/wav2vec2/processing_wav2vec2.py:174: UserWarning: `as_target_processor` is deprecated and will be removed in v5 of Transformers. You can process your labels by using the argument `text` of the regular `__call__` method (either in the same call as your audio inputs, or in a separate call.\n",
            "  warnings.warn(\n",
            "/home/artur/files/Audio Processing/phoneme_recognition/venv/lib/python3.10/site-packages/transformers/models/wav2vec2/processing_wav2vec2.py:174: UserWarning: `as_target_processor` is deprecated and will be removed in v5 of Transformers. You can process your labels by using the argument `text` of the regular `__call__` method (either in the same call as your audio inputs, or in a separate call.\n",
            "  warnings.warn(\n",
            "/home/artur/files/Audio Processing/phoneme_recognition/venv/lib/python3.10/site-packages/transformers/models/wav2vec2/processing_wav2vec2.py:174: UserWarning: `as_target_processor` is deprecated and will be removed in v5 of Transformers. You can process your labels by using the argument `text` of the regular `__call__` method (either in the same call as your audio inputs, or in a separate call.\n",
            "  warnings.warn(\n"
          ]
        },
        {
          "data": {
            "text/plain": [
              "TrainOutput(global_step=3780, training_loss=0.7892151948636171, metrics={'train_runtime': 1431.5519, 'train_samples_per_second': 21.124, 'train_steps_per_second': 2.64, 'total_flos': 8.573756131965979e+17, 'train_loss': 0.7892151948636171, 'epoch': 20.0})"
            ]
          },
          "execution_count": 34,
          "metadata": {},
          "output_type": "execute_result"
        }
      ],
      "source": [
        "trainer.train()"
      ]
    },
    {
      "cell_type": "code",
      "execution_count": 39,
      "metadata": {},
      "outputs": [
        {
          "name": "stderr",
          "output_type": "stream",
          "text": [
            "/home/artur/files/Audio Processing/phoneme_recognition/venv/lib/python3.10/site-packages/transformers/models/wav2vec2/processing_wav2vec2.py:174: UserWarning: `as_target_processor` is deprecated and will be removed in v5 of Transformers. You can process your labels by using the argument `text` of the regular `__call__` method (either in the same call as your audio inputs, or in a separate call.\n",
            "  warnings.warn(\n"
          ]
        },
        {
          "data": {
            "text/html": [
              "\n",
              "    <div>\n",
              "      \n",
              "      <progress value='210' max='210' style='width:300px; height:20px; vertical-align: middle;'></progress>\n",
              "      [210/210 00:45]\n",
              "    </div>\n",
              "    "
            ],
            "text/plain": [
              "<IPython.core.display.HTML object>"
            ]
          },
          "metadata": {},
          "output_type": "display_data"
        },
        {
          "data": {
            "text/plain": [
              "{'eval_loss': 0.40407517552375793,\n",
              " 'eval_per': 0.6711718874224837,\n",
              " 'eval_runtime': 48.1282,\n",
              " 'eval_samples_per_second': 34.907,\n",
              " 'eval_steps_per_second': 4.363,\n",
              " 'epoch': 20.0}"
            ]
          },
          "execution_count": 39,
          "metadata": {},
          "output_type": "execute_result"
        }
      ],
      "source": [
        "trainer.evaluate(test_dataset)"
      ]
    }
  ],
  "metadata": {
    "colab": {
      "provenance": []
    },
    "kernelspec": {
      "display_name": "venv",
      "language": "python",
      "name": "python3"
    },
    "language_info": {
      "codemirror_mode": {
        "name": "ipython",
        "version": 3
      },
      "file_extension": ".py",
      "mimetype": "text/x-python",
      "name": "python",
      "nbconvert_exporter": "python",
      "pygments_lexer": "ipython3",
      "version": "3.10.4"
    }
  },
  "nbformat": 4,
  "nbformat_minor": 0
}
