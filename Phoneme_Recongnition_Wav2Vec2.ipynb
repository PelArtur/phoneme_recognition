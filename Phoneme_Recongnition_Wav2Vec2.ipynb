{
  "cells": [
    {
      "cell_type": "markdown",
      "metadata": {
        "id": "StXZSUnaEGtg"
      },
      "source": [
        "# Installations"
      ]
    },
    {
      "cell_type": "markdown",
      "metadata": {
        "id": "pvLdgP4-ELUY"
      },
      "source": [
        "Install and unzip TIMIT dataset from google drive"
      ]
    },
    {
      "cell_type": "code",
      "execution_count": 1,
      "metadata": {
        "colab": {
          "base_uri": "https://localhost:8080/"
        },
        "id": "vkoS_i1b_SOm",
        "outputId": "3e4efdf4-cf36-40b8-ba67-5529db41cd0f"
      },
      "outputs": [],
      "source": [
        "# ! gdown 15Nq4PdOY7h8AP54ge3EurUPKa91jvezc"
      ]
    },
    {
      "cell_type": "code",
      "execution_count": 2,
      "metadata": {
        "colab": {
          "base_uri": "https://localhost:8080/"
        },
        "collapsed": true,
        "id": "QW6jqeKxEQJC",
        "outputId": "dc4b47a6-1341-4fd2-b9ab-9cbfbbfccfc3"
      },
      "outputs": [],
      "source": [
        "# ! unzip timit.zip -d ./timit/"
      ]
    },
    {
      "cell_type": "code",
      "execution_count": 3,
      "metadata": {
        "id": "SJZEUhnrExIA"
      },
      "outputs": [
        {
          "name": "stderr",
          "output_type": "stream",
          "text": [
            "/home/artur/files/Audio Processing/phoneme_recognition/venv/lib/python3.10/site-packages/tqdm/auto.py:21: TqdmWarning: IProgress not found. Please update jupyter and ipywidgets. See https://ipywidgets.readthedocs.io/en/stable/user_install.html\n",
            "  from .autonotebook import tqdm as notebook_tqdm\n"
          ]
        }
      ],
      "source": [
        "import os\n",
        "import random\n",
        "import json\n",
        "from tqdm import tqdm\n",
        "\n",
        "import numpy as np\n",
        "import pandas as pd\n",
        "import matplotlib.pyplot as plt\n",
        "\n",
        "import IPython.display as ipd\n",
        "import librosa\n",
        "import soundfile as sf\n",
        "import datasets\n",
        "\n",
        "import torch\n",
        "import torch.nn as nn\n",
        "from transformers import Wav2Vec2Model, Wav2Vec2FeatureExtractor, Wav2Vec2CTCTokenizer, Wav2Vec2Processor\n",
        "from jiwer import wer\n",
        "\n",
        "\n",
        "from typing import List, Tuple, Set, Dict\n",
        "%matplotlib inline"
      ]
    },
    {
      "cell_type": "markdown",
      "metadata": {
        "id": "6bPvl5CjIgvr"
      },
      "source": [
        "# Dataset"
      ]
    },
    {
      "cell_type": "markdown",
      "metadata": {},
      "source": [
        "This section contains a modified version of the original function, adapted from [here](https://www.kaggle.com/code/vitouphy/phoneme-recognition-with-wav2vec2/notebook) and [here](https://huggingface.co/blog/fine-tune-wav2vec2-english) to fit our specific task requirements."
      ]
    },
    {
      "cell_type": "code",
      "execution_count": 4,
      "metadata": {
        "id": "rNaubFxdGci4"
      },
      "outputs": [],
      "source": [
        "timit_path = \"./timit/\"\n",
        "timit_data_path = \"./timit/data/\""
      ]
    },
    {
      "cell_type": "code",
      "execution_count": 5,
      "metadata": {
        "id": "CTpTI0ePGn7n"
      },
      "outputs": [],
      "source": [
        "df_train = pd.read_csv(os.path.join(timit_path, 'train_data.csv'))\n",
        "df_test = pd.read_csv(os.path.join(timit_path, 'test_data.csv'))\n",
        "df = pd.concat([df_train, df_test])\n",
        "df = df[df['is_converted_audio'] == False]"
      ]
    },
    {
      "cell_type": "code",
      "execution_count": 6,
      "metadata": {
        "id": "d61_zQrgGy5t"
      },
      "outputs": [],
      "source": [
        "df_train = df[df['test_or_train'] == \"TRAIN\"]\n",
        "df_test  = df[df['test_or_train'] == \"TEST\"]"
      ]
    },
    {
      "cell_type": "code",
      "execution_count": 7,
      "metadata": {
        "colab": {
          "base_uri": "https://localhost:8080/",
          "height": 443
        },
        "id": "DIpz5ekAOkZy",
        "outputId": "bbdb3ae1-44e7-47cc-d424-ce9af80116e2"
      },
      "outputs": [
        {
          "data": {
            "text/html": [
              "<div>\n",
              "<style scoped>\n",
              "    .dataframe tbody tr th:only-of-type {\n",
              "        vertical-align: middle;\n",
              "    }\n",
              "\n",
              "    .dataframe tbody tr th {\n",
              "        vertical-align: top;\n",
              "    }\n",
              "\n",
              "    .dataframe thead th {\n",
              "        text-align: right;\n",
              "    }\n",
              "</style>\n",
              "<table border=\"1\" class=\"dataframe\">\n",
              "  <thead>\n",
              "    <tr style=\"text-align: right;\">\n",
              "      <th></th>\n",
              "      <th>index</th>\n",
              "      <th>test_or_train</th>\n",
              "      <th>dialect_region</th>\n",
              "      <th>speaker_id</th>\n",
              "      <th>filename</th>\n",
              "      <th>path_from_data_dir</th>\n",
              "      <th>path_from_data_dir_windows</th>\n",
              "      <th>is_converted_audio</th>\n",
              "      <th>is_audio</th>\n",
              "      <th>is_word_file</th>\n",
              "      <th>is_phonetic_file</th>\n",
              "      <th>is_sentence_file</th>\n",
              "    </tr>\n",
              "  </thead>\n",
              "  <tbody>\n",
              "    <tr>\n",
              "      <th>1</th>\n",
              "      <td>2.0</td>\n",
              "      <td>TRAIN</td>\n",
              "      <td>DR4</td>\n",
              "      <td>MMDM0</td>\n",
              "      <td>SI1311.PHN</td>\n",
              "      <td>TRAIN/DR4/MMDM0/SI1311.PHN</td>\n",
              "      <td>TRAIN\\\\DR4\\\\MMDM0\\\\SI1311.PHN</td>\n",
              "      <td>False</td>\n",
              "      <td>False</td>\n",
              "      <td>False</td>\n",
              "      <td>True</td>\n",
              "      <td>False</td>\n",
              "    </tr>\n",
              "    <tr>\n",
              "      <th>2</th>\n",
              "      <td>3.0</td>\n",
              "      <td>TRAIN</td>\n",
              "      <td>DR4</td>\n",
              "      <td>MMDM0</td>\n",
              "      <td>SI1311.WRD</td>\n",
              "      <td>TRAIN/DR4/MMDM0/SI1311.WRD</td>\n",
              "      <td>TRAIN\\\\DR4\\\\MMDM0\\\\SI1311.WRD</td>\n",
              "      <td>False</td>\n",
              "      <td>False</td>\n",
              "      <td>True</td>\n",
              "      <td>False</td>\n",
              "      <td>False</td>\n",
              "    </tr>\n",
              "    <tr>\n",
              "      <th>3</th>\n",
              "      <td>4.0</td>\n",
              "      <td>TRAIN</td>\n",
              "      <td>DR4</td>\n",
              "      <td>MMDM0</td>\n",
              "      <td>SX321.PHN</td>\n",
              "      <td>TRAIN/DR4/MMDM0/SX321.PHN</td>\n",
              "      <td>TRAIN\\\\DR4\\\\MMDM0\\\\SX321.PHN</td>\n",
              "      <td>False</td>\n",
              "      <td>False</td>\n",
              "      <td>False</td>\n",
              "      <td>True</td>\n",
              "      <td>False</td>\n",
              "    </tr>\n",
              "    <tr>\n",
              "      <th>4</th>\n",
              "      <td>5.0</td>\n",
              "      <td>TRAIN</td>\n",
              "      <td>DR4</td>\n",
              "      <td>MMDM0</td>\n",
              "      <td>SX321.WRD</td>\n",
              "      <td>TRAIN/DR4/MMDM0/SX321.WRD</td>\n",
              "      <td>TRAIN\\\\DR4\\\\MMDM0\\\\SX321.WRD</td>\n",
              "      <td>False</td>\n",
              "      <td>False</td>\n",
              "      <td>True</td>\n",
              "      <td>False</td>\n",
              "      <td>False</td>\n",
              "    </tr>\n",
              "    <tr>\n",
              "      <th>5</th>\n",
              "      <td>6.0</td>\n",
              "      <td>TRAIN</td>\n",
              "      <td>DR4</td>\n",
              "      <td>MMDM0</td>\n",
              "      <td>SI681.TXT</td>\n",
              "      <td>TRAIN/DR4/MMDM0/SI681.TXT</td>\n",
              "      <td>TRAIN\\\\DR4\\\\MMDM0\\\\SI681.TXT</td>\n",
              "      <td>False</td>\n",
              "      <td>False</td>\n",
              "      <td>False</td>\n",
              "      <td>False</td>\n",
              "      <td>True</td>\n",
              "    </tr>\n",
              "    <tr>\n",
              "      <th>...</th>\n",
              "      <td>...</td>\n",
              "      <td>...</td>\n",
              "      <td>...</td>\n",
              "      <td>...</td>\n",
              "      <td>...</td>\n",
              "      <td>...</td>\n",
              "      <td>...</td>\n",
              "      <td>...</td>\n",
              "      <td>...</td>\n",
              "      <td>...</td>\n",
              "      <td>...</td>\n",
              "      <td>...</td>\n",
              "    </tr>\n",
              "    <tr>\n",
              "      <th>23093</th>\n",
              "      <td>23094.0</td>\n",
              "      <td>TRAIN</td>\n",
              "      <td>DR8</td>\n",
              "      <td>MRDM0</td>\n",
              "      <td>SX245.TXT</td>\n",
              "      <td>TRAIN/DR8/MRDM0/SX245.TXT</td>\n",
              "      <td>TRAIN\\\\DR8\\\\MRDM0\\\\SX245.TXT</td>\n",
              "      <td>False</td>\n",
              "      <td>False</td>\n",
              "      <td>False</td>\n",
              "      <td>NaN</td>\n",
              "      <td>True</td>\n",
              "    </tr>\n",
              "    <tr>\n",
              "      <th>23094</th>\n",
              "      <td>23095.0</td>\n",
              "      <td>TRAIN</td>\n",
              "      <td>DR8</td>\n",
              "      <td>MRDM0</td>\n",
              "      <td>SI1044.PHN</td>\n",
              "      <td>TRAIN/DR8/MRDM0/SI1044.PHN</td>\n",
              "      <td>TRAIN\\\\DR8\\\\MRDM0\\\\SI1044.PHN</td>\n",
              "      <td>False</td>\n",
              "      <td>False</td>\n",
              "      <td>False</td>\n",
              "      <td>NaN</td>\n",
              "      <td>False</td>\n",
              "    </tr>\n",
              "    <tr>\n",
              "      <th>23096</th>\n",
              "      <td>23097.0</td>\n",
              "      <td>TRAIN</td>\n",
              "      <td>DR8</td>\n",
              "      <td>MRDM0</td>\n",
              "      <td>SX245.WAV</td>\n",
              "      <td>TRAIN/DR8/MRDM0/SX245.WAV</td>\n",
              "      <td>TRAIN\\\\DR8\\\\MRDM0\\\\SX245.WAV</td>\n",
              "      <td>False</td>\n",
              "      <td>True</td>\n",
              "      <td>False</td>\n",
              "      <td>NaN</td>\n",
              "      <td>False</td>\n",
              "    </tr>\n",
              "    <tr>\n",
              "      <th>23098</th>\n",
              "      <td>23099.0</td>\n",
              "      <td>TRAIN</td>\n",
              "      <td>DR8</td>\n",
              "      <td>MRDM0</td>\n",
              "      <td>SX335.WAV</td>\n",
              "      <td>TRAIN/DR8/MRDM0/SX335.WAV</td>\n",
              "      <td>TRAIN\\\\DR8\\\\MRDM0\\\\SX335.WAV</td>\n",
              "      <td>False</td>\n",
              "      <td>True</td>\n",
              "      <td>False</td>\n",
              "      <td>NaN</td>\n",
              "      <td>False</td>\n",
              "    </tr>\n",
              "    <tr>\n",
              "      <th>23099</th>\n",
              "      <td>23100.0</td>\n",
              "      <td>TRAIN</td>\n",
              "      <td>DR8</td>\n",
              "      <td>MRDM0</td>\n",
              "      <td>SX335.TXT</td>\n",
              "      <td>TRAIN/DR8/MRDM0/SX335.TXT</td>\n",
              "      <td>TRAIN\\\\DR8\\\\MRDM0\\\\SX335.TXT</td>\n",
              "      <td>False</td>\n",
              "      <td>False</td>\n",
              "      <td>False</td>\n",
              "      <td>NaN</td>\n",
              "      <td>True</td>\n",
              "    </tr>\n",
              "  </tbody>\n",
              "</table>\n",
              "<p>18480 rows × 12 columns</p>\n",
              "</div>"
            ],
            "text/plain": [
              "         index test_or_train dialect_region speaker_id    filename  \\\n",
              "1          2.0         TRAIN            DR4      MMDM0  SI1311.PHN   \n",
              "2          3.0         TRAIN            DR4      MMDM0  SI1311.WRD   \n",
              "3          4.0         TRAIN            DR4      MMDM0   SX321.PHN   \n",
              "4          5.0         TRAIN            DR4      MMDM0   SX321.WRD   \n",
              "5          6.0         TRAIN            DR4      MMDM0   SI681.TXT   \n",
              "...        ...           ...            ...        ...         ...   \n",
              "23093  23094.0         TRAIN            DR8      MRDM0   SX245.TXT   \n",
              "23094  23095.0         TRAIN            DR8      MRDM0  SI1044.PHN   \n",
              "23096  23097.0         TRAIN            DR8      MRDM0   SX245.WAV   \n",
              "23098  23099.0         TRAIN            DR8      MRDM0   SX335.WAV   \n",
              "23099  23100.0         TRAIN            DR8      MRDM0   SX335.TXT   \n",
              "\n",
              "               path_from_data_dir     path_from_data_dir_windows  \\\n",
              "1      TRAIN/DR4/MMDM0/SI1311.PHN  TRAIN\\\\DR4\\\\MMDM0\\\\SI1311.PHN   \n",
              "2      TRAIN/DR4/MMDM0/SI1311.WRD  TRAIN\\\\DR4\\\\MMDM0\\\\SI1311.WRD   \n",
              "3       TRAIN/DR4/MMDM0/SX321.PHN   TRAIN\\\\DR4\\\\MMDM0\\\\SX321.PHN   \n",
              "4       TRAIN/DR4/MMDM0/SX321.WRD   TRAIN\\\\DR4\\\\MMDM0\\\\SX321.WRD   \n",
              "5       TRAIN/DR4/MMDM0/SI681.TXT   TRAIN\\\\DR4\\\\MMDM0\\\\SI681.TXT   \n",
              "...                           ...                            ...   \n",
              "23093   TRAIN/DR8/MRDM0/SX245.TXT   TRAIN\\\\DR8\\\\MRDM0\\\\SX245.TXT   \n",
              "23094  TRAIN/DR8/MRDM0/SI1044.PHN  TRAIN\\\\DR8\\\\MRDM0\\\\SI1044.PHN   \n",
              "23096   TRAIN/DR8/MRDM0/SX245.WAV   TRAIN\\\\DR8\\\\MRDM0\\\\SX245.WAV   \n",
              "23098   TRAIN/DR8/MRDM0/SX335.WAV   TRAIN\\\\DR8\\\\MRDM0\\\\SX335.WAV   \n",
              "23099   TRAIN/DR8/MRDM0/SX335.TXT   TRAIN\\\\DR8\\\\MRDM0\\\\SX335.TXT   \n",
              "\n",
              "      is_converted_audio is_audio is_word_file is_phonetic_file  \\\n",
              "1                  False    False        False             True   \n",
              "2                  False    False         True            False   \n",
              "3                  False    False        False             True   \n",
              "4                  False    False         True            False   \n",
              "5                  False    False        False            False   \n",
              "...                  ...      ...          ...              ...   \n",
              "23093              False    False        False              NaN   \n",
              "23094              False    False        False              NaN   \n",
              "23096              False     True        False              NaN   \n",
              "23098              False     True        False              NaN   \n",
              "23099              False    False        False              NaN   \n",
              "\n",
              "      is_sentence_file  \n",
              "1                False  \n",
              "2                False  \n",
              "3                False  \n",
              "4                False  \n",
              "5                 True  \n",
              "...                ...  \n",
              "23093             True  \n",
              "23094            False  \n",
              "23096            False  \n",
              "23098            False  \n",
              "23099             True  \n",
              "\n",
              "[18480 rows x 12 columns]"
            ]
          },
          "execution_count": 7,
          "metadata": {},
          "output_type": "execute_result"
        }
      ],
      "source": [
        "df_train"
      ]
    },
    {
      "cell_type": "code",
      "execution_count": 8,
      "metadata": {
        "colab": {
          "base_uri": "https://localhost:8080/",
          "height": 443
        },
        "id": "9GGFPMorOl5C",
        "outputId": "12b68a6d-3ebe-4270-9155-32593c707b1c"
      },
      "outputs": [
        {
          "data": {
            "text/html": [
              "<div>\n",
              "<style scoped>\n",
              "    .dataframe tbody tr th:only-of-type {\n",
              "        vertical-align: middle;\n",
              "    }\n",
              "\n",
              "    .dataframe tbody tr th {\n",
              "        vertical-align: top;\n",
              "    }\n",
              "\n",
              "    .dataframe thead th {\n",
              "        text-align: right;\n",
              "    }\n",
              "</style>\n",
              "<table border=\"1\" class=\"dataframe\">\n",
              "  <thead>\n",
              "    <tr style=\"text-align: right;\">\n",
              "      <th></th>\n",
              "      <th>index</th>\n",
              "      <th>test_or_train</th>\n",
              "      <th>dialect_region</th>\n",
              "      <th>speaker_id</th>\n",
              "      <th>filename</th>\n",
              "      <th>path_from_data_dir</th>\n",
              "      <th>path_from_data_dir_windows</th>\n",
              "      <th>is_converted_audio</th>\n",
              "      <th>is_audio</th>\n",
              "      <th>is_word_file</th>\n",
              "      <th>is_phonetic_file</th>\n",
              "      <th>is_sentence_file</th>\n",
              "    </tr>\n",
              "  </thead>\n",
              "  <tbody>\n",
              "    <tr>\n",
              "      <th>0</th>\n",
              "      <td>1.0</td>\n",
              "      <td>TEST</td>\n",
              "      <td>DR4</td>\n",
              "      <td>MGMM0</td>\n",
              "      <td>SX139.WAV</td>\n",
              "      <td>TEST/DR4/MGMM0/SX139.WAV</td>\n",
              "      <td>TEST\\\\DR4\\\\MGMM0\\\\SX139.WAV</td>\n",
              "      <td>False</td>\n",
              "      <td>True</td>\n",
              "      <td>False</td>\n",
              "      <td>False</td>\n",
              "      <td>False</td>\n",
              "    </tr>\n",
              "    <tr>\n",
              "      <th>2</th>\n",
              "      <td>3.0</td>\n",
              "      <td>TEST</td>\n",
              "      <td>DR4</td>\n",
              "      <td>MGMM0</td>\n",
              "      <td>SX139.TXT</td>\n",
              "      <td>TEST/DR4/MGMM0/SX139.TXT</td>\n",
              "      <td>TEST\\\\DR4\\\\MGMM0\\\\SX139.TXT</td>\n",
              "      <td>False</td>\n",
              "      <td>False</td>\n",
              "      <td>False</td>\n",
              "      <td>False</td>\n",
              "      <td>True</td>\n",
              "    </tr>\n",
              "    <tr>\n",
              "      <th>3</th>\n",
              "      <td>4.0</td>\n",
              "      <td>TEST</td>\n",
              "      <td>DR4</td>\n",
              "      <td>MGMM0</td>\n",
              "      <td>SI499.WRD</td>\n",
              "      <td>TEST/DR4/MGMM0/SI499.WRD</td>\n",
              "      <td>TEST\\\\DR4\\\\MGMM0\\\\SI499.WRD</td>\n",
              "      <td>False</td>\n",
              "      <td>False</td>\n",
              "      <td>True</td>\n",
              "      <td>False</td>\n",
              "      <td>False</td>\n",
              "    </tr>\n",
              "    <tr>\n",
              "      <th>4</th>\n",
              "      <td>5.0</td>\n",
              "      <td>TEST</td>\n",
              "      <td>DR4</td>\n",
              "      <td>MGMM0</td>\n",
              "      <td>SX319.WRD</td>\n",
              "      <td>TEST/DR4/MGMM0/SX319.WRD</td>\n",
              "      <td>TEST\\\\DR4\\\\MGMM0\\\\SX319.WRD</td>\n",
              "      <td>False</td>\n",
              "      <td>False</td>\n",
              "      <td>True</td>\n",
              "      <td>False</td>\n",
              "      <td>False</td>\n",
              "    </tr>\n",
              "    <tr>\n",
              "      <th>5</th>\n",
              "      <td>6.0</td>\n",
              "      <td>TEST</td>\n",
              "      <td>DR4</td>\n",
              "      <td>MGMM0</td>\n",
              "      <td>SX319.PHN</td>\n",
              "      <td>TEST/DR4/MGMM0/SX319.PHN</td>\n",
              "      <td>TEST\\\\DR4\\\\MGMM0\\\\SX319.PHN</td>\n",
              "      <td>False</td>\n",
              "      <td>False</td>\n",
              "      <td>False</td>\n",
              "      <td>True</td>\n",
              "      <td>False</td>\n",
              "    </tr>\n",
              "    <tr>\n",
              "      <th>...</th>\n",
              "      <td>...</td>\n",
              "      <td>...</td>\n",
              "      <td>...</td>\n",
              "      <td>...</td>\n",
              "      <td>...</td>\n",
              "      <td>...</td>\n",
              "      <td>...</td>\n",
              "      <td>...</td>\n",
              "      <td>...</td>\n",
              "      <td>...</td>\n",
              "      <td>...</td>\n",
              "      <td>...</td>\n",
              "    </tr>\n",
              "    <tr>\n",
              "      <th>8394</th>\n",
              "      <td>8395.0</td>\n",
              "      <td>TEST</td>\n",
              "      <td>DR8</td>\n",
              "      <td>MPAM0</td>\n",
              "      <td>SX19.WAV</td>\n",
              "      <td>TEST/DR8/MPAM0/SX19.WAV</td>\n",
              "      <td>TEST\\\\DR8\\\\MPAM0\\\\SX19.WAV</td>\n",
              "      <td>False</td>\n",
              "      <td>True</td>\n",
              "      <td>False</td>\n",
              "      <td>False</td>\n",
              "      <td>False</td>\n",
              "    </tr>\n",
              "    <tr>\n",
              "      <th>8395</th>\n",
              "      <td>8396.0</td>\n",
              "      <td>TEST</td>\n",
              "      <td>DR8</td>\n",
              "      <td>MPAM0</td>\n",
              "      <td>SX109.TXT</td>\n",
              "      <td>TEST/DR8/MPAM0/SX109.TXT</td>\n",
              "      <td>TEST\\\\DR8\\\\MPAM0\\\\SX109.TXT</td>\n",
              "      <td>False</td>\n",
              "      <td>False</td>\n",
              "      <td>False</td>\n",
              "      <td>False</td>\n",
              "      <td>True</td>\n",
              "    </tr>\n",
              "    <tr>\n",
              "      <th>8397</th>\n",
              "      <td>8398.0</td>\n",
              "      <td>TEST</td>\n",
              "      <td>DR8</td>\n",
              "      <td>MPAM0</td>\n",
              "      <td>SX289.WRD</td>\n",
              "      <td>TEST/DR8/MPAM0/SX289.WRD</td>\n",
              "      <td>TEST\\\\DR8\\\\MPAM0\\\\SX289.WRD</td>\n",
              "      <td>False</td>\n",
              "      <td>False</td>\n",
              "      <td>True</td>\n",
              "      <td>False</td>\n",
              "      <td>False</td>\n",
              "    </tr>\n",
              "    <tr>\n",
              "      <th>8398</th>\n",
              "      <td>8399.0</td>\n",
              "      <td>TEST</td>\n",
              "      <td>DR8</td>\n",
              "      <td>MPAM0</td>\n",
              "      <td>SX109.WAV</td>\n",
              "      <td>TEST/DR8/MPAM0/SX109.WAV</td>\n",
              "      <td>TEST\\\\DR8\\\\MPAM0\\\\SX109.WAV</td>\n",
              "      <td>False</td>\n",
              "      <td>True</td>\n",
              "      <td>False</td>\n",
              "      <td>False</td>\n",
              "      <td>False</td>\n",
              "    </tr>\n",
              "    <tr>\n",
              "      <th>8399</th>\n",
              "      <td>8400.0</td>\n",
              "      <td>TEST</td>\n",
              "      <td>DR8</td>\n",
              "      <td>MPAM0</td>\n",
              "      <td>SX289.PHN</td>\n",
              "      <td>TEST/DR8/MPAM0/SX289.PHN</td>\n",
              "      <td>TEST\\\\DR8\\\\MPAM0\\\\SX289.PHN</td>\n",
              "      <td>False</td>\n",
              "      <td>False</td>\n",
              "      <td>False</td>\n",
              "      <td>True</td>\n",
              "      <td>False</td>\n",
              "    </tr>\n",
              "  </tbody>\n",
              "</table>\n",
              "<p>6720 rows × 12 columns</p>\n",
              "</div>"
            ],
            "text/plain": [
              "       index test_or_train dialect_region speaker_id   filename  \\\n",
              "0        1.0          TEST            DR4      MGMM0  SX139.WAV   \n",
              "2        3.0          TEST            DR4      MGMM0  SX139.TXT   \n",
              "3        4.0          TEST            DR4      MGMM0  SI499.WRD   \n",
              "4        5.0          TEST            DR4      MGMM0  SX319.WRD   \n",
              "5        6.0          TEST            DR4      MGMM0  SX319.PHN   \n",
              "...      ...           ...            ...        ...        ...   \n",
              "8394  8395.0          TEST            DR8      MPAM0   SX19.WAV   \n",
              "8395  8396.0          TEST            DR8      MPAM0  SX109.TXT   \n",
              "8397  8398.0          TEST            DR8      MPAM0  SX289.WRD   \n",
              "8398  8399.0          TEST            DR8      MPAM0  SX109.WAV   \n",
              "8399  8400.0          TEST            DR8      MPAM0  SX289.PHN   \n",
              "\n",
              "            path_from_data_dir   path_from_data_dir_windows  \\\n",
              "0     TEST/DR4/MGMM0/SX139.WAV  TEST\\\\DR4\\\\MGMM0\\\\SX139.WAV   \n",
              "2     TEST/DR4/MGMM0/SX139.TXT  TEST\\\\DR4\\\\MGMM0\\\\SX139.TXT   \n",
              "3     TEST/DR4/MGMM0/SI499.WRD  TEST\\\\DR4\\\\MGMM0\\\\SI499.WRD   \n",
              "4     TEST/DR4/MGMM0/SX319.WRD  TEST\\\\DR4\\\\MGMM0\\\\SX319.WRD   \n",
              "5     TEST/DR4/MGMM0/SX319.PHN  TEST\\\\DR4\\\\MGMM0\\\\SX319.PHN   \n",
              "...                        ...                          ...   \n",
              "8394   TEST/DR8/MPAM0/SX19.WAV   TEST\\\\DR8\\\\MPAM0\\\\SX19.WAV   \n",
              "8395  TEST/DR8/MPAM0/SX109.TXT  TEST\\\\DR8\\\\MPAM0\\\\SX109.TXT   \n",
              "8397  TEST/DR8/MPAM0/SX289.WRD  TEST\\\\DR8\\\\MPAM0\\\\SX289.WRD   \n",
              "8398  TEST/DR8/MPAM0/SX109.WAV  TEST\\\\DR8\\\\MPAM0\\\\SX109.WAV   \n",
              "8399  TEST/DR8/MPAM0/SX289.PHN  TEST\\\\DR8\\\\MPAM0\\\\SX289.PHN   \n",
              "\n",
              "     is_converted_audio is_audio is_word_file is_phonetic_file  \\\n",
              "0                 False     True        False            False   \n",
              "2                 False    False        False            False   \n",
              "3                 False    False         True            False   \n",
              "4                 False    False         True            False   \n",
              "5                 False    False        False             True   \n",
              "...                 ...      ...          ...              ...   \n",
              "8394              False     True        False            False   \n",
              "8395              False    False        False            False   \n",
              "8397              False    False         True            False   \n",
              "8398              False     True        False            False   \n",
              "8399              False    False        False             True   \n",
              "\n",
              "     is_sentence_file  \n",
              "0               False  \n",
              "2                True  \n",
              "3               False  \n",
              "4               False  \n",
              "5               False  \n",
              "...               ...  \n",
              "8394            False  \n",
              "8395             True  \n",
              "8397            False  \n",
              "8398            False  \n",
              "8399            False  \n",
              "\n",
              "[6720 rows x 12 columns]"
            ]
          },
          "execution_count": 8,
          "metadata": {},
          "output_type": "execute_result"
        }
      ],
      "source": [
        "df_test"
      ]
    },
    {
      "cell_type": "markdown",
      "metadata": {},
      "source": [
        "In this part, we will process the raw data to structure the dataset into three columns:\n",
        "\n",
        "1. Path to the audio file\n",
        "2. Text from the audio\n",
        "3. Corresponding phonemes\n",
        "\n",
        "Additionally, we will filter out any samples lacking phoneme data, as they cannot be used for training or testing without labels."
      ]
    },
    {
      "cell_type": "code",
      "execution_count": 9,
      "metadata": {
        "id": "rgwizHk-JjzO"
      },
      "outputs": [],
      "source": [
        "PHONETIC_KEY: str = \"phonetic\"\n",
        "AUDIO_KEY:    str = \"audio\"\n",
        "WORD_KEY:     str = \"word\"\n",
        "\n",
        "\n",
        "def convert_phon61_to_phon39(sentence: str) -> str:\n",
        "    phon61_map39 = {\n",
        "        'iy':'iy',  'ih':'ih',  'eh':'eh',  'ae':'ae',   'ix':'ih',  'ax':'ah',  'ah':'ah',   'uw':'uw',\n",
        "        'ux':'uw',  'uh':'uh',  'ao':'aa',  'aa':'aa',   'ey':'ey',  'ay':'ay',  'oy':'oy',   'aw':'aw',\n",
        "        'ow':'ow',  'l':'l',    'el':'l',   'r':'r',     'y':'y',    'w':'w',    'er':'er',   'axr':'er',\n",
        "        'm':'m',    'em':'m',   'n':'n',    'nx':'n',    'en':'n',   'ng':'ng',  'eng':'ng',  'ch':'ch',\n",
        "        'jh':'jh',  'dh':'dh',  'b':'b',    'd':'d',     'dx':'dx',  'g':'g',    'p':'p',     't':'t',\n",
        "        'k':'k',    'z':'z',    'zh':'sh',  'v':'v',     'f':'f',    'th':'th',  's':'s',     'sh':'sh',\n",
        "        'hh':'hh',  'hv':'hh',  'pcl':'h#', 'tcl':'h#',  'kcl':'h#', 'qcl':'h#', 'bcl':'h#',  'dcl':'h#',\n",
        "        'gcl':'h#', 'h#':'h#',  '#h':'h#',  'pau':'h#',  'epi':'h#', 'nx':'n',   'ax-h':'ah', 'q':'h#'\n",
        "    }\n",
        "    tokens = [phon61_map39[x] for x in sentence.split()]\n",
        "    return \" \".join(tokens)\n",
        "\n",
        "\n",
        "def read_text_file(filepath: str) -> str:\n",
        "    with open(filepath) as f:\n",
        "        tokens = [line.split()[-1] for line in f]\n",
        "        return \" \".join(tokens)\n",
        "\n",
        "\n",
        "def merge_item_data(df: pd.DataFrame) -> Dict[str, Dict[str, str]]:\n",
        "    data = {}\n",
        "\n",
        "    for _, row in tqdm(df.iterrows()):\n",
        "        path = row['path_from_data_dir']\n",
        "        entry_id = path.split('.')[0]\n",
        "        entry_id = \"-\".join(entry_id.split('/')[-2:])\n",
        "\n",
        "        if entry_id not in data:\n",
        "            data[entry_id] = {}\n",
        "\n",
        "        if row['is_audio'] is True:\n",
        "            data[entry_id][AUDIO_KEY] = os.path.join(timit_data_path, path)\n",
        "        elif row['is_word_file'] is True:\n",
        "            data[entry_id][WORD_KEY] = read_text_file(os.path.join(timit_data_path, path))\n",
        "        elif row['is_phonetic_file'] is True:\n",
        "            phoneme_sentence = read_text_file(os.path.join(timit_data_path, path))\n",
        "            data[entry_id][PHONETIC_KEY] = convert_phon61_to_phon39(phoneme_sentence)\n",
        "    return data\n",
        "\n",
        "\n",
        "def transform_dataset(df: pd.DataFrame) -> Dict[str, List[str]]:\n",
        "    merged_data = merge_item_data(df)\n",
        "\n",
        "    phonetic_files: List[str] = []\n",
        "    audio_files:    List[str] = []\n",
        "    word_files:     List[str] = []\n",
        "    keys_set:       Set[str]  = set([PHONETIC_KEY, AUDIO_KEY, WORD_KEY])\n",
        "\n",
        "    for _, value in merged_data.items():\n",
        "        if set(value) == keys_set:\n",
        "            phonetic_files.append(value[PHONETIC_KEY])\n",
        "            audio_files.append(value[AUDIO_KEY])\n",
        "            word_files.append(value[WORD_KEY])\n",
        "\n",
        "    return {\n",
        "        AUDIO_KEY: audio_files,\n",
        "        WORD_KEY: word_files,\n",
        "        PHONETIC_KEY: phonetic_files\n",
        "    }"
      ]
    },
    {
      "cell_type": "code",
      "execution_count": 10,
      "metadata": {
        "colab": {
          "base_uri": "https://localhost:8080/"
        },
        "id": "fmG03Y3iJy8G",
        "outputId": "512659f6-7fb0-4aca-d048-762d04319a65"
      },
      "outputs": [
        {
          "name": "stderr",
          "output_type": "stream",
          "text": [
            "18480it [00:01, 13227.18it/s]\n",
            "6720it [00:00, 12526.60it/s]\n"
          ]
        }
      ],
      "source": [
        "train_val = transform_dataset(df_train)\n",
        "test = transform_dataset(df_test)"
      ]
    },
    {
      "cell_type": "code",
      "execution_count": 11,
      "metadata": {},
      "outputs": [],
      "source": [
        "random.seed(42)\n",
        "n = len(train_val[AUDIO_KEY])\n",
        "train_n = int(n * 0.9)\n",
        "val_n = n - train_n\n",
        "\n",
        "val_ind = np.array(sorted(random.sample(range(0, n), val_n)))\n",
        "train_ind = np.array(sorted(list(set(range(0, n)) - set(val_ind))))"
      ]
    },
    {
      "cell_type": "code",
      "execution_count": 12,
      "metadata": {},
      "outputs": [],
      "source": [
        "train = dict()\n",
        "val = dict()\n",
        "\n",
        "for key in [AUDIO_KEY, WORD_KEY, PHONETIC_KEY]:\n",
        "    train[key] = np.array(train_val[key])[train_ind].tolist()\n",
        "    val[key]   = np.array(train_val[key])[val_ind].tolist()"
      ]
    },
    {
      "cell_type": "code",
      "execution_count": 13,
      "metadata": {},
      "outputs": [
        {
          "name": "stdout",
          "output_type": "stream",
          "text": [
            "Train set length: 1512\n",
            "Validation set length: 168\n",
            "Test set length: 1680\n"
          ]
        }
      ],
      "source": [
        "print(f\"Train set length: {len(train[AUDIO_KEY])}\")\n",
        "print(f\"Validation set length: {len(val[AUDIO_KEY])}\")\n",
        "print(f\"Test set length: {len(test[AUDIO_KEY])}\")"
      ]
    },
    {
      "cell_type": "markdown",
      "metadata": {},
      "source": [
        "Now let's convert the data to a data type that the model will work with."
      ]
    },
    {
      "cell_type": "code",
      "execution_count": 14,
      "metadata": {},
      "outputs": [],
      "source": [
        "train_dataset = datasets.Dataset.from_dict(train)\n",
        "val_dataset   = datasets.Dataset.from_dict(val)\n",
        "test_dataset  = datasets.Dataset.from_dict(test)"
      ]
    },
    {
      "cell_type": "code",
      "execution_count": 15,
      "metadata": {},
      "outputs": [],
      "source": [
        "train_dataset = train_dataset.cast_column(AUDIO_KEY, datasets.Audio(sampling_rate=16_000))\n",
        "val_dataset   = val_dataset.cast_column(AUDIO_KEY, datasets.Audio(sampling_rate=16_000))\n",
        "test_dataset  = test_dataset.cast_column(AUDIO_KEY, datasets.Audio(sampling_rate=16_000))"
      ]
    },
    {
      "cell_type": "code",
      "execution_count": 16,
      "metadata": {},
      "outputs": [
        {
          "name": "stdout",
          "output_type": "stream",
          "text": [
            "Text: get a calico cat to keep\n",
            "Phonetics: h# g ih dx ih h# k ae l ih h# k ow h# k ae h# t ah h# k iy h# p h#\n",
            "Input array shape: (32359,)\n",
            "Sampling rate: 16000\n"
          ]
        },
        {
          "data": {
            "text/html": [
              "\n",
              "                <audio  controls=\"controls\" >\n",
              "                    <source src=\"data:audio/wav;base64,UklGRvL8AABXQVZFZm10IBAAAAABAAEAgD4AAAB9AAACABAAZGF0Yc78AAAAANH/5P/p/wkAHAAvABIAEgAEAPz/BAAJAAkAEgASABIA/P/y/9H/uv/R/+T/9/8SADMAMwAlAAkA7v/p//L/CQA4ADMAOAAEAO7/6f/g/+n/AAAlADgAMwA4ACUAEgAXADMAMwAzACAADgDy/+7/4P/b/9v/5P/u/+n/7v/p/+T/6f8OABwALwAlADgAIAAzAC8ACQASAAQADgAEAAAA7v/p//L/7v/u//z/CQASAA4AFwAvADMAFwAEAPz/AAAAAPz/CQAEAPf//P8AAPL/7v/u/wAA8v8EAAQAHAAgAO7/AADu/+7/6f/u/+n//P8JAAkAEgAEAPf/AAAOACoAMwAOABIAFwASAA4ADgAOABIAEgAgABIA8v/p/+n/7v/8/xIA/P/8//f/AAAJAPz/DgASAA4AEgAEAPz/7v/y//z//P/p/+n/7v/p/+n/6f/u/+7/BAASAAAA/P/8/+7//P8AAPz/CQD8/+7/AADp//L/DgAlACoAJQAqACAACQASAA4ABAAOAAAA/P/b/+D/1v/p/+n/BAAcABcADgAEABIADgASAAAABAASABIABADu/+n/6f/k/+7/EgAOAC8AMwAzADMAOAAvADgAIAAqABwA/P/y/+D/4P/R/9b/1v/g//L//P8AAA4AEgAOABwAHAAqAA4AEgAcABIA9//p/+n/7v/3/w4AFwAgADgAIAAAAPf/AAAOABcAOAAgAA4ACQAAAPf/6f/3/wAAEgASABIA/P/u/+n/6f/y//f//P8JAA4ACQAEAPz/AAAOAA4ABAASAAkACQAEAO7/9//8//f//P8JAA4AEgASAAkAAAAOAAAAJQASABwADgAJAAkACQAOAAQA8v/3//L//P/3//L/6f/y//f/FwAqAA4AEgAJABIACQAXAA4A8v/p/+7/9//y//L/6f/y/w4ALwAcABwAOAAzAEYAOAAzADMAMwAzAC8AEgAAAOn/7v/k/+7/2//g/+n/7v8JACAAKgAqACUAFwASABIACQD3/+7/7v/p/+7/6f/u/+7/7v8EAA4ADgAJAA4ADgAgAA4ACQAEAAAA7v/p/+D/2//k/+n/9/8XAA4AFwAXABcAIAAqACoAOAAvADgALwA4AAQAJQAcAAQADgAOAAQAAAAOABIACQAOABcADgAcABcACQAEAPz/7v/p//L/CQAEAAAABAD8//z/9//3/w4ADgAOACUAIAAOAAAA5P/u/+n/8v/8//f//P8AAPz/7v/y/+7/AAAXADMAMwAzADMAIAAEAAkABAAAABIAHAAcACAACQD8//f//P/8/wkAAAAEAAAA9//8//f/7v/y/wkAEgD8/wAA9//u//z/CQAOABIAEgAOAAQA/P/3//z/7v/8/xIAEgAJAPz/6f/y/wQAEgAOABIADgAzABcADgAJAPf/8v/8/w4AAAAAAA4A/P/p/+n/6f/u/wAAEgAXABIAEgASABcADgAJAAQACQD8//f/8v/y//L//P/y/wkADgAzAC8AJQA4ACUAOAAgAAkAAAD3/wAA7v/u//L/6f/u//f/7v/g/+T/7v8EABcAKgAvACUACQAAAAAACQAXACAAHAASAAQA9//p/+7/7v/u/wAAEgAJAPz/9//8//f/9/8AABIAEgAvABwACQD8//z/8v/8//L/AAD3/wQAEgAOAAkADgASACoAIAAqAA4AFwASAA4AEgAAAO7/7v8EAAQA/P8AAO7/8v8JABcADgAEAPf//P8AAA4ACQAOAPf/6f/3/w4AFwASAA4ADgAXABcAEgAOAAQACQAEABcA9//p/9v/2//k/wkAJQAvABIADgASABcACQAEABcAIAA9ABcAAADk/8j/v//k/+7//P8EACUAJQAlABIABAAEAAQALwAzAC8AFwAJAPL/2//W/+T/6f/u//L/AAD8//z/9//8//f/DgA9AC8AOAAqABwACQAJAAAAAAAEAA4ACQD3/+7/6f/p//f/AAAEAA4AAAAAAPz/BAASABIAIAAvAA4AFwAAAPz/7v/y/w4AHAAJAA4AAADu/+n/5P/u/+7//P8AAAAACQAJAAAACQAEAA4A/P8JAPz/CQAJAA4AFwASAAQACQAJAAkA9/8EAAkABAAOABIABADy/+7/6f/p/+7//P8AAAAADgAJAPf/AAAJABIAEgA4ACoAFwAOAPf//P/8//L/7v/3/wQACQAXAAAA9/8JAAkAHAAJADMAHAAJAAkAAADy/+7/7v8AAO7/9//3//z/7v8EAAQAKgAqADMAJQAqAA4AEgAOABIAEgAJAAkABAAAAAAADgAOABcADgAqABIAEgAEAPz/BAAOAA4AAAAOAAAAAAD3//z/9/8JAAQACQAOABIADgAAAPz/BAASAA4AEgAEAAAAAADy//z/9/8JAPz/AAD3//f/9/8EAAkA/P8EAAQACQAEAAkA/P8AAAQAEgAOABIALwAXABIADgAAAPz/BAASAAkADgD8/wkABAAAAAQABAAAAAQACQAEAAkA9/8JAA4ADgAJAPz/AAAOAA4ABAAEAAQA9/8AAAAABAAJAAQADgAJAA4ACQAOAAkADgAOAAQACQAAAPz/DgD8//L//P/u//z//P8OABIADgASAA4AEgASABIADgAOAAAAAAAAAPf//P/y//L/BADy//L/AAD8/wAAFwAOACoAFwAXAA4ACQASAA4AEgAOAAQADgAAAPf/AAAEAPL/AAD3/wkABAD8/w4AAAAOAAQACQASAA4AEgAOAAQA/P8JAAAA/P8AAPz//P8AAPz//P/8/w4ABAAJABIACQAAAAAA/P/8//z//P/y/+n/9//3/+7/7v/3//z/AAASABIABAD8/wQABAAOAA4ACQAAAAkABAAEAAQAEgAAAAkAAAAEAAAABAAJAAAABAAAAPz/BAAOAAQACQASABIADgASAA4ADgAOABIAAAAJAA4ABAAEAPz/BAAJAPL/AAD3/wkAAAAEAAkACQAEAAQABAAOABIAEgAOAAQADgAOAAQACQAEAAkACQD8//z/AAAAAAkA/P8OAPz/CQASAAQABAAJAAAADgAEAAkAAAAEAAkADgAJAAkACQAJAAQADgASAA4AEgAOAPz/CQAEAAAABAAEAPz/AAD8/wQABAAAAAAAAAD8/wkACQAEAAkACQAEAAkA/P8JABIACQD3/wAAAAAEAAAAAAAAABIABAAJAAQACQD8/wkADgAEAPf/AAD8/wQAAAAAAPf/DgAJAAAAAAAJAAQADgAOAAAABAAJAAkA/P8AAAAABAAAAAQACQD8//z/BAAJAAkADgAEAAQADgDy/wkADgAJAAQAAAD3/wkADgAAAAkACQAJAAQAEgAJAAkAAAAJAA4AAAASAPz/BAD8//z/BAAAAAAAAAAJAAQACQAAAA4AAAAJAA4AEgAJABcADgASAA4ADgAJAA4ACQAOABIAEgAJAPz/CQAEAA4A/P8EAAkADgAJAAAACQAAAAAA/P8EAAkABAASAAQADgAJAA4AEgAAAAQADgAAAA4AAAD8/w4A/P/3/wkAEgAJAAQADgAAAA4AAAAJABIADgAEABIADgASAAQAAAAOABIADgAOAAAABAAJAAAADgAEAAkACQAEAAkADgAAAA4ACQAEAAkACQASAAQADgASAAQA/P8AAAkACQAOAAkADgAOAA4ABAD8/w4AEgAJAAkADgAJAAQAEgAOAA4ABAAJAA4ACQAOAAAA/P8SAAAADgD8/wkABAAAAAQACQDy/wQACQAJAAQACQASAA4AEgAOAAkADgASAA4ABAAAAAkABAAJAAQADgAOAA4ACQAOAA4ADgAJAAkAAAAAAA4ADgAAAAQABAAEAAkADgAEAAkAAAAEABIACQAEAPz/CQAEAAQADgAAAAQABAAEAAkAEgAAAPz//P8EAAAABAAEAA4ACQAEAPz/AAAAAAkACQAOAAAABAAJAAkAEgAAAA4ACQAOAPz/CQAEAAkA/P/8/wQAAAAJAAkAAAAAAAAADgASAAAACQD3//z/BAAJAAAAAAAJAAAADgAJAAQADgAEAPf/BAD8//z/CQD8/wQABAD8//f/BAD8//z/AAD3//z/CQAAAPf/AAD3/wAAAAAEAAAA/P8OAAAACQAOAAAAEgAJAAQA/P8EAPz/DgD8/wkAAAD3//z/BAAEAPf//P8AAPf/BAAEAAQABADy/wQAAAD8/wQACQAEAAkADgD8/wAAAAAAAPz//P/y/wAA9//3/+n/BAAAAAAADgAAAPz/BAD8/wQABAD8/wQABAAEAAkAAAAAAAAACQAOAAQADgASAAQACQAAABIABAAXABcAAAAXAAkADgD8/w4ACQAEAAkA/P/8//z/AAAAAAAAAAAJAAQADgAXAAkAEgAJAA4ADgAEAAkAAAAEABcACQAOAA4ADgAEAA4ACQAOAAkAEgAJAAkABAD8/wQAAAAAAAAADgAJAAAADgASAAAADgAOAAkAEgAOABIACQAJAA4ACQASAA4AEgAOAAAABAAAABIACQAJAAkABAAJAAkAEgAJAA4ADgAXAAkAAAAJABIADgAAAAQAAAASAAAACQAEAA4AEgAXAA4AAAAAAAkACQAJAAAAAAAOAAkABAAEAAAAEgAJAAAAAAAAAAAAAAAJAAQACQD8/w4ACQAOAAQACQAAAAAA/P8OAAkABAAJAAAAFwAXAA4AEgASAA4AEgAOAPz/CQAAAPf//P8JAAQAAAAOAAQADgAEABIADgAOAAkAAAAEAAQA/P8JAAkAAAAEAAQAAAAEAAQACQAAAAAACQD8/wAABAD3//z/9//8//z/BAAOAA4AEgASAA4ADgAJAA4AEgAEAAkAAAAEAAAAAAD8/wAAAAAJAAQAEgASAAQADgAJAAAAAAAOAAQACQASAAAACQAEAPz//P8AAAkABAAJAPz//P/3//z/8v/y//z/7v8JAAQA/P8AAAkAEgAOAA4ABAAAAAAA7v/u//f/AAD3//f/9//3//z/CQAEAAAADgAJAAkACQAOAA4ACQAAAA4AAAAEAAQACQAEAAkABAAOAA4ADgAJABcAAAAJAPz/CQD8//z/BAAOAAQACQAJAA4ACQAOAAQA7v8EAPz//P/3//z/AAAJAAQAEgAJABIADgASAA4AEgAJAAQADgAAAAQAAAD3//z/AAD3//z/CQD8/wkACQAOAAkAAAAEAA4ADgASAAQAEgAAAAQADgAOAAQAEgASAAQACQAAAAQABAASAAkAAAAJAA4ACQAEAAQADgAEAA4A/P/8/wAA9//8//z/9//y/wQACQAEAPz/9/8AAPf/AAAEAA4ACQAOAAAAEgAEAAAACQAEAAkABAAAAAAACQAEAAkACQD8/w4ACQAEABIADgAOABIACQAOAAAA/P8AAAkAAAAOAAAACQAJAAkABAAOAAQACQD3//f/9/8AAAkACQAAAPf//P8AAA4ACQD8/wkAEgAAAPf//P/p//f//P8JAAAAAAAAAPz/BAAAABIAAAAOAAQAAAAAAAAADgAAAAAAAAAAAAkABAAOABwACQASAA4ABAAOAA4ABAAOABIAAAAOAPz/AAD8/xIABAAJAAAAAAAAAO7//P/8//z/CQAEAPL/8v8AAPz/BAASAA4ABAAJAAAAAAAJAAQAAAAAAPz/9//p//L/AAAAABIABAAXAPz/DgAOABIADgAXAAkAAAD3//L/9//3/wAA9//y/+7/7v/u/wQAEgAOAA4AEgAJAA4AEgASAA4AAAAOAAQACQAEAAkA/P8EABIABAAJAAQACQAAAAQAFwAOAA4ABAAEAPz/CQAOAA4ADgASAAkA/P8OABIAEgAOABIAAAD3//z/BAD3/wkAAAD3//z//P8JAAAAAAASAPz//P8EAO7/CQAEAAkA9//3//z/BAD8/wkAEgASAAkABAAAAAkACQAOAAkACQAEABIABAAEAAAACQAJAAAABAAAAAQACQASABIADgAAAAAA/P8OAAQAAAAOAA4ADgAJAAAA9//8/wkACQD3/wkABAAAAAAADgASAA4AEgAJAPz/CQAXAA4ACQASAAAAAAAAABIACQAEABcADgAEABIADgAJABIADgASAAAADgAJAAAAAAAEAAQAAAD8/+7//P/8/wkABAAJAAAA/P/8/wAAAAAAAPz/9//u/+n/6f/y/yUAIAAOABcADgDk//z/IAAXAA4ADgDy//L/7v8JAPf/HADD/yAAJQCn/zMAJQDR/xcAKgD3/wkAKgASABIAPQASABIAHAAOAAAALwD8/wAADgAJAPz/AAD8/wAADgAOAA4ABAD8/wkACQAJAAQAEgAJAA4ACQAOAA4AEgASAA4ADgAAAPz/BAAJAPz/DgAJAPz/7v/8/w4AEgAJAA4ACQAOAAAA9/8AAAAA/P/8//z//P/u//z/BAAJAPL/AAD3//z/AAAAAPL/8v/8//L//P/3/wAA/P/y/+7/9//8/wQABAAEAAQABAAAAAQAEgAOAPL/9/8AAPz/AAD3/wQACQAJAAkAAAAOABIAFwAOABcAHAAOABcAHAAXABcABAAAAAQAEgAOABcADgAXAAQAEgAEAA4AIAAzABwALwAXAA4AFwAcAC8AEgAOAPz//P/3//z//P/3/+7//P/u/+7/AAAJAA4ACQAOAAQABAAOAAQABAAEAAkA/P/y/+7/6f/u/+n/7v/u//L/6f/p/+n/7v/u/wAA7v/p/+n/6f/u/+n/8v/y//f//P/u/+7/7v/y//z//P/3//z/9/8AAPf/AAAAAAkABAAAAAAACQAJABIAKgA4AC8AHAA4ACUAMwAzADMAMwAzADMAMwAzADMAMwAzADMAMwAzADMAMwAzADMAMwAzADMAOAAlACoAIAAJAA4AAAAAAPz/8v/p/+n/7v/p/+D/5P/b/9b/0f/N/9H/zf/W/9b/yP/I/+T/1v/W/+7/6f/p/+T/2//p/+T/6f/g/9v/4P/b/+D/5P/u/+T/7v/u/+n/6f/3//f/AAAJAPz/AAD3/wAAAAAAAAkAAAD8/+7/8v/u/wQAEgAcACAAFwAcADMAMwAzAD0AOAA4AEsASwBGAE8AZwBsAGwAZwBwAGcAbABnAGIAWQBnAFkASwBBAEEAMwA9ADMAOAAqABIACQD3/+n/7v/g/+D/4P/W/8P/tf+x/7H/ov+n/57/ov+e/5n/nv+e/6L/nv+e/6L/ov+x/7H/sf+6/7X/v/+6/7X/uv+6/7//uv/I/7r/sf+1/7r/tf+6/7H/tf+x/7H/tf+s/7//yP+//8P/zf/b/83/5P/p/+7/CQASADgAMwBUAH8ArgDAAO8AFQE2AVcBYAFgAWABYAFlAWABYAFOASgBEAHrANgArgCWAHUATwA4ADMAEgAAAPL/5P/N/8j/rP+n/6L/kP9v/1z/QP8t/y3/I/8a/wz/DP8C//7+H/82/1L/Yf9z/5T/nv+1/9H/6f/8/wkAEgAEAA4ADgAOABIAAADy/+n/4P/k/+D/2//k/9b/v//D/7//nv+Z/5D/kP9z/1z/Tv8y/zL/O/8y/0T/Uv9z/5n/yP/y/z0AdQDFABUBRAFXAW4BnQGsAawBsAGiAW4BTgEeAQIB3QC8AI0AcABPACUALwAzAEsAYgBGAD0AKgAlADgALwA4ACUA8v+s/4H/Zf9h/1f/Sf8j/wz/8P7d/t3+B/8a/y3/Mv8t/0D/Uv94/6z/4P/p/+n/9/8JADMARgBsAH8AegBwAGwAcACIAJsAqQCfAI0AfwB6AIMAegB1AHoAcAA4ADMAJQAcAAkAJQAlABcA5P/p/+T/5P/3/wQA5P/g/+D/0f/R/+n/8v/8/+T/7v/b//L/BAAXACUAIAAlABcAKgAzADMAMwA4ADgAMwAzADMAMwAzACAADgAAAPz/7v/p/+n/6f/b/9b/zf/D/83/v//D/7//v/+6/8j/sf+//7X/rP+x/6z/yP+6/7//w/+x/7//zf/b/9v/5P/p/+n/6f/y/wkADgAOAA4AJQAvADMAMwA4ADgAOAAzADgAMwA4AEEASwBBAEEAOAA4ADgAOAA4ADgAOAA9ADMAOAA4ADgAPQAzAD0AMwAzADMAMwAzADMALwA4ACoAIAAgABcAHAAqACAACQAXABIADgAAAAAA9//y/+n/7v/u//f/7v/u/+n/4P/b/9v/0f/W/9b/0f/W/8j/v//D/7//w/+6/7r/tf+n/6z/sf+s/7//sf+s/6f/ov+n/6z/p/+s/6f/tf+n/6f/p/+s/6z/rP+x/7H/tf+1/8j/w//W/9v/4P/p/xwAOABUAF4AOABLAH8ArgDFANMA6wDYAMAAwADhABABGgHrANMAtwCpAKkAtwDOAMUAkQBZAEEASwBsAHUAZwA9ABwA7v/p//L/CQAOAPz/zf+s/57/mf+n/7//yP+1/5D/ff+G/57/rP/I/9b/w/+s/6L/tf/R//f//P/u/9v/1v/k/+n/AAAqACoABADu/+n/9/8OACoAKgASAAQA/P/u//z/DgAcAAQA7v/W/7r/tf/D/9b/0f+x/5T/ff9l/3j/eP9v/2H/QP8f/xr/I/8f/y3/Mv8t/x//KP9E/5D/1v/I/6z/p/8OAE8AfwCuAN0AzgC8ALwA7wBJAWABRAEoAQIBDAECASgBOwExAQcBygCkAK4A0wDhAMUAsgB/AFQAPQBBAF4AdQBGAAQA1v/I/7r/tf/N/8P/ov9v/zv/Sf9S/2H/av9l/1L/Mv8t/zv/V/99/4v/ff9v/3P/ff+Q/7r/zf/g/+T/2//R/+D/AAAcADMAMwAzADMAMwA4AE8AYgB6AHUAfwB/AH8AgwCfAKQArgCyALcArgCRAJEAgwB/AH8AegBsAE8AMwAzADMAMwAzAAQA7v/R/8P/zf/N/+n/1v+x/5n/ff+B/57/sf+x/57/ff9c/1f/c/+Z/5n/lP94/1f/V/9v/5D/nv+i/4v/av9q/3j/mf+i/7X/p/+i/5n/ov+//+T/9//u/+T/5P/y/w4AOABBAE8AVABPAEsAZwCIAI0AnwCbAJsApACfALIAvADKAMAAtwCuALcAqQCpAK4AqQCpAJEAnwCWAH8AfwB/AHoAcABUAEYATwA4ADMAHAASAAkA5P/g/+D/yP/D/7H/ov+e/5n/kP+B/4b/i/+L/33/eP99/2//eP99/5D/i/+G/4v/ff+Q/5D/lP+e/57/lP+Z/5D/ov+x/7X/tf+s/6f/ov+x/6f/ov+e/57/kP+L/4H/av94/1z/Uv9O/1f/Zf94/4b/sf/p/+7/4P/k/y8AgwCpAMAA2ADvAOEA4QAQAU4BYAFXASgBFQEaAR4BIwE2ASMB/gDOALIAvADKAN0AxQCkAHoAWQBGAFQAWQBnAEYADgDW/7//yP+//7X/p/+U/2H/O/8y/07/Uv9S/0D/Lf8f/xX/H/82/2H/Yf9c/1f/Uv9q/4b/p/+1/7//yP+//9H/1v8AAA4AIAAgACoAOAAlAD0ATwBnAHAAcABeAF4AWQBsAH8AkQCIAH8AdQB6AIgAmwCkAKQAqQCIAHUAZwBwAIMAdQBnAEsAMwAAAAkAEgA4ACUA9//W/83/v//N/9b/1v/N/7H/i/+L/6f/v/+1/7H/ov+L/33/i/+Z/7H/ov+Z/5D/lP+Z/57/rP+6/7X/rP+e/6L/sf+6/8P/v/+6/6z/rP+s/7r/v//I/7r/v/+//7X/yP/W/9v/4P/u/+n/8v/8/xcALwA4ADMATwBeAHUAcABPANMA0wDOAM4AygCWALwA2ADrAOYA4QC3AKQArgDOAMoAzgDAAJsAiAB/AIMAgwCIAHoAWQA9ADMAMwA4ACAAEgDy/+T/5P/R/83/tf+n/57/ov+G/4b/gf94/3j/b/9v/33/ff9l/3j/eP99/5D/mf+e/5n/nv+e/6L/p/+6/8P/zf/I/8j/4P/N/+n/6f/p/+T/4P/g/9v/6f/p/+T/1v/N/7//uv/D/7X/rP+e/57/mf+U/57/nv+i/6z/tf/b/+7/BAAEAAkALwBZAIMAfwCpALwAvACpAMAA6wAHAQIB7wDhANgAygDOANgA4QDOALwAlgB/AIgApACRAH8AcABGADgAMwAzADMALwAAANv/zf+x/7H/v/+1/6L/hv9q/1z/Yf9q/4H/eP9l/1f/V/9O/2H/gf+U/57/kP+Z/57/ov+s/83/5P/p/+n/6f/p//z/EgAqADMAMwAzADMAMwA4AD0AVABPAEYARgBBAEYATwBUAEsASwA9AC8AOAAzADMALwA4ABwAIAAOABIAEgA9AOD/BAA4APz/9/8JAAkA4P8EAAQA9//k//L/6f/3/+n/IAAqAPf/zf/D/9H/BAAzACUA9//k/7r/0f/8/y8AJQAEAPL/2//W//f/JQAlAAQA6f/W/+T/7v8OABwADgDy/+n/6f/y/xIA9//y/wkA8v/p/yAAPQAEAOT/7v/3/yoAWQBeAAkAw//k//L/VABwAKQAPQBoAk0G+gLd/o/93Pz4/AQAmQGGAZAIwQceATX9Uv1B/En/rgJBANP8XPqA+6v9vgG4Ah4B3f4//fv9RgCgArgC7wCN/j/9/v6RAJ0BeAFiAPn+Qv4R/wkAIwH5AAAAH//T/mX/0f+IAIMALwC6/yP/b//I/58AZwDg/5T/Zf99/7r/WQAlABcAnv9E/5n/7v8qAOT//P+Z/57/yP8XABIAHACU/4v/mf/u/w4AAAA4AOn/i/+n/+7/KgBZAEEA/P/k/+n/IAB1AJsAPQAAAAQABABPAMAAqQBUABIA/P/u/2IAvADFAJEAXgAOADgAdQBPALcAjQAXABcARgAvAE8AiACDACAA8v8JAPL/CQBGAPz/CQDW/8P/6f9eAM0BtwDD/84AKAE/AaAC8gF9/7n9DfzZ+4z8lP1L/mz+If5U/t3+ZwBOAWABtwAzADgArgBEAVwBFQHD/33/Zf/g/2IAPQCn/8H+H/9l/4b/sf9q/3j/V/8t/6z/VADp/33/tf+n/+n/OAA4ABIA1v/b/xcAKgA4ABcAHADI/w4A7v/y/xIAnwA4ADgAMwAgAPL/0wAeARABPQA9AGwAnwAQARABWQAgABwAgwA7AVIBXAHFAJ8A+QAxARUBSQHTAJ8AvAD0AAcBpACbABcA6f9PAFQAuv8XAJT/Uv/p/7X/V/+Z/8j/B/9A//n+sv6y/p7/CQCe/93+rP+Z/9b/BwG8AIv//v7P/ob/4P8XALH/0f9v/w4A5P/D/1z/hv87/2X/V/8zAO7/4v6G/y3/0/7D/5n/6/7P/vT+i/99/6wBBABG/gf/O//Y/nAAXAG1/0D/q/3D/dj+hv/I/zb/z/6y/k7/BACyAKkABABUAD8BewKjA8QDLQO+AaACggMUBKoEmAQ3A1UCAAImApICzwITAk4BEgDb/33/gf+1/4H/vP4A/lv9P/1z/cz99v0l/tr9lP2+/SX+f/6b/i3/8v8vAD0ADAH8AX8CrgJVAiECOQJ/AqACewKuAgUCRAHAAOEAnwB6ACoArP8R/+b+OP7y/cH+xf6i/Xz9Jf6d/aL9rv6y/iX+HP4l/pL+4v6e//n+wf7dANsBLf8AAOL+hf2p/qkAyP8R/7n9Fvxk/Wn9cPyc+4f6DPqg+Yn5wfny+Ov5Cvtr/J39M/5N/dP+RQP9BWMHZQbmBW4GegdRCWQL3QxRCw8JFQh9CBgJZQgHCDgHnwV0A4sBqQAXAOT/Lf9g/aH7FvrW+HP4PfmS+Z34iPdP94P3LPj3+Lj5ffo5++f7zvzV/an+lP+3APIBUwPqAwYEMATVBHkF9wbzCGkL5A0JDNEGGQT7BsgIJAg7CIEGEAG7/Nz8If4a/0T/fvwF+Y/4w/ga+Pn50/z6+1n50fhQ+ef5r/uP/Sr+M/6w/SD8YvzP/gAAc/8a/xr/HP6m/VD+f/6B/Z/8xfwZ/Rb8CPoa+JH3BPer9iz28/UY9NL1Wvtl/2f+7wDdB/MIRgVIBgUO2hByEKEQlBJUES0PAA7wDl8QARBGDOkIHAeIBaACGgGNAIH/0Ptl+JP2Nfb19LXzi/O/8y3zBPKB8XryGPRT9WT2avhc+j77qvv7/V4AQgK7A/0FIQelB90HxAjjCT8LpgvvCg0Kqgn8CLgJSQ0KDpkIiwMBBO8FNQTkATMA1f3u+l75+fme+nb5vfbz9fn32Pl/+Uf5h/qh+9D7a/wv/m//V/8M/+T/DAFJAbwAqQCBAYYBVAAa/8/+VP6P/Xf9/fyZ+ub3dfei+Kn5p/j49UnzYvIX8mzy6/JC8qjwhfG8+VUCywTfBoQJkQpCByMNyxWSGhUZLxjxFbwThhLUEwMUZxM1EHwL6AZDBI8BH//q/KH7OvjP9BDxtO/87tbu6e7N7jnvGO8m7xLwEvLG9A33xvlw/ED/LwCUAbsD2gaOCQ4Mog1zDVINXA2wDVgPIRNqFN4QaQtiChYKEQg6Br4GjgR6/jf6KvnO97n2D/aa9Sn1PPXD8yjzRfXv97X4tvoG/Z390/zo/cj/ogE7A/MDuwPNA28DkgIFAqoCWgIMAXP/Pf7j+7r4afZP9+L5Y/nN9ePxYvDE7lHv2e8g8ILuTu4i74r2/v7BAtUEMQsID/kMQg6VFggb+BtDHIMdaBpIF78UXBSNE1cS2w3uCLkE3QAb/J34evdr9cfxse7p7Gfr4OkU6gnrvuwa7jDvBPCi8UL0YvcY+8r+cQK9BFsGJAi7ChANCA+cEKQR2BExEpIT2BPJEZQNbAyeDW0OLgoZBDv/wPy/+t35JPpz+IvzWu+q76bxUvNa9E71J/ZP96v4b/pg/cj/SQFoAoUEPAW0BFYEMwUoBk0GgwX8A38CxQD5/m793PwY+/n3LvVK9f31/vSB8+Pxr+/37KzuN/DV7/DtJu2K7PjwmvwxBpoK/g4XEcEODA29FQAfhSO7InYhoRxuF5sThhQyFJgSbw3PBxMCEP2R96Lz9vFz8eDuc+yx6RPoDuap5inpueyT753xg/L881v2/vkz/n0DxgeaCscL9Az3DbYPlhGpE6MUKBTrE2EU6BJeDj4JFAmqCQUJOAXKAIv6mPZV9Mv0PPVv9ePxdu8E8NrxB/Nv9af4Zvqc+6L9i/9uAQwD/wSiBlwIVwgvB/gF5gVPBQ0FOgTZAhwAd/1D+1X5jvZf9KDyZ/KI8oHzc/Fv7oHsm+0k7qPuOe8R7orsGO3C9kYFVAXUCdAQGRdVFaoV7htDIZUi2SFbI8shFBw4E8IQsQ/+DCsJHQTY/iP4zPGS7XPsyuvN6afn/uZq53XmwOZO6RPt3PAP9OH3zfos/XP/+gJ2B7cMng9rEbASqRMOE/sSehO3EyMS0RKIE4MRtgptBIQCLwLb/0T/qf6k9wjwK++F8cnwpPKZ88HyUPIf9aH20fgg/Ij+BADqA9EGYAYHBg4Hswc7CIAJaAnyBssEywIVAVL/M/6J+xX4DfW38krwxu/z8IXx+u/57ensyOzf7GPteu237bHuSvD+9Jv+ogYuCg0PKhj1GpQZERttIcMjMyQhJLkj6h1kF6kR3Q7lCiEH0QEL/bv3GvOz7c3pFecv5jXlAOZc52PoE+jn6NjrEvB79AD5C/11AEADWwb8COEMOhDIEjIUIBbGFacUHBPcESsQnA4QDUYMcAzZCREDrfyL+tL6R/nm97T25PMz8A/vh/Ck8j70RfX29rj5fvy0/XP/cwG2A3AFMggWCmsKuggvB3wGUgbOBb0ETgO6AWH/a/wo+sr3PPXr8tfwJu+Z7vXvYvAU8Urw1e8G79DvuO8s8V7ysvI98s3z2/pSBo8NyBK8GAYcfRmuGHAdBCIeI3Qi4CD9HZMXTBBbC38HRQNU/t77ifn19HTujOn05k3l6uRO5zXqZ+t+65Tsi+7T8KX0iflZ/l4CyQVvCEUK4wvuDRkQihKxFHYVtRRbEh0QEA1bC44JmgrlCrgJ5QMH/4n7l/ln90H3nPbz9X/0ePNA84bztfPy8+P22/q5/Zn/VwHNAdYB+gKIBcEHHQk+CU4I8gY8BVgD/AE2AXoADP+r/Tn7P/il9CzxA+7B7YPw5PM59LfyYvDE7kLtB+508OvyoPL78QfzbPkmAuQIDA2PEpsY5xpMGh0cFiCHIIwdRh1LH3IcsRQND50LxQUR/+H8dfza+CPzuO8J7UXpS+bd5q7oNeq76xHu3u8n8ZbyLvWU+JX8sgCqBAcIZgrCC8oMGA5vD8IQlhFzEiMSvRAKDrALRwnwB2EIgAmuB5IC0f2m+1P6HPmw+D/4jvbi9Cn1OvZI9p71nvV690D61f3+ACECmQH+AIYBggOyBSEHOAc/BtUETgMhAgIB2/9s/lL9cPwd+774XfUS8mLwQ/Fv85z0VfRS88Hy8vEx8cTwNfFW8V7yVfT1+VIBOAdHCSUMFxHpFAoVEhZOGXsaSxjoF1UaVxnmEykPBw1tCewEqgIhAnP/4PrT99f1EfMN8JnuU+4t7qfuM/Dj8XXyrvJc8/D0CffG+fT86f8KAskDwAVLB54IVQk8CgYLAAx1DKAMAAzSChQJjQdnB90HrgdlBvgDZQG1/8X+tP3A/Df8k/v5+Vn5S/kh+dP3jPdu+P75aPs6/RH/tf9l/4b/mwB4AfcBhAIMA88C7QFzAeEAc//f/U396vwb/DD7v/qX+eb3Qfce+NH4JvmN+TL6U/rw+VP6N/qN+TT5vPlA+kf7RP1wANkCggNvAyUFsAZsB/kHaAlPCiQKUQl+CjULfgqQCBEIcQdgBpYF4QWMBc0DtQHFAPz/yv6U/Sf9WPxt+6f6D/sU+4L63fnd+fD5Sfor+5H8ZP3j/Xr+av84ALcAGgF4AdsBAAKXAmED5QOoA1gDJAMMA7MCFgOsAw8EZgPBAqACuAIAAqcBpwGdAYgAtf+Z/7X/H//K/rz+bP6m/b79UP7F/qT+lv6u/q7+pP6g/rf+jf7M/Zj94/3a/d/9sP3j/W79rfwU/dH9Gf1+/H78fvzn+5/8/fwe/er8xfxw/KT8mvzh/Lb8Qfy0+/r7Fvxr/F385fwA/lf/KgAjAcgB1AKoA9kETQaWB8YH8AdcCJAIowjICNsIFQhVBw4HBQdXBmIFVgQkA74B0wBLANv/m/5S/Wb80Psd+9f6zfrN+mr6i/ow+yD8rfxE/cP9Xv7i/vL/EAG+AfwBOQKEAuICGwNTA2EDXAMpA7YD9gT4BXAFTARcAxEDRwImAssCwQKRAHX+OP5//or9Tf0v/sP9G/wl/N/9Qv5N/W799v3a/fv9Uv8EAHP/Xv49/kb+8v0J/vD+iP5b/er8SP1z/Sn8FvwW/Ef7Sfqe+m37jvuZ+s365fot+nH5CfnM+Nb47/f/9gv47voz/m4B5wK/A7UGEgqKCzMMQg6MD+IObQ5bEJ8RARCbDBkLFgr5B9gFMwXXA64Aj/1i/Jz7kvlU9z72h/Wq9LP0Hfbs9q/2d/af9xj5o/qR/MH+egCLAQwD7ARNBgkHfwcDCJUI1gg5CT4JYQjHBnAFoQTXA6MDxAOaA3ECfQGRAKL/z/7K/vL9Lvx9+rb6UftK/ET9vv1F/GT7T/xG/nP/pACGAZQBFQGLASsC5AF1AGX/8P7r/vn+0/4q/pH8o/p2+X/5f/nM+Pn3JfeV9S/0Y/R59dD2a/cC+Hz4KPjM9m/1bfRz8/Ty8PRi/KQFSAv2C78PQxXTFnYTNRWsGRgaaxbTGCIcgxiNDoAJVQd/Aur8zvzH/fn5HfQh8izxPe1K6ZDpwOsq7TXvzfPe9v/2ivaP+Fb7HP6+AYEG7AnoC5QN8A7nDvcNiw2UDacNsA1XDdUL/AioBVUCV/8n/a/7uPt5/Fb9LP1R+7f3SvVO9Rz3q/j3+t/9GgFmAxYD3QAV/+v+CQDsAtQHEAvLCZgGHQQmAun/5v5v/3j/9P7T/s/+Bv1V+XT1FfPw8iH0tvWF9rv14fIp8A/vefA282n2Gvhb+ET43PeV9cHyafHa8d70bP4/C3oTTReaHdkh4xy9FUAZIR/mHbgacR8yIJMVYQjSA67+v/Xs78jzxPU48rft8uw36VHjyOBS5Y7qhe/+9G37tP2K/bD9JQAYAu8FQwtrEWoUIBaXFYgTkA8aDZ0LUQsCCx4LAQlPBUYAtPsg91/0FfNq88jzN/VZ9+34nfiU+HP4yPhY+tj+uAILBkwJPwuACQ4H6AYFCRYKtgoSCtsIigZRBCsCgwDD/Wr6Ovi6+Hr5Cfmf97b1gfOy8jn0ivbK9yz46/dG99D2Kvf29jX2J/Y6+FH7lP3X/E76pvYo86Twa/Ck8k71K/tWBCUMtBCbGLYgUh7WFNAVfB5FIBsbVB1VH/wUAgbZAokCdPrA8G7x/PPc8GXsmeyc6ozkE+HV5Xjs3/Ed9h37SP0T/p7/DAPqBQoJFQ1wES0UvRWJFb4SnA72CycLYgp2CUAIfgXYAF38q/i/9SPzdfLF8lfzgfMv9I70AfZE+Pf6mP23AEMEWQeTCaEJrAhFCB0JiQlnDE8RaxGfCjEGxQWNAmn9ev49AHn87/dj+Rj57vMk8FLxXvKe88D3N/x+/KP6m/ko+if79PwV/y8A5v74/EP7DPo2+FT34ffD+FT3KfVL8lzu8+l76OrrN/WwATcKQRGYHJkleCAUFRsWGh5xH+0e0SVDKMMZzQiNAm//hfa973zxH/MN8KvsKuup5rffCtzY30foBPJe+T/9M/7o/bz+NgE/BnoMzhGqFakYPhpiGEITXg58C3QKKQqjCvoJfgWD/ij4nvOV8Pfu+u/o8R/zMfMC8z3yfPFG8gT3iP74BV0KQwsuCocK0wy4Dl4OVQ4YDloO3Q4fD7QL2QRU/g/7uPsv/iH+dPpr9SXywPA48t70TfZ09c31Tfj6+wD+Xv60/Xz9Nv+lAiMGQgcSBUkBzP0r+0f5cPcs9oz1IvZI9j70ve+F6trlteI54+LoHfTpAf8JwQ4rGiEmwCJIFzkaniWaJwwlVSt7LdIbcQc5AsMBY/mK8YjyXvKy63fl+uPt4EnbItl73r/n8/Ac9/75rPpk+yH+bwNkCy8T8Re1GaAa4hqWGKwU0xFRENQOHw2+C1MIagGl+Z7z9e8o7ovu0O//7wbvXO757Rruwu9l8/33J/1sAhwHvgtFDxsRSg+iDYcPahTlFhgVshFQDCAFXAFvAzMFBABV+eD1vfSG80f0U/V48//vlfAW9ef53vuT+2b6dPpp/WwCwwZqCN8GywTqA8sEjAU8BeICmf9r/Ov5Kvfu80HwXu2G7F7t6ewL6qnmX+MX4bXiOup4+NgFfw4WGyErQy06HhUZxyNJKqsoJS7hNRkojQ7iAj0CGPvA8BLwivGt6/XjUOG03tnXjNPj1xHice1r9SH5+fnr+eP7hgExC+4U9RqIHUkefh1oGhkX5RQOE9gRuRCuDokJ6QHK+c/yQO7W7K7tnu6Q7mPtG+st6UrpYOyr8Rr4rv5KAxsFrQWnBtsIrgxLE88aVB3aF+oRaxEqEY8LiAf5B6QFAAB1/sr+gfjg7uzqBe2D8Pr0sPjv98jzbvFE81f4kv6JArYDDwQlBRAGLAYCBpEF2QRiBWcHEQhUBe7/Sfrq9eTz9/MT9PvxGO8F7ZHrKekz5i7k8+JT4uPlIu9E/e0GaRL4IiQsvyBcFEgcIigtLPQuITcvMJMX5gXoBAQFhf0J+fT3zPHb58/hROBe3D7X7Ncg397ooe/M8cLxZPEC81n5qgQ6EIMW6BcnFzwWPhX/FaAYABpvGfgWExOZDTQHXAFm/N/4Dffl9W306PFX7kzqp+cm6EvrgO/R80b3c/gJ+fP6oP6qArMHPQwRD3IQwxI3Fh4XDhOqDkUPVhD8DbIK8wj4A7b8L/me+vv4oPQc8pHytPHf8Tn0bfaQ9Qj1Z/eA+1n+qQAvAvUC1ALbA+YFYwdCB2kGsgX2BPMD4gKLAcP/LP0o+kH3PPVE8/3wnO9o70nuAuzX6aroGOhH6B/p2Otx8k39BQckFoMkoCTPExEPlBl3IzAoMjHQNGYiLAvQBPoJiwh1BTMFgf+k8kXpoufm5j7ji+J05L/nhep47D/s0+un7KjwNvjkAZkI3ArjCQoJHQntCzYSJRhCGiUY+RPsDgsLDQqoCk8K4gfNAzv/2/qW92H1/PMf83/yPfJZ8nXyCfIA8lLzyfVL+Vv9ygCSAqoEjwb+B+AIIgtzDbYPyQ8vDjUL4AiGBuQGxgkPCSQD0f3e+3/5L/kN/Kv91Pmt9a/0kPUd9lv4yPpy+836hfvO/EL+/v5GAFwBhAJFA8QDfQMWAyECRAGDAOT/jf6k/NL6l/n99+X1cfQr9NHzKvLV70Xul+3n7SDwD/YW/PL96wCNDJkUexChC34RFBWZFI8ZLCNeHwcSOgtBDK0KswnFDNELiQIW+tX2sfVx9M31HfaU85XwTO+Q7kzvnfG68wP1gPYs+Ev5nvqy/JL+TwDUAqQFpQf8CAUJXAjmB+kIUwqTC9oLkQr+B3UFFAS/A+4DWAOwAbX/j/2A+2H6wvum/RP+Vv0z/Fj6Xvnu+jX9Sf9BAIv/If5e/rX/HQIwBFYEaAKsAbUBWgKjAxIF1wOGAS8A0f+G/yAAgwC//9/91/xd/Lb8Bv1p/R79efzC++P7lfyK/QD+7f0j/bL86vyr/d/9w/1E/ZH8Qfy2/GT9af1E/c78JfwG+4v6kPqH+pX6aPtm/I3+bACkAGr/yP99AZMEFQhBCpwJcQfFBegGjAr0DOgLJgkjBlwDHwPqBTYITQa4Aun/3/3q/LL+mwC6/0T9bfs7+pL5v/pm/HX8aPuQ+mH6ePoN/G79OP7f/fb9Jf4f/1kAZQF4AU4BUgHDAZcCKQM3A6ACyAEeAdYB3QK4AukBFQEvAKL/PQAHAe8ACQAj/xP+vv1n/p7/tf8y/3/+OP7f/Vn+eP8cAKL/DP/0/gz/H//N/3oAPQB4/y3/V/+L/7//KgA4ALr/ff+B/6z/BAAXAPz/7v+6/7X/4P8vADgAIADg/+7/AAA4AEYAYgBGAC8AJQBGAEYAWQBPAGcAQQBBAFkAiACDAGwAQQBiAEYAWQBPAF4AOAAzACoAOABGAFQALwA9AC8AOAAvAEEAOAA4ADMAMwAzADMAPQA9ADMAMwAzADMAMwA9AEsAQQBPAEEAOAA4AEsAVABBAEsAPQA4ADMAMwAzADgAKgAXAA4AAAD8//z/8v/p/+n/2//g/9b/5P/k/+T/2//b/+T/6f/p/+7/6f/p/+n/6f/8/wAAEgAEAPz/9//8/wQAKgAXAAAAEgAJAA4ACQAcAAQA9//p//z//P/u/xIADgDy/+n/9//3//f/8v8AAPz/7v/y/wAA6f/3//L/7v/u/+7/7v/u//L/7v/8/+7/9//8//f/7v/3//L/7v/p//L/8v/8//L/8v8AAPf/EgAOAA4ABAAEABIABAAJAA4ACQAEAAkABAAJAAAAAAAOAPf//P/y/+n/9//y//f/9//3//L/9//p/+n/8v/u//z//P/3//z/7v/8//z//P8AAAAAAAAJAAAAAAAOAAAAAAAEAPz/AAAAAPz/AAD8/wkA/P8EAPf/AAAEAPz/9//8//z//P/8/wAA8v/y/wQAAAAEAAQA/P8AAPf/CQAAAPf/AAD3/w4ACQAJAAAA9/8EAPf/AAASAAAAAAAAAAAA/P8JAAQACQAAAAkABAAJAA4ABAAEAAAA/P8EAAQAAAAAAPz/AAAAAPz/CQAEAAQAAAD8/wAA9/8AAPf/CQD3//f//P/3//z/AAD8//z/AAAAAAAAAAD8/wAACQAEAPz/BAD8/w4AAAAAAAkA/P/8//f/BAD3/wAA/P/3//z/9//8//L/7v/u//f/AAD8/wAA/P/3/wAA9/8AAPf//P/y//z//P8AAAAACQD8/w4ABAAEAPf/8v/8/wAA/P8AAAAABAD8/wAABAD8//f/BAD3//z//P/8//f//P/8//z//P/3//z//P/3/wAA/P/8/wQAAAAEAPf/CQD8/wkACQAAAPL/AAAAAA4A/P8EAAQAAAAEAAAA9/8AAA4A/P8AAAAADgD8/wAA/P8AAO7//P8AAAAAAAAOAAQA/P8JAA4ACQAAAPz/CQAEAAAA9/8EAAQAAAD8/wAA/P/8//z//P8JAPz/BAAAAAAA/P8AAPf//P/8//z/AADy//f/BAAAAPz/BAD8//z/BAAAAPL/9//8//z/8v8JAAAA/P8AAPz/AAD8/wAA/P8OAPz/9/8AAAAA/P/8/wQA/P8EAAkA/P8JAAAAAAD8/wAA9//8/wQABAAJAAAABAD8/w4ABAD8//f/AAD8/wQA/P8AAPz//P8EAPf/CQAAAPz/AAD8/wQA9//8//f//P8AAAQAAAAAAAAADgAEAPz//P8AAA4ABAAAAAkABAAJAAAACQAEAAQABAD8/wQAAAAEAAAACQAOABIADgAAAAkABAAEAAkACQAAAAkABAAJAPf/DgD8/wQACQAAAAQAFwD8/w4AAAAAAPz/CQAEAAkABAAOAAQAAAAJAAQACQAAAAQA/P/3/wQA8v8AAPz//P/u//L//P8JAAAA/P/8/w4ABAD8/w4AAAAEAAkABAAJAAQACQAEAA4A/P8AABIA9/8AAAkA/P8AAPz/CQAJABIAAAAAAAQA9/8SACoA7v8EABcAAAD8/xcAAAAAAPz/AAAOAAkAAAAEAAAADgAEABIACQAEABIABAAJAA4ACQAEABIABAAAAAkACQAJAAkABAAOAAAABAAAAA4ABAASAAkADgAEAAkAAAAJAA4ADgAOAAQAEgAJABIADgAOAAQACQASAAkACQAJAA4ACQAOAA4ABAAOABIAAAASAAkABAAEAAkACQAOAAkACQASABIADgAOAAkADgAEABIADgAJAAkADgASAAkADgAEAPz/AAAOAAAACQAEAA4ADgAEABIACQAOAAQAEgAAAA4ACQAEABIACQASAAQACQAJABIACQAEAA4ADgAEAAkAAAAJABIACQAEAAkAAAAAAAAACQAAAA4ADgAEAAQABAAOAAAACQAAAAAABAAJAAQACQAJABIADgAAAAQACQAJABIACQAOAPz/DgAJABIAAAAOAPz/CQAEAAkAAAAEAAAADgAAAAkABAAJAAkADgAJABcADgASAA4AEgAEAAkADgAOAA4AEgAOAAkADgASAAQAAAAJAAQAEgAEABIABAAJAAkADgAOAAAABAAOAAkACQAEAAQACQAEAAkADgAOABIABAAAAAQA/P8EAAkA/P/3/wkACQD8/wkADgASAA4AAAAOAAkABAAJAAkADgAEAAAADgASAAQACQAOAAkADgAAAAkADgAJAA4ABAAJAAAACQAJAA4AEgAAAAkADgAAAAAAAAAJAAQAEgAJAAkABAAOAAkACQD8/wQABAAEAAAABAAAAA4ACQASAAkACQAEAAkADgAXAAkADgAOAAQADgAJAA4ADgAAAAkABAAOAAAAEgAJAAAACQAOAAQACQAOABIAEgAJAAQADgASAA4AEgAEAAkADgD8/wAACQASAAQAEgAJAAkABAAJAAkADgAEAAkAAAAJAAAAFwAEABcA9/8XAHj/2/+IAJEAMwAJAKz/7v8XAF4AOAAEANv/0f/y/zgAKgAgAPL/AAD3/wQACQAXABwA9/8AAPz/EgAOAC8ADgASAAAAAAAJABwADgASAPL/AAAEABIAAAAJAAQADgAAAAkACQAOAA4ABAASAAAABAAJAA4A/P8JAAQAEgAJAPz/9/8EABIADgAOAAQABAAOABIADgASAAQACQAEABIADgAJAAAAAAAAAPz/BAASAAQADgD8/wkADgAEAAQACQAOABIADgAXAAkADgAJAA4ABAASABwACQAEAAkACQAJAA4ADgAOAAAADgAAAAQACQAOAAkACQD8/wkAAAAOABIABAAEAPz/AAAJABIADgAgAO7/8v8cACoABAAXAOn/7v/u/xwAEgAqAPf/EgAOAEEABAAvACoA7v97AtIKBwik/BT2pvZH+3kDnQbsArT76/kL/fwBowNFA1L/x/3d/pIH1AnsAon7m/lQ+Wf+BQLBAsH+1/zT/Kf/7wB7AtMA2//K/tv/GgFpBAwDmf88/NsBNwNA/43+dANO//L90/7R/4f8ev5l/3UAwf7YAHAA9ABv/9b/Av/AAHAAEAG//yAAi//OAFQABwHy/+8A5wLGAqf/hv+6//L//P+s/2z+4/1U/iP/v//k/5n/+f5v/2IA9AC3AFkA2//k/0YA/gD+AIgAgf8y/+T/0wCBAWUBygBUAEYAZwAjAVcBSQEXAPD+S/6y/v7+lP9q/6n+q/3V/f7+cAD0ALcAw/94/6L/bAD+ABABdQBGANb/FwAXAHUALwCpAPz/TwBwAK4AlgDhAFQAIABh/+7/MwDg/zL/OP4A/i3/FwCDAPf/Tv94/xIARgAoARABzf9A/3AAJQDiAvoCnv9n/mIAZQEPBB8Dp/9R+/z6kv5JARMC6wB8/Sf9Zf9XASECogHw/n/+5P/AAB4BjQAlABIAZwDAAC0BQP9LAD8BagFGAPL/wf6U/4MAbABh/2H/0f8AAPT+0f/3/7r/v/+U/+L+qQBsAO8AUgEoAeD/0wD0AGUBVwEVAb//Nv+m/Sj/uv+RALwAEgCB/14Ap/9iAJ8AmwAj/4H/zf+RAJT/b/8j/wcBpAB6AFf/lv59/xgCOQJJ/6v9YP35/tcD0ghiBZn/lP0H/+UDlAYLBn8AU/oY+378Wvs3/EwCnQHM/Zr8L/6y/u0G5gXTAFH77/yOBOEKFwWB///7+/3EA3UFUAJI/U76xf7bAc3/Tf1U/Fb7Tv89ABH/SP2S/gQADANHAlAChv+r/cP/5wJQAp0BxQD4/NH9VwEhAmwAc/+K/Qz/RP+Q/7X/w//H/d/9AP6W/rD9+/0E/gz/eP/+/pv+Z/74/NH9mf96ALH/Tf0T/tv/+QA7/0D/w/8JAGH/pwGbAA4Asf9JAYgAxQAy/+v+xf6B/67+v/8j/+7/oP7d/hH/av9s/mH/KP96/kb++/1E/xIAqQBUACX+qf5/AJYAav+s/4P+i/+3ACMBmf8A/gL/Ff82//7+m/7F/u8AagEMAcP/TwCNAFkAZQE0An0BKAEoAfUCUgFz/1n+mwBSAboBjQCyAAf/0f/u//4A7wAYAgcBWQCUAS0Bff/b/3MBVADp/2X/V//0AIMAUP75/rABUgHd/kj9iADk/+n/sgC+AVQAOQIQAZYASf+IAO0BogE9AMoAfwBiAKkAYAFOAY0AIABnALL+yv6//84Awf5eAFQADgC6/1wBegAgAFQAuv8OALwA+QDRAVQArv5n/pb+bP5wANP+3/3q/F7+nv8zAKf/9P6B/7z+yP8JACoA9P7N/z3+BP4q/vf/YgBgAQf/9v2p/lQA7v+DAAkAYf8y/0n/lP+Z/+T/QQDhAAQAI/+W/kD/cABEAfz/i/8OAEkBZwCNAO7/nv8gAKwBXgCs/5YAegCDAL4BtQHRAZYAHgFqAYEBHgF2AiMBb//a/Tb/O/+3/pD/VwEM//b9M/44/kv+7wAaAYv/vP4EABcAzgCs/14AlgCi/1T8svwG/Xj/dQAOAGP+Nv+3AI0CnAJ2AssCBgQWA64CfQHhAJsAVwFXASMB6wCUAVcBzf+B/wkA/gAoAQ4AJ/3V/Wf+iACPAQIBrv4R/24BkgL+APL/i/8A/mP+VwHDAdb//P+U/6L/OADhAK4AZwAq/oX94/3N//4AI/+R/Nr9yP87AcAA9/99/57/w/+BAb4BYAE/AXgBZwCkAP4AwABsAJ8Ahv+//7wACQCN/qL/RAFuAWr/Mv9LAGH/Yf+e/4v/Z/5A/3P/egCb/i3/5gArAp8AFQG1AXsCxQDg/0T/LwCk/jv/OP4C/1z/HgFcAUsAZ/4q/nH+ZwDdArwCVABJ/7T94/0E/tv/egAy/yf93PwN/Iz8QQCSAuwCogE7Aen/rgBQAm8DpwE9AEv+kv7+/hH/EP2Y/YX9I/+kACoA2P5PAFwB3QCGAR4BZwAHAf4Ag/6U/Rf+HADbAe8Adf5r/Kb7Wf55A/gD4P91/B79SwBOA1UCGgGx/8/+xf7DAcMBjf5d/Fb9oP7i/vf/6wBzAUkBzf+b/vf/rAHwAv4CyAEV/+39mf9EAXj/f/7kAS0DBABx/hcAZQE7AeYAHQIAArUBOQJVAlL/lfyf/KD+9AAOAN/96P3y/7//Nv/hAJYAFf/d/hUBQQAh/sH+iQIlBRYDH/+7/GP+gQGUAT0Alv7H/br/+gIIAyX+TPvl/Nb/1gFsAg4CQQBh/64AlgAzAAAADAGDAEsArgAzAK7+9P44/mn98P7tAaoClAEvAB//iP6e/wUCwgTdAm//Jfxy+779VACNAKT+CPw8/MH+eAFeAJT9zvwHAY4E2QSLAfb79/gl/qoEWQXqA4MAE/6M/Gv83/2n/z0AwAARA8kDvADo/Uj9VACLAc4ArwQFB/UCbv0I/G37p/rj/QAC/gAP+wP6//ud/S8A7gOYBp0GmgNLAH0BdwS1BhcH2wOD/qf6rPry/TMATv+d/fj8DfyF/aQAWgJ2Ao0CrAEjAQACqgI4APD+kP89AhEDzQHd/mj7mfra/XYCOgTkAQ7+YvxG/vIBbwPZAtYB9AAoAeQBVwHk/2//tf9PAFIBiADI/+D/Vv1M+138CQCNAtkCYgDO/Hj6K/sz/psAIwHy/+j9R/tF/Jr8uf2W/i3/oP75/gAAgwAVAbr/Z/73ASIE0QEEAFIBjQBk/cn8gf2g/iP95fyf/CX82fv7/TIDHAf9BaACsAHsBOYHxAgLBuwEpgR/AgUCpQL+AKz/DAHNAxEDBADY/hoBNAJ/AGr/DgAQAdEBzQNTA8oAXgC8AncEkwRpBAgDDgIEAC3/Mv/F/oH/+f6H/Mj6J/uR/GP+RP+S/tP8vv0gANsBogFUAMH+6P20/QL9g/xi/If8g/zg+sz4IfnV+9gAbQTgA90AAP6v+zv6evlD+8n8Dv7k/wT+Kvlm9ar0RfU0+Sz93/32/UX8n/fB9Nj5yQO8B5IH4QXZApkBFQYxDYUQTRLOEbsReQ8qDAUJMwX+ANb/hv8//Vz68vg9+e/33Pe/+r79bADgAwkHWwbsBC4FawVnBeEFbAerBvACS/7n+477Uv3bAasG3gRz/zz8qvvq/DgAlQMwBGgC8v+y/uP9Nf1N/aD+wACnATsBwABZANH/v/+L/6kAZQEjAUkBfwD7/ZX6CflA+sb7Nf2b/gb9cflk9sT1n/dA+uf7Nf0o/5n/oP74/JD6kvka+of63vsN/DP3bvH+7Rjtsuso7NPwv/olBYgMGxGnEpsTVRU0Gl4fTiA2Hh8bvBPuCC8AVPeR8IDv9vGK8UrwtPHY8nv0yvkcAFwDmwd4DVYQsw7rDIoLAAc3AxgCZwDR/X78Lfq794f1E/SJ9OH3mP24Ar8D/gJeAoYBWAPUB9IInQYgBYgFwQeWBy0Dc/37+JT4rfx7AuEFyQNZ/vf61/ol/Gz+5AHeBD4E0QFc/8v7Cfnw+YP8t/6NAAIBYgBeAPL/Nv+B/zMAZQEYAsgBsf+J+8T1pPDd7WPtDvIV+JP7cvti98/yRvIi9ln5tfiA9kDztu4Y7XvvDPpOCJsTKCAEMMg46DQmK68hVBikDKEE0wD5+SLvCeYb38zZ9df+2tzkPfK//9cKhhIrFaMUqRNcFGYUyBJPEaAOgAnLAm37O/PR7MTpW+rW7Erwf/Tv93j6W/0tAaEEFQj7CzIP4A9jDnUMfgqSBwYEEAG5/Tz88/qu+e76cf5//vf6avrX/M3/6QGaA1wDXAG//1QAsAEFAlMDyQPEA6ACmwB6/mP+lP8MAUICWAOqAuT/+/2t/DL6E/kG++X8S/4R/zP+1/x7+wH7cvut/Bf+Ff8q/tf6SvV270LtPPAD9W32WvTy8dDvKu3Y69rq7ump7QT+pRVmJxU2DUa7Sz9ArS4JHVkMsv5p9sXywe0+42jXLdHDz57RZNc85NL16AY1FfkffyRrIs4dExrCF5AU0BAMDdQHXP9o9NLpz+Er3jjffuSt68Hydvnb/6gF7Am3DDIPKBI2FGgVFBXvEVAM5gXr/nH5nvX58nryO/PG9K/2ePh0+kX8HgG5BokJ8QvNDXcL+Qe5BMMBH/8Z/f38QP+1/y3/Yf+I/nX8G/yi/e7/nQGVA/YEwgSEAqT+l/tA+iH56/li/Hz9Ov3H/dr99v0J/nX+Sf+kAC0BLwCa/D724O4b6Sjngunf7IXvufGV8HrriObe48fl1/CPCzooAEP1YjBuIFkEOkIfGQaY8bzmreTr4YrZx9JlzwXLDMVix4nXpPBVCZ4glTOdOzs4Iy9SJVUadA/1B5oFewKZ+mLwwOQv2iLSy9C11vnh7u5z/UgLVRUdGq0bRRtcGVIXoRX5E34RLww6BF/7wfKv6sflcuVM6EnsQvJs+Qf/RQNTCNsNXhNwFvUVlxO/D/EJGwNY/H731vNq84z13/gY+9X7IPxC/ogA1AIVBtYIJgntBicEGgGo/On4zvdU9y73S/kN/Bz+nv/hAE4BogFHAt0CqgKBAWP+6fjh8knsLed05P3k8ufA64LuwPCl76Lszuvu7r30xQVmIolKonKTejRg/jxKGyT6+d8H1v3Tws2axw3McdXF2tDXe9c24JXwfwfgJZ1AfkuFRfU3aynYGNEG9PcD7h/n/OKG4ivj8uDp23XaUd7F5qDy1AJAFFgiGirGK6gnEx+/FOoK4gKq+6P1VPLh8Gjvvux36rHp9Ot38XH5/gCzBxoNGxGIE68VLBczFiARDwlHAgv9lvdO8wvxHvEv8hP0dPp1AMkDQQUeBsMGpQdOCLcHNgaXAg7+NfvI+E32KfVR9lf47vpe/qwB/ANdBa0FBAW7A8gBLf+a/Hr5yfW+8bftSOp26O7nX+ow75vyoPKM8LPt9uom7d3yWPrCEMUwolqadjhxVlE6L9sNgew21LXKZ8KgvXTF2dcJ5kPqsuRU5m/z+gIbFjcsYjo0PgQ6czE4JM0P2vhq57bdwtln2hngf+Yw6qvs9+4f8774XP80CQUVmh3EIrwkYiJ7GmUN8v9F9UXuLusH7LbuAvFC9Kf4LvyF/dH9t/6sAaIGWQxwESoTuRLCEJUKdAM4/ob4pvZR9njzOPJC+Z7/mQHFBeADSgO3BZsHrwTbAzcDKAFc/8D8hPmN+af4iPcA+Sv7tP1cAagD/AP4A+oDkANaAsUAbP4w+yz4AfZV9G/zEvJM70LtBe3G7dvuEvCO7zHsQ+oJ63jsTu7K98gNDy3QVuJztHDaWIM8Wx7H/ZfcU8V+tu6t67ZdzEfhEOz87n/0W/1OCIMWDyaqMiM23DOZMW0tOh6KBGTqP9nn0EvO4NGD2jfkteyC9Yb/1ggFDr8PdRHCFckb+R+bH1cZNw+hBLH6VvGQ6U3lVuVj6GHuVPcgAOEFAwgiCZUKVgvhCs4KtwwMDfgKqgmPBrr/0/ei8Yvudu8+9J76RgDHBNIIHgvRCw0K+AVEAQn+g/ze+5f7bftA+pT4Bfnl+gv9rv4EAKIBngP/BDMFPgRQAlf/fvzl+tT5EPgB9hP0jfI/8X7wEvCJ74DvSvA38GjvY+2D60zqnOpF7kX8gRKEMvZYV23gaDlWUT6kInj/ytrSvvGuragtsrDIeuGo8G74EAHxCxgV/hq8H5MjYCUIJ8UpjiikHWYK0vVW5VvZd9K40MnT+dpQ5kD1ZARADwwUQxWJFcIVaBWQFFcSWg5HCfoETgFr/L/1Ue+y62fr2O168lL4BP7LAmcHfAvyDYsNgQtRC9MMZwyeCFoEO/+K+JDz3/Fs8nv0Uvgx/XQDewkODNULKQr7Bn8CQP9W/SL7tfif97v30fgy+on7C/3m/vQADAPZBFkFaQS4AigBsf98/R37uviO9hv1IfRA8y/yI/Fr8JXwEPE68eXwju+17IXqherp7B/zjQAUFSM2hlUKYtVdWFAkPwclpQKY4DvFwbHcqFmx28Xb29zrevn5B/cUdxwTHx4e9RrtF0sYeRvHHLwYNw+xA4H4Ye6B5fDc/NYR1grci+ck9WgCKA1XFFQYfxr6GvsXFxFMCZ4DvADT/jH9FvxJ+tP3Q/bM9tz33PeD9xP5fvyIAKEEpQkYDp4PMg87DTwKMwX2/a33NPTy8/70kfcE/K4ADwSPBpkIzQgABzUEOwHP/sX8/Pqb+Tn5Xvni+R37+Pyu/vL/zgCLAYQC5wKJAroB5gBv/779JfyQ+tH4wvbi9ETz6PHz8IfwT/BP8DfwtO8Y70Xu7eyw7Onu2Pe0BJ0XuTSFTFNX4lRkTNc/YikQC1HqDs45uE6tnbDDvvXQ5eJQ9HcG4RaqIbwk8yCEGtIUDRFcD30PSg9ZDH8HNwMlAE76N/Df5VnfN92Y3qjkFO+V+lYELQ3EFtgd6R4rGjgTMwzxBJb+dPrW+IP3x/Zb+NX7lv5E/+v+m/7R/dz8BP4tAW0E3AWiBuIHHwjkBhkEkQAx/b/6dvmJ+cT6Nf3p/+0BrwS+BrwH7wX6AiAAj/2x+mD4lvfh97D4p/pN/X8AKwKSAqAClwK+AZEAI/8J/sX8gPuj+ij6l/kQ+Pj1D/Su8rTxAvFF8FHvV+6u7S/tOO0k7nryTPtKBTYUcyr1PkVLhUzoR1M/rS4ZF8b7dOLvzLe9E7g/vNPHgtbC5ZP2BwjXFhwfVyBEHnEaxBTwDvsLYAuACSMGigRBBR0E2P5699zwDeui5TXjneUl603xovh2AjENiRWeGfIZ2hdCE9MMPwZBAHL7WfcD9VP1NvjC+3P/KP+L/4YBWgKzAkoDEQPIAYsBjQDKAJ0BwwGLAWUBEAGuAJT/I/87/6n+Rv4f/wIBugEdAukBUgFUAOb+Tf03/M363fnP+en6g/wq/nP/lgBEAYsBiwEjATgA3f4G/RT7DvlU90X1UvMc8rDxk/Fu8WnxBvFK8ArvhO3W7MbvRve6/0YMkh/QMmxBlEdQSAFFrzlmJwMP4PXs3m3Lhr7NueK9ZchG1VblZfjqClQYyB7pIP4f9RqlE3gNoQlbBsYC0QFMBLAGqwbzAy8AQ/s59HHtnOhs5mfmaOjn7SD32wF8C7AStBelGuQZ3hXNDx0JCgLE+mb1V/Pb88T1Tfik/K4AngODBQsGfgWjA7IApv0S/KL9Sf+L/x4BXANKBRkG0wWcBOQB+f5P/Mj6D/uq++f7u/yp/lwB/gKjA1gD/AHI/2n9wvvz+tT5sPjf+Iv6P/2//3gB1AIIAxMCTwDa/cT68fYH81Tw/O7b7iLvoe9d8LbwEvCG7sbt9e+e9cb7kwSeFGsn1DfrQZpG7UePQso19SFrCknzdtzkyOq7QrjVvCnFh9HG47D4QwteGOkgniViJFIeIhdbEOMJEQOI/hf+EgCEAlEE9gRRBDYBIPww9rvwFez859/lCug77nL25v7dB8sQVhdxGr0axRjwE0EMeQNU/Bf3gfOd8bTxTPTk+KD+GQRhCEML0QszCnoH1wO//zn7wPe59lT3w/iT+2//WgKKBDoGOAcTB7IF5QOGATL/Tf3j+9f6h/q/+lr72fvc/OP9g/6k/pv+vP6y/oj+m/7F/s/+g/7M/eX8Ofu6+Cf2nvOP8QTwp+637Sbt1uyG7BXsW+ww75r1yfzKB6QYqSkkODhBn0bBSJJDCDhSJewOKPiN4VTOEcDSuXe6X7/Uya7a7u7bAToQfRtII30l7yL5HbQXQxDwB7oBav+L/90AJgIpA80D4gJnABv86PaP8djrQOcS5sHo3e0K9Pr7WQVVDisVpxngG+IaNxZFD+YHEAHE+lP1ufFN8Rj0/fdB/CMB7ARCB+sHGghGB3IEOwEQ/eL5Pfnw+Vr75fzp/2wCxAOoBfIG9wbsBEcC2//D/Sn8K/uH+nj69/oN/D/9qf6Z/+n/QP9s/uj9nf1I/Qv9FP0x/dP8LvwY+3H5Yvcp9QfzZPHG7zfuP+ym6q3p3ujw6FvsV/Oc+7MHSRk0K5o6rET6SuNM1Uc9PFkpYBJh+uniqc6nvu+2g7b2utnE99SC6SP9Ygz0GA0i1iV1JBogUBpHEywL3gS6AVcBxgJMBGIF+AVrBf4CUP5u+ELyt+uw5aziquPf543tXfVS/4QJaRItGZEdtR7uGw0W1A4JB8P/vvgt8+zvqu9U8kv3ZvyEAjIIzgo1CwYLIgkpBdH/2ftS+Nr2x/YQ+G/6uf3YABQE+AXrBy0IDgfeBDkCIACi/T77uPk5+aD5YfqA+/j8L/7K/s/+wf6g/jP+Uv2M/A38hfv3+n/5n/ex9fLzL/Ky8KXvdO4H7IzpQOcl5lzn0eyg9Nb/wBHNJUc3zUQ/TgVUhVFbR581uR5UBcfqstN+wJ+0j7BhsgS7Tsqv3hP0YgXYEy8fgSUvJq0imh0UF/UODAjQBPYELAapBxQJPAq9CegGpwGH+nHy7uk74m/d9dxz4C/mEe4F+U8FihA7GUcfMyLbIK0bghSyDIAEcPya9WnxWPC58XH0Avi7/G4BewRuBuQGEAYlBZcCff8n/VT8T/yy/Jv+OwGVA+MEqAV8Bv0F+AM0Aqz/nf2q+xT78/q/+qr75fyY/Vn+Mv/u/1f/Rv60/UT9yfxm/If84fwj/U39Mf2a/M36RPh+9aTyEvAD7mDs0OoW6Y/nQeYl5k7pJ/H++bsFfxjbLK48j0ewTnVS600uQQEtkRZz/ZXkj8+6vo2217RLuE/CedGw5cj4tQYCEsYa+R8cH9kaQxdxE0wO3gnQCR8NkA8BELYPEQ8ADF0FcPwC8+rpbOGy2mvYP9v+4Szq8vMJAIMMkRZ8HCofYx/lGysVZQ1zBrIAPvsS97v1OPfU+RL8sP3g/+0BGAKuAJn/VP7T/Hz9Qv4a/0kBbwNDBB4GmwdJCAsG9QJ1ABX/3vvp+lP6yPpo+yP9Zf/tAdQCFgMAApEA8P5I/UP7jfmr+O344vmO+4X9Yf9UAE8AYf/R/en6+/bh8lrvhuyc6gHq5emo6Q3phOjB6Hrr0/II/OIHHxvtL/o+O0kpUAtTwE31PugojBGy95zeR8v7vB63m7b0uzHIcNjh67v8OwhWEK8V3RhuF90TJRHlD/AOxg5SEg4YaxtVGkUWtxFTCnP/IfL25b3cGtY40yTWad5h6VX0w/9pC44V1BrEGwoahBX8Dy4K2QSwAQQAgf9GANYB7gMXBYsD7v/e+1L4TvXw8rnxi/Pc9yL7qQADCvYQBxJdEdwPWQx/B80B5/vE9cHypPIk9W74If6LAR0EpAVLB2cH2QQAAML7w/ip9yr3n/dC+ez78v0gAF4CFAQkA38A1f0l/P75F/e684rxT/CO7yLvoe+M8EXw8O046+zoauel6L3v6/lzBrYb2jSmRWVOTVO5U2ZLfzepHckF8uz71KzF4L7BvyPDY8uy2NHnEfUj/xcFtQbTBRkGdgf3CLIKzQ86F9wdwCJ2Jq0nLiLjFUAIRfwk8LXiWNhV1dTX1Nxm5OPvxvuQA8oHcgsYDhANNAn9BRcFlgUTBzcKEw7sELcRoRC+DaMIVwFe+bnxtezK69jta/CV9e39DgdZDH8OtQ1/DIQJUQSy/q/7HPnM+C363PyWAAoEjAXJBSkF5QPyAcH+9/qr+I/4bPmQ+t77Rv6kAHMBLQFBAED/bv26+mz5Fvp7+7b8gf1j/pb+qPyl+f31IfKX7drqVupi61Xt7u6G7ojt8uyr8Wv8IwaeDbUeuTQ2Qs1E/ESNQ8w7FieHD/v95e693ITQOM600hPVkdj34JHrTfFc89r2Wvua/Jj90gPIDb8U0xiPHr8l5SeyIvoa4hNdCiz9wvHv62/pt+ZS5Xvo4O7g8yf23PcM+o77wvs8/PD+GwM0B/gKng82FMAWpRUQEngNDAi6Afb76/fM9v/2fvff+Oj9fQGIAJ8AMAQtA3P9aPss/Vb9c/0M/7oBxAM8BX4FZwXHBBEDgf8n/VL97f1S/TH9Wf6e/4b/yv6N/tX9M/zb+m/6CvtK/B79x/0H/2wAwADp/67+I/0k+mT2gfNn8rnxlfAu8JHybfb7+PT3s/S28O3sKemr6mj0XgAwCRwYUDBcRLlHDkHHOb8x2yC4CRj5LPHs6Mnfqt6N5jbsa+l55OrkBejN53HmrekS8nL7UQQWD4QawiEbIlsebRqjFsIQ2whMAvn+8v1N/VT8WvuE+bH1xPBs7ensR+2p7aXvMvX4/AEE1gggDAoOww3jC94JUwjkBkYFVgRpBuMJAwqBBtAEbQThAM36mfhn9x32APmN/iUADP8zAPkAO/+b/mP+wPwS/Fn+ZQHbA8kFuwWsA2wC9wHFAGf+tvzL+737Av3F/qL/Ef+5/Xn8+vve+2j74PoG+4z89v16/u39CPyP+C715POi89PyCfJE80b3pvt+/Df6+/bY8vPuiO0W8JL5qgRyC/UToiO7M804EzBEJToeFBdUDAgDbP5B/Nz3SfPr8rDzxO4c5gfgDuEV5yrtdfKU+OT/lAaCCjMM3QzjC8gIzAYRCMAMYQ8rDoELlwnkBlgDS/5Q+er1GPQT9Jz2H/pr/EX8Afvb+sv7h/zJ/IX9CQCmBOQIQQpKCksMJxCeD9YIbwO+AT0AbP7f/Vb9/fxm/K/7nPu7/Lb84vnc9836mf/pAcsCAwOgAosBDgCI/tX9lP1p/fv9FwCqAskDpQLKANb/Av/t/W793/1C/pb+H/94/0D/AP4n+5T4/ffv99r2Ivay90X6TPs1+zf8qPym+//7zP3f/ZX8D/t6+aT3C/YR9Q/2PPyCA2kG1AdWC5AP9RPGFcQU0RJKEQgPPw16DGALVQeWADf8dPqz+XP4IPe29V/2avgy+nv7KfyH/Mv7Jfx6/jYBNAL3AawBYwJOA5oDQAN/Ao8BXAEFAuwCNwNxAusApADvAEkBmwDY/pT9Ff8hAjUEjQKNANYBsQMYApD/pP6g/i/+kv5PAC8CjQLvAPn+b//+AKQADP8R/4MAZQEaAbcALwDT/qj8ofuH/HH+I/+3/hH/w/+6/9j+F/6+/Sr+Ff8JABABhgEHAS8AO/91/qn+oP7y/Q7+oP5Q/or9xfz2+2j7Ufu4+wT8fvxI/WT9qPxB/ND7hfto+8v71/xE/a38efy2/Fv9Jf42/6cBGQS9BDoEKwTHBMcEywSyBUgG7wVGBTwFnwWaBV8EoAIFAh0CDgLIAawBzQEeAWH/Cf4z/nH+Xv5G/hH/rP9z/8j/WQAXALH/9/8OAGcAnQFoAgUCfQE7AaQAiABXAe0BKAGkAE4B+QBsAJEAdQCB/8H+I//D/xcAIAB4/6D+Pf5Z/mf+3f6e/0T/ev7B/i3/I/8H/zb/Lf9E/5T/0f84ABwAV/+S/oP+5v4H/zv/ov9E/y3/B/9j/l7+z/4C/8r+8P5z/5b+Wf7M/Wz+3/0E/uP9xf7Y/mH/ff+6/6L/rv5E/x//2ABZAKQAff8o/xH/f/5O/8j/iABBAN0A9ACuAJYAwAAcAOD/KgCIANgAKAFXAbwAFQH8/+8ADAF4ARABbgEtAZYAFwCfADEB0wAtAakAagHYABABtwBqAcAAmwAMAcUAKAHOAKQAAADI/9v/BAC3AEsAIAAcAKL/DgDp/0sA7v/8/z0Av//u/yAAKgAo/8P/Mv8vAEYAgwBwAD0A2/+6/z0ARgCRAI0AWQAzABwAXgAcAFkA6f9iALH/YgDu/2IA4P8JABwAEgA4AD0AbAAqADgAHABBAD0ARgBUADgAQQAgADMA/P8EAAkAJQAgACUAPQA4ADgAMwA4AC8AOAA4ADgALwAgAA4A9/8AAC8AKgA4ABcADgD8//z/CQASAA4AEgAXABcADgASABIAEgAOAA4AAAAOAAAADgASABcAHAAlADgABAAqABIACQAJAA4A9/8OAAQACQAJACAA5P8cAAkAAAAAAA4A7v8EAA4A/P8JABIA/P/8/w4ADgAEAAkABAD3//z/AAAJAAQACQAAAPz/CQD3/+7//P/8//z//P/u//z/AADu//f/BAAJAPz/9//p/+7//P/8/wAA/P/8//z/AADy/wAA7v/8//z//P/8/wAACQAJAAQA9//8/wAAAAD3//L/AADy//z/BAAEAPz//P/u/wQA9//8/wkACQAAAPf//P/8//f/9//8//z//P/y/+7/9//8/wQA/P/3/wAACQAEAAkA9//y//L/9//3/wAA9/8JAAAAAAD8/wAACQD8/wQA9//8//z//P8AAPz//P8EAAkA/P8JAAkAAAAAAAQACQAAAPL/9/8AAPf/AAAEAAAA9/8AAPz/AAAJAPz/BAAEAAkA9/8EAPf/BAAJAPf/AAD8/wAAAAAEAAkADgD3//L//P/8//z/7v8AAPz/9//8//z/8v/8/wkAAAAEAO7/AAD8//f//P/8//f//P/8//z/9//y//f/BAD8//z/9//u//L/AAD8//f//P/u/+7/BAAAAPz/9//8/+7/9//y//z//P8AAPz/8v/u/wAA9//8//z/9//8//f/8v/8/+7//P/u//L/8v/3/+7//P/u//z/8v/3//L/9//3/+7/8v/y//z/7v/u//z/9//p/+7/9/8AAPz/AAD8//z/9/8JAPf/AAD8//f//P/3//L/9//8//f//P/3//L/8v/u/+n/7v/p//f/9//p/+n/7v/3/+7/7v/y//z//P/3/wAA8v/y//L/7v/u/+n/7v/u/+n/7v/u//f//P/p//f/8v/y//f/6f/u/+7/6f/3//z/6f/y/wAA9//8/+7/8v/8//z/9//3//L/7v/y//L//P/u/+7/7v/3//z/9//8//L/9//y/wAA9//8/+7/8v/y/+n/9//8/+7/8v/y//z/9//u//z/8v/3//z/7v8EAPz/AAD3//f/9/8AAPf/BAD3//f//P/8//f/CQD8//f/7v/u//L//P/3/wkAAAD8//z//P/3/wkADgAAAO7/AAD8//z/BAAEAPf//P/8//z//P8JAAkA/P/u/+n/AADu/wkA/P8AAPz/9/8AAO7/9//3/wAAAAAAAPf/8v/3/wAAEgAJAAAA8v/u//z/8v/y/wAABAD8//f//P/3/xIADgAEAPL/9/8EAPf/CQAEAAQA/P8AAPz/8v8AAAQA9/8JAPf//P/3/wQA9/8AAPz//P8JAAAA9/8AAAAA9/8AAAAA9//8/wAA/P/8//L/AAD8/wAA/P/8//f/9/8AAPf/AAD8//z//P/8/+n//P/8/wkABAAAAAAA9/8EAAAA9//8/wAA9/8EAPz/9/8AAPz/AAAAAAkAAAASAAAADgAOAPz/DgAEAAQABAASAAAADgAJAAAA/P/3/wkAAAAAAAAA8v/8//f//P/8//z//P/3/wAAAAD8/wAA/P8AAAkAAAAAAPz/CQD8/wAA/P/8/wAA7v/3//f/6f/3/wAAAAD8/wAACQASAPz/CQAAAA4AAAAEAPf/DgAJAAAABAAJAAQAEgAJAAQABAAJAAQACQAAAAAA/P8OAAkABAAOAA4ACQD8/wkADgAJAAkADgAJAAkA/P8AAA4ADgAJAAQAEgAOAAQAAAAEAAkAAAAJAAQACQAAAA4ABAAOABIADgAOAAkACQAEAA4ADgD3/wQA/P8EAAkADgASAAkACQD8/wAAAAD8/wkALwAzADMAMwASAPz/6f/p/+7/BAASABcADgD3//L/AAAJABIAEgAOAA4AHAA9AHUATwDW/5n/uv+//xwAOAAcAAkA/P/b/+n/9/8XAA4ADgASABwABAAEAAkACQD3/xIADgAgACUADgAAAAAACQAJABIA/P/3/w4AAAD8/xIADgAAAAAA9/8AAAkADgASAAkA/P/8/wAACQAOADMACQD8//z/9/8EAA4ADgAOAPz/BAAAAAkADgAJABIABAAEAA4ADgAAAAkAEgAJAAAABAAEAAkABAASAAQACQAOAAQACQAAAAkAAAAOAA4ACQAEAA4ACQAOABIACQAEAAkA/P8OAA4ADgASAA4ADgASAA4AEgAJAA4ACQAEAAkAHAAlAA4ADgAEAAkACQAJAAQADgAcAAQA/P8AAAAADgAOAAkACQAEAAQACQAEAAkADgAOAAQABAAEAAkAAAAEAAAABAAAAAQACQD3//z/AAAAAPz/CQASAA4ADgASABIABAAJAPz/BAAOABIACQASAA4ABAAEAAkAEgAOABIADgAOAAQAEgAAABIABAAOAAAAAAD8/wQAAAAJAA4ADgAEAA4AEgAOAA4AIAAEAA4ACQAOABIADgAAABIADgASAAQA9/8AAPz/EgAOABIADgAEAAkADgASABIAEgASABIACQASAAQACQAEAAAA/P8OABwALwAOABcA/P8lACAACQAzAC8A9//g//L/CQAcAE8AOAAlAPL/JQAcAFQAEgBBABIAxQCRAB4BNAInC1gKdgIv+dD2APTT98oAQgfCBOEAOP6/+v75gf3WAaoCHgHhAOv+q/3X/E4DywkHBjMA1f3H/VH7mf9ZB7EIAQmeCNsD8fZo9OD1bfs//dwFHQm8Arr6uvjZ+8b7sgDSA5oD0f39/Ij+QP9zAWED9gTdAOn/eP+NAOD/PQDrAIH/B/8C//4ASwDR/7L+/v6k/qT+Uv/u//z/tf8lAK4AmwDOAKz/CQA2/yUADgCQCGQJEgWs/1f/1/zL+3j/nwCw/c/5pv2B/bf+PQC4AvkA3f7g/z8BkgLIAWYD/gLNARUB3wHyAS8A3f6g/jb/Nv8f/6f/kv7a/dP8L/6U/wAAov+Z/wAAhv+Z/8oA1AKXAtgAKgBiAPD+pP6BAeEFRwKIADv/IwGp/qkAsgBcAcj/7wAHAS3/sgCsAbwCLwDm/jH9af1m/G79Mv9L/s/+1f2U/8P/+gL5AO7/rv4T/qL9ev6LAaACDAPqA5YAYfqt96b7d/0hAmQEWgT3/z0AiwFEATEBOQKBAZj9wPwv/sf97/wn/X/+n/yu/kIC3QD5/hr/IwGU/40A9AA7ASr+bAKsA57/q/1zAcAATv82AewC0wCpAA4CXgAq/pEAKgAXAOj9z/4OABIAsvxO/wACHwNzAYEBFwDy/83/OgQUBEkBKv4lAOEAvAAa/5YAAAAa/9P80f/T/gT+tP3YAJ7/cABh/14AHACRAAL/ev7d/pYAOwEOAGABtQH8/+n/zwKnAYMA0f8EAPv9z/49/gL//fy+/Un/ov84ALwA4P+N/lz/LQEtAWUBsAGUARoBAABiAEYAbABnAPL/XP/t/Q7+tvym/WT9dQAt/0EA/P/0/nX8fP0XAC8Av/8xAVwBYgAf/08ABABHAmABiABS/6L/Xv4y/y8AZwAqAIgAFwBzAfIBnwBuAdQCaALWAcECQANQAq4Atf/YAJ7/ZP23/rr/tP0C/+YAnQFgAbr/Jf7O/LD9rP/F/qn+Sf9z//v9/v6g/iP/vP7R/y0BWQAXAM3/xQBv/xIA0f+pAOD/B/8OAP7+FwCe/04BYAFCAigB7wBc/wz/w/30/mX/iACb/vT+B/+s/8r+IABPAJ0BKwKZAdb/2/+i/7UB2wHiAsgBsAHfAf4CDAEtAe0BTgFv/57/Yf8M/0n/fwAzANH/8v8j/8X+Tv9O/w4AHAD0ABoB1v/r/mcAlgAvAMP/TwDp/+T/7v+s/xIAi//0/qT+pADmAHoAMwD0/sX+ZP3H/an+/P/D/1z/XP8f/3r+3/0M/5D/xQC3AGX/mf9q/+v+WQDmAMUAmwDhAMP/sf/8/wcB3QCyAOsAlgDu/xcA6f/I/wQAp/8o/yj/eP+1/9j+Z/5G/l7+Cf56/rX/8v9GAO8ASwC8APkAOwE7AcoASwBzAaIBYAGBARUBIACyAJYA7wCnAUICHQKZAcoATwAt/9H9Rv54/5n/7wAVAUEAxf4O/o3+6f9UALIAxQBSAc0BagEJABH/L/4h/uT/dQD0ANgAv/+G/5D/QP/K/sf9qf4MAb4BXAG3ACoAF/7D/SP/zgAQAZ8AjQDdAJsAMQHIAdYB9ADmAMoAqQDYAE4B7wCyAPf/iP4E/tP+b/9v//n+1v/p/43+Qv4a/+L+c/3a/SH+BP7y/VT+iP5s/nX+Y/7t/bf+LwCx/9P+V/9nAKf/z/4a/0T/Y/6+/an+8P7T/hr/V/+x/z0ALQFlAU4BSQEAAp0BDAF9AesAc/9//rX/sgBX/3X+z/6p/or9UP7KAJQBYgDN/7IAagHTAGcAAgF9AcoADgBLAIMAMwCG/6L/2/8OANv/6f+NAIEB+QDR/2//b/99/4P+cf4t/07/BP5g/ej9cf7Y/s3/gwAoAfQAkQBPABIAQQCWAAcB/gAjAeYApADAAIgAfwAtAaIB0QG+AXgBIwGRAED/Xv7B/jL//P8xAVwBegAo/w7+Wf4C/4v/egAHARoBSQHYAGr/jf6b/tj+Nv9UAGUBtQHrADMA/P96/mL8Bvu4+4r9ff9LAMUA+QD3/5v+If4f/1L/f/6b/hwA3QAEAP7+f/6P/cn8yfxI/ZT9cf5A/2r/8v82AVcBav/R/bT9P/1i/G79tf9/AGwAGgHfAdEBQQD0/lL/rgAdApUDwgToBMQDYwIrAgUCbgGPAbwCrgLsAmkEOAWOBAwDcQLNAUQBagHUAhkE6gO0BJgEGwOUAVcBmQGZAekBKwI5As0BnQG6Ac4A0f8R/67+F/7T/sP/VAA4AM3/yP99/0D/yv7T/tP+O/+G/9b/4QCUAdsBogHFAHj/Qv6m/YH9tP2w/ZH8Pvvr+Vn5jfkr+9P8SP0s/Sz9pPwb/Hn87/yR/JP7aPvQ+5f7ZPsB+9T5Gvjo9sn1MPZg+DL67voI+tf6Av1xAmoIlgzfDZ4P6BKhFVAYuhlBGHQUBhDjC+0GhQRHAnUA5/uz+RX4oPT58jT0xfdJ+Hb55fq7/Gz+YgAtAxYDwQJaAvAC5wJMBKsG+AXbA74B6QFCAlQFdAj1B94EeQM+BGMCgQF9AV4AjPxm+mv83PyV/ML7RfzZ+4D7lP1l/74BbAK/A4ID/gLpAUkBZQGGAc0BAgEj/9X92v32/Xn8bfux+jf6uPlq+mj7lfpB9/7yEvJt9JT4N/oG+xL8PPzr+a33xfd4+Mr3Qffh94n5rPof+sz4Jfco+Mf9BQcNDyQUkRiHIG0mliThHbcYRRSWDH4FzQPZBMsCtvzt+D72L/J47ProAeoA7SfxTPR8+Kj8Gv8H/6D+7v87AfcB8wM2CKQMHw+jD80NxAriB3UFwQKuALIAwABq/2z+V/87/378w/gL9r/1Avio/NkCxwapBygGqgQ7AzQCcQIrAhMCvAKYBJQGNgY8BXsCKP/G+9L6nPuV/Hr+c/+//6n+Ov2m+0X6+fkf+uX6CPwX/qz/VACIAFQAXP9k/b377vp9+hj5FPYh8gjwcfKc9qD5FPs++9H48PRA8x30/PPm8oHzqPWk94D7kQVuEsAdOClzMbUxGyfOHfAaCRiDEYAJOAfjBG//KvkM8wHv5uZM3hDZrNv54W/ns+218435jvsZ/TgAFASNB8QKxA9vFCoYbRp9GxMaNRWcDhoI4gIo/9z8jvtA+tj3NPTq8L/udu2P7MPsN+7z8N705/ms/w8EWwY4BxEIXwnSCogMhA56Ef4TgBW9FWoUaxGyCq4CYvwA+TD2yvKg8ib0A/XI80nzY/Qm9BP0u/Xw+Q7+NAIQBuQIUwqXCcoHJQUMA5kBRAE/AU4BUgFsABr/zvz++f/2uvPe703sPOk257johu4I9UH3cvZy9nz2f/Tj8YjyK/Rh9ZL5sAZpHMA1WEaeROM0pyXPH54Zsw5NBpoF3QdJAdj5s/TV8Ufol9feyzjJ98+l11ziju+X+0wCQgL+Ag0F4AjFDMARPxdWHPUhMif0KeklzRtYD2sDGvpC9DbzL/SQ8/HvFexk6prpZecp5Nbi1+Tl6avx5/tNBsMNxxD6EMcQ0BAzEckR5BIkFL8UfRQhEw8QsgqeA+f71PRf79Hsse4y9aj8XgA9ACX+aPvt+FX57voo+pf5C/10A5IH1AkiCyIJ1wOB/zv/sgDDAa4CrAMwBFMDrAEC/6b7P/gR9evyjfJt9DP3l/k7+hP5VvZi8mbuq+y/7lfzdfel+cj6qvv3+ij4L/So8Jnuu/Cy/DkVoTRbR8ZDazM+KC8k6Rn/CXAAHQI1BMH+AfuD/DX9BvH63N3OhsppzUzS/tzm6wj6uAJwBWMHdAggCk0L+QwyD3oT4BuwJYkrJSnSIKUV7gia/B301fHV8RvwVe1x7f/vjPDW7E7nnOOj4v3kZ+vX9SMBxglYDz8SyhP+E+gSFxGeD04PaRB4EtQTABN5D+MJoAIM+hzyce147BjtFu4k8JP2xgKYC3IJlgAg/Kj8JPq798L7MAR9CMoHVQlpCwYLQQXF/nb7Zvq9+8f96QGaBdEGHQRj/ln5mvUY9Mry6/Ik9db4Xfx6/un//v45+0D1G/B07ljwAPS39yf7tP1Q/vb7T/fM8R7s6ecV51PulAHpIPw9/0XCOakrhyczImUSyQOJAvwIXgc7AcMBmAZqAVDtmtjjzfHLk80z0xXgUe8w+5sAoAIBBA0F+AULBr4GpQmfEQIe/yijLMwoHSHlFhYKJf6p90j23vTt8eHw0fND9p7z2uxe5jvifOAk4oTof/Ll/AkF/QokD08RPBG/DwAO4Qw7DZUPLxPxFUUW2BMID88HV/+I90vyve+67vPurfCU8/319vZq+I3+LQMEAPD5+PxnBxwMuQtQDrASjA/aBikDlQMhAlj8VfmT+4P+1v9O/yj/nf3X+l33f/Q59DX2cfms+qb7/fyg/jP+T/wG+9359PdK9Zz0PPci+z/9zvzV+8T6W/ho9OXwfe6k6yHoWeZU6w7+sB7kO25ACTAOJOcm9yXGFS8HNwpJEt0MBQJAA9oLHAd88ZzcxdPg0c/QqNNb3urrXfXR+Az68fsR/xgCKQOlAhkEFwyBGUAlHCkfJxkjSBz6EJoFvABUAKL93PdT9WX4xPoE92jvH+kZ5djhj+De44PrNPRt+0kBPwYDCj8LjAp7CZwJhQugDjYSchWwFxIYlxUUEOAIEwKa/Af4s/RS8+f0sPg1/aD+G/zc9yn1X/TP8obzAvgo//wD/QX3CBQL1wqdBucCiwEjAXgBkgLABd0HMghSBsYCnv/L+xj5W/ZF9bv1iPeE+Qb7Qfxi/Fb7Ofm792L3B/jD+BP5+flD+4z8n/wW/Ef78PkC+Hn1uvOw8XbvKu2f6y/t5vflD1Ur2zbjLckihSO/Ja4aHAxTCiARGw93BEcCPArVC1b9Geog38/al9dc1kfcsuY+74vzYfUQ+F/72P5eAJn/8P4DA4sNAhm4H44hoSFoHyUYew5cCC8H9gRq/wH75/tx/v38t/eD8lPumun95HbjbOZE7Evy3Pd5/Pf/kgKFBDMFGwXhBZUI+wuXDkoRzRRbFw0WQRH7C6AHkANE/+P7v/qs+jL65PjT9xf3zPhe/gwBefz69LH1g/xQ/nf9/P/FBfYEygBuAYgFfAZMAn8AVwEWA0MEPAUsBg0FNwP3/yX8uPn1+cj6S/nT9wL4/vnN+tv6xPpJ+t/4fPZ09a/2Pfme+nT65fou/MD8dvvP+cX33vQU8YLuce0F7Yvu6PbvChwkPjJMLRsifSBuI9wbsA3QCbQQ4RHSCAQFDgzEDwEEx/EJ5qLgE9w62fDcbuX37AbxrvKv9Bf35/k5+1P63/ic+5gEDxBsGGQcjx7MHl4aihL5DPsLzgosBtEB2wGTBG0EYgBy++P2NfGO6jPmXub46QzuhfHP9Fv4WvsQ/bn9L/5O//4AAwPqBWIKuw8RFIkVJBRiEUwOHgvYB8wGlwlgC7oIawO+AT0CUP7999HzMfM18a/vf/Ic9+L5UPnB+Yv6AfvC+039Yf91AJICMwUvB4IIoQn/CeYH8QSlAs0B/gDy/zv/vP4c/pr8e/vI+uL57/c89VzzbPIc8j3yDPMT9Jf0G/Xu9cf2jvaC9VD0t/JK8GHuPPAD+j0MJSJWL68tuiUQI28lLx8qE2ANYhEsEt4JsAbdDJERVQci9orqN+TH3u3ZIdys4pzoxet67cTw9/Mz95b35fU09Ln2t/7ICIwRYBfEG8UdWBspFk0SyREBEJgLUAd6B/UJAwoFB0UDUv/y+AvxCes36TDq4evY7QTwevLZ9NX2EPg6+E34L/kY+5j9nQGuB+4NuxG5EugShBMaFIESCA/CC8QKeQqGCG4G/QXvBbwCj/2J+V33EfUS8v3wzPE28x30fvWk93H5dPrX+lH7VPxC/qQAywLjBMcGMgiGCBoIdgdpBpMEXgL+AJsAegDD/9j+Dv7X/Kz6/fe29ZTzufFY8BbwsvDM8X3zMvXN9Tz1JvSu8k/wMu4o7pnzuv9wEUUiGShOJbYgeSJfIZYYtBBbENIUihDtC2gOiRV2E7IFm/md8aTrveOK4A3kXujV6iXr1O1F8GLyXvKH8PntKu138dr4UgEtCJwOjRO6FBwTCRFnETgRzw7RC7kLrg6mEHcQHw9EDbUIjwGV+if2Y/Qf83XybPIf8wX0vfQf9WP0SfNC8trxJfIv9Nb4cf6EAvoECQciCSAKrwlfCagKdA9KFusYahTGDl8QPxLaC4kCbABzAWr6TvOe9bT70fi08czxSvXL9D3yX/Sy9+H3lvez+dz8B/9SAZcC9wHrAL4BJAPsAuwCBgTjBGYD0QFjAmsDCgLV/VP6Bfnr9wH2WPXM9v/2uPSu8gLzt/J77xDsa+v+7YbzW/2KCxQXxhoJGPUVYhgUF2ASUA4XESgUlhE6EP4TQBnNFM4KrgJp/Wv3xPD17wnyNvP28d/xI/Mj84PyyfB97vHqIupV7aDy4fea/N8BIAXFBTMFHgbKB6UH2gZCB/EJ3QwtD+gQ/REqEcgNbQmaBRsDXAFZAJD/B/+y/hP+bv0g/DL6yvcy9f7yIfI282b1qfeg+Xv7/fy5/fb9sv5sACYCBAX4Ct0OAA50CuEMRhFJDTEGqAOGBrgCW/1S/woEWgKm+6H7Pf7X/E34yveb+WD4vfZ+92b6X/u9++z7tPto+1r7g/y2/IX9bP6B/+T/EgBzAVUCnQHY/ur8lfxr/Nn7wvvX/K388/ov+cj4m/d29GDxh/Ax88r3zP1gBjcP8BPLEJYMHQ5rD14M+waTCZcOLw7HC1AOYRQCEiAKBgTDAcf9bvgL+IL6e/vn+UD6Bvvi+fn3tPb69P3wBu8Q8ef0JfeS+Z391v82/7n9t/4JAJD/6/4OAJICtATaBlUJSAsnC20JcQekBYUE2wMdBF8EdwSTBKYEdwRKA+kBLwD7/ab7Rfqx+iX84/38/1IBGgEAAG//i/96/gn+x/2W/qn+nv+BAcsC3QKiATYBMwAy/6D+KP+x/5n/1v9ZABUB9ACbAMj/vP53/Yf8n/wQ/dX9Cf5j/nX+cf5L/gn+x/0Q/Wv82fuh+5z7r/vj+//7dfyo/OX83Py7/GL8dvt9+q75Wfm++ET4E/kg/KL/aAL9BWsKjQzLCXEH6QiCCoYIOgYmCSUMWws5CeUKBw3eCRcF7AJsAtH/q/2S/uD/Mv8E/l7+uf29+1P6MvrI+Hf2mPai+N354vlt+1b9FP2O+4n71/zO/F38LP3r/vz/jQAKAn0DsQMRA9QCkgIOAgAC3QKoA+ADIgShBLkEJwSsA6wDZgO8AkICVQJVAi8CewKqAlUCUgHKAEsA1v9A/8r+g/72/dX96P0q/ir+F/7V/Tr99Pz4/DH9RP1b/ab91f0A/kL+pP7i/s/+jf6D/qD+8P47/7r/FwAzADMAMwA4ACUAw/94//n+g/4v/kL+jf70/ij/Nv9S/zb/9P6I/jP+1f1k/Qv96vz0/K38+PwO/lf/6f/b/wwBnAJmA88C1AI6BMIEWgQKBF0FMQaoBQkFGwVBBToEWAPsAn8CzQFSAVIBzgBwAFQATwCi/+L+6/7d/lT+3/0l/mz+3/2K/dX9AP6i/Vv9ov3V/ab9x/0q/n/+kv63/vT+DP8C/zv/kP+Z/7r/IABeAGwAgwD0AH0BsAGwAW4BagGiAaIBgQGGAfwB0QGsAcgB8gFzAakAegA9AKz/QP+U/6z/Uv8j/0n/O//K/rL+xf63/pL+sv4a/zb/av+i/6f/gf9h/2X/V/9S/2//hv+e/5D/0f/p/+T/w/+1/7//mf+Z/7r/1v/R/8j/0f/g/9b/yP/b/9b/w/+1/9H/2/+1/6L/ov+Q/3P/Uv9X/0D/H/8V/zv/Yf+Z/7r/0f/k//z/IABUAJsA4QAVASgBXAFlAWoBgQGPAZkBZQFOATsBPwEeAQwBGgEeAf4A7wD+AOEAvACbAIgAVAAzACUAAADb/83/yP+6/7H/sf+1/6f/mf+U/5D/ff9z/2r/c/9l/3j/ff+Q/4b/nv+e/57/mf+s/7//yP/b/wAAEgAOAA4ADgAqACUAKgA4ADMAOAAzAD0ARgA9ADgAOAAzADMAMwAzADMAMwAzABcAAADy/+7/6f/p/9H/zf/b/+D/yP+//7H/v/+n/57/nv+i/7X/p/+s/7X/ov+n/6L/nv+e/6L/sf+1/7//yP/N/9v/1v/W/9H/5P/g/+T//P8EAAkABAAOAAQA8v/u//f/9/8AAPf/AAAEAPf/8v8OAAAAEgAJABIAJQAlACUAKgA4AC8AMwA4ADgAOABZAFkAWQBiAHAAegBwAHAAfwB/AHAAegBnAHAAbABsAGcAWQBPAEsATwBLADgAMwA4ADMALwAcABIAAADu//L//P/p/9H/1v/R/8P/rP+s/7r/ov+e/57/sf+i/6f/rP+n/7r/rP+//7//zf/W/9v/5P/p/+n/6f/p//z/BAASAAkADgAXAA4AFwAlACoAIAAqADgAMwAzADgAKgAqABwABAAEAPz/8v/y//L/8v/p//L/2//p/+D/0f/k/9v/7v/R/9v/yP/k/9H/1v/k/9v/8v/k//L/6f8AAO7/9//8/wkAAAASAAQACQASABcADgAvACAAKgAqACoAJQAzACUACQAcABIAEgASABcACQAOAAQACQAOAAkACQAEAAAA/P8JAPz/BAAJAPz/AAD8//z/AAD3//f/9//8//z/9/8AAPf/8v/y/wQA/P/3/wAAEgD8/w4A/P8EAAkADgAJAAkABAAJAAQAAAAAAAAACQAEAAQACQAAAAAA9/8AAPz/9/8EAAAAAAAAAAQA/P/8/wQAAAAJAAkA/P8JABIA9/8JAAQADgD8/wkABAAJAAkABAAEAAkAAAAEAA4A/P8EAAkAAAAEAAkA/P8JAAQA9//8//z//P/8//z/AAD8//f/6f/8/wAA/P/8//z//P/u//L/6f/p//z/AAD8//z//P8AAAAAAAD8//z//P/3/+7/CQAEAPz/AAAEAPz//P8JAAAAAAAJAAAADgAJAAAACQAJAPz//P/8//z/AAAOAAkAAAD8//f//P/y/wAA9/8SAAQAAAD3//z//P8JAPz/AAAAAPz/9//8/wkABAD3//z/AAAAAA4ADgD8/wkABAAJAAkABAAEAAAACQAJAAAABAAJAAQACQAOAPz/DgAJAA4ADgAJAAkADgAEAA4ABAAOABIACQAJAAAADgAJAAQACQASAA4ABAAOAA4AAAAAAA4A9/8JAA4ABAD8/wQAAAAEAAkABAAEAAkABAAOAPz/AAD3/w4ACQAJAPf/CQAAAAAAAAAJAAAABAAJAAAA9//8/wAAAAAAAPz/AAD8//z/AAAEAPz/BAAAAPz/AAD3/wAADgAOAAQABAAJAAAAAAAAAAQABAD8/wQADgASAAkAEgAEAPz//P/3/wQAAAAEAPz/BAD8/wAAAAAJAAQAAAD8//z//P8AAA4A/P8EAAkAAADy/wkACQAEAA4A9/8AAPz/8v/3/w4ABAD8/wAA/P8AAA4AAAAEABIABAAJAA4ACQAOAAQADgAOAAQACQAOAAkADgASAAAADgAJAAQACQAAAAQABAAOAA4ABAASAAQACQAJABIACQAJAPz/DgAAAA4A9/8AAAAABAAOAAAA9//8/wAAAAAAAPf/AAAOAAkABAAAAAQADgAJAA4AEgAJAAkACQAOAA4ACQAAAAQAEgD8/wkAAAAAAA4ACQAOAAQADgD8//z/AAD3/wkACQAJAA4ACQAJAAkABAAJAAQADgAJAAQADgAAABIADgAOAAQABAAOAAkADgAEAAkAAAD8/w4ACQAOAAkADgAJABIABAAOAA4ABAAJABIACQAOAA4ADgAJAA4ACQAOABIADgAEAAkAEgAOABIAEgASAA4ADgAOABIABAAOABIACQAOAAkADgAEABIACQASAA4AIAAJAAQAEgAOAA4ACQAEAA4ACQAJAAQA/P8EABIABAAOAAQAEgAJAAQACQAJAAQAEgAAAAkAFwAEAAAABAAOAAkAAAAEAAAACQAEAAAADgAEAAkACQD8/wkADgAOAAQACQAEAAAAAAAJAA4AEgAJAAQADgAEAAkA/P8JAAkADgAEAA4ACQAEAAQAAAAOAAQADgAJAAkABAAAAA4ADgAEAAkABAAJAAAABAAJAAkACQAAAA4ABAAOAAAADgD8/wQAAAAEAAAAAADu/w4ACQAEAAkAAAAEAA4ACQAEAA4AEgAJAA4AEgAEAA4AEgASABIABAAOAAkADgASAA4ACQAAAA4AAAAOAAkACQAOAA4ACQAAAAQABAAEAA4AAAAEAA4A/P8OAAQABAAOAAAABAD8/wAAAAD3/wkABAAEAAAA9/8AAAkADgAEAAAADgD8/wAAAAAAAAkAAAAEAPz/CQAAAAAABAAJAPz/CQAEAAQAAAAAAAQABAAEAA4AAAAEAAAAAAD8//z/9//3/wAADgAJAAAABAD3/wQA/P8OAAAACQAEAAkAAAAJAAQACQAEAAAAAAD8/w4ACQAJAAQABAAEAAAAAAAOAAQACQAEAAAAAAD8//z/AAD8/w4AAAAEAAkA/P8EABIABAAEAAQACQASAAQAAAAAAAAABAAEAA4AEgAOAAkAAAAXAAAACQAJAAQADgAAAAAA/P8OAAkA/P8JADMAEgD8/9b/9//b/yoAIABPAA4AJQDD/1QA2/8PBIQJxwRe+Q31z/l1/hsDZQYpBeP98PnX+kT/agErBM0DGgHv/Lb89v1ZAA4CEQOZAUn/pv3o/U7/7wAFAp0BDgCW/nH+I/9sAD8BTgFnAED/3f4t/+D/kQD0AKkA1v9E/1L/w/8zAIgAWQAJAM3/sf+6/yUAQQA4APf/XgAgAGcAQQD3/wz/i/+e//z/pP56/i/+TgGlAtMMeBS0C0L5C/El8vj12P7yBoEGI/06+Bz5z/7WAVIGMwU/Af/7dfwE/jEBRQOaA4MAM/6Y/Zv+MwATAqoCEAHY/hz+t/7W/wcBmQHKAHP/Rv7d/gkAygDYAKkAFwBA/8/+rP+uAK4AjQAgAKz/QP+e/+D/fwC8AIMAUv8C/zv/PQCuAPkAfwDp/wL/I/8vAMAAfwBeAC8Aav87//f/wABnAA4Ap/9v/33/JQDu/yAAIAAEAM3/7v/8/yUALwASAB0CIgllBjb/CPr9/E/89P5PAHsCvv0e/WT95gDN/wwBPQCbAED/xQBnAJkBlgA6BrwHPAUj/7D9X/u5/WcAwwEE/vH7LvxZ/pT//gD8AS0BeP/r/vL/zf8gAJ8A5gCn/7L+rv7R/7wAVwEoAe7/z/6u/ob/kQBJAfQAsf8H/8P/SwB1AHAA+QB6AMj/Gv+L/5n/BAB/AD0Amf9l/5D/p/9iAHoAv/9//q7+4P/KAM4AygBsAGH/Lf8OABoBWQBPAC8ArP/w/mIARAGIAG//4P+8APkA4QDN/zL/jf5J/wAAvACkAD8B5P8y/xr/IAAcAB4BNgFBAM3/dQX2BF4AGPsZ/Vv9NgHiAgoC8fuL+oD7QQBjAnsCnv9u/eX89wHQBHECb/8C/woCqAoJDMEH0f9v/9X9nwAEAB0Cfvw9+cf2kPoP+xD9wPx8/WT7zvx4/4EBegBeAE7/nv9EAe4D/gKwAQoCTALdAN0AOwH0AFL/oP4M/9H/yv4a/33/m/4x/QD+Ef9l//7+f/4z/nP/V/9A/5b+Av9j/qkAGgF9AaQA9/8h/sH+DgC8AngB2ACdAV8ETgHp/93+Xv7J/GP+OAC1AVkA5v72/fv9j/0y/xIALf8zAL4BcwHAAKkA4v43/IH/zwItA6IBcwECAVf/2P7AANMAkQCpAL//6f/rAAIBcwGs/xH/QP+u/jP+6wBJAdj+If4M/2T9BP5n/hf+lP1z/8P9P/0X/oj+Sf+s/3gBKAE4ADMAuAKUAZwCLwLyAd0Azf/T/tYB/wSXAtYBywJGAIH9S/5jAtcDjf61/5ADQQCt/EYF5AZ//kD6Zvyp+a75Hv06/Qr7Lf9nANv/hgHHBBgCQAOwAfACvAJ7BEIC7AJaAl4CVAA9AHAAogHr/iH+DP+B/xz+I/8XAKD+mvwL/Vz/IwFlAZD/8v/p/xX/8P6fANsBpQLrAB//Uv/FADkCvQRlAaD+XP8tAbwADwT6AvT+AADPAhcAdf6B/1D+pv1U/Ev+i/9zAf4A1v+B/6f/Uv8jAbEDI/3x++EA0wC+/RABz/7D/br/tQGZ/8AA2/+fABIAUv+UAfoCtf9eAJkB2/9GANMArv7x++EAvwOcAs3/Av/w/vf/WgKuAoEBGgFDBKcBhf0L/csC/gJPAAv9df49AJkBegAR/0v+Ef8BBKoCHv0++zMA9wGTBHAFggOR/KT+8v8lAFwBvAKU/Rb8RgDRAXoAO/8q/pj9hgHJBRIFEgDQ+wL/1AIFAmIA2P71+ST68fui/e/8BP4L/S/56fqB/+0B/P9C/vb7VP4H/yX+3/3D/67+S/4X/sP/JQCg/sP9jf42ASMBbgGU/93+7f3B/qb9tP0S/Jz7Xfwp/Cz9iP68/i3/fQEEAAf/2AAtA1UC1gGSAsMB+gIwBM0DLwBUAPcBswKn/+v+kv4y/x//iP5W/SP93f66//L9jPwj/U39aPsx/cP/LQGPAY8BBACg/mr/NgEtAcAAXgBGAEsA/gC4AiECDAHOAHgBVwFcAYYBzQFnACoA7wC//8H+OP7r/hP+mf+D/mD9Cf7P/rf+zf+ZAZsA0wCPAa4CowO2A+YAxQA0Al4CnQFgAX8AmwAgAO8AkQCIAKL/av+k/hX/0f2w/WP+eP/P/tj+UP7D/an+DAHfAdMAb/9UAAcBXAGLAVUCYAEXAAAASwBv//7+PQBv/x//VACIAIb/1v9A/279E/4H/8j/QQBXASj/Dv5C/hwAdQAxAfz/Zf+fAGwCmQGfAHoAxQDAAHUA2AAvAIj+M/78/zEBegAgALL+Dv5C/i8AygA4AAAA1v8V/7f+3QCXArgCbgHI/1T+xf4xAZwCjwEHASoA5v6p/lL/lgAOAl4CvAC3AOQBoAIVAff/6f9eALwAagHKAGH/OP56/uL+E/5//q4A6f+H/Ab9CQBgAYYBPQLTALf+Kv70/ioAyAG+AeD/6P2m/Rz+9/9UANH/w//D/9b/iAAtAUkB0wBPAGX/f/60/dP+9/9E/0L+vv1z/cf9/v61//QAJgLIAXUAzgCEAtQCEwJxAvIB9ADrAG4B2AAC/5/85/uU/esADAER/2v8pPz7/cAALQFlAU4BugGZAUoDIgTtAbr/4P94ASECnQGdAY8Bz/72+9H9KAFCAvQAKv5u/TMAsgDT/uL+6f9iABoBZwCW/lL9jPzT/Jn/rgIvAuT/HP56/gIBhwMdBBYD7wBc/6L/WgJWBLsDVQLDAQQApPwI/Nb/dgJqAcj/i//D/6z/6/5e/gL/LQFTA9sD8gGyAM3/Tv9GAJUDjgTdAj0AHP4//bD9UP7OAGgCEAEt/07/ev6P/X3/vgFuAQIBpAD+/kL+1v8tAacB9wFXAWwA2ADIAVIBQQAJAEkBDAFiABcAH/84/vT+VADfARgCegAT/uj9b//dADgASf+e/3j/sv4o/5T/6/5n/n/++f5X/+L+7f3o/Xj/zgBsALX/Mv/B/sH+av9LALIA6wAzANX9/fxX/40AAAA9AM4AnwAJADb/j/11/k4BzwI9AtgAvP6K/XX+V/9J//4A5QMKBN0A6f9sAFQAXgBaAuoDMATLAnAA3f59/3gBNwMDA6wBZQFgAcoASQFKA4AEqAOgAt8BQgJmAwMDzgA4AN8BPQJLAED/TwAxAcoAMwAH/w7+Sf+dAd8B0wDm/qv99v0EAPwBgQEC/yH+oP7o/Tb//AHkAU7/fP1N/Vv9mvwb/Jz72/pc+h/6gfi59q/2Ofk8/AT+d/2x+q33mPaZ+ED6A/qB+FL4c/hX+KP10fFz8V33ZvxG/h//VAXrDHMNMggLC1gW6x9yIb4eNRzMF9wP9gvHCzoLpwab/tz1nfG08W/zrvLz8HPx4PNR9hr6m/7N/3P/1gGtBb4Gqwb5B/AH+AVXBpkIfwfsBKkHuAm7A3H+EgCZ/5X87f23AEgEuwVA/3D3T/cI+un6f/52AosBOv19+qr7M/4FApcCNAJAAwEEswJQAg4CYgD5/pb+qf6i/ef7f/nA91b2+vT58oXxcfJy9l/76vx4+KDyFPF/9Ev5Q/tN+PDyNO3L6G/paO0a8zT5TAImDtwW6hb0GAwlTjEPMjEqSySzH3IXCxALC/oEhPla79nob+cc5pHkQ+M15UPqKfCj9Zn6sv7mAFgDxwZpCzIPihAtD+sMLAsgCmgJUwjMBicEPwFj/mv85fqS+d/4tfjI+An5vPkU+7f+aQQSBR//Svw2AWcHEA3uDTQHAgFWBIIIeAh/BywGGgH4/HD8Hv15/G37EPhD9mv3DPrG+fX5XPrC+8z9cACUAaIBeAHYACUAEgBGANP+N/w0+Rv1l+9166zut/eX+4z1Q+8M7n3uiO0Q7MDrwOu56lbq7/CqAn4WGCGuKwQ8wkAlMPAfoSFXKgso9hwYFb4NDfzO5KHXwtdW2XLXJdr34kLoq+Uk5EXpm/Ln+yYHXhNhG+EdgBwhGvQYVBiRGP4YhRfVEEYFv/pr9XPxeOxR6p3soO3o6nvoAeoH7jPyCfde/uQGAg3ZDsEOkA+5EEYRHhKNExYWZxiGEugEpvss/an+kvmg9F/09PJF7gntEPHX9dH4o/oq/vAC2AWtBeYFrgenCDYIAwj+B/QF8gE4/vb7Cvuj+i36yvkh+Wv3EfUM82bwYOwC51Pkd+pm9QX59fQQ8TvuF+sS66TwafbW+I/9xg6+I+812UX5SFE0exqlFdUjESyoIp8R7gO88tLdRM+Zz+3Ug9N70u/aEOeA6onoOOux9dYBaA5yHM0n+yovJpcfARxYGz4asBfDEhkLiAAW9SXrWORL4evhdOSR5nPnz+g67MnwlfWD/JoF9w3PE2AXbxmZGWQXQxVJFPcS4g7xCTMFJgJSAf7+5vcw75zqr+r37CDwnvW9+yL7mPb7+IsB7QY5CbUNdxBQDq0KDwnwB/QFvwMxAaL/x/2L+tX2uPQA9PLz+vRw90f5Cfk6+Iz3r/Y+9uD1M/L06wvsZvVM++H3xfJH7/jpROct6YvutPazByAdZjN4SY1PcTdmFvgP7CFSL5woHRqiDX365d3KyTLKedPV0tnQS9oW6VTrFOXf5VDyKAGJDjoezSzwMLIp3R/+Gisaahn2F/wUog2iAXjzMecg3z3ch91e4bTlYel+62nsRe5483X8cQcxEkUb9yCHIDIbZBWuE2MTMRJ0D3wLdwQG+/bxaez26v7t9PKh9mL3YfVu8TzwYfVG/tMFmgo2DZcO/xABEBALGgiLCNoGlgX7BsAF4v5w96Dy6vCm8Qj1lvdS+Mr36PZP9zL6uf0cAL4BRwK1ATb/1/qg9A/vce038K7ykPOF8SzsreSR3+zcUuA8694E6iIhPiBS6FHjNIQVUxTAKQU3Jy+JIQMU6/ld2ADE28UlztnLnc0C2xHpkeb63pvh7O8zAJgQcSSANPc24Cy4IdUcrxzcG5wachdmDygB3u+l4fPYatao2JPeGeUN6erpOuoY7cPzsv6mCzoXcR/4IvUhBx6nGa0WZhQVEnsO0gg7AWX4gO8W6V7mjeYh6Lnqhu6M9Yr9wwHnAqoE6gUkCCYONRWLGckWpAziAnUAgQGuAggDwAB0+iv0f/IT9L/1Yvce+Hj4uPnZ+2T9L/5Z/oP+EgCSAq8EvQTwAqz/Pvu39xb1oPIz8I7vEe4X623oM+bI4OHag9oD4izstP2nGb5AH2HsWyc0zhaIH08z/TUyLPclshhy9o3QdcLmxwXJFsADxZjZJugF4zfdEuQv8n3/iBGZKho9ST0jMY4mMyIhH30bohnTFlINBv0866zdSNRC0A/SSNmI4W/nD+rh64XvvfaiAewO7hsfJYoo3iZFInIcWxfGEwkRDA1bBpj91vNp6vziwN8O4UjlIurN7hLycfQu96D+NQseFwEcIx42Hu0XFxGMD2MOpwgyA+b+YfqH9Trxouyc6j/sYvCO9Bb6J/3D/eP9IADZAjEGvwhRCQwINgZMBFIBz/41/YP8wvuZ+kn4XfVg8dbsFumO6Ezq6Opt6MLlPOSe4t3hy+Ox6Uz7QibLYhB8GFZlHnUR7iWYL4UoXSljKxsPutu1viHE+8ieuWa0YM2M6afsZOOY5XbvD/aLAcAd2z1tSmlACTBSJRAeMRfmEx8UrxBMBPbx9+BX1APMesn0zu/aTufz7r7xgfM49zj+HQlDF/4kUS0NLscoiyDRF4AQUQvwB0gEyv6v9irtn+Sc3jfdB+Ac5mjtPvQ0+a38BAA6BksTgyQBKDAcSxPfEiQPdglOCBcHvP5C9ArvOe9k76ntRuuE7TT0EfoE/sgBawPNAX0B3gQmCWQLoQvECA8ECQAl/qT8Xfxd/IX7xvk/+Mz2TvWi89/xTO+i7MLqcuqH6YjmBOTO5DHn6eeU57bu6xOJVv9/gGLgJfgP1SEqKywj0SWHLlYXReINwO7Fhc0LvNevd8br5vfu8uc86+f0T/et/MYVozjBSutD/TPNJ2UezRRYD2sPSQ1oAhfyIuOz12LOXsmCzMLXaeXs78n1KvlY/BUBPgm9FW4jyCyfLgIqvSGgGKMPGgjZAjb/yPpQ9KfsouUL4OzcVt7z5H/thPR4+mIAEgXrBx4LhRALFwseRCXiJiIhoBPdAqv4Zvo1/bH6d/bf8VPpv+Jd5BLrJ/Fr9xn9fQHhBRQJ6QiCCNQJggonC64MYgzPB1cBaPvA9yX3V/jW+En4jPc+9uf0vfQs9qT3ePiw+GL3rPMP79Prx+oH7Onuwu9g7EDneeQ37mIdeWMGfOdKlhEODIsghSEmGhEltSp4CJvVO8Xh0+XR3bimtRfVafGn89zwn/f3+gb2Av3LGm47/0VlO7osKyEbFqsLXAgdCX4F9/p97gTk69pt0jPOadI63urr6Paw/UQB+gKRBbALIBaFIdAoSykXJNIbKBIiCS8Cq/0a+mn2IfIm7VLnQOKr4LjjFOrR8eL54QDABW8IwArsDiYaQCekJNwWRQ9SDUYFNv8qAE4BHvig7Qbqbuzp7IjtNe/B9ED6ev5lAfoEVwZGBUEFiwgODDMMMwplBu0BZ/7T/Gj7uvrb+jv6nfi39z/4SfjY90n4A/oK+/P6bPlb9qbxje3069PrZexb7I7qBObl4vPk5fo1NHtuSW3TNc8OlxWwI2UeEh2tKQ4km/nIz0nK6NTayOKzIb3e3rLyafE48sH5xvlI9u4DdSQZQHRERTjfKucf2BPZCQUH+wa+AeP2T+v+4fjYpdB8zZrTueDl7q75YgAKBK0FLQilDi0ZhSMgKcIodyOEGtwPHgbF/s/5OvZJ8//vyutU5qDhneA85FTrPvRI/XsE2wg1C/4MUw94ErgVhhljH6MgqxeUDWUGcvt/8jHzdPVz8UXuhO1G60jqtu4o8xX4KP9ZBeIHZAuPDXwLAQmOCQEJegf3BnIERP8d++T4tPbJ9dr2HPem9oj3LPjv90T4Ifn7+AL49vYb9aTyYvDd7Xfq5Oeu5pHmLect6Sv7wTIgb7huJzTjC0cVliSKHKIZgymcJv75QczJxwzW0spCs/S7cN809PLxAvNY/Nz8x/bRAQYjx0DCRfM4uCu2ICYTdgeOBHkFiACV9cLqi+Lt2S3RJ82A0ozfKO5F+okCFwdJCDQJUA4EGF0iqyj7KPsjAxs6EK0FYP2t9xP0gfEw78DrKOfp4q7hZuSY6mrzJ/15BRkLtQ0pD7QQBRMBFdAVtBU2FLEU0xi+Etb/AvFm7lDtTu5+9UL5dfI8697qze7l9bD9IQKIBVEL3w3TDIoLJArFBagDcAUmB5YF/AE3/A/2XPNx9EP2fPix+tf6aPkc+cr51/pK/HH+IAA7ARUBY/7r+Rv1gfE577ru6e6G7r3qqeb84mbic+zdGNBWUGw0QzMW7BBEHiQbcBbxIc0nLAtj4fbSP9tg1Au82biP1Nvu4vQL9jf8rfwb9UT4TxHjL309OzjGLWwk5hglDDgFyQMCAfX5JfIL7OHkAtuY0rHRKtq/5y71Tv9wBZIHrgfQCXsQixkGISEk1yL5HVgW7wwRA0n6WvTo8f3wk+8Y7dfpm+bz5Cjnyu0E90YAhAcgDC8OTg9bEMkRYxOjFCYVdhXhEewJIgRYA7v8ZfP/72nxtO8U8cH0ZvVb8Rzya/Wx+oEBHwiqCSQKcgtiClwI9QdGByIEuAKNAvkA1f0Y+2v3aPTG9BL3hvjB+af6YfoW+vf6cPz2/Q4AVwFJAZ8A8P6J+3r3R/TC8f/vnu6G7ProLuSU4OTgLfOVJ3leV18lMIcP5RTOHasXshhOJ6sjwACR33HcUOHfz3+4Ub/13O/w3vSr+Cf94ff170v5jhVZMNs4bzPdK7Qj9hdBDBAGNwM2/3r5nPT/717oKd1i08TREtqn5wj1Mv8NBbkGogbNCDcPuRcsHiYhciEOH90YuA6eA/P6XfU48hDxBvHs7yzsXOfA5Bfmn+vy8wb9qgRKCtYNtg9yENUQlhFbEqIS6hGaD9IKFATO/Mf2NvPf8Sry0/Io8xHzLvcV/48B0gObB60Fav9VAkAItwxoDp4NUQTJ/G37Yvym+9r9iP73+vD5//sI/H36kPql+d35nf0hAhYDDgIlAGT9Jfz2/RIA+QBuAZ8Aev6Y/av9bv2P/T3+Xv70/lz/qf7v/Mv78Pk2+AH28vPV8UPx/fAW8CrtCes97c/5ihJuNvBIFDmqGr0QQBQdFbsRxBa7FkYHC/H05oPkXtypzvXLFNmx6R/1LvxE/8L7g/dy+8IJYxoFJpYpiSbKH/YX1w9hCKcBtvwD+m74Gfa08cLqFONp3rLft+Z08B/6LQHjBL4GlQhkC+cOhhJfFT8Xqxe9FdoQhAm+AQr7W/ZQ9Bj0HfQC863wfe7Y7SbvrvKp91b9oAIvB3kKXgzYDO8Mqg4EEfcS0xZBGMkP5QPD/QP6BvZ/9Lv1N/Xy8b/uRe7e79PyTfZv+pT/rwS/CBALHgsrCTgH9AUVBm4GOgYPBD0AwvtX+I72BvZt9sz2YvdN+Cb5jflF+sT6k/t+/Pv95v4E/nj6RfWy8M3u2O3R7F/qmum1+GghU0TyPaMghxYbG0UW+g4AGN4hrBQG/VfzGPQR6U3UYcow0vXcvOa18zj+K/sJ8ujxq/2hC8wXNyIPKL0maCEPHOMVoAwIA9X96vyf/Fj6H/Vp7Eniutuu3InjTexx9EP7RgCQA1sGkwn+DMkP7RLqFmgaKRu0F8cQFQj8/+f5pvaV9QP1V/OM8P7tbuzq6+nsLvBh9Yn75AGgB5MLGg1qDWANlA0vDjIPaw/bDV0KxQWyAOz7yvfn9FLz9PIo8/Lzz/R+9R32dffG+U39YAF1BeAIBgurC5gLBgskCqwIbAdIBrQEcQIvAJT9nvoL+Hr5twDfAQ/75PgG/Xb7TPs9AGsDmf9v/x8DxwRaAiYC/gCs/xwAAALiAlMDeAHt/f/7EP3t/Zj99v2N/nP9yfwA/s/+VP4c/kD/qQB9Ab4B6QFqAZ8AWQCyAPkApACs/+v+8P4V/8/+Xv4J/rD9gf3j/Sr+0f3v/C78Ufs7+nz4HPeM9e7zWfKY8TfwJu9F7gzzJ/1bBnsJMg8XHcgqfCqRImgfxxyZFCYOrA8ODnYCFvUg8BrsnOMO3Mbc+d/14fHlxu/99336vfs/AUkIYw50FFgb7R70HUobtxh9FNEN0QaGAYH9Y/nS9TPy9e036RLm3+VV6Cjs3PAi9j77EgA+BDYIbgvyDSIQgRJ9FEMVDBTsEFQMLwdoAl7+4Pr090r1+fI68Rbwbe+A71jwg/Lu9UD6yv7UAvQFUwgNCoULygyiDekNbw1ZDGIKvAeKBOEAaf1A+vT3cvaH9eL0qvSz9Aj1/fW79xr6tvys/2wCEgUhB5kIWgmlCYkJUQm/CPAHpwbLBJcCSwDf/cL72Pmn+Af4zvfA9x745PjG+bb6IPwO/uD/jwFvAzgFIwZ3BswG0QZXBsUFKQU1BAMDrAFiANP+P/32++X6XPo3+lP6kPo1++f7qPyB/bz+9/8VAS8CdANRBK8E9gQEBaoEAQSLAwgDGAJEAbwA9//+/tX9RP2H/F38N/y8/vQFUw8KDpgEDgD8/0H8Nv9IBrYD6fqe+rD93Pxf+2b6gPae9ZP7jwFaBPYE9AC4+8n8jQBEAfQABwEy/+P9Gv+i/yD8Avjs9ODzJvSX9GDxKu2Y6vjpj+fv5Arjhe+xFNs4PzaiIywjBCRnE+MQQCV3KHYOdQXzFiIXR/kY4wHeitTNylna9/O29avltONH7YDvFu7i+S4Krg72EPcg4y0mJiwXKhF2Dr8IxAg3D7sPdQVo+w/2j/Ga6XvjrOLH5QPp9+6K9pD64fe99ID2M/z8AacIrA9OFGgVpRW0FY0TBQ4PCSEHcQd6BwUHuQR4/wv4dfLs7xTv0u6v7xLyz/RL9175tvq/+pX6SvyWAMkFJAoCDVAOmQ37C3QKDwlZB3kFewQKBGYD3wFJ/6b7+fdO9XH0+vQ+9n73j/iN+YL6aPs3/CP9Z/5iAOwCwAUHCCsJBQk7CDgHWwayBUYFuQQGBBYD5AF6AGz+Qfxq+kL5Cflj+Qj6nvod+3L7nPv2++H88v0y/6QAOQK7A68EDQX/BLkESATNA80DAQSHA7MCCgJqAff/g/6r/e/8Evz6+4z8tvx1/IP8tvyt/Pj82v2u/lf/ZwB4Ad8BWgLGAssCkgKzAuwC9QLZAsYCcQLIARoBlgDu/zb/xf56/ir+L/51/iH+P/3v/IX9tP2P/Ub+gf/k/57/PQBJARoBfwDdAKIBhgFgARMCrgLkAQcBOwFEAXAA2/8lADMAi/8t/3j/av+b/hz+f/7F/nX+qf54/4b/Ef9X/xwACQCs/y8AtwDAAK4AHgFJAesAtwDYANgAxQDAALwAjQBwAEYAFwD3/7//b/9S/2r/eP9S/0n/QP8t/wz/Uv9l/2r/ff+i/+7/AAAvADgAOABGAGIAfwCyAMAAsgCWAJEAgwBUAFkARgA9AAkA7v8SAOn/v/+i/7H/kP+Q/6L/ov+G/5n/v/+6/7X/w//b/+7/6f/8/w4ACQAJAA4AMwAvABcAJQAlACoACQAEABwABADu//L/6f/k/9b/5P/W/9b/6f/u/+7/7v/3//z/EgAvABIAMwAzADgAMwA4ADgAPQAzADMAMwAqABwAEgDu/+n/5P/p/+T/6f/p/+n/5P/u/+n/7v/u/wAAFwASAC8AKgAzADMAOAAzADMAMwAzAC8AOAAcABcAEgAXAAQACQAOABcAFwASADMAMwAzADMAMwAzADMAMwA9AD0AMwAzADMAMwAzADMAOAAgAA4AEgAXAAQAAAAEABIAEgAJAAkAHAASAA4AAAAAAA4A8v8gACoADgAEAAkAFwAEAAkAEgAJAO7/5P/8//L/8v/u/+7/6f/k/+n//P/3/+T/6f/p/+n/6f/y/+7/8v/k/9b/7v/8/+n//P/y//L/7v/3/wkAEgAOAAAA/P8AABIACQAOABIAHAAJAAAACQAOAAAACQAEAAkACQAJAAAAEgAOAA4A/P8AAPz/DgAEAAkA8v8AAA4ADgAAAA4ADgD3//z/9//3/+7//P8EAPz/7v/y//z//P/8//f/BAD3/+7//P8JAPz//P8EAPz/BAASAPf/BAAOAA4AEgAJABIAFwAOAAQADgASAAkACQASAAQABAAJAAQABAAOAPz/AAAAAAQADgAJAAQAEgAEAAkA/P8JAA4AAAAJAAQAAAAAAPz/9/8AAAkABAASAAkACQAEAAkABAAJAA4ACQD8/yAA7v8lAAQAHADy/xwAHAD8/wQACQAEABIADgAOAA4ADgAOAA4AAAASAA4ADgAOAAQABAD8/wQABAAJAA4ADgAEAAkABAAOAAQADgAEAAAACQAJAA4ADgAOAPL/DgD8/w4A/P8AAAkADgAOABIABAAXAAkA/P8AAPz/EgAAAA4A/P8EAPL/9/8JAPz/DgD8/wAA9/8AAPf/AAD3/wQA9/8EAPf/CQAJAAAACQAAAAkAAAAAAPf/BAAJAAAA/P/8/wAAAAAJAAQADgAJAA4ADgASABIACQAEAA4ACQAJABIA/P8OAAQADgAOAA4ABAD8/wQACQD8/wQA/P/8/wAA8v/y/wAACQAJAO7/LwAJAO7/PQAXAOn/DgAJAOn/BAAOAPf/BAAJAPz/CQASAAAADgAOAPz/BAAEAAQADgAOAAkADgAOAAkADgAOAA4ABAAAAAQADgASAA4AAAAJAAQA/P8EAPz/CQD8//L/BAAOABIACQD3/wAAMwDg/yoA9/8lABcA0f8vAO7/JQDk/yoA2/8lAPL/KgD8/yUA5P8XAOT/LwDu/38AH//5ALX/CQDD/14A0f/W/2wAov9iAL//SwC//0sAyP8lAO7/FwD3/wkABAD8/wkA8v8SAPf/AAAJAOn/BAAAAAkA/P8EAAQA9/8JAAQACQAAAA4A/P8OAAAABAAOAPL/CQD3/wQACQAJAAQABAASAAQABAAOAAkABAAOAAQAFwD8/wQABAAEAAkABAD8//f/AAAJAAAABAAEAAAA9//8//f/AAAAAAAACQD8/wkABAD8/wAADgAEAA4ABAD8/xIAEgAJAAAA9//8/wAA9//p/xIAJQDb/yUABADp/w4ACQDy/w4ADgAAAAAACQAAABIADgAEABIA/P8EAAQAEgDu/xcAFwC1/08A1v/8/yAA9//y/0EAOABc/7IAtf+i/7IAc//g/0YAKgCU/2wA6f/W/0YA5P8XABcAHADk/08A7v8JAAkABADy/wkAAAAAAA4AAAD3/xcA/P8EAAkABAD3/wQABAD8/wkA/P8OAPf/AAD3/wQAEgAOAA4ACQAJAAkA/P8JAA4ACQD8/xIABAD8/wAAIADy/wQADgASAO7/CQAAAAAA8v8lAAkA8v/8//z//P/u/w4ABAAAAAQA9/8AAAQABAAJAPz/AAD3//z/AAD8//L/7v/3/wQAAAAJAA4AAAAJAPf/DgAAAPz//P/8/wAA/P8JAAQABAAOAAkAAAAAAAAABAD8/wQA/P8AAAAABAAJAPz/AAAEAAAAAAAAAPf//P/8/wAA/P8EAA4AAAAOAAQABAASAAAABAAOAAkABAD8/wkABAAgAO7/HAAEAAQADgAEAAAA9/8JAAQADgAEAAkABAAEAAkAHAAAAAkABAAOAPz/BAAAAAQADgAEAAkADgAOAA4ACQAEAAkAAAAEAPz/BAAAAAQACQAJAAQACQASAAAABAAJAA4ACQAAAAAADgAEAAAAAAAJAAkABAAOAA4AAAAJAAQADgAJAPz/EgAOABcACQAXAOD/FwAJAPf//P8lAA4ACQASAA4ACQAJAAkABAASAAkAEgAOAAkABAAJAAAA/P8EAAQADgAJAA4ACQAOABIADgASAAkADgAEAAkAAAAOAA4ACQAEAA4ADgAOAPz/DgAAAAQAEgD8/w4ABAAcAOn/BAAqANb/KgDg/zgAyP89AOT/JQDp/xcA8v8XAAkA/P8SAAkA/P8JAA4ADgASAAkACQAEAAkA/P8OABIADgAOABIAEgAJABwAEgASABIACQAOABIADgAOAAQADgAEAAkABAAJAAQADgAJAAkACQAAAAQACQAEABIABAASAA4ADgAEAA4ABAD3/wAACQAJAAQABAAAAAkA/P8AAAQAAAD3//z/CQAEABIAAAAEAA4ACQAOAAkABAAOAAAAAAAJAAQAAAAOAPz/AAAJAAQACQD8/wQACQAAAAQABAAEAA4ACQAJAAQAAAAAAAAABAAEAAkABAAJAAkA/P8EAA4ABAAEABcACQAXAAkADgAEAAkABAAJAAkACQAAAAAAAAAOAAkABAAJAAkAEgAOAA4ABAAAABIADgAEABIAAAASAAAACQAEAA4ACQAJAAQADgD8/w4ADgAEABIADgAOAA4AEgAJAAAAAAAJAAQAFwD8/wkABAAOAA4ABAAOAA4ACQAEAA4ADgAEAAQADgAJAAkABAAJAAQAAAAEAAQAFwAEAA4AEgAOAAAABAAOAPf/CQAAAA4ACQAOAAkA/P8OAAkACQAEAAkACQASAAQACQAOAA4ADgD8/wkACQAAAAkABAAJAAkABAAOAA4ACQAOAAQADgAOAAkAEgAOAA4ACQASABwAKgAgAEEAJQBUAIgAEAEGBJMJSf8T+Yb/0f97+8X+EAHt/bH/qQBv/2r/QQAXAD0AiAAtAaEE3QwBBHX8vAJk/fv4V/9l/+z7LwBnALb84/23/n/+LwCNAn0D3QKABH0DFf/3/33/m/4C/3j/tP0l/qD+g/ze+1b7BAC8/iUAlQO6/1IBiAD9/Mf96gNn/gL/VgSs/7L+0wAKAhb8TwBL/ogALQNJAa7+YwJ7Aqb7SvxwBSX+7vqbB0EAUPnqBbsDyPja/SUFyPiEAlcG6foxAZUDoP5+/PIBOv19AdYBF/7+AIP8uwUf/yX84v51Bcr+FP31AlL/AgGw/SUAnwC+/ZD/sv4HAT4EWgIq94cD0wXC9mH/BwYa/6b74AhF/Dr4jwFSAfP6MQFnBQIBJgL3Bsz95fryBn8ANPk9/hABH//kAUz7Lvy7Ba4AA/pnB1UHsfp7At8LRfwh/uQI4gLT/lUC3gTu+iD8kP+H+tP8yfzp+tn7JwS5/aT+5AFUALX/NAIgANsBKAEQ/aQA5gWA+9EB9QIc/sAA0gNm/B8DYQPw/kb+zwIC/5YAzgD5/nYCzf/J/J0BPQJw/O8Auf1zAXn8+QDfAVf/N/x8BjP+8/qcBBIA0/wJAJwCb//v/IgA6f9v/0EAVABBAPL/zP1/AAACrfwo/7QEN/y4+9kCNv9Y/LD99QL5AA7+vACLAbb8wf6sA67+df5KA2//LQFBAB4BIf78/yX+Uv9MBOL+3/3iAoEBX/vdALIAvv2p/gAAQgKwAUb+nwDp/4QCSf8X/mwAeQWR/PT+kAOM/H8AjwFq/wf/4gLW/wL9b//OABcABABc/9MAzf/T/B4BAAJy+5QBhgjd+TD75gfvAKX5KwJmA9X9Zf/mAEwEJQAz/HMB3QLS+tYB4wS4+x//mAZX/x37cAA7Acr+zgDa/XEC1AJgAbcAZvzo/fIBbP7F/MQD5gCP/e7/rgB5A+f7pvvHBkADVvbhAKgFlP+c+x//XgBTA+P76f+cAjEB+f4OAjj+UP5sAtEBCQD7/SgBhf0h/nsCKAEQ/X0BsAG3ABn9w/1lBpj9ZPvCBGX/+Pw6BH8AePgbBaQAb/obAyAF+fm6/3MBq/2UAT0Ahv/pAdv/nwCxA3f96/5wAEP76f/3Bln+xfziB1wBS/lgAWYDBv0q/jMF+f56+XkDNgbR+AkAuQaF+2P+6AaU/TH47wVQ/jv6SAS5Bvn5T/zQBCH+rPpXAd0C4v6U/esAxf5J/3UARP/V+9QCfQEE/C0BYAbI+mP5ywLYACL7dgLLBFn+j/3hAAcBKP8aAX0BEf8//X8AAgHP/mH/E/5E/Rf+uAJq/8H+pP5A/xL8ff+RANb/sP3P/hIFM/y/+nYHDAMR+h0ChQSP/bT7gwC8AgkAF/55A28Dh/qG/6EEov1s+ccEjQJ2+Wn9IAVL/lj6bgG1Ad/9tPvfAZkBrv56/uICev70/mABDgICAQkAzQFeAiP/2/8PBEoDygACAZkBBAAj/zsBSQEaAUEAVQJHAhT9Jf4mAhz+E/4nBOADI/+ZAXgBu/xU/hsDEAHd/sECFgOS/n/+MQFX/5L+Sf87/38Amf8c/mH/ZwAVATb/RAGsA8r+MwAlAM3/8v2Q/7oB2ACB/0QBOwHy/bv8AP6DAFD+ff/EA/L9sv7W/5T9L/mk/NkCbgFR+0UDfwK394v6LQON/rT7BgQJBZP74PrR/WP+Fvqi/e8Ab/97+z776vy2+pf7ZQH6Asf9i//3/0j9w/0VAcECAQT4BUwEOgSOBOkBcQLcBacGnwUxBvEEGAIzANYBNQQKAj0CdwSIAB790f/0AEb+I/9ZAPL9ZvzT/Nr9rfyk/Bz+9v3V/Q7+bP7h/Gn9p//8AdsBdAOxA0wCgQHIAQMDpAULBpgE/AN7ApYAAgFaArwCGwOiAc3/t/7V/TH9ZP3M/R79rfxE/bT9DfxK/JT9+/0z/sr+Yf+b/tP+vP70/sX+wf5q/wIBLwDg/xABbACDAMUARgBO/9P+Nf3X/A7+Sf8vADL/4fw//SP9lP0vAAkAw/3q/Fb95fxB/PL9fwAa/2D9Nv+RAHr+t/70AAcBNv+8ADcDwQLRAW8DuwN7ArwCAQRRBHsE8QQgBeADZgOsAx8DwQKqAtsB6wBiAEsA9//N/83/yv7a/ej9d/13/e39tP1u/U39Bv0e/fL9Z/6p/jb/Tv9E/8j/v/+3AO0BMQE2AeQB+QAgAP4AnQFJAdMADAHdAMP/6f8oAQIBgwAjATYB8v/I/3UAkQBUAIMAkQAcAE7/Yf8qAGcAcACWAEEAov9O/0n/JQCWABIA9/8cAFf/Zf/R/yAAiAA9AGr/Lf9S/4H/4P8XAEsA5P+L/3P/QP+i/40AYgDp//z/AACe/7H/XgCuADMAEgA9ABwA6f8OAJYApAC8AHoAv/9v/9v/IAAcAE8AtwC8AEsATwBGALr/gf8JACAAXgDrAJEAzf+Z/7X/v/8SAJEAqQBUAAQA2//I/yAAjQCbAGIARgAJANH/9/9nAJ8AfwBUAFkAMwASAC8AiACNAGwAXgBBAAQAFwBGAGwAXgBLACAA9//8/xcATwAzADgADgDp/+T/HAA9ADMALwD8/9v/1v/y/yAAOAAvAAkA1v/I/+n/IAA4ADgAHADy/+T/5P8JAC8AOAAXAAkA9//u/xIAMwA4ADMAHAD8/w4A/P8OAC8AOAAlAPz/9//8/wQAKgA4ACoABAAOAA4ADgAcACUALwAcAAAA5P/u/+T/8v8AAA4ADgDy/+T/8v/y/wkADgAcAA4AAAD8/wAAEgAXACUAIAAOAAAAFwAOABwAOAAgAA4ADgAJAA4AEgASABcAFwAAAAQAEgAOABwAKgAOAAkACQD8//z/CQASAAkAAAAEAAQAAAAEABIADgAJAAkACQD8/w4AEgAEAAAA/P8JAA4ADgAOAAkACQAJABIACQASAA4AEgAOAA4ADgAJABIAEgAJAPz/AAAJAAQABAAOAAkABAD3/wkABAAAAAkAAAAAAAAAEgAOAPz/DgAJAAkABAAEAA4ABAAOAAAADgD8/w4AAAAAAAQAAAAAAA4ACQAOAA4ADgD8/wkABAASAAkADgAAAPz/CQAEAAkACQD8/w4AAAAEAA4ABAAJAA4ABAAEAAAACQAOAAkAAAAOAAQABAAJAAQAAAAOAA4ADgAOAAQABAAAAAQAAAAOAAAABAAAAA4ABAD3/w4ACQAAAPz/BAD8/wkACQAJAAQAAAAJAAkAEgAJAPf/CQAOAAQACQD8/w4ADgAEAAkABAD8/wkADgAEAA4ABAAJAAQAEgAOAA4AAAAEAAkA/P8AAA4ACQD3/wAABAASAA4A/P8EAAkA9/8SAAkAEgAJABIADgAJABIADgD8/wkABAAEAAkAAAAAAAQADgAOAA4ACQD8/w4ABAD8/w4ACQAXABIABAD8/wQA9/8JAAQACQAAAAAA/P/8/wQAAAD3/w4AAAAEABIABAD8//z/CQAOAPz/AAAAAAAA/P8AAAAA/P8AAPz/CQAJAAAA9/8EAAQACQAAAAQADgAAAAAAAAAEAPz//P/8//z/BAAAAPf//P/3/wQA9/8JAAAAAAAAAPz/AAD8/wQACQD3//z/7v/8//f/CQD8/wQAAAAEAAkAAAAEAAQACQAEAAkADgD8/wQACQAOAPz/AAAAAAAA/P8JAAAAAAAAAAQAAAAEAPL/9//3//z//P8JAPz/9/8AAAAAAAAJAPz/AAD3/wQA/P8JAPz/9//8/+7/8v/3//z/7v/p/wAA9/8AAPz/9//8//z//P/3//z//P8AAAQAAAAEAA4ACQD8/w4ACQD8/wAA/P8AAAAAAAAAAPz/8v/8/wAADgAEAAkABAD8//f/AAAAAA4AAAAJAAQACQAAAAQAAAAAAPz//P8JAAAA/P8OAAAAAAAEAPf/9/8AAAkAAAD8/wAACQD8/wQACQAEAPf/BAAAAPz//P/8/w4A/P8AAPf//P/8//z/AAAAAAAABAAAAAAA/P/8/wAABAAAAAAAAAAJAAQA9/8EAPz/AAD8/wQACQAJAAQA/P/8/wAABAAAAAAAAAAOAAQADgAOAA4ACQAAAA4A/P8AAAAAAAAJAAQADgAJAAAAAAAAAAkA9/8OAA4AAAAEAA4ADgAJAAAADgAAAAAABAAOAA4ACQAOABIACQAOAAQAAAAJAAkACQAEAAkA9/8EAAQABAAAAPf/DgAEAAQAAAAJAA4ACQAOAA4ADgD3//z/9/8AAAkABAAJAAAABAAAAAAAAAD8//z/CQAOAAAA/P8AAAAAAADy/wAAAAAAAPf//P/y/wAABAD8//z/6f/p//f/AAASAAQADgAOAA4AFwAzABIAPQAAAJ7/0f8OADgAQQAJAMj/2//3/y8APQASANb/1v/u/yUAOAASAPf/4P/k/wkAIAAlAAAA7v/k//z/DgASAAkA8v/p//f/CQAXABIAAADp/+7//P8EAPf/BAAAAPz/9/8JAA4ACQAEAPz/CQAAAA4ABAAJABIA/P/8//f/AAAAAAkA/P8EAPf/DgAAAAQAAAAEAAAA/P8AAAQAAAAAAAAABAD8/wkAAAAAAAAACQAAAPz//P8AAAkA9//8/wkAAAAAAPz/BAAOAAQAAAAAAPf/CQAEAAQA9/8AAPz/DgAEAAkABAD8/wAA/P/u//z/DgD8//z/AAAEAAkA/P8OAAQAAAAEAAAA/P8JAAkADgAEAAAACQAOAAkAAAAAAAAACQAAAAAA9/8EAAkA/P8AAAQAAAAAAPz//P8AAAAABAAJAAQABAAAAA4AAAASAA4A/P8JAAAACQAXAAAA7v/8/wAAAAD3//z/EgAJAA4ABAAXAO7/9/8OAA4A9/8OAPz/9/8AAA4ACQAJAAAABAAJABIABAD8/wAA9/8OAAkABAAJAAAA/P/3/w4A9/8JAPz/BAAJAAkADgAEAAkADgAJAA4ABAAEAAAA/P8JAAQA9/8EAAAACQAEAAAACQAAAAQABAD8/wQACQAJAAQAAAAJAAQABAD3/wAADgAOAAkABAAAAAAAAAAEAAkABAAOAA4ADgASAA4ADgASAA4ACQAOAPz/AAD8/w4A/P8JAAQA/P/3/wkABAAAAPz/BAAEAPz/AAD8/wAAAAAAAPz/CQAJAA4ACQAOAAAA/P/8/wAACQD8//f//P8AAPL/8v8JAAQACQAAAA4ADgD8/wQABAAOAAQA8v8JAAAAAAAAAA4ADgASAAQAAAAEAAAAFwAEAAAA/P8EAAkADgAJAAAA/P8AAAAADgASAAkACQAOAAAADgAOAAAA/P8JAAAADgAJAAkACQAOAAkADgAOAAAA/P8AABIACQASAA4ADgASAAkADgAXADgAFwAcANv/CQAcAEsALwA4AL//7v/D/7cA2wF3C8sJ0PZn8qT8wQK7AzcDN/za+F38JAPsBIEBgf01/bf+tQHLAj8B4v7K/sP/wAAMAY0Asf+1/08AXgDW/83/EgB6AI0A7v9E/57/XgCRADMA0f9c/6z/SwCkAD0Ac/9S/xwAgwA4APz/zf+i/+T/TwBGAM3/rP+L//L/XgBZAOD/yP8cAC8AOAAvABcAlP/g/yUAfwBPAD0A2wHUB3gB5fqD/oEBMv9ZAGr/xfz2/U8AeAFPAFD+9P5BALYDvAeu/n36i//IAZL+KP9C/or9jf7hAFcBIAAM/zgAtwA9ABcAEgDp/5sAEAHu/y3/uv91AGwAEgCe/+7/w/9iAAcBTwDm/lf/zf9PAIgACQDI/9H/2/8OAHoAuv+e/3j/PQDu/57/mwBiAIH/9/9BAEn/ff8gAFQA1v9q/8P/DAG8AOD/sf8XACoA9//W/8j/iACfACP/2//hAC8A/v5BACAAOAAcABwA6/6x/2wAEAFLAK7+DP8VAWABgwDu/7L+F/7m/tMADgASAAAAHAAJAFwB5gC//2X/7v99/zv/2/8jAUsAff9PAGX/6f84ALcAfwBnAAAAp/8AALIAcAAXAKL/ov/rAPoCXv6g/l4AjwEhAjYB+Pwz/ioAyP+n/+n/1v+B/6kAIwEt/8/+/gAMAXP/EgAVAacBOACb/kn/v//g/5kBfQF//u39RAGZAesAz/4t/58AJQAQAUQBkv5g/f4AAgG///kALwCn//n+AAIQAY3+cf7YAA4A4P9q/y3/kP9gAVQAYP2Z/64A4QAHAcj/Zf/R/xr/ff8AArcAI/+x/9H/xf7hAIMAOADu/yP/2P5zAY0AKP+n//n+nv97An3/nf2GAe8AAv99/y0Bkv7i/hIAYAGs/0n/jQBgAWz+Av+4AlIBq/21/2cA5P/k/4YBCQBN/aQAHgEj/7z+gQGWAET/z/5qAY0Asf8JACP/Nv9jAnoARv7RAd0AXfzI/wUCCQBv/2wA4/2RAKkAxf5/ACgB9/+x/1f/wf6XAogASf9u/eD/6wB9A/L/vP4z/pkBogGSAhD9f/5j/tYBcwFX/yP9twDu/+YAzgDt/c3/CgKN/k8AjQKuAOX8iQJ4Abn9Ef9/Au7/wf4zAFcBE/7b/9sD1v9y+zMAjwGDANj+SP0gAP4CXv7v/GcALwJsAJX86P0xAVQAvv0jAVQASP17AigBuv9sAp4D6P1iAKEEhAJY/DL/rgIH/3X8M/4s/TP+Av/vANMA8v8C/T8B+gR1AML7RP8DA3/+nv9KA3H+e/tsAJcC8v/o/TsB/v4J/sP/JwSpAHn8egBVAov/bv1wAJsA7v8V/xwAc/8HAVIB7QGQ/9X9nv/xBHECwPzp+ukBkwSF/aT8IwFc/5D/uwMC/+76RAGsA33/kfwt/28DPAXI/4f8PQBOA+kBB/8u/FH7Rv5fBH0DI/3a+On/RAY2ARD9RP0cAIsDbgav+1z6YwIDCK4A5/lo+xgCbwPtASH+xPoL/eMEnASA+7T7hwOHA6v93f7K/nECdgJI/YD7DAGdAfb9hAJlAQH7ff8/BpsAu/yU/wcBBAXpATv6Ff+lAlYEBwGi+Jf7BAVVAgb9b/r7/foEBgT1+df85QMyA1cB/P/yAUoDAwMt/0wEQwQL/bz+Pwaf/AH70ATdAJf5sv6lApkBAv1q+iECPgQo/w75rfz8A54DLvyg+c0DtgOWAAn+Ef97AmwCUgFl/0ICTAL5/igBJQBn/pQBHgH9/OL+4gJCApYAov3d/tEB+/0O/qoCrP/J/C0BtwCs/wcB5P+yAO394P/R/wQAvP6BAQz/Y/4OAnoA4/1XAXECXAEiBBf+Kv46BOv+8v0yA8X8MPvAAEQBmwC1/yr+RQN/Apb+LQH8/7D9EwL5/sb7b/9AA+UDXgKh+5/8HQJ0A14C9vsj+BMCKAY9/pT9t/4HAc0BrgAAAD0Alv6UASkDsv5o+8gBggNw/E/8qf5yBLoBmvxN/RT97f2IADH9+/1oAov/8gHdAk/8dvuGAQoCkAOGAY35lgBnB9X9CvuZAT8BEf86/WoBlAHI/7wA7AIs/Z/8rAPiAo0ATf1G/rcAEQOU/yX84fzB/rUBdQAFAvL/IvvR/yIJWgTz+s784ANjBygBv/rT/hIF1v9n/jMAXPq2/JcJFwcO+bj5/gIwBD8Bx/09/vb9zP31Aqn+6PZv/8oHp/92+/v9xf5VArYDgwA6/Qj8bAAfAwL/5/to+QL9uwX8AZ34FwBxAvL/rgJaArT7pwafBWb6I/0GBCsC7QFAA8n8af1C/p4D1v/+/j0AcgRL/rX/lwJPADgARwKnAVv9mwBOA7n9xPo0AmsD7QHdAMX+xQDAAG8DhAIH/8X8BQKcAiAA2/8tAXP/nQF2AkH8g/weAacBIQKW/tL69wElBd/9bv2iAT0CI/+H/OP9iADL+0kBowNe+Zb+Uwj+AFn+nv/O/NH/HQLy/9YBmwAq/ob/8AKuAPT85foHAf8EKgAa+gz/dQAAAPoCkv4a+Kn+6gW6/yz9w/2Q/wQFlgAL/V4CRgDq/JwCIwGC+qoCpQfF/in8YgAWAyP9y/sd+57/sgDY/mf+nf21/1gDt/4n/bUBwwGs/z0ArgDI/yAADgLNAQz/qQBwBbIAsf/PAiP/gf2lAi0BZPukADsDc//l/JEAqQA/AT3+bAAdAk8AOwEkAzL/RfztAWUBa/xUAJ0BRP07/4gAcf4j/40A4v7W/14AcAAQAeEAQP+B/38AKgBgASUAd/2i//4A2/+u/vL/dfzo/fQAcAAX/v4AS/5X/+0BFf/j/TYBTgE7AZYARP/PAu0B/P91AEQBrAGyADH9yfy4AqwD7v9n/hcADgAQAX0B2//a/cAAWAP8AfL9Ff99AbwCAgFg/Rn9uv+GAQ4AS/72/QD+uv+6AZL+7/zOAOQBFQEJAFb9BP7RAdsBTgE/Ae/8x/25BGcF4P8y/y0BoAJvA30Byv5s/tv/oALy/8L7Rv66AQL/Zf9JAcr+Z/5eAEb+t/61Aaf/L/6G/zL/OABOAd0A5P/y/9v/jQDR/9b/OwFuAUT/Cf6i/6kAV/+//7wApP6p/lQAYgBzAaf/hf0JAHgBb/+p/nj/jQDy/1QAxQBO/5b+mQH1Avf/c/0R/xoBkQBJ//n+B/+n/1UCmwAs/Vn+VwHhAHMBhv9//mwArAFZAEYArP+IAHMBQP/W//IBdQDm/q4AzgAy/wQATwDT/o3+yP/b/wz/uv8gAPf/Wf4y/04BYgDb/0YAnv+Q/9b/UgH5AKf/Uv/5AEEAmf+yAMoA5P9nAEYAff/8//QA/P+I/gz/+f70/tH/lgDk/4b/b//R/5n/i//mANMA3QCNAOn/twCWALH/AACx/wf/eP+yAD0ApAB1APz/6f/I/4H/ov+s/5n/AACs/5v+QP+U/9b/4QA4ALH/MwC8AMUAVADp/0YASwCx/+D/FwDR/8UARAHu/6f/GgFSAbcA5gBlAa4AkQBOAbwAmwCyALcAsgAVAdMArgBOAc0BnQFJAd0ABwGnAeQBIwGyAO8AbAA9AAIBrgCQ/7r/6f99/93+6/7K/gz/Nv91/gT+Av8f/9P+iP6I/iX+L/7+/mH/jf6p/rL+Cf4c/u39zP2F/dP88fu4+y78a/zT/Pb7lfq2+rT7WvuH+l75P/iW9yP4evdF9Z71HPeO+67+VwYSCssC4vnc/BcRPRisD+oFuwo6EEAPkQxMDtES6BJLDEkI2wgzCkkIswkzCp8Fsv5k+0L+1gG6//z65PjD+Oj2lfWH9VH2M/d89g31i/NV9Av2w/ho+/j8M/yj+lH76QEAB68ESQFpBKoJAQlLB2QJeQo5CdsIXwlJCM8HIQeyBYwFmgWXAsP/9ADIAQL///u4+yD8Vvsa+mP5yPjY90b3kfeR9//21/WJ9H/0SPZE+Pn34/bz9Z71k/Yx+En4Tfaz9EL0yPMH81zzFvVM++7/fwcLEHQIfPgu9dQTQyg+HEoF5AY3Fo8ZPBFgDckWwB28ExAGfgV1DEYMswkiC6cIMv/L9Bf3SwD3ARr6TPQV80LyNfEn8VbxyPPw9Dvz2+4k7h7xRfVb+Aj66/nF98f2DPpc/6ACdAOoA+oDSAQ8BdEGOQmBC+YMSwx6DDENAQkWCkwVPxcuCk4B5gyoD14HCQXXCjoEj/2y/r//RP1j/tX7IPca+Fj6jvQA9Gb6ifvs9PnyW/a6+Av4p/iX+RP57/ca+PL4uPnn+Zv5Afu0+yv7q/iZ+Mr5Bvts+Rn29PI2857z+fK58Y/42wNcFPEQD/YC5bb8wClVK1AMxvmwC/wZGhRMCVkRyh+fHYAJ6f++BvAOAg1ODc8OSwd199nvWvsfCCAF+/hs8tXxwvGd8ZHyf/T79sT1I/Hq6/vsHPJl+B37D/vK90L0VfSZ+lcBrwTqAxgCSQFaApgEEwcgCs8Mpw1TCu0G2gb6Ce8MRw6sDZMLjgnJBaUCqglrD7YKYgAdAnMGLwD/+24BnAR1/i36+/hi93H5IPz8+vX5kPpp9vDyBfls/mv8iviJ+fP6KPri+Wv8yv4c/h37Kvnk+JP7ev44/qf6pPdi92D4Ofn3+JX1tvAr7/3w0/AO8lj8uQvgFK7+YOfe6o4Vxi1KG2P+Ef8XE1sX/A0XDNQaciFuEv4AkAN7DsIQzwzND28N/gCg8mb1TAQLCz0CIvaa8Drxc/Oc9Mb09vZB99jyj+ya65rw/fWu+YL6gfg59Bfyu/WY/awDmAQjAc/+c/+zAn4F1giwC7wM0AmGBhkG6QgEDB0OJg5bCwkHVgSYBk0LKgycCfcGzQNUALX/uwNiBbwCMQFn/lv4CfcS/Kf/x/3e+yP4X/S/9ab7hf32+9L6BflP9xz5Mf2y/iH+Jf7X/JX6GPvD/aD+YP15/Jr8+vs9+TH4Xvlk+175LPaR8prwN/Br8CDw1fHl/EYM0RKQ+o7jLOzDGR4v2hc5+Vb96xPCF9MMMwzjHGQhRQ8O/ooEDRFXEtsNtBAHDdj+TfFG92UIQg6uAkz0Cu9b8WH1HPdL9wv4mPYe8Z/rMexL8iz42/ql+UP2f/K58V/2g/57BEMEDP/L+7D9oAJ3BkMJuwrOCvkH+gRKBRQJEA29DoENywm3BfMDqAUWCpIOdwsFAvr79gTfC0YF6f+GARkEnPuc+2X/ov/Q+2L85frm9/n5QPrT91b7xf5o+Xv0WPp6/pr8RfzJ/Er83vs6/an+c/+W/p/8r/tt+5H87f2F/e767fj99zr4c/jW+Gb1HvHL77bw2e8S8t/9hwq7D5X6Keni7ZsTuShGGJ39mP1bECIV8g2bDAUaaR41EAAASASCD50SrA0kDzMMVwHG9HX3sAbkDWkE3PWD8GzyX/b997D4tfir9nPxL+3U7W/zGvgI+t/4MPYt80vyZPaw/ewCoAIz/nL7Nf2GAUEFFQiACSYJmAYUBPoE2whZDFcNLwwrCc4FoQTKBw4M7QsFCc4FnATzA5wCowNaBMIErAHd/ur8Rfy4+8D8p/9e/mz5vfb094L6LvzT/KP6GPm8+bP5uvpb/c/+YP2V/P38YP0h/i3/IADk/5v+qPww+0H89P7R//r73Pdr98/5z/kq90r1rPOF8frvyfBv9Vv9SgNVCWH/SfO077MH9R9tGqwDr/vECmwTRhFQDGcTXBmiEgoEmgNvDW4Scw2IDD8LQwQo+hz5PgSTCxUGKvmB8+7za/eb+VP6IfnC9v7yBPC47xj0RPip+Sj44PU+9LXzofbn+5sAIwHj/c365/tPAIAEhgYAB1IGZwX4A6oE3QceC7QLQQpOCD8GrQVJCBALFAt0CMAFKwT8A/4HRQqhBNj+2/+OBDEBsP3M/Tb/dfyJ+3v7gvo3+u76A/ql+fP6h/oe+Bb6fP1w/ED6xPr9/J39BP72/Rz+OP5n/sr+3f5L/hD9Rfx8/bz+Uv3d+Zn4X/u4+3P4ZvVO9QP1RPO88hj0kvkc/kICyQX5/ub3OvaMCoQaxBRaAmX/2gsHEvgPoAx+EaMU4g7jBHUFZQ1MEE0LXQoRCBED//uo/IAE0ggbA1D5U/WQ9dr4Hfty+9/4+PUt8/LxoPKm9l75aPku97/1QPXc9bX43Pye/yP/tvwY+/j8DAEiBHAFPAVaBKwDggMlBR8I8QlVCesH2gYCBlUHIAogDIYIoQSTBAcItgqeCOICPQDBAsAFJAPd/rz+5v6M/E/8kv6o/KX5vPkn+7/6dPq8+e34/Pox/bb6ovh9+tz8d/2m/Y/93PzT/Mf9eP9PAM3/8v22/Cf9If5Z/i/+ZP3x+6P6QPqH+tT5Tfjo9oz12fQY9Gj0Y/m5/QL/NwPzA4H9h/Wb/ngUeBmJCf/7vQTQEGUSdwu5C+YRGRKQCAwDIgmMD1AMVwiQCIoGQQBM+xIALwcABwn+rfcd9mX4OfuD/NL64feQ9Sv0mfOC9dH4Sfrk+Jj2FPY69uH3p/oX/i3/7f2F+zX7M/40AncEnAQ7A40CxgLgA8kF+Qe1CNgHuQa3BYYGMgjnCTELIgmBBncE0wWgB7MHLAa7A6wBtwA/AZsA7v+n/3r+VPxt+9D7jvtk+0X8hfub+e34wfng+tD75/sB+5n69/r/+x79Dv5Q/u39d/0J/hX/ov9h/+L+Jf5k/RT9d/0E/r79FP1o+0X6rvko+jn5cPe09vj1ZvWv9uP7zP1S/bMCJQWx///2Uv8HEi4W0giY/QkFQA/2ECAKTwodEEwQbAdFAysJRw5+CtEGcQd8BvkAYvyIAOoFtwWN/pv5fvc9+eP7C/1a+8j46PaM9fX0wvbB+ZD6Dvkq9yD3S/er+L/6fP2N/sz9oftD++P9fQFFAx8DYwL3AekBrgIJBSYHdgcVBnkFMwXYBTgH8AfmB3IJ7gj9BaEEtAToBkgGdwZ7BKcBff91ADYBvACbAI3+ifsi+9f8yfz6+zz8pvv1+Tf6U/qe+mj7XfzZ+z77Ofu4+8D8mP2W/nr+sP2B/Vn+XP/I/zL/cf7H/cz94/3y/bD9RP0U/V384PoW+iT6GPl4+Cz4u/fV9o/4IPw1/Wz+HQTFBS/+QfcaARUSHBOyBT3+cwaJDvwNHwjeCQ0P2w3vBckDKwn7Cy0I3AV2ByMGjQDh/M4AXQW5BNP+2/oY+U76VPxb/ez7z/k6+A33hfbT92r67vqS+Tr4UvhS+CH5yPpI/Xr+w/3Z+2T7sP3AADQCTALWAWUBVwHDAfMDyQUZBkEFuQRDBFEEJQVSBuQGkgeCCPcG4gIkA+gGQAgpBagDGQS+AbH/GgFTA24BQP/2/df8pPz7/cz9ZvzO/NP8XPql+SD8FP3s+6r7VPyq+0f78ftu/Sr+Qv6B/eX8nf3w/n3/b/9v/wL/Rv6+/VD+Mv8o/2D99vtd/L79af2X+8b5OfmS+Rz5Nvhn9wf46fpp/RP+MQEBBHAA+flY/CILcxJPCqD+HgFrCr0OdApxB5UK9Az8CBQEWwbSCssJlgXJBYEGCgQa/07/UwOtBRgCHv1q+p766vxL/oH9IvuN+ZT4C/g/+Fz6ifuL+qL4lPg5+cH5Sfqm+0j9w/22/Fb7Jfy3/gIBZQFEAd0AygDdABMCMAQuBXsEiwOoA/gDOgTCBJYF0wUuBTUEawOeA2sFxgfMBsEC+QB0A2IFNwPWAWMC1gEH/8r+egBiAGP+d/0s/Rn9bv0Z/eP7fvzy/dP8v/q0+7T9W/2V/CP9ZP3A/OH8Dv7T/tP+L/6w/e39Lf/p/3P/t/56/i/+7f1Q/i3/0/6t/Cf7ofsZ/QL9cvtZ+Tb49PfY97v3Vfkl/nAA8gGwAab9VfkS/EEKAhIiCyX+jf5LB6kMfgrSCPMKCwsxBqACMQYiC10KyQWWBfQF0gNO/83/1wOiBm8DAP7z+sT6FP1J/8P/J/0y+h74Mfg0+ab70/yv++34FfgF+U76AfvV+xn9W/11/BT7xvsv/ogAEAHdADgA2//W//4AKQPZBIAE5wIOAnYC0gPZBGsF8QQnBFMD8AL1AsQDigRMBMsCjwFXAZQBugEDAz4ERwK3/pT94QDuA4QCz/53/Y3+Nv8f/3P/tf9L/kH8kfyb/mX/Z/5E/W79L/56/sz9mP3r/rX/rv7H/V7+0/7Y/i3/tf+i/6n+2v1Z/pD/VABl/+j9Uv2+/Qn+OP6u/u39Fvzg+oD7YvwE/Iv6evmw+J/37PY6+Av9ggOpB6cBh/X+8jYBGRIEEVgDiftuAdQHiwhhCPYLAg0AB7cA2QISCsIL2gYnBNoGwwbkAeP9qQCoBb4GkgKd/eD6Nfvy/U8AYgDt/az6m/dZ90n6ev63/gb7iPf59wj6gPsE/NP8mP3J/EP76frq/En/dQBwAIgAEgAf/wL/MQEUBA0FowPyAWABvgFrAzgF7wW5BBYD8gH3AfUCPgTCBMkD9wHYAKkAHgGPAe0BjwGNAC3/L/5x/p7/CgJ7AuL+Hfsl/JsAqgI/Adj+zP0j/d/9HADRAR4Bz/7A/I/9VABlASoAFf9h/4H/Mv99/2IAtwAXAC3/Sf/p/7//KP9l/y8AFwD0/hP+f/5X/83/XP+y/iH+2v3R/T3+4v6b/iP99vtF/Fb9j/2o/Pb7cvsB+1j6sfor+076hvgh+RIAvwjdB5n6mPFy+1wNehFuBo3+AgGcBEwEbgbTDKoOaQbf/eT/BQl6DEsHiQJmA/8EoAISAOsAfQOaA1wB9P5p/aT87/zo/cr+H//o/ZX6PPc6+DX9egA9/gP6Sfh/+R37u/x//lz/+/1a+5769PxBAHMBqQDR/+T//P8OAMoAbALNA6wDlwKwAW4B/AFcA20EnATXA4kCSQEQAT0CDwRDBJcCxQDk//z/nwBlAbABAgFh/9/9sP3B/rH/v//r/iH+ZP0e/W79ov+ZAT0A/fzL+1n+egDYAE8AIAD0/uP98P4QATkClAEvADb/1v87Ac0BmQFSARoBqQBnAOYA0QHRAbcAAAB/ANgAlgA4AEsATwDk/1L/H/94/6z/Zf8M/xH/Ff+u/kv+qf4o/wf/g/5Q/ln+cf6S/rz+3f7m/pL+M/5n/gz/ff87/8/+0/4M/wL/KP94/5n/DP+g/rL+Gv8y/+b+Z/4X/vL9vv25/T3+rv5//sz90f0XAIQCEQNlARcAgwAAAskDZwWtBSsEOQLDAUADMwUVBjMFbwP3AY8BLwJKA+UDFgNSAeD/ff8XANMAzgAJAM/+7f2Y/aL97f04/hf+fP3O/If8wPwQ/WD9ov2d/YX9Uv1b/b79M/7T/kD/Yf9A/zv/c//k/4MAIwFgAUkBEAH5ADYBpwErAmwCLwLDAe0BkgK4AkwC9wF7ArMCKwKsAQACTAIAAvIBCgKsAesApAC8AMUAsgCpAC8AUv/F/vD+DP8M//D+lv7y/Xz9pv3y/S/+L/7M/VL9Mf1b/bD98v37/aL9RP0n/U39fP2i/bT9mP0//Qv9Ov13/Vb97/yH/Bv8tPtt+138QP+4AocDFQEy/yAABQKzAlYEygfzCCkF3QCZAa0FBwg4B4oGYAYwBOsAzgArBLAGPAU0AmcAb//K/m//OwH8AXAAq/08/BL8h/yi/Qf/3f7X/Pf69/ob/MD8Tf0X/mP+Gf3Z+0X83/3+/hH/H/99/2//8P4a/zMAKAFlAUQBPwFgAWABXAGnAQ4CNAImAvwB3wGwAboB3wHyAcgBeAFgAVwBKAHrAM4AygCfAEYA9//p/9b/ov9S/zv/RP8y/+v+2P7F/rz+qf6W/rL+2P7d/rz+xf7i/gf/Gv9E/2X/ff+e/5n/v//p/yAAMwBPAGIAegCNAKQAtwDFANgA4QDvAN0A0wDdANMA3QDKAMAAvACpAI0AegBwAGIAQQAzABIA9//y/+T/zf+1/7X/p/+Z/4H/ff99/2X/b/9v/3P/gf94/33/ff+L/57/nv+s/7H/w//N/+T/8v8SAA4AFwAzADMAQQBBAFkATwBPAFkAWQBnAE8AVABPAEsARgA4ADMAMwAzADMALwAOAAkA/P/8/+n//P/3/9v/0f/b/9v/2//R/+T/6f/k/7//zf/8/wAA9//3/wkACQD3/wkAKgA4ACoAJQA4ADgAMwAzADgAOAAzADMAMwAzADMAMwAzADMAKgAAABIAFwAJAAQACQAJAPf/7v8AAPf/7v/u/+n/7v/u/+n/6f/u/+n/7v/p/+7//P/8//f/CQAAAA4ADgAEAAkABAASABIAFwASABwAFwAJACoAHAAOADMAEgA4AA4AIAAlABcAMwAXABIAIAAcABIAFwASABIADgAEAAkADgAOABIACQAOAAQABAAOAAAAAAAAAAQACQD8/wAA/P/8//z/9/8JAAAABAAJAPf/AAAEAAQAAAAAAPz/CQAEAAAABAAOAPz/DgAEAAAACQASAPf/CQAEAAAA/P/8//z/AAAAAO7/AAAOAAQAAAAOABIAEgAOABIABAAEAA4ADgAAAAQADgAJAA4ACQASAA4ACQAOAAkADgASAA4ABAAJAA4ACQD8/wAACQAEAA4AAAAJAAAADgD8/wQAAAAEAPf/DgD8/wQACQD3/xIABAD3/wAA/P8AAAAABAAJAAQABAD8/wkAAAAJAAkACQAEABIAAAAEAAAADgAAAAQAAAAJAAQACQAAAAAADgAAAA4ABAAOAAkABAAOAAQABAAJAAQADgAAAAQAAAAJAAkADgD8/wAADgD8/w4AAAAJAAQACQD3/wkA/P8JAAQABAAJAAAAEgAAAAkAAAAJABIABAAAAAQACQAOAAQAAAAEAPf/DgD8/w4A9//3//z/DgD3/wkAAAAAAAAA/P8AAA4A/P8AAAkAAAD8/wAA8v/8/wkABAD8/wQADgAEAPf/CQAEAAQABAAJAAAA/P8AAAkACQAAAA4ABAAAAPz/AAAAAAQAAAD3/wAABAAOAAAAAAAAAPz/BAAJAAkABAAEAAkABAAEAAAABAD8/wkAAAD8/wAA/P8AAAQA/P8AAAAA9//8//z/BAAJAAQABAAOAAQADgAOAA4AAAAXAAkADgAEAPz/AAAOAAAAEgAAAAAAAAD8/wkABAAEAAkA/P8EAPz//P/3//z//P/8/wAAAAD8//z/AAAJAAQAAAAAAAkA7v/3/wQA9//3/wAA7v/y/wAAAAAOAAAABAAAAAAAAAD3/wAA9/8AAAAA9//8/wAA/P8EAAQA/P8AAAQA9//8/wkA/P8EAAAABAAJAPz/CQAAAAQAAAAOAPz/AAD8//z//P8AAPz/AAAJAPz/AAD8/wAABAD8//f//P/8/wQABAAJAAAAAAAAAAAACQAEAPz/BAAAAA4AAAAEAPf//P8JAAkACQAJAAQAAAAAAAkABAD3//z/AAAAAA4ABAAAAA4AAAAOAAkACQAJAAQACQAEAAAAEgAAAAAACQD8/wAA/P8EAPz//P8JAAQACQD8/wQA/P8AAAAABAD8/wQAAAAOAAQABAAEAPf/BAAOAAkAFwAAAPf/BAAJAAkABAAEAPz/EgAEAAAABAAJAAAABAAOAAkAAAAAAAQACQD8/wAABAAAAPz/BAAEAAkACQAJAAAA9/8JAAQABAAOAPf/AAAJAAAA/P8JAA4AAAAAAAQADgD8/wkABAAAAAQACQAJAA4A/P8EAPz/DgAAAAQAAAAEAAQA9//8//f/AAD8/wkABAAOAAQA/P8AAPf/AAAAAAAACQAEAAQAAAASAAAABAD3/wQAAAAJABIACQAOAA4ACQAOAAkADgAAAAAACQAEAAkABAAJAAAABAAAAAQA/P8AAAAACQAEAPf/AAD8/wkABAD3/wkABAAAAPz/BAAEAPz/BAD8/wAA7v/y/wAAAAD3//z/BAAXAAAABAAEAAkABAAAAA4ABAAAAAQAEgAJAAAADgAEAAAA/P8AAAkABAAJAAQAAAAEAAAA/P/8/wAAAAASAAAAAAD3//L/BAD8/wQA/P8AAPf/CQAAAAAA/P8EAAkA/P8AAPz/AAAAAAAABAAAAAAAAAAJAAkAAAAEAAAAAAD3/wkAAAAEAAkAAAAEAAkAAAAJAAQACQAAAAAADgAEAAAAAAAEAAkABAAOAAkABAAJAAAAAAAOAAQAAAAJAPz/BAD8//f/CQAAAPz/9//8/wkAAAD8/wAAAAD8/w4A/P8JAAQA9/8AAAQA9//8//z/AAAAAAQADgASAA4AEgAJAAQADgAEAAkA/P8JAA4ADgASAAkADgAAAAkACQAAAAAABAAJAAAAAAAAAAAA/P/8/wAAAAAJAAAABAAAAPz/CQD8/w4ACQD8//z/BAAJAAAABAAAAA4ACQAOAAQA/P8JAAQACQAAAAAA/P8EAAAABAAJAAkAAAAEAPf//P8EAAkAAAD8/wQACQAOAAQACQD8/wkABAAAAAkAAAAEAPf/AAAEAAkA9/8AAAAABAD8/wAAAAAOAAkAAAAOAAAADgAEAAQAEgASAAkACQAEAAAADgAJAAkABAAJAAQABAAAAAAABAAEAAAABAAJAPz/EgD3/wAA/P8OAPz/BAAEAAQABAAAAAAA9//3/wAA9//8//f/7v8AAAkABAAJAAAAAAAJAAAABAAJAAQACQD8/wQABAAJAAQAAAAAAAAA9/8AAPz/AAASAAAABAAAAAkABAAJAAQABAAAAA4A/P8JAAAAAAD3//z/8v8AAA4ACQAAAPz/9/8EAAkABAAAAAkAAAAAABcAAAAEAPf/BAAAAAkAAAAJAAkACQAEAA4ABAAAAA4AEgAEAAAACQASAAAAAAAEAAQABAD8/wQA/P8JAAQACQAEAAkA/P8OAAkAAAAOAAkADgAEAAAABAAJAAAAAADy/wQA/P/8//f/AAAAAAAAEgAOAAAACQAEABIAAAAOAAAACQAJAAAA9/8EAAAA/P8JABIABAD8//z/9//8/wQAAAAOAAkACQAAAAAABAD3/wAACQAOAA4AAAD8/wkA/P8EAAkA/P8EAPz/AAD3/w4ACQAAAPz/DgAEAA4AAAAEAAkACQAJAAkAAAAJAAQACQAOAAAABAD8/xIAAAAOAAAABAAOAAkAAAAOAAQACQAOAAkACQD8/wQA/P8AAPz/6f/3//f//P8vADgAIAAOAAQA5P/u/+n/6f/u/wQAAAAOAAkAEgAOABIADgAXABcAEgASABIAAADy//z//P8JAAQAHAA4ACAALwAXABIABAAOAAQABAD8/+7/AAD3//z/9/8EAA4ADgAEAA4AEgAEAPz//P/u//L/6f/8//f/AAD3//z/9/8AAPz/BAAEAA4AAAAEAPf/6f/8//L/9/8AAAQADgAEAAkA/P8EAAkA/P8EAPz/AAAEAPf//P8AAPz/BAAJABIAEgAEAAAAEgAAAAAAAAD3//z//P/8/wkABAAJAA4ACQAAAA4ADgAJAAkA9/8AAAAAAAD3//z//P8OAAAABAAOABIAEgASAAkA/P8OAAQAAAD8/wAADgAEABIACQASAAQACQAOAAQADgD8/wkABAAEAAQADgAJAAkACQAOAA4ACQAOAA4ACQAJABIAAAD8/wkABAAAAAQACQAAAA4ACQASAA4ACQASAAAACQAAAPz/BAAJAAQAEgASAAkADgAJABwAFwAXAAQACQAEAPz/AAD8/xcAAAASAAQADgAEAAkAAAAJAAQADgAJAA4ACQAJAAAAAAAOAA4ABAASAAkABAAOAAQACQAEAA4ADgAEABIABAAOAA4AAAAOAAkADgAEAA4AEgAOAAQADgAEAAkACQD3/wAACQAOAAkABAASAAQACQAOAD0ACQAGBJMLeQW6AbX/g/4Q/bL8ZvzT/D/9Rv7r/mH/ff8C/8r+4v75/nP/Uv+i/1QAwAAeAVwBfQFzAZQB9ABBABIAkP+Z/4H/RP+L/xcAKgBnANMA2ACpAHoA0f+x/1L/O/8R/3r+0/75/jb/AADD/14A2AC8AFkAQQDy/wQAff9h/x//p/+6/zUEOgbDAXMBxQAvAPD+cf7f/Y/9Nf0c/tj+Yf8V/2P+HP5x/mz+cf6N/lf/OADmAEkBjwHWARMCzQHmAMoAIwEeAWcANv87/7r/kP9X/4v/2//k/wf/4v63/gn+1f3H/dX9w/0q/s/+Uv+x/yUArgBwABcAKgBwAOn/ov+Q/9b/KgBPAHoAAgF9AW4BygAEAMj/8v8o/zb/tf+n/+T/9/8XAFQAMQEQAUYA1v+B/6n+lv4H/4H/AACNAOsAUgH0AHAADgB4//n+O/9c/33/YgDmAAcBAgE7Af4AxQA4ACoA/P/u/3P/Uv9J/xIA5gDKABoBYAH0AC8Aw/+Q/0T/KP/N/yoAEgCuANgANgH5AGABwADN/7z+Ff9z/2cApADAAO8AeAEoAQwBygCuABwADgCG/y3/i/9wAEEA7v+3AMAAfwC3AMUAsgAAAJ7/V/8cAJsAqQAlAGwAxQDTAIMA0f82/xH/xf4R/0D/p/8OAO7/8v9LABABMQGyAOn/6f+e/5T/Ff9J/1QALwCIALcAPwH0AGwA0/4l/rT9Kv7d/n3/WQDkAS8CHQJOAUkBLwD5/jj+HP6y/mX/EgDrAI8BXAHDAVwBYgDR/x//lv6u/k7/RgDrAE4BXAFgARoBcAAt/17+Kv7M/SX+5v6s/2IAFQFcASMBEAF/ALX/Nv8M/wf/Uv+//2IA5gD+AB4B+QCuAE8A0f9E/+v+6/7Y/lz/zf8lAFQApACNAC8Av/9z/zv/QP9E/4b/HADTADsBYAFcAS0B5gCRADMADgAOABIAFwCIAOsAFQH5ALcAfwAqAMj/ff9J/3j/ov/b/yUAPQA9AC8A8v+n/4H/c/9v/3j/mf/R/xwARgBsAH8AegBLAA4A7v/k/83/zf/u/wkACQAgADgAJQDy/8P/kP99/3P/lP/I//L/CQAvADgAHADp/9v/tf+s/7r/6f8XAEsAdQCDAH8AdQBPADMACQD3/+T/EgAzAD0APQA4AC8A/P/W/8P/w//I/+T/7v8gADMAOAAzABwA/P/g/83/1v/R/9v/6f8cADMAQQBLAEYAMwA4ABcAEgAAAAAACQAcACoAKgA4ADMAJQDy/+7/2//W/9H/5P/3/xcALwAzADgAJQAOAAAA6f/R/83/1v/p/+T/DgA4ADgAOAAzADMACQD8/+7/5P/u/wkALwAzADMAMwA4AAAA8v/3/+n/8v8EACoAOAAzADgAJQAOABIA9/8EAA4ALwAzADMAMwAzAC8ABAAOAAAA7v/8/w4ADgAgADMAOAA4ADMALwAJAO7/6f/p/+n/6f/p/+7/6f/p/+n/5P/N/9v/6f/u//z/AAAAAAAAAAD3/+7/6f/u/+7/7v/p//z//P/u/+7/6f/y/+n/9//3/xIAMwA4ADMAQQBBADgALwA4ACUAJQAcAA4ACQAJABcAAAAJAOn/4P/b/9v/2//y/+n/7v/k/+T/5P/3//f/CQAvAEEAZwBiAEYAMwAXAPz/1v/g/+D/5P/W/+n/8v/u/+n/7v/k/+n/7v8qACoAEgAqACoAIAAEAPz/6f/u/+7/8v8cADgALwA4ACoACQD3//L/HAA4ADMAQQBGADgAMwAzABIA7v/b/+D/4P/g/9b/6f/p/+n/7v/p/+7/7v/p//L/7v8AAPL/5P/u/+7/4P/k//L/9//p/+7/6f/u/+n/2//I/83/5P/y/wQADgAvAC8AHAA4ADgAPQAzADgAQQA9ADgARgAvAC8AJQAqACoALwA4ACoAFwAAAAAA9//p/+n/4P/g/+7/7v/u/+n/6f/3/+7/6f/3//z/DgAcAAQADgAOAPz/4P/b/+n/6f/p/+n/6f/y/wAAAADy/9b/4P/k/+7/AAAvABcAHAA4ADMAMwAzADgAKgASAAQABAD3/+7/6f/y//z/9//u/+n/6f/W/9v/6f8EADMAPQBLAEEAMwAEANv/uv+x/6f/0f/y/xwAMwA4ADMALwASAAkAAAAAAPz/AAAAAPL/1v/D/7//tf+n/7//0f/p//L/JQAzADMAMwA4ABwALwAzADMAMwAzADMAOAAOAOT/4P/R/8j/yP/N/+T/7v/b/9b/2//b/+7/7v/p//z/DgAcACUAIAA9AC8APQAOAPL/7v/g/83/tf+1/+D/7v/u//L/8v/u/+n/6f/p//f/DgAOACoAOAAzADMALwASAO7/6f/p/+T/6f/p/+7/7v8AABIADgDu/9b/v/+//9H/6f/3//L//P/3//z/9//k/+n/4P/3/w4ALwAXABIACQD3/+D/8v/p/+7/7v8cADgALwA4ACUAAAD3/+n//P/y//L/BAAlADgALwA4ACoAEgAAAOD/5P/g/83/4P/p/+n/6f/8//L/7v/8/xIADgASAA4ADgAJAPz/EgAOAPz/EgAcACoABAD3/+7/4P/g/+7/7v8AACUAJQAqAAAA7v/u/9v/4P/k/+D/9/8OABIAFwAcACoALwAgAA4AEgAOAPL/6f/y//z/9/8OAAQABAAgAC8ABADu/+n/1v/D/7H/v//W/+n/7v8EAA4ACQAJAPL/7v/k/+7/7v/y/wAAJQAqACoAEgAEAPf/7v/8/wAA9//8/yAAKgD8//L/5P/N/8P/w//p/+7/DgAcAC8A9/+//wkAVAAJAOn/1v+x/8j/HABLAC8AOAAzADMA/P/u//f/6f/I/+7/7v/u/xcAOAAvAF4AcABGABwA9//W/+T/AAD8/+7/6f/p/9v/2//R/9b/4P/p/+n/4P/N/8P/v//R/+7/KgAzADMAQQBLAFkAOAAXAPz/7v/3//f/BAAJAPz/AAASABcAHAAzADMAMwAzADMABADp/+D/4P/p/+T/9/8XADMAMwAzABwACQDu/+T/6f/y/wQACQD8/yAAMwAzABcABADg/+T/6f/8/+7/9/8JABcAHAAqADMACQAEAC8AMwAzADMAMwAzADgAMwAzAA4A6f/p/+n/6f/k/+7/DgAOABwAJQAAAO7/5P/u/+n/6f/y/yoAMwA4AC8APQAJAOn/5P/k/9b/1v/u/+T/BAAEAAkA9//3//L/CQAEABIALwAzADMAMwAzAAQA6f/g/9v/6f/y/w4ACQASACoAMwAzAAQABAAJAAkAFwAOABIAEgAOAA4A9//p/+7/6f/y/xcAMwA4ABwADgAOAAkA6f/p/+n//P8SABwACQAOAAQACQDu//f/CQAEAAQAKgAgAAkAAAD3/+7/5P/g/+n/6f/8/xwAHAAvAA4ACQAOABIAHAAOACoAMwAgACoABADy/+n/6f/u/+n/8v/3//f//P8JAAAA7v/u/wAADgAOABIACQD8//f/7v/p/+T/6f/p//z//P8EAAQAEgASAAkAFwAlAA4ABAASAAkA/P/3//z/6f/y/wAA9//8/wAAEgAEAAkABAAOAAAADgAAAA4AAADu/+n//P/y//f/EgAOACoAOAASAA4AAAD8/+7/6f/3/w4A/P8AAO7/6f/k/9v/1v/k/wAAHAAgACAAOAAgAA4A7v/b/+D/zf/I/9v/AAAJAPf/CQAAAOT/4P/p//f/AAAOACAAOAAcAAQA9//p/+D/2//p/+n/9/8XAC8AJQA4AC8ADgD8//L/7v/u/+7/AAAJAAQADgDu/+D/1v/I/8P/0f/y//z/CQAXADgAKgAvABIADgAEAA4ADgASABIABAAqAA4A6f/g/+7/0f/R/+7/9//y/wAAKgAlAPz//P8JAPz/7v/8/wAAAAAEAA4ABAD8/+7/6f/p/+T/8v8AAAAA/P8JAPz/9//8//z/AAAJABcALwAEAAAA9//u/+n/7v/p//L/CQASABIAKgAvABIADgASABcAAAD3/w4ADgAAAAkACQDy/+n/9/8EAPf/CQAzADMAMwAzACAABAAAAPz/7v/p/+n/5P/u/+n/6f/p/+n/6f/u//f/CQAzADMALwA4ACoAKgAlAAAA9/8JAAQA/P/8//z/AADy/+n/7v/y/wkAAAD8/xIALwAcACUAIAAXABcADgAEAAkABADy//f/AAAAAAQADgAgACoAJQAXADgAKgASAC8AEgAJAPf/7v/g/+n/1v/g/9v/8v/8/wkAEgAlAC8AHAAvABIABAAJAAQA7v/3/wAACQD3/wkADgAOAA4AFwAqACoAJQAgACoAEgAXABIACQDy//z/9//3/wkADgASAA4AEgASAAkADgAOABIA/P8JABIA/P8EAAkABAD3//z//P/8/wAAAAAEAAQA/P8JAAkA/P/y//f/6f/p/9v/7v/p/+7//P8AAPf/8v/8/wkAAAASABwAOAAzADMAMwAlAAkAEgAOABIACQAcAC8AAAASAAQA/P/y//f//P/8//L/9//8//f/AAD3//z/9//8/wQACQAJAA4ACQD8//L/AAD8/wkAEgAXADMALwAlAC8ADgAAAPz/AADu/+7//P8AAPf/AAAAAAQAAAAOABIAEgAvADMAEgASAA4ACQDy//z/9//3//z/EgAOAA4ADgAOABIACQAJAAQABAAAAA4ABAAJAAQA/P/u/+7/6f/y//z/8v8OAA4ADgAOABIADgASAAQAAAAAAAAABAD8/wAA/P8EAPz/8v/3/wQACQASAAkACQAEAAkABAD8/wQAAAAAAAkACQD3/wAAAAAEAAQADgAJABwAKgAqACAAKgA9ACAAEgAJAPz/9//y/+7//P/3/wQAAAAXABIAKgAcABwAEgAOAA4AEgAEAAAA/P8AAPf/CQAEAA4AEgASABIAJQA4ACUAMwAcABIAAAD3//z/9//y//L/AAD8//f//P/3/wQAEgAqADgAJQAvADMAIAAJAAkADgAAAAAA/P8OAPf/6f/3/wAACQAOABIAEgAXABIADgASAAkADgAEAAkACQD8/wAAEgAJAPz/AAD3//L//P/3/w4AEgAcABwAHAAOAAkACQAJAAAA/P/8//f//P/u/+n/6f/p/+7/7v/3/wAAAAAOABIADgAXABIADgAOABcACQAAAAkA/P/8/+7/9//3//f/AAAJAAQAEgAXABwAEgAOABIAAAAAAAQA9//8//z/CQAAAAQADgAEABIADgAzABcAIAAqABcAIAAOABcAEgASAA4ABAASAAQAEgD8/wkAAAAAAAAADgAXAC8AHAAqACoAFwAlABIACQAAAPz/8v/p//z//P8AAPz/AAAAAAkAFwAOABcADgAXABIAEgAOAA4AAAD3//L/9/8EAPz/CQAEAAkADgAEAA4AEgAOABIAEgASAAkACQASAAQA9//u//z//P8EAAQACQAOABIAEgASAAAAEgAJABIADgAgACUADgAOAAkA9/8AAPz/BAAEAA4ACQAJAA4AAAASAAQACQAcAA4AIAAqABIADgASAAkAEgAEAAQAEgAEAA4ABAAEAAkADgAJAPz/CQAEAAAACQASAAkAAAAJAPf//P/3//z//P8JAAAABAAAAAAADgAAAAAACQAOAAkADgAXAAkAAAAEAA4ABAAJAPz//P8JAAQAEgAEAPf/BAAAAPf/AAAAAAAACQAJABIADgAOABIAHAAgACoAHAAcAA4ABAAOAAAADgAAAAAAAAAAAAQABAAOAAQACQAEAAkABAAEAAkACQAAAAAACQASAAAAAAAAAA4ACQAAAAQA/P8OAPz/AAD8/wAACQAAAPf//P8EAAAA/P/y//f/DgAJAAkADgASAAkA/P8AAAAA/P/8/wAAAAAJAA4ADgASAA4ADgASAA4AEgAOAA4A/P/8/wAAEgAJAPz/DgAAAPz/CQDu//L/8v/y/wAA/P8AABIAAAAJAA4ADgASAA4ADgAOAAkABAD8/+7/9/8AAAAADgAOABwAEgASABIABAAJAAQADgAXABcADgAOAAkABAAJAAQAFwAOABIADgAOAA4AFwAAABIAIAASAA4ALwAEACUAHAAJABcABAAJAPz/AAD3/wkAAAAAAAkA9/8AAPf//P/8/wAA/P8SAAQABAD3/wQAAAAEAAkABAD8/wAA9/8EAAQABAAOAPz/CQASAAAABAAEAAAACQAEAAkADgAOAAkACQAEAAAA/P8AAAkABAAOABIADgAEAPz/AAAAAPz//P8AAAAA/P8EAPz//P8SAAQACQAJAAQACQD8/wAABAD8/wAAAAD3/wAAAAASAAkAEgAEAA4AEgAOAAkAAAAEABIADgAEAPf/BAAJAAkACQAEAAQA9/8AAAAADgAAAAAAFwAEABcACQAJAAQACQASABIABAASABIACQAXAA4AEgAJAPz//P8JAAQADgAOAAkACQD8/wAAAAD8/wAA/P/8//z//P/8//z/9//3//z//P/3/wQAAAAOAPf/CQAEAAkA/P8EAA4ACQAJAA==\" type=\"audio/wav\" />\n",
              "                    Your browser does not support the audio element.\n",
              "                </audio>\n",
              "              "
            ],
            "text/plain": [
              "<IPython.lib.display.Audio object>"
            ]
          },
          "execution_count": 16,
          "metadata": {},
          "output_type": "execute_result"
        }
      ],
      "source": [
        "ind = 10\n",
        "\n",
        "print(\"Text:\", train_dataset[ind][WORD_KEY])\n",
        "print(\"Phonetics:\", train_dataset[ind][PHONETIC_KEY])\n",
        "print(\"Input array shape:\", train_dataset[ind][AUDIO_KEY][\"array\"].shape)\n",
        "print(\"Sampling rate:\", train_dataset[ind][AUDIO_KEY][\"sampling_rate\"])\n",
        "ipd.Audio(data=train_dataset[ind][AUDIO_KEY][\"array\"], autoplay=False, rate=16000)"
      ]
    },
    {
      "cell_type": "markdown",
      "metadata": {},
      "source": [
        "#### Phonemes vocabulary"
      ]
    },
    {
      "cell_type": "code",
      "execution_count": 17,
      "metadata": {},
      "outputs": [],
      "source": [
        "train_phonetics = [phone for x in train_dataset for phone in x[PHONETIC_KEY].split()]\n",
        "val_phonetics   = [phone for x in val_dataset for phone in x[PHONETIC_KEY].split()]\n",
        "test_phonetics  = [phone for x in test_dataset for phone in x[PHONETIC_KEY].split()]"
      ]
    },
    {
      "cell_type": "code",
      "execution_count": 18,
      "metadata": {},
      "outputs": [
        {
          "name": "stdout",
          "output_type": "stream",
          "text": [
            "{' ': 0, 'aa': 1, 'ae': 2, 'ah': 3, 'aw': 4, 'ay': 5, 'b': 6, 'ch': 7, 'd': 8, 'dh': 9, 'dx': 10, 'eh': 11, 'er': 12, 'ey': 13, 'f': 14, 'g': 15, 'h#': 16, 'hh': 17, 'ih': 18, 'iy': 19, 'jh': 20, 'k': 21, 'l': 22, 'm': 23, 'n': 24, 'ng': 25, 'ow': 26, 'oy': 27, 'p': 28, 'r': 29, 's': 30, 'sh': 31, 't': 32, 'th': 33, 'uh': 34, 'uw': 35, 'v': 36, 'w': 37, 'y': 38, 'z': 39}\n"
          ]
        }
      ],
      "source": [
        "vocab_list = list(set(train_phonetics) | set(val_phonetics) | set(test_phonetics) | set([' ']))\n",
        "\n",
        "vocab_dict = {v: k for k, v in enumerate(sorted(vocab_list))}\n",
        "print(vocab_dict)"
      ]
    },
    {
      "cell_type": "code",
      "execution_count": 19,
      "metadata": {},
      "outputs": [
        {
          "name": "stdout",
          "output_type": "stream",
          "text": [
            "42\n"
          ]
        }
      ],
      "source": [
        "vocab_dict[\"|\"] = vocab_dict[\" \"]\n",
        "del vocab_dict[\" \"]\n",
        "\n",
        "vocab_dict[\"[UNK]\"] = len(vocab_dict)\n",
        "vocab_dict[\"[PAD]\"] = len(vocab_dict)\n",
        "print(len(vocab_dict))"
      ]
    },
    {
      "cell_type": "code",
      "execution_count": 20,
      "metadata": {},
      "outputs": [],
      "source": [
        "with open('./vocab.json', 'w') as vocab_file:\n",
        "    json.dump(vocab_dict, vocab_file)"
      ]
    },
    {
      "cell_type": "code",
      "execution_count": 21,
      "metadata": {},
      "outputs": [],
      "source": [
        "del df\n",
        "del df_test\n",
        "del df_train"
      ]
    },
    {
      "cell_type": "markdown",
      "metadata": {},
      "source": [
        "# Modeling"
      ]
    },
    {
      "cell_type": "markdown",
      "metadata": {},
      "source": [
        "### Wav2Vec2 "
      ]
    },
    {
      "cell_type": "code",
      "execution_count": 22,
      "metadata": {},
      "outputs": [
        {
          "name": "stderr",
          "output_type": "stream",
          "text": [
            "Some weights of Wav2Vec2Model were not initialized from the model checkpoint at facebook/wav2vec2-base-960h and are newly initialized: ['masked_spec_embed']\n",
            "You should probably TRAIN this model on a down-stream task to be able to use it for predictions and inference.\n"
          ]
        },
        {
          "data": {
            "text/plain": [
              "Wav2Vec2Model(\n",
              "  (feature_extractor): Wav2Vec2FeatureEncoder(\n",
              "    (conv_layers): ModuleList(\n",
              "      (0): Wav2Vec2GroupNormConvLayer(\n",
              "        (conv): Conv1d(1, 512, kernel_size=(10,), stride=(5,), bias=False)\n",
              "        (activation): GELUActivation()\n",
              "        (layer_norm): GroupNorm(512, 512, eps=1e-05, affine=True)\n",
              "      )\n",
              "      (1-4): 4 x Wav2Vec2NoLayerNormConvLayer(\n",
              "        (conv): Conv1d(512, 512, kernel_size=(3,), stride=(2,), bias=False)\n",
              "        (activation): GELUActivation()\n",
              "      )\n",
              "      (5-6): 2 x Wav2Vec2NoLayerNormConvLayer(\n",
              "        (conv): Conv1d(512, 512, kernel_size=(2,), stride=(2,), bias=False)\n",
              "        (activation): GELUActivation()\n",
              "      )\n",
              "    )\n",
              "  )\n",
              "  (feature_projection): Wav2Vec2FeatureProjection(\n",
              "    (layer_norm): LayerNorm((512,), eps=1e-05, elementwise_affine=True)\n",
              "    (projection): Linear(in_features=512, out_features=768, bias=True)\n",
              "    (dropout): Dropout(p=0.1, inplace=False)\n",
              "  )\n",
              "  (encoder): Wav2Vec2Encoder(\n",
              "    (pos_conv_embed): Wav2Vec2PositionalConvEmbedding(\n",
              "      (conv): ParametrizedConv1d(\n",
              "        768, 768, kernel_size=(128,), stride=(1,), padding=(64,), groups=16\n",
              "        (parametrizations): ModuleDict(\n",
              "          (weight): ParametrizationList(\n",
              "            (0): _WeightNorm()\n",
              "          )\n",
              "        )\n",
              "      )\n",
              "      (padding): Wav2Vec2SamePadLayer()\n",
              "      (activation): GELUActivation()\n",
              "    )\n",
              "    (layer_norm): LayerNorm((768,), eps=1e-05, elementwise_affine=True)\n",
              "    (dropout): Dropout(p=0.1, inplace=False)\n",
              "    (layers): ModuleList(\n",
              "      (0-11): 12 x Wav2Vec2EncoderLayer(\n",
              "        (attention): Wav2Vec2SdpaAttention(\n",
              "          (k_proj): Linear(in_features=768, out_features=768, bias=True)\n",
              "          (v_proj): Linear(in_features=768, out_features=768, bias=True)\n",
              "          (q_proj): Linear(in_features=768, out_features=768, bias=True)\n",
              "          (out_proj): Linear(in_features=768, out_features=768, bias=True)\n",
              "        )\n",
              "        (dropout): Dropout(p=0.1, inplace=False)\n",
              "        (layer_norm): LayerNorm((768,), eps=1e-05, elementwise_affine=True)\n",
              "        (feed_forward): Wav2Vec2FeedForward(\n",
              "          (intermediate_dropout): Dropout(p=0.1, inplace=False)\n",
              "          (intermediate_dense): Linear(in_features=768, out_features=3072, bias=True)\n",
              "          (intermediate_act_fn): GELUActivation()\n",
              "          (output_dense): Linear(in_features=3072, out_features=768, bias=True)\n",
              "          (output_dropout): Dropout(p=0.1, inplace=False)\n",
              "        )\n",
              "        (final_layer_norm): LayerNorm((768,), eps=1e-05, elementwise_affine=True)\n",
              "      )\n",
              "    )\n",
              "  )\n",
              ")"
            ]
          },
          "execution_count": 22,
          "metadata": {},
          "output_type": "execute_result"
        }
      ],
      "source": [
        "DEVICE = \"cuda\"\n",
        "\n",
        "ssl_model_name = \"facebook/wav2vec2-base-960h\"\n",
        "feature_extractor = Wav2Vec2FeatureExtractor.from_pretrained(ssl_model_name)\n",
        "tokenizer = Wav2Vec2CTCTokenizer(\"./vocab.json\", unk_token=\"[UNK]\", pad_token=\"[PAD]\", word_delimiter_token=\"|\")\n",
        "processor = Wav2Vec2Processor(feature_extractor=feature_extractor, tokenizer=tokenizer)\n",
        "\n",
        "ssl_model = Wav2Vec2Model.from_pretrained(ssl_model_name, output_hidden_states=True).to(DEVICE)\n",
        "ssl_model.eval()"
      ]
    },
    {
      "cell_type": "code",
      "execution_count": 23,
      "metadata": {},
      "outputs": [
        {
          "name": "stdout",
          "output_type": "stream",
          "text": [
            "Layer 0: torch.Size([1, 270, 768])\n",
            "Layer 1: torch.Size([1, 270, 768])\n",
            "Layer 2: torch.Size([1, 270, 768])\n",
            "Layer 3: torch.Size([1, 270, 768])\n",
            "Layer 4: torch.Size([1, 270, 768])\n",
            "Layer 5: torch.Size([1, 270, 768])\n",
            "Layer 6: torch.Size([1, 270, 768])\n",
            "Layer 7: torch.Size([1, 270, 768])\n",
            "Layer 8: torch.Size([1, 270, 768])\n",
            "Layer 9: torch.Size([1, 270, 768])\n",
            "Layer 10: torch.Size([1, 270, 768])\n",
            "Layer 11: torch.Size([1, 270, 768])\n",
            "Layer 12: torch.Size([1, 270, 768])\n"
          ]
        }
      ],
      "source": [
        "ind: int = 0\n",
        "inputs = processor(train_dataset['audio'][ind]['array'], \n",
        "                   sampling_rate=train_dataset['audio'][ind]['sampling_rate'], \n",
        "                   return_tensors=\"pt\", \n",
        "                   padding=True).input_values.to(DEVICE)\n",
        "\n",
        "with torch.no_grad():\n",
        "    outputs = ssl_model(inputs)\n",
        "\n",
        "hidden_states = outputs.hidden_states\n",
        "for i, hs in enumerate(hidden_states):\n",
        "    print(f\"Layer {i}: {hs.shape}\")"
      ]
    },
    {
      "cell_type": "code",
      "execution_count": 24,
      "metadata": {},
      "outputs": [],
      "source": [
        "from torch.utils.data import DataLoader, Dataset\n",
        "\n",
        "class PhonemeDataset(Dataset):\n",
        "    def __init__(self, data: datasets.Dataset, layer: int, save_extra_data: bool = False):\n",
        "        self.data = []\n",
        "        self.extra_data = []\n",
        "\n",
        "        print(\"Preprocessing data...\")\n",
        "        for audio, phonetic in tqdm(zip(data[AUDIO_KEY], data[PHONETIC_KEY])):\n",
        "            input = processor(audio[\"array\"], \n",
        "                              sampling_rate=audio[\"sampling_rate\"], \n",
        "                              return_tensors=\"pt\", \n",
        "                              padding=True).input_values.to(DEVICE)\n",
        "            with torch.no_grad():\n",
        "                outputs = ssl_model(input)\n",
        "            features = outputs.hidden_states[-layer].cpu()\n",
        "\n",
        "            with processor.as_target_processor():\n",
        "                labels = processor(phonetic).input_ids\n",
        "\n",
        "            self.data.append({\n",
        "                'features': features[0],\n",
        "                'labels': torch.tensor(labels)\n",
        "            })\n",
        "\n",
        "        if save_extra_data:\n",
        "            print(\"Saving extra data...\")\n",
        "            for audio, words, phonetic in tqdm(zip(data[AUDIO_KEY], data[WORD_KEY], data[PHONETIC_KEY])):\n",
        "                self.extra_data.append({\n",
        "                    AUDIO_KEY: audio,\n",
        "                    WORD_KEY: words,\n",
        "                    PHONETIC_KEY: phonetic\n",
        "                })\n",
        "\n",
        "    def __len__(self):\n",
        "        return len(self.data)\n",
        "\n",
        "\n",
        "    def __getitem__(self, idx):\n",
        "        return self.data[idx]\n",
        "\n",
        "\n",
        "    def get_extra_data(self, idx: int) -> Dict:\n",
        "        if len(self.extra_data) == 0:\n",
        "            raise ValueError(\"Extra data is missing\")\n",
        "        return self.extra_data[idx]"
      ]
    },
    {
      "cell_type": "code",
      "execution_count": 25,
      "metadata": {},
      "outputs": [
        {
          "name": "stdout",
          "output_type": "stream",
          "text": [
            "Preprocessing data...\n"
          ]
        },
        {
          "name": "stderr",
          "output_type": "stream",
          "text": [
            "0it [00:00, ?it/s]/home/artur/files/Audio Processing/phoneme_recognition/venv/lib/python3.10/site-packages/transformers/models/wav2vec2/processing_wav2vec2.py:174: UserWarning: `as_target_processor` is deprecated and will be removed in v5 of Transformers. You can process your labels by using the argument `text` of the regular `__call__` method (either in the same call as your audio inputs, or in a separate call.\n",
            "  warnings.warn(\n",
            "1512it [00:34, 43.96it/s]\n"
          ]
        },
        {
          "name": "stdout",
          "output_type": "stream",
          "text": [
            "Preprocessing data...\n"
          ]
        },
        {
          "name": "stderr",
          "output_type": "stream",
          "text": [
            "168it [00:03, 44.22it/s]\n"
          ]
        },
        {
          "name": "stdout",
          "output_type": "stream",
          "text": [
            "Preprocessing data...\n"
          ]
        },
        {
          "name": "stderr",
          "output_type": "stream",
          "text": [
            "1680it [00:38, 43.89it/s]\n"
          ]
        },
        {
          "name": "stdout",
          "output_type": "stream",
          "text": [
            "Saving extra data...\n"
          ]
        },
        {
          "name": "stderr",
          "output_type": "stream",
          "text": [
            "1680it [00:00, 1039756.64it/s]\n"
          ]
        }
      ],
      "source": [
        "train_dataset = PhonemeDataset(train_dataset, 1)\n",
        "val_dataset   = PhonemeDataset(val_dataset, 1)\n",
        "test_dataset  = PhonemeDataset(test_dataset, 1, save_extra_data=True)"
      ]
    },
    {
      "cell_type": "markdown",
      "metadata": {},
      "source": [
        "### Heads"
      ]
    },
    {
      "cell_type": "code",
      "execution_count": 26,
      "metadata": {},
      "outputs": [],
      "source": [
        "class LinearHead(nn.Module):\n",
        "    def __init__(self, input_dim: int, output_dim: int):\n",
        "        super().__init__()\n",
        "        self.fc = nn.Linear(input_dim, output_dim)\n",
        "\n",
        "\n",
        "    def forward(self, x):\n",
        "        return self.fc(x)\n",
        "\n",
        "\n",
        "\n",
        "class MLPHead(nn.Module):\n",
        "    def __init__(self, input_dim: int, hidden_dim: int, dropout_prob: float, output_dim: int):\n",
        "        super().__init__()\n",
        "        self.fc1 = nn.Linear(input_dim, hidden_dim)\n",
        "        self.fc2 = nn.Linear(hidden_dim, hidden_dim)\n",
        "        self.fc3 = nn.Linear(hidden_dim, output_dim)\n",
        "\n",
        "        self.relu = nn.ReLU()\n",
        "        self.dropout = nn.Dropout(dropout_prob)\n",
        "\n",
        "\n",
        "    def forward(self, x):\n",
        "        x = self.fc1(x)\n",
        "        x = self.relu(x)\n",
        "        x = self.dropout(x)\n",
        "\n",
        "        x = self.fc2(x)\n",
        "        x = self.relu(x)\n",
        "        x = self.dropout(x)\n",
        "\n",
        "        x = self.fc3(x)\n",
        "        return x"
      ]
    },
    {
      "cell_type": "markdown",
      "metadata": {},
      "source": [
        "### Utils"
      ]
    },
    {
      "cell_type": "code",
      "execution_count": 36,
      "metadata": {},
      "outputs": [],
      "source": [
        "def data_collator(batch: List[Dict[str, torch.tensor]]):    \n",
        "    features = [sample['features'] for sample in batch]\n",
        "    labels   = [sample['labels'] for sample in batch]\n",
        "    padded_features = torch.nn.utils.rnn.pad_sequence(features, batch_first=True)\n",
        "\n",
        "    labels_length = torch.tensor([len(label) for label in labels], dtype=torch.long)\n",
        "    labels = torch.cat([label.clone().detach().long() for label in labels])\n",
        "    return padded_features, labels, labels_length"
      ]
    },
    {
      "cell_type": "code",
      "execution_count": 51,
      "metadata": {},
      "outputs": [],
      "source": [
        "def predict_phonemes(model: nn.Module, features: torch.Tensor, reversed_vocab_dict: Dict[int, str], ctc_blank: int) -> str:\n",
        "    features = features.to(DEVICE)\n",
        "\n",
        "    with torch.no_grad():\n",
        "        logits = model(features).cpu()\n",
        "\n",
        "    probs = torch.softmax(logits, dim=-1)\n",
        "    preds = torch.argmax(probs, dim=-1).squeeze().numpy()\n",
        "\n",
        "    merged = [preds[0]]\n",
        "    for pred in preds:\n",
        "        if pred != merged[-1]:\n",
        "            merged.append(pred)\n",
        "    \n",
        "    result = []\n",
        "    for val in merged:\n",
        "        if val != ctc_blank and val in reversed_vocab_dict:\n",
        "            result.append(reversed_vocab_dict[val])\n",
        "\n",
        "    return \" \".join(result)\n",
        "\n",
        "\n",
        "def show_results(model: nn.Module, dataset: PhonemeDataset, idx: int, reversed_vocab_dict: Dict[int, str], ctc_blank: int) -> List[float]:\n",
        "    data = dataset.get_extra_data(idx)\n",
        "    text = data[WORD_KEY]\n",
        "    phonetics = data[PHONETIC_KEY]\n",
        "    audio = data[AUDIO_KEY][\"array\"]\n",
        "    \n",
        "    features, _, _ = data_collator([dataset[idx]])\n",
        "    features = features.to(DEVICE)\n",
        "    prediction = predict_phonemes(model, features, reversed_vocab_dict, ctc_blank)\n",
        "    \n",
        "    print(f\"Text: {text}\")\n",
        "    print(f\"PER: {wer(reference=phonetics, hypothesis=prediction)}\")\n",
        "    print(f\"Predicted phonetics:\\n{phonetics}\")\n",
        "    print(f\"Ground Truth phonetics:\\n{prediction}\")\n",
        "    return audio"
      ]
    },
    {
      "cell_type": "code",
      "execution_count": 29,
      "metadata": {},
      "outputs": [],
      "source": [
        "def train_epoch(model: nn.Module, train_loader: DataLoader, criterion: nn.Module, optimizer: torch.optim, disable_tqdm: bool = False) -> float:\n",
        "    train_loss = 0.0\n",
        "\n",
        "    model.train()\n",
        "    for features, labels, labels_lengths in tqdm(train_loader, disable=disable_tqdm):\n",
        "        features = features.to(DEVICE)\n",
        "        labels = labels.to(DEVICE)\n",
        "        labels_lengths = labels_lengths.to(DEVICE)\n",
        "\n",
        "        optimizer.zero_grad()\n",
        "        logits = model(features)\n",
        "        log_probs = torch.log_softmax(logits, dim=-1).permute(1, 0, 2) #(sequence, batch, classes)\n",
        "\n",
        "        input_lengths = torch.full(\n",
        "            size=(logits.size(0),), \n",
        "            fill_value=logits.size(1), \n",
        "            dtype=torch.long,\n",
        "            device=DEVICE\n",
        "        )\n",
        "        \n",
        "        loss = criterion(log_probs, labels, input_lengths, labels_lengths)\n",
        "        loss.backward()\n",
        "        optimizer.step()\n",
        "\n",
        "        train_loss += loss.item()\n",
        "    return train_loss / len(train_loader)\n",
        "\n",
        "\n",
        "def evaluate_model(model: nn.Module, val_loader: DataLoader, reversed_vocab_dict: Dict, ctc_blank: int, disable_tqdm: bool = False) -> float:\n",
        "    total_per = 0.0\n",
        "\n",
        "    model.eval()\n",
        "    for features, labels, _ in tqdm(val_loader, disable=disable_tqdm):\n",
        "        expected = []\n",
        "        for val in labels.numpy():\n",
        "            if val in reversed_vocab_dict:\n",
        "                expected.append(reversed_vocab_dict[val])\n",
        "        ground_truth = \" \".join(expected)\n",
        "\n",
        "        predicted = predict_phonemes(model, features, reversed_vocab_dict, ctc_blank)\n",
        "        total_per += wer(ground_truth, predicted)\n",
        "    return total_per / len(val_loader)\n",
        "\n",
        "\n",
        "def train_model(model: nn.Module, \n",
        "                train_loader: DataLoader, \n",
        "                val_loader: DataLoader, \n",
        "                criterion: nn.Module, \n",
        "                optimizer: torch.optim, \n",
        "                reversed_vocab_dict: Dict, \n",
        "                ctc_blank: int,\n",
        "                weights_path: str,\n",
        "                disable_tqdm: bool = False) -> Tuple[float, float]:\n",
        "\n",
        "    num_epochs = 10\n",
        "    best_per = 1\n",
        "\n",
        "    for epoch in range(num_epochs):\n",
        "        train_loss = train_epoch(model, train_loader, criterion=criterion, optimizer=optimizer, disable_tqdm=disable_tqdm)\n",
        "        val_per = evaluate_model(model, val_loader, reversed_vocab_dict, ctc_blank, disable_tqdm=disable_tqdm)\n",
        "        if best_per - val_per > 0.001:\n",
        "            torch.save(model.state_dict(), weights_path)\n",
        "            best_per = val_per\n",
        "        if not disable_tqdm:\n",
        "            print(f\"Epoch [{epoch + 1}/{num_epochs}], \"\n",
        "                f\"Train Loss: {train_loss}, \"\n",
        "                f\"Validation PER: {val_per:.4f}\")\n",
        "    return train_loss, best_per"
      ]
    },
    {
      "cell_type": "code",
      "execution_count": 30,
      "metadata": {},
      "outputs": [],
      "source": [
        "reversed_vocab_dict = dict()\n",
        "\n",
        "for key in vocab_dict:\n",
        "    reversed_vocab_dict[vocab_dict[key]] = key "
      ]
    },
    {
      "cell_type": "markdown",
      "metadata": {},
      "source": [
        "### Training"
      ]
    },
    {
      "cell_type": "code",
      "execution_count": 62,
      "metadata": {},
      "outputs": [],
      "source": [
        "classes = len(vocab_dict) + 1\n",
        "input_dim = 768\n",
        "batch_size = 1\n",
        "ctc_blank = len(vocab_dict)\n",
        "\n",
        "model = LinearHead(input_dim=input_dim, \n",
        "                   output_dim=classes).to(DEVICE)\n",
        "optimizer = torch.optim.Adam(model.parameters(), lr=1e-4)\n",
        "ctc_loss = nn.CTCLoss(blank=ctc_blank)\n",
        "train_loader = DataLoader(train_dataset, collate_fn=data_collator, batch_size=batch_size, shuffle=True)\n",
        "val_loader   = DataLoader(val_dataset, collate_fn=data_collator, batch_size=1)\n",
        "test_loader  = DataLoader(test_dataset, collate_fn=data_collator, batch_size=1)"
      ]
    },
    {
      "cell_type": "code",
      "execution_count": 63,
      "metadata": {},
      "outputs": [
        {
          "name": "stderr",
          "output_type": "stream",
          "text": [
            "100%|██████████| 1512/1512 [00:02<00:00, 614.86it/s]\n",
            "100%|██████████| 168/168 [00:00<00:00, 1703.91it/s]\n"
          ]
        },
        {
          "name": "stdout",
          "output_type": "stream",
          "text": [
            "Epoch [1/10], Train Loss: 3.5496140514258987, Validation PER: 0.5720\n"
          ]
        },
        {
          "name": "stderr",
          "output_type": "stream",
          "text": [
            "100%|██████████| 1512/1512 [00:02<00:00, 635.66it/s]\n",
            "100%|██████████| 168/168 [00:00<00:00, 1497.12it/s]\n"
          ]
        },
        {
          "name": "stdout",
          "output_type": "stream",
          "text": [
            "Epoch [2/10], Train Loss: 1.7236472851542568, Validation PER: 0.5125\n"
          ]
        },
        {
          "name": "stderr",
          "output_type": "stream",
          "text": [
            "100%|██████████| 1512/1512 [00:02<00:00, 637.50it/s]\n",
            "100%|██████████| 168/168 [00:00<00:00, 1707.30it/s]\n"
          ]
        },
        {
          "name": "stdout",
          "output_type": "stream",
          "text": [
            "Epoch [3/10], Train Loss: 1.4641831253492643, Validation PER: 0.4733\n"
          ]
        },
        {
          "name": "stderr",
          "output_type": "stream",
          "text": [
            "100%|██████████| 1512/1512 [00:02<00:00, 615.07it/s]\n",
            "100%|██████████| 168/168 [00:00<00:00, 1631.89it/s]\n"
          ]
        },
        {
          "name": "stdout",
          "output_type": "stream",
          "text": [
            "Epoch [4/10], Train Loss: 1.339581837020223, Validation PER: 0.4484\n"
          ]
        },
        {
          "name": "stderr",
          "output_type": "stream",
          "text": [
            "100%|██████████| 1512/1512 [00:02<00:00, 628.54it/s]\n",
            "100%|██████████| 168/168 [00:00<00:00, 1514.32it/s]\n"
          ]
        },
        {
          "name": "stdout",
          "output_type": "stream",
          "text": [
            "Epoch [5/10], Train Loss: 1.2612444625172035, Validation PER: 0.4274\n"
          ]
        },
        {
          "name": "stderr",
          "output_type": "stream",
          "text": [
            "100%|██████████| 1512/1512 [00:02<00:00, 629.51it/s]\n",
            "100%|██████████| 168/168 [00:00<00:00, 1705.19it/s]\n"
          ]
        },
        {
          "name": "stdout",
          "output_type": "stream",
          "text": [
            "Epoch [6/10], Train Loss: 1.2064241187834235, Validation PER: 0.4205\n"
          ]
        },
        {
          "name": "stderr",
          "output_type": "stream",
          "text": [
            "100%|██████████| 1512/1512 [00:02<00:00, 626.90it/s]\n",
            "100%|██████████| 168/168 [00:00<00:00, 1521.94it/s]\n"
          ]
        },
        {
          "name": "stdout",
          "output_type": "stream",
          "text": [
            "Epoch [7/10], Train Loss: 1.1647983139390667, Validation PER: 0.4083\n"
          ]
        },
        {
          "name": "stderr",
          "output_type": "stream",
          "text": [
            "100%|██████████| 1512/1512 [00:02<00:00, 619.10it/s]\n",
            "100%|██████████| 168/168 [00:00<00:00, 1536.87it/s]\n"
          ]
        },
        {
          "name": "stdout",
          "output_type": "stream",
          "text": [
            "Epoch [8/10], Train Loss: 1.131317752733748, Validation PER: 0.3991\n"
          ]
        },
        {
          "name": "stderr",
          "output_type": "stream",
          "text": [
            "100%|██████████| 1512/1512 [00:02<00:00, 629.05it/s]\n",
            "100%|██████████| 168/168 [00:00<00:00, 1635.07it/s]\n"
          ]
        },
        {
          "name": "stdout",
          "output_type": "stream",
          "text": [
            "Epoch [9/10], Train Loss: 1.104016210154566, Validation PER: 0.3927\n"
          ]
        },
        {
          "name": "stderr",
          "output_type": "stream",
          "text": [
            "100%|██████████| 1512/1512 [00:02<00:00, 638.25it/s]\n",
            "100%|██████████| 168/168 [00:00<00:00, 1724.29it/s]\n"
          ]
        },
        {
          "name": "stdout",
          "output_type": "stream",
          "text": [
            "Epoch [10/10], Train Loss: 1.0804952429164023, Validation PER: 0.3838\n"
          ]
        },
        {
          "name": "stderr",
          "output_type": "stream",
          "text": [
            "100%|██████████| 1680/1680 [00:01<00:00, 1635.10it/s]\n"
          ]
        },
        {
          "name": "stdout",
          "output_type": "stream",
          "text": [
            "\n",
            "Final loss: 1.0804952429164023\n",
            "Best validation PER: 0.38379900886525936\n",
            "Test PER: 0.38651708514237\n"
          ]
        }
      ],
      "source": [
        "train_loss, best_val_per = train_model(model=model, \n",
        "                                       train_loader=train_loader, \n",
        "                                       val_loader=val_loader, \n",
        "                                       criterion=ctc_loss, \n",
        "                                       optimizer=optimizer, \n",
        "                                       reversed_vocab_dict=reversed_vocab_dict, \n",
        "                                       ctc_blank=ctc_blank, \n",
        "                                       weights_path=\"./weights/wav2vec_linear.pt\")\n",
        "\n",
        "test_per = evaluate_model(model=model,\n",
        "                          val_loader=test_loader,\n",
        "                          reversed_vocab_dict=reversed_vocab_dict,\n",
        "                          ctc_blank=ctc_blank)\n",
        "\n",
        "print(f\"\\nFinal loss: {train_loss}\")\n",
        "print(f\"Best validation PER: {best_val_per}\")\n",
        "print(f\"Test PER: {test_per}\")"
      ]
    },
    {
      "cell_type": "code",
      "execution_count": 65,
      "metadata": {},
      "outputs": [
        {
          "name": "stdout",
          "output_type": "stream",
          "text": [
            "Text: this brochure is particularly informative for prospective buyer\n",
            "PER: 0.48936170212765956\n",
            "Predicted phonetics:\n",
            "h# dh ih s h# b r ow sh er ih s h# p ah h# t ih h# k l ih n f ow m h# t ih f er h# p er s h# p ah h# t ih v h# b ay er h#\n",
            "Ground Truth phonetics:\n",
            "dh ih s h# p r sh er s p dx ih h# k ih n f aa er m v f ah er p er s p h# ih v b aa\n"
          ]
        },
        {
          "data": {
            "text/html": [
              "\n",
              "                <audio  controls=\"controls\" >\n",
              "                    <source src=\"data:audio/wav;base64,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\" type=\"audio/wav\" />\n",
              "                    Your browser does not support the audio element.\n",
              "                </audio>\n",
              "              "
            ],
            "text/plain": [
              "<IPython.lib.display.Audio object>"
            ]
          },
          "execution_count": 65,
          "metadata": {},
          "output_type": "execute_result"
        }
      ],
      "source": [
        "ipd.Audio(data=show_results(model, test_dataset, 10, reversed_vocab_dict, 42), autoplay=False, rate=16000)"
      ]
    },
    {
      "cell_type": "code",
      "execution_count": null,
      "metadata": {},
      "outputs": [],
      "source": [
        "# model = MLPHead(input_dim=input_dim, \n",
        "#                 hidden_dim=512,\n",
        "#                 dropout_prob=0.5,\n",
        "#                 output_dim=classes).to(DEVICE)"
      ]
    }
  ],
  "metadata": {
    "colab": {
      "provenance": []
    },
    "kernelspec": {
      "display_name": "venv",
      "language": "python",
      "name": "python3"
    },
    "language_info": {
      "codemirror_mode": {
        "name": "ipython",
        "version": 3
      },
      "file_extension": ".py",
      "mimetype": "text/x-python",
      "name": "python",
      "nbconvert_exporter": "python",
      "pygments_lexer": "ipython3",
      "version": "3.10.4"
    }
  },
  "nbformat": 4,
  "nbformat_minor": 0
}
